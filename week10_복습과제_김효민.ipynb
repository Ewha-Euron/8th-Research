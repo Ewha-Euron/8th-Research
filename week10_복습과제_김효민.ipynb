{
  "nbformat": 4,
  "nbformat_minor": 0,
  "metadata": {
    "colab": {
      "provenance": [],
      "gpuType": "T4"
    },
    "kernelspec": {
      "name": "python3",
      "display_name": "Python 3"
    },
    "language_info": {
      "name": "python"
    },
    "accelerator": "GPU"
  },
  "cells": [
    {
      "cell_type": "markdown",
      "source": [
        "# Implementation of VAE (Variational AutoEncoder)\n",
        "\n",
        "*   VAE from \"Auto-Encoding Variational Bayes\" (2014, D.P. Kingma et. al.)\n",
        "*   Kernel-author: Jackson Kang @ Deep-learning Lab. (Handong Global University, S.Korea)\n",
        "*   Author-email:  mskang@handong.edu\n",
        "*   python and pytorch version: python=3.7, pytorch=1.3.1 <br>\n",
        "\n",
        "* [https://github.com/Jackson-Kang/Pytorch-VAE-tutorial?utm_source=chatgpt.com](https://github.com/Jackson-Kang/Pytorch-VAE-tutorial?utm_source=chatgpt.com)\n"
      ],
      "metadata": {
        "id": "lWZa2ouRjX3u"
      }
    },
    {
      "cell_type": "markdown",
      "source": [
        "###    Step 0. Import libraries & Set Hyperparameters"
      ],
      "metadata": {
        "id": "Nc8TTnILjd0g"
      }
    },
    {
      "cell_type": "code",
      "source": [
        "# import libraries\n",
        "\n",
        "import torch\n",
        "import torch.nn as nn\n",
        "import numpy as np\n",
        "\n",
        "from tqdm import tqdm\n",
        "from torchvision.utils import save_image, make_grid"
      ],
      "metadata": {
        "id": "o5rBhXc4jdOf"
      },
      "execution_count": 1,
      "outputs": []
    },
    {
      "cell_type": "code",
      "execution_count": 2,
      "metadata": {
        "id": "d3PTV7rLjW0y"
      },
      "outputs": [],
      "source": [
        "# Model Hyperparameters 설정하기\n",
        "\n",
        "dataset_path = '~/datasets'\n",
        "\n",
        "cuda = True\n",
        "DEVICE = torch.device(\"cuda\" if torch.cuda.is_available() else \"cpu\")\n",
        "\n",
        "batch_size = 100\n",
        "\n",
        "x_dim  = 784\n",
        "hidden_dim = 400\n",
        "latent_dim = 200\n",
        "\n",
        "lr = 1e-3\n",
        "\n",
        "epochs = 30"
      ]
    },
    {
      "cell_type": "markdown",
      "source": [
        "###    Step 1. Load (or download) Dataset"
      ],
      "metadata": {
        "id": "dwCNuxI8jhrE"
      }
    },
    {
      "cell_type": "code",
      "source": [
        "# MNIST 데이터를 미니배치 단위로 업로드\n",
        "from torchvision.datasets import MNIST\n",
        "import torchvision.transforms as transforms\n",
        "from torch.utils.data import DataLoader\n",
        "\n",
        "\n",
        "mnist_transform = transforms.Compose([\n",
        "        transforms.ToTensor(),\n",
        "])\n",
        "\n",
        "kwargs = {'num_workers': 1, 'pin_memory': True}\n",
        "\n",
        "train_dataset = MNIST(dataset_path, transform=mnist_transform, train=True, download=True)\n",
        "test_dataset  = MNIST(dataset_path, transform=mnist_transform, train=False, download=True)\n",
        "\n",
        "train_loader = DataLoader(dataset=train_dataset, batch_size=batch_size, shuffle=True, **kwargs)\n",
        "test_loader  = DataLoader(dataset=test_dataset,  batch_size=batch_size, shuffle=False, **kwargs)"
      ],
      "metadata": {
        "id": "y5pS-HXfjgVF"
      },
      "execution_count": 23,
      "outputs": []
    },
    {
      "cell_type": "markdown",
      "source": [
        "### Step 2. Define model: VAE (Variational AutoEncoder)"
      ],
      "metadata": {
        "id": "8nb8UzKwjlQd"
      }
    },
    {
      "cell_type": "code",
      "source": [
        "# Gaussian MLP(다층 퍼셉트론) 기반 인코더 클래스 정의\n",
        "# 입력 데이터를 정규분포의 평균과 로그분산으로 매핑해줌\n",
        "\n",
        "class Encoder(nn.Module):\n",
        "\n",
        "    def __init__(self, input_dim, hidden_dim, latent_dim):\n",
        "        super(Encoder, self).__init__()\n",
        "\n",
        "        self.FC_input = nn.Linear(input_dim, hidden_dim) # 입력층 → 은닉층\n",
        "        self.FC_input2 = nn.Linear(hidden_dim, hidden_dim) # 은닉층 → 은닉층\n",
        "        self.FC_mean  = nn.Linear(hidden_dim, latent_dim) # 은닉층 → 잠재 공간의 평균값 출력\n",
        "        self.FC_var   = nn.Linear (hidden_dim, latent_dim) # 은닉층 → 잠재 공간의 로그 분산값 출력\n",
        "\n",
        "        self.LeakyReLU = nn.LeakyReLU(0.2) # LeakyReLU 활성화 함수 사용\n",
        "\n",
        "        self.training = True\n",
        "\n",
        "    def forward(self, x):\n",
        "        h_       = self.LeakyReLU(self.FC_input(x)) # 입력 x를 첫 번째 은닉층을 거쳐 활성화\n",
        "        h_       = self.LeakyReLU(self.FC_input2(h_)) # 두 번째 은닉층을 거쳐 다시 활성화\n",
        "        mean     = self.FC_mean(h_) # 평균값 계산\n",
        "        log_var  = self.FC_var(h_) # 로그 분산값 계산\n",
        "        # 인코더는 평균과 로그 분산을 출력\n",
        "        # 이는 잠재 공간의 정규분포 q(z|x)의 파라미터로 사용됨\n",
        "\n",
        "        return mean, log_var"
      ],
      "metadata": {
        "id": "HMf_ScIIjjMD"
      },
      "execution_count": 4,
      "outputs": []
    },
    {
      "cell_type": "code",
      "source": [
        "# Gaussian MLP 기반 Decoder 클래스 정의\n",
        "# 잠재공간(latent space)에서 샘플링된 z 값을 입력 받아 원래의 데이터 형상으로 복원\n",
        "\n",
        "class Decoder(nn.Module):\n",
        "    def __init__(self, latent_dim, hidden_dim, output_dim):\n",
        "        super(Decoder, self).__init__()\n",
        "        self.FC_hidden = nn.Linear(latent_dim, hidden_dim)  # 잠재 벡터 → 첫 번째 은닉층\n",
        "        self.FC_hidden2 = nn.Linear(hidden_dim, hidden_dim) # 첫 번째 은닉층 → 두 번째 은닉층\n",
        "        self.FC_output = nn.Linear(hidden_dim, output_dim) # 두 번째 은닉층 → 출력층 (원래 데이터 차원으로 복원)\n",
        "\n",
        "        self.LeakyReLU = nn.LeakyReLU(0.2) # LeakyReLU 활성화 함수 사용\n",
        "\n",
        "    def forward(self, x):\n",
        "        h     = self.LeakyReLU(self.FC_hidden(x)) # 잠재 벡터 x를 첫 번째 은닉층에 통과시키고 활성화 적용\n",
        "        h     = self.LeakyReLU(self.FC_hidden2(h)) # 두 번째 은닉층에도 통과시켜 활성화 적용\n",
        "\n",
        "        x_hat = torch.sigmoid(self.FC_output(h)) # 출력층에서 시그모이드 활성화 적용\n",
        "        return x_hat # 재구성된 이미지 벡터 반환"
      ],
      "metadata": {
        "id": "dqTf-C-Ijm_i"
      },
      "execution_count": 5,
      "outputs": []
    },
    {
      "cell_type": "code",
      "source": [
        "# 전체 VAE 모델 정의\n",
        "# Encoder와 Decoder를 연결하고, 중간에 reparameterization trick을 적용\n",
        "\n",
        "class Model(nn.Module):\n",
        "    def __init__(self, Encoder, Decoder):\n",
        "        super(Model, self).__init__()\n",
        "        # Encoder와 Decoder를 받아서 모델 구성\n",
        "        self.Encoder = Encoder\n",
        "        self.Decoder = Decoder\n",
        "\n",
        "    def reparameterization(self, mean, var):\n",
        "        # 평균(mean)과 분산(var)을 이용해 잠재 변수 z를 샘플링\n",
        "        # 정규분포에서 무작위 샘플 epsilon 생성 (평균 0, 분산 1)\n",
        "        epsilon = torch.randn_like(var).to(DEVICE)      # sampling epsilon(var와 동일한 shape을 갖는 표준 정규분포 샘플)\n",
        "        # reparameterization trick: z = μ + σ * ε→ backpropagation이 가능하게 함\n",
        "        z = mean + var*epsilon\n",
        "        return z\n",
        "\n",
        "\n",
        "    def forward(self, x):\n",
        "        mean, log_var = self.Encoder(x) # 인코더로부터 평균과 로그 분산 계산\n",
        "        z = self.reparameterization(mean, torch.exp(0.5 * log_var))\n",
        "        # takes exponential function (log var -> var) 로그 분산을 표준 편차로 바꿈\n",
        "        x_hat= self.Decoder(z) # 샘플링한 z를 디코더에 넣어 재구성된 x_hat 생성\n",
        "\n",
        "        return x_hat, mean, log_var # 출력: 재구성 결과, 평균, 로그 분산"
      ],
      "metadata": {
        "id": "iIDwXVQtjoUm"
      },
      "execution_count": 6,
      "outputs": []
    },
    {
      "cell_type": "code",
      "source": [
        "encoder = Encoder(input_dim=x_dim, hidden_dim=hidden_dim, latent_dim=latent_dim)\n",
        "decoder = Decoder(latent_dim=latent_dim, hidden_dim = hidden_dim, output_dim = x_dim)\n",
        "\n",
        "model = Model(Encoder=encoder, Decoder=decoder).to(DEVICE)"
      ],
      "metadata": {
        "id": "Om2HiigSjpxF"
      },
      "execution_count": 7,
      "outputs": []
    },
    {
      "cell_type": "markdown",
      "source": [
        "### Step 3. Define Loss function (reproduction_loss) and optimizer"
      ],
      "metadata": {
        "id": "nuvQE_Wljr6m"
      }
    },
    {
      "cell_type": "code",
      "source": [
        "from torch.optim import Adam\n",
        "\n",
        "# VAE용 손실 함수 정의\n",
        "def loss_function(x, x_hat, mean, log_var):\n",
        "    reproduction_loss = nn.functional.binary_cross_entropy(x_hat, x, reduction='sum')\n",
        "    # 1. 재구성 손실 (입력 x와 복원된 x_hat 간의 차이)\n",
        "    # 픽셀 값이 [0,1] 범위이므로 BCE를 사용\n",
        "    KLD = - 0.5 * torch.sum(1+ log_var - mean.pow(2) - log_var.exp())\n",
        "    # 2. 정규화 손실 (KL divergence)\n",
        "    # 인코더에서 추정한 정규분포 q(z|x)와 표준 정규분포 p(z) 사이의 차이를 최소화\n",
        "\n",
        "    return reproduction_loss + KLD\n",
        "    # 두 손실을 합친 최종 손실 반환 -> 최종손실 = 재구성 손실 + 정규화 손실\n",
        "\n",
        "optimizer = Adam(model.parameters(), lr=lr)\n",
        "# 모델 파라미터에 대해 Adam 옵티마이저 정의"
      ],
      "metadata": {
        "id": "DbYj2lwFjsvQ"
      },
      "execution_count": 24,
      "outputs": []
    },
    {
      "cell_type": "markdown",
      "source": [
        "### Step 4. Train VAE (Variational AutoEncoder)"
      ],
      "metadata": {
        "id": "EoU6rYRljuBd"
      }
    },
    {
      "cell_type": "code",
      "source": [
        "print(\"Start training VAE...\\n\")\n",
        "model.train()\n",
        "\n",
        "# 전체 학습 epoch 반복\n",
        "for epoch in range(epochs):\n",
        "    overall_loss = 0 # 에폭마다 전체 손실을 누적할 변수 초기화\n",
        "\n",
        "    # 미니배치 단위로 학습 데이터 반복\n",
        "    for batch_idx, (x, _) in enumerate(train_loader):\n",
        "        x = x.view(batch_size, x_dim)\n",
        "        x = x.to(DEVICE)\n",
        "\n",
        "        optimizer.zero_grad() # 이전 반복의 gradient 초기화\n",
        "\n",
        "        x_hat, mean, log_var = model(x)\n",
        "        # 모델 순전파 -> 복원된 이미지, 평균, 로그 분산 출력\n",
        "        loss = loss_function(x, x_hat, mean, log_var)\n",
        "        # 손실 함수 계산 (= 재구성 오차 + KL divergence)\n",
        "        overall_loss += loss.item()\n",
        "        # 전체 손실 누적 (평균 loss 계산을 위함)\n",
        "        loss.backward() # 역전파로 gradient 계산\n",
        "        optimizer.step() # optimizer를 통해 파라미터 업데이트\n",
        "\n",
        "    # 에폭마다 평균 손실 출력\n",
        "    print(\"\\tEpoch\", epoch + 1, \"/\", epochs, \"\\tAverage Loss: \", overall_loss / (batch_idx*batch_size))\n",
        "\n",
        "print(\"\\nFinish train\")"
      ],
      "metadata": {
        "colab": {
          "base_uri": "https://localhost:8080/"
        },
        "id": "KUndzdgUjv-S",
        "outputId": "3685f677-0054-4942-a34b-2a37288a2c7b"
      },
      "execution_count": 9,
      "outputs": [
        {
          "output_type": "stream",
          "name": "stdout",
          "text": [
            "Start training VAE...\n",
            "\n",
            "\tEpoch 1 / 30 \tAverage Loss:  174.1565858298988\n",
            "\tEpoch 2 / 30 \tAverage Loss:  128.0855797422788\n",
            "\tEpoch 3 / 30 \tAverage Loss:  116.7880142522694\n",
            "\tEpoch 4 / 30 \tAverage Loss:  112.81328173909641\n",
            "\tEpoch 5 / 30 \tAverage Loss:  110.27342706594324\n",
            "\tEpoch 6 / 30 \tAverage Loss:  108.66754535554048\n",
            "\tEpoch 7 / 30 \tAverage Loss:  107.43430324955655\n",
            "\tEpoch 8 / 30 \tAverage Loss:  106.33621000821682\n",
            "\tEpoch 9 / 30 \tAverage Loss:  105.5872862322621\n",
            "\tEpoch 10 / 30 \tAverage Loss:  104.97891767855279\n",
            "\tEpoch 11 / 30 \tAverage Loss:  104.45607751199917\n",
            "\tEpoch 12 / 30 \tAverage Loss:  103.97559242617905\n",
            "\tEpoch 13 / 30 \tAverage Loss:  103.49694319634287\n",
            "\tEpoch 14 / 30 \tAverage Loss:  103.13067925709515\n",
            "\tEpoch 15 / 30 \tAverage Loss:  102.74610933587229\n",
            "\tEpoch 16 / 30 \tAverage Loss:  102.50968505451794\n",
            "\tEpoch 17 / 30 \tAverage Loss:  102.27084929961394\n",
            "\tEpoch 18 / 30 \tAverage Loss:  101.95043598054049\n",
            "\tEpoch 19 / 30 \tAverage Loss:  101.74459201207742\n",
            "\tEpoch 20 / 30 \tAverage Loss:  101.60750006521286\n",
            "\tEpoch 21 / 30 \tAverage Loss:  101.45725222375835\n",
            "\tEpoch 22 / 30 \tAverage Loss:  101.23843234818447\n",
            "\tEpoch 23 / 30 \tAverage Loss:  101.1100532299927\n",
            "\tEpoch 24 / 30 \tAverage Loss:  100.91716968058743\n",
            "\tEpoch 25 / 30 \tAverage Loss:  100.86239719193448\n",
            "\tEpoch 26 / 30 \tAverage Loss:  100.76072247691465\n",
            "\tEpoch 27 / 30 \tAverage Loss:  100.61861782984661\n",
            "\tEpoch 28 / 30 \tAverage Loss:  100.57185590893677\n",
            "\tEpoch 29 / 30 \tAverage Loss:  100.46937848888773\n",
            "\tEpoch 30 / 30 \tAverage Loss:  100.31905491900564\n",
            "\n",
            "Finish train\n"
          ]
        }
      ]
    },
    {
      "cell_type": "markdown",
      "source": [
        "### Step 5. Generate images from test dataset"
      ],
      "metadata": {
        "id": "uJSG4qGsjxXz"
      }
    },
    {
      "cell_type": "code",
      "source": [
        "import matplotlib.pyplot as plt"
      ],
      "metadata": {
        "id": "YUy8Qk6KjxsF"
      },
      "execution_count": 10,
      "outputs": []
    },
    {
      "cell_type": "code",
      "source": [
        "model.eval()\n",
        "\n",
        "# 평가 시에는 gradient를 계산하지 않도록 설정\n",
        "with torch.no_grad():\n",
        "    # 테스트용 데이터셋에서 첫 번째 배치만 가져오기\n",
        "    for batch_idx, (x, _) in enumerate(test_loader):\n",
        "        x = x.view(batch_size, x_dim)\n",
        "        x = x.to(DEVICE)\n",
        "\n",
        "        x_hat, _, _ = model(x) # 학습된 모델로 복원된 이미지 생성\n",
        "        # 첫 배치만 처리하고 반복 종료 (break)\n",
        "\n",
        "        break\n",
        "\n",
        "# 모델이 잘 학습되었는지 입력(x)과 복원 결과(x_hat)를 비교하기 위해\n",
        "# 샘플 1개 배치만 추출하여 사용"
      ],
      "metadata": {
        "id": "vlDzVAOFjzqK"
      },
      "execution_count": 11,
      "outputs": []
    },
    {
      "cell_type": "code",
      "source": [
        "# 하나의 이미지만 시각화하여 보여는 함수 정의\n",
        "def show_image(x, idx):\n",
        "    x = x.view(batch_size, 28, 28)\n",
        "\n",
        "    fig = plt.figure()\n",
        "    plt.imshow(x[idx].cpu().numpy())"
      ],
      "metadata": {
        "id": "uc064Z2_j3dz"
      },
      "execution_count": 12,
      "outputs": []
    },
    {
      "cell_type": "markdown",
      "source": [
        "* x와 x_hat 비교"
      ],
      "metadata": {
        "id": "XIk52uTIhR8V"
      }
    },
    {
      "cell_type": "code",
      "source": [
        "show_image(x, idx=0)"
      ],
      "metadata": {
        "colab": {
          "base_uri": "https://localhost:8080/",
          "height": 430
        },
        "id": "EGNkzouXj4Eu",
        "outputId": "03ae0db4-8dc0-4a10-94e1-5faf82639b52"
      },
      "execution_count": 13,
      "outputs": [
        {
          "output_type": "display_data",
          "data": {
            "text/plain": [
              "<Figure size 640x480 with 1 Axes>"
            ],
            "image/png": "[encoded data removed]"
          },
          "metadata": {}
        }
      ]
    },
    {
      "cell_type": "code",
      "source": [
        "show_image(x_hat, idx=0)"
      ],
      "metadata": {
        "colab": {
          "base_uri": "https://localhost:8080/",
          "height": 430
        },
        "id": "BH0sCZBdj5O7",
        "outputId": "ed5975b3-5277-46f3-b4c2-85b9c5779e68"
      },
      "execution_count": 14,
      "outputs": [
        {
          "output_type": "display_data",
          "data": {
            "text/plain": [
              "<Figure size 640x480 with 1 Axes>"
            ],
            "image/png": "[encoded data removed]"
          },
          "metadata": {}
        }
      ]
    },
    {
      "cell_type": "markdown",
      "source": [
        "### Step 6. Generate image from noise vector\n",
        "\n",
        "**Please note that this is not the correct generative process.**\n",
        "\n",
        "* Even if we don't know exact p(z|x), we can generate images from noise, since the loss function of training VAE regulates the q(z|x) (simple and tractable posteriors) must close enough to N(0, I). If q(z|x) is close to N(0, I) \"enough\"(but not tightly close due to posterior collapse problem), N(0, I) may replace the encoder of VAE.\n",
        "\n",
        "* To show this, I just tested with a noise vector sampled from N(0, I) similar with Generative Adversarial Network."
      ],
      "metadata": {
        "id": "6rLiaP07j8Xi"
      }
    },
    {
      "cell_type": "code",
      "source": [
        "# VAE는 학습 과정에서 인코더가 추정하는 잠재 분포 q(z|x)를 표준 정규분포 N(0,1)에 가깝게 유도함\n",
        "# (KL divergence 항을 통해 q(z|x)와 N(0,1)의 차이를 줄이도록 학습됨)\n",
        "\n",
        "# 따라서 학습이 잘 되면, 인코더 없이도 z ∼ N(0,1)에서 샘플링한 z를 decoder에 넣는 것만으로도 이미지를 생성할 수 있음\n",
        "\n",
        "# 이는 VAE의 원래 생성 경로(x -> encoder -> z -> decoder -> x_hat)는 아니지만,\n",
        "# q(z|x)가 N(0,1)에 충분히 가까워졌는지를 확인하거나,\n",
        "# VAE가 입력 없이도 새로운 데이터를 생성할 수 있다는 \"생성 모델로서의 가능성\"을 보여줌"
      ],
      "metadata": {
        "id": "BrnA0C2Ghx2z"
      },
      "execution_count": null,
      "outputs": []
    },
    {
      "cell_type": "code",
      "source": [
        "with torch.no_grad():\n",
        "    noise = torch.randn(batch_size, latent_dim).to(DEVICE)\n",
        "    generated_images = decoder(noise)"
      ],
      "metadata": {
        "id": "C0l4ghrJj6zz"
      },
      "execution_count": 15,
      "outputs": []
    },
    {
      "cell_type": "code",
      "source": [
        "save_image(generated_images.view(batch_size, 1, 28, 28), 'generated_sample.png')"
      ],
      "metadata": {
        "id": "OziBCh4TkBXz"
      },
      "execution_count": 16,
      "outputs": []
    },
    {
      "cell_type": "code",
      "source": [
        "show_image(generated_images, idx=0)"
      ],
      "metadata": {
        "colab": {
          "base_uri": "https://localhost:8080/",
          "height": 430
        },
        "id": "GnSWozFSkEmb",
        "outputId": "f60cf621-9b97-421f-82c9-cbee4c3690a4"
      },
      "execution_count": 17,
      "outputs": [
        {
          "output_type": "display_data",
          "data": {
            "text/plain": [
              "<Figure size 640x480 with 1 Axes>"
            ],
            "image/png": "[encoded data removed]"
          },
          "metadata": {}
        }
      ]
    },
    {
      "cell_type": "code",
      "source": [
        "show_image(generated_images, idx=1)"
      ],
      "metadata": {
        "colab": {
          "base_uri": "https://localhost:8080/",
          "height": 430
        },
        "id": "7q0oJzDqkFFU",
        "outputId": "4093c9d0-511b-4ecb-cd1d-48149a3ce964"
      },
      "execution_count": 18,
      "outputs": [
        {
          "output_type": "display_data",
          "data": {
            "text/plain": [
              "<Figure size 640x480 with 1 Axes>"
            ],
            "image/png": "[encoded data removed]"
          },
          "metadata": {}
        }
      ]
    },
    {
      "cell_type": "code",
      "source": [
        "show_image(generated_images, idx=10)"
      ],
      "metadata": {
        "colab": {
          "base_uri": "https://localhost:8080/",
          "height": 430
        },
        "id": "sStlKC0HkGP8",
        "outputId": "c8efa34b-5fe7-4444-e520-b84edb691d33"
      },
      "execution_count": 19,
      "outputs": [
        {
          "output_type": "display_data",
          "data": {
            "text/plain": [
              "<Figure size 640x480 with 1 Axes>"
            ],
            "image/png": "[encoded data removed]"
          },
          "metadata": {}
        }
      ]
    },
    {
      "cell_type": "code",
      "source": [
        "show_image(generated_images, idx=12)"
      ],
      "metadata": {
        "colab": {
          "base_uri": "https://localhost:8080/",
          "height": 430
        },
        "id": "C_7-uYFtkCp2",
        "outputId": "eb795a7c-4c0d-44a2-aaad-c450ef256f53"
      },
      "execution_count": 20,
      "outputs": [
        {
          "output_type": "display_data",
          "data": {
            "text/plain": [
              "<Figure size 640x480 with 1 Axes>"
            ],
            "image/png": "[encoded data removed]"
          },
          "metadata": {}
        }
      ]
    },
    {
      "cell_type": "code",
      "source": [
        "show_image(generated_images, idx=20)"
      ],
      "metadata": {
        "colab": {
          "base_uri": "https://localhost:8080/",
          "height": 430
        },
        "id": "bpD_lH43kHnI",
        "outputId": "29c90a48-30d5-4dad-ec7c-51a5716f0cb2"
      },
      "execution_count": 21,
      "outputs": [
        {
          "output_type": "display_data",
          "data": {
            "text/plain": [
              "<Figure size 640x480 with 1 Axes>"
            ],
            "image/png": "[encoded data removed]"
          },
          "metadata": {}
        }
      ]
    },
    {
      "cell_type": "code",
      "source": [
        "show_image(generated_images, idx=50)"
      ],
      "metadata": {
        "colab": {
          "base_uri": "https://localhost:8080/",
          "height": 430
        },
        "id": "4tB7_0rWkJ9t",
        "outputId": "71985386-a4c0-4829-be40-bace9b5ed0cf"
      },
      "execution_count": 22,
      "outputs": [
        {
          "output_type": "display_data",
          "data": {
            "text/plain": [
              "<Figure size 640x480 with 1 Axes>"
            ],
            "image/png": "[encoded data removed]"
          },
          "metadata": {}
        }
      ]
    }
  ]
}