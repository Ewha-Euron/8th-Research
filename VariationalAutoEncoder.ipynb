{
  "cells": [
    {
      "cell_type": "markdown",
      "metadata": {
        "id": "view-in-github",
        "colab_type": "text"
      },
      "source": [
        "<a href=\"https://colab.research.google.com/github/minjeon99/8th-Research/blob/Week_10/VariationalAutoEncoder.ipynb\" target=\"_parent\"><img src=\"https://colab.research.google.com/assets/colab-badge.svg\" alt=\"Open In Colab\"/></a>"
      ]
    },
    {
      "cell_type": "markdown",
      "metadata": {
        "id": "0BqedePUn0Dt"
      },
      "source": [
        "# Implementation of Variational AutoEncoder (VAE)\n",
        "\n",
        "     VAE from \"Auto-Encoding Variational Bayes\" (2014, D.P. Kingma et. al.)\n",
        "    \n",
        "     Kernel-author: Jackson Kang @ Deep-learning Lab. (Handong Global University, S.Korea)\n",
        "     \n",
        "     Author-email:  mskang@handong.edu\n",
        "\n",
        "     python and pytorch version: python=3.7, pytorch=1.3.1"
      ]
    },
    {
      "cell_type": "code",
      "execution_count": 1,
      "metadata": {
        "id": "Jvi3Z59Mn0Dv"
      },
      "outputs": [],
      "source": [
        "import torch\n",
        "import torch.nn as nn\n",
        "\n",
        "import numpy as np\n",
        "\n",
        "from tqdm import tqdm\n",
        "from torchvision.utils import save_image, make_grid"
      ]
    },
    {
      "cell_type": "code",
      "execution_count": 2,
      "metadata": {
        "id": "cBV62GPun0Dw"
      },
      "outputs": [],
      "source": [
        "# Model Hyperparameters\n",
        "\n",
        "dataset_path = '~/datasets'\n",
        "\n",
        "cuda = torch.cuda.is_available()\n",
        "DEVICE = torch.device(\"cuda\" if cuda else \"cpu\")\n",
        "\n",
        "\n",
        "batch_size = 100\n",
        "\n",
        "x_dim  = 784\n",
        "hidden_dim = 400\n",
        "latent_dim = 200\n",
        "\n",
        "lr = 1e-3\n",
        "\n",
        "epochs = 15"
      ]
    },
    {
      "cell_type": "markdown",
      "metadata": {
        "id": "BPJz4Nwbn0Dx"
      },
      "source": [
        "###    Step 1. Load (or download) Dataset"
      ]
    },
    {
      "cell_type": "code",
      "execution_count": 3,
      "metadata": {
        "colab": {
          "base_uri": "https://localhost:8080/"
        },
        "id": "jkOOrgUgn0Dy",
        "outputId": "b6acedc4-b584-4ccd-b23a-bbc53027cc84"
      },
      "outputs": [
        {
          "output_type": "stream",
          "name": "stderr",
          "text": [
            "100%|██████████| 9.91M/9.91M [00:00<00:00, 17.8MB/s]\n",
            "100%|██████████| 28.9k/28.9k [00:00<00:00, 479kB/s]\n",
            "100%|██████████| 1.65M/1.65M [00:00<00:00, 2.05MB/s]\n",
            "100%|██████████| 4.54k/4.54k [00:00<00:00, 8.53MB/s]\n"
          ]
        }
      ],
      "source": [
        "from torchvision.datasets import MNIST\n",
        "import torchvision.transforms as transforms\n",
        "from torch.utils.data import DataLoader\n",
        "\n",
        "\n",
        "mnist_transform = transforms.Compose([\n",
        "        transforms.ToTensor(),\n",
        "])\n",
        "\n",
        "kwargs = {'num_workers': 1, 'pin_memory': True}\n",
        "\n",
        "train_dataset = MNIST(dataset_path, transform=mnist_transform, train=True, download=True)\n",
        "test_dataset  = MNIST(dataset_path, transform=mnist_transform, train=False, download=True)\n",
        "\n",
        "train_loader = DataLoader(dataset=train_dataset, batch_size=batch_size, shuffle=True, **kwargs)\n",
        "test_loader  = DataLoader(dataset=test_dataset,  batch_size=batch_size, shuffle=False, **kwargs)"
      ]
    },
    {
      "cell_type": "markdown",
      "metadata": {
        "id": "B9A06NNqn0Dy"
      },
      "source": [
        "### Step 2. Define our model: Variational AutoEncoder (VAE)"
      ]
    },
    {
      "cell_type": "code",
      "execution_count": 4,
      "metadata": {
        "id": "oLvWFxm8n0Dy"
      },
      "outputs": [],
      "source": [
        "\"\"\"\n",
        "    A simple implementation of Gaussian MLP Encoder and Decoder\n",
        "\"\"\"\n",
        "\n",
        "class Encoder(nn.Module):\n",
        "\n",
        "    def __init__(self, input_dim, hidden_dim, latent_dim):\n",
        "        super(Encoder, self).__init__()\n",
        "        # hidden layer 2개\n",
        "        self.FC_input = nn.Linear(input_dim, hidden_dim)\n",
        "        self.FC_input2 = nn.Linear(hidden_dim, hidden_dim)\n",
        "        # gaussian distribution의 parameters\n",
        "        self.FC_mean  = nn.Linear(hidden_dim, latent_dim) # mean\n",
        "        self.FC_var   = nn.Linear(hidden_dim, latent_dim) # (log) variance\n",
        "\n",
        "        self.LeakyReLU = nn.LeakyReLU(0.2)\n",
        "\n",
        "        self.training = True\n",
        "\n",
        "    def forward(self, x):\n",
        "        h_       = self.LeakyReLU(self.FC_input(x))\n",
        "        h_       = self.LeakyReLU(self.FC_input2(h_))\n",
        "        mean     = self.FC_mean(h_)\n",
        "        log_var  = self.FC_var(h_)                     # encoder produces mean and log of variance\n",
        "                                                       #             (i.e., parateters of simple tractable normal distribution \"q\"\n",
        "\n",
        "        return mean, log_var"
      ]
    },
    {
      "cell_type": "code",
      "execution_count": 5,
      "metadata": {
        "id": "K-TOg8sOn0Dz"
      },
      "outputs": [],
      "source": [
        "class Decoder(nn.Module):\n",
        "    def __init__(self, latent_dim, hidden_dim, output_dim):\n",
        "        super(Decoder, self).__init__()\n",
        "        self.FC_hidden = nn.Linear(latent_dim, hidden_dim)\n",
        "        self.FC_hidden2 = nn.Linear(hidden_dim, hidden_dim)\n",
        "        self.FC_output = nn.Linear(hidden_dim, output_dim)\n",
        "\n",
        "        self.LeakyReLU = nn.LeakyReLU(0.2)\n",
        "\n",
        "    def forward(self, x):\n",
        "        h     = self.LeakyReLU(self.FC_hidden(x))\n",
        "        h     = self.LeakyReLU(self.FC_hidden2(h))\n",
        "\n",
        "        x_hat = torch.sigmoid(self.FC_output(h))\n",
        "        return x_hat\n",
        ""
      ]
    },
    {
      "cell_type": "code",
      "execution_count": 6,
      "metadata": {
        "id": "Ap8y4Mj6n0Dz"
      },
      "outputs": [],
      "source": [
        "class Model(nn.Module):\n",
        "    def __init__(self, Encoder, Decoder):\n",
        "        super(Model, self).__init__()\n",
        "        self.Encoder = Encoder\n",
        "        self.Decoder = Decoder\n",
        "\n",
        "    def reparameterization(self, mean, var):\n",
        "        epsilon = torch.randn_like(var).to(DEVICE)  # sampling epsilon (z를 sampling하지 않고 epsilon을 sampling)\n",
        "        z = mean + var*epsilon                      # reparameterization trick\n",
        "        return z\n",
        "\n",
        "\n",
        "    def forward(self, x):\n",
        "        mean, log_var = self.Encoder(x) # mean, variance 계산\n",
        "        z = self.reparameterization(mean, torch.exp(0.5 * log_var)) # log sigma^2 -> sigma\n",
        "        x_hat            = self.Decoder(z)\n",
        "\n",
        "        return x_hat, mean, log_var"
      ]
    },
    {
      "cell_type": "code",
      "execution_count": 7,
      "metadata": {
        "id": "Nx0EzhI_n0D0"
      },
      "outputs": [],
      "source": [
        "encoder = Encoder(input_dim=x_dim, hidden_dim=hidden_dim, latent_dim=latent_dim)\n",
        "decoder = Decoder(latent_dim=latent_dim, hidden_dim = hidden_dim, output_dim = x_dim)\n",
        "\n",
        "model = Model(Encoder=encoder, Decoder=decoder).to(DEVICE)"
      ]
    },
    {
      "cell_type": "markdown",
      "metadata": {
        "id": "ISfG5MZEn0D0"
      },
      "source": [
        "### Step 3. Define Loss function (reprod. loss) and optimizer\n",
        "- ELBO 구현"
      ]
    },
    {
      "cell_type": "code",
      "execution_count": 8,
      "metadata": {
        "id": "54flIiD7n0D0"
      },
      "outputs": [],
      "source": [
        "from torch.optim import Adam\n",
        "\n",
        "BCE_loss = nn.BCELoss()\n",
        "\n",
        "def loss_function(x, x_hat, mean, log_var):\n",
        "    reproduction_loss = nn.functional.binary_cross_entropy(x_hat, x, reduction='sum')\n",
        "    KLD      = - 0.5 * torch.sum(1+ log_var - mean.pow(2) - log_var.exp())\n",
        "\n",
        "    return reproduction_loss + KLD\n",
        "\n",
        "\n",
        "optimizer = Adam(model.parameters(), lr=lr)"
      ]
    },
    {
      "cell_type": "markdown",
      "source": [
        "1. **Reconstruction Term (likelihood)**\n",
        "$$E_{q(z∣x)}[logp(x∣z)]≈−BCE(x,̂x)$$\n",
        "2. **KL Divergence (regularization)**\n",
        "$$D_{KL}(N(μ,σ^2)∥N(0,I))$$\n",
        "⬇ (closed-form)\n",
        "$$−\\frac{1}{2} \\sum(1+\\log σ^2-μ^2−σ^2)$$"
      ],
      "metadata": {
        "id": "IzLcqQTFzhq5"
      }
    },
    {
      "cell_type": "markdown",
      "metadata": {
        "id": "k4t7CT1bn0D0"
      },
      "source": [
        "### Step 4. Train Variational AutoEncoder (VAE)"
      ]
    },
    {
      "cell_type": "code",
      "execution_count": 9,
      "metadata": {
        "scrolled": false,
        "colab": {
          "base_uri": "https://localhost:8080/"
        },
        "id": "gEv-B-DLn0D0",
        "outputId": "4d0c1048-a9b3-4e75-ac4f-9237d4c7f595"
      },
      "outputs": [
        {
          "output_type": "stream",
          "name": "stdout",
          "text": [
            "Start training VAE...\n",
            "\tEpoch 1 complete! \tAverage Loss:  173.752148209255\n",
            "\tEpoch 2 complete! \tAverage Loss:  129.46254902376356\n",
            "\tEpoch 3 complete! \tAverage Loss:  116.9455827094637\n",
            "\tEpoch 4 complete! \tAverage Loss:  112.51656727684161\n",
            "\tEpoch 5 complete! \tAverage Loss:  110.227066497548\n",
            "\tEpoch 6 complete! \tAverage Loss:  108.68625376604236\n",
            "\tEpoch 7 complete! \tAverage Loss:  107.38249312004382\n",
            "\tEpoch 8 complete! \tAverage Loss:  106.4290465391538\n",
            "\tEpoch 9 complete! \tAverage Loss:  105.6432707670336\n",
            "\tEpoch 10 complete! \tAverage Loss:  105.02385517203152\n",
            "\tEpoch 11 complete! \tAverage Loss:  104.48262442612688\n",
            "\tEpoch 12 complete! \tAverage Loss:  104.07471837828673\n",
            "\tEpoch 13 complete! \tAverage Loss:  103.68708095849854\n",
            "\tEpoch 14 complete! \tAverage Loss:  103.31803340854549\n",
            "\tEpoch 15 complete! \tAverage Loss:  103.02886128573664\n",
            "Finish!!\n"
          ]
        }
      ],
      "source": [
        "print(\"Start training VAE...\")\n",
        "model.train()\n",
        "\n",
        "for epoch in range(epochs):\n",
        "    overall_loss = 0\n",
        "    for batch_idx, (x, _) in enumerate(train_loader):\n",
        "        x = x.view(batch_size, x_dim)\n",
        "        x = x.to(DEVICE)\n",
        "\n",
        "        optimizer.zero_grad()\n",
        "\n",
        "        x_hat, mean, log_var = model(x)\n",
        "        loss = loss_function(x, x_hat, mean, log_var) # ELBO 최소화\n",
        "\n",
        "        overall_loss += loss.item()\n",
        "\n",
        "        loss.backward()\n",
        "        optimizer.step()\n",
        "\n",
        "    print(\"\\tEpoch\", epoch + 1, \"complete!\", \"\\tAverage Loss: \", overall_loss / (batch_idx*batch_size))\n",
        "\n",
        "print(\"Finish!!\")"
      ]
    },
    {
      "cell_type": "markdown",
      "metadata": {
        "id": "W_GdYS6tn0D1"
      },
      "source": [
        "### Step 5. Generate images from test dataset"
      ]
    },
    {
      "cell_type": "code",
      "execution_count": 10,
      "metadata": {
        "id": "GVPoyLSSn0D1"
      },
      "outputs": [],
      "source": [
        "import matplotlib.pyplot as plt"
      ]
    },
    {
      "cell_type": "code",
      "execution_count": 11,
      "metadata": {
        "colab": {
          "base_uri": "https://localhost:8080/"
        },
        "id": "X3Th-jkgn0D1",
        "outputId": "ecd936a8-3168-4416-80ca-695c20beca8a"
      },
      "outputs": [
        {
          "output_type": "stream",
          "name": "stderr",
          "text": [
            "  0%|          | 0/100 [00:00<?, ?it/s]\n"
          ]
        }
      ],
      "source": [
        "model.eval()\n",
        "\n",
        "with torch.no_grad():\n",
        "    for batch_idx, (x, _) in enumerate(tqdm(test_loader)):\n",
        "        x = x.view(batch_size, x_dim)\n",
        "        x = x.to(DEVICE)\n",
        "\n",
        "        x_hat, _, _ = model(x)\n",
        "\n",
        "\n",
        "        break"
      ]
    },
    {
      "cell_type": "code",
      "execution_count": 12,
      "metadata": {
        "id": "pC5lQ39Rn0D1"
      },
      "outputs": [],
      "source": [
        "def show_image(x, idx):\n",
        "    x = x.view(batch_size, 28, 28)\n",
        "\n",
        "    fig = plt.figure()\n",
        "    plt.imshow(x[idx].cpu().numpy())"
      ]
    },
    {
      "cell_type": "code",
      "execution_count": 13,
      "metadata": {
        "colab": {
          "base_uri": "https://localhost:8080/",
          "height": 430
        },
        "id": "FQPyByiBn0D2",
        "outputId": "ba5b1bf4-74a7-4354-a140-95b6d5d958b5"
      },
      "outputs": [
        {
          "output_type": "display_data",
          "data": {
            "text/plain": [
              "<Figure size 640x480 with 1 Axes>"
            ],
            "image/png": "[encoded data removed]"
          },
          "metadata": {}
        }
      ],
      "source": [
        "show_image(x_hat, idx=0)"
      ]
    },
    {
      "cell_type": "markdown",
      "metadata": {
        "id": "hNJl3Nokn0D2"
      },
      "source": [
        "### Step 6. Generate image from noise vector"
      ]
    },
    {
      "cell_type": "markdown",
      "metadata": {
        "id": "gXmdTMZAn0D2"
      },
      "source": [
        "**Please note that this is not the correct generative process.**\n",
        "\n",
        "* Even if we don't know exact p(z|x), we can generate images from noise, since the loss function of training VAE regulates the q(z|x) (simple and tractable posteriors) must close enough to N(0, I). If q(z|x) is close to N(0, I) \"enough\"(but not tightly close due to posterior collapse problem), N(0, I) may replace the encoder of VAE.\n",
        "\n",
        "* To show this, I just tested with a noise vector sampled from N(0, I) similar with Generative Adversarial Network."
      ]
    },
    {
      "cell_type": "code",
      "execution_count": 14,
      "metadata": {
        "id": "xQy4GfTDn0D2"
      },
      "outputs": [],
      "source": [
        "with torch.no_grad():\n",
        "    noise = torch.randn(batch_size, latent_dim).to(DEVICE)\n",
        "    generated_images = decoder(noise)"
      ]
    },
    {
      "cell_type": "code",
      "execution_count": 15,
      "metadata": {
        "id": "nsjAlwzDn0D2"
      },
      "outputs": [],
      "source": [
        "save_image(generated_images.view(batch_size, 1, 28, 28), 'generated_sample.png')"
      ]
    },
    {
      "cell_type": "code",
      "execution_count": 16,
      "metadata": {
        "colab": {
          "base_uri": "https://localhost:8080/",
          "height": 430
        },
        "id": "sUF-D7xFn0D2",
        "outputId": "ae034dea-8e46-4cd6-cd50-3b9346a69f20"
      },
      "outputs": [
        {
          "output_type": "display_data",
          "data": {
            "text/plain": [
              "<Figure size 640x480 with 1 Axes>"
            ],
            "image/png": "[encoded data removed]"
          },
          "metadata": {}
        }
      ],
      "source": [
        "show_image(generated_images, idx=12)"
      ]
    },
    {
      "cell_type": "code",
      "execution_count": 17,
      "metadata": {
        "colab": {
          "base_uri": "https://localhost:8080/",
          "height": 430
        },
        "id": "LAwtFxU4n0D3",
        "outputId": "f9e92c33-8fd2-44ce-e179-33ca4989f619"
      },
      "outputs": [
        {
          "output_type": "display_data",
          "data": {
            "text/plain": [
              "<Figure size 640x480 with 1 Axes>"
            ],
            "image/png": "[encoded data removed]"
          },
          "metadata": {}
        }
      ],
      "source": [
        "show_image(generated_images, idx=0)"
      ]
    },
    {
      "cell_type": "code",
      "execution_count": 18,
      "metadata": {
        "colab": {
          "base_uri": "https://localhost:8080/",
          "height": 430
        },
        "id": "cEmFnDkin0D3",
        "outputId": "d4043d69-9bc4-4f34-8a0d-2ac515d24434"
      },
      "outputs": [
        {
          "output_type": "display_data",
          "data": {
            "text/plain": [
              "<Figure size 640x480 with 1 Axes>"
            ],
            "image/png": "[encoded data removed]"
          },
          "metadata": {}
        }
      ],
      "source": [
        "show_image(generated_images, idx=1)"
      ]
    },
    {
      "cell_type": "code",
      "execution_count": 19,
      "metadata": {
        "colab": {
          "base_uri": "https://localhost:8080/",
          "height": 430
        },
        "id": "o-lcC-2Hn0D3",
        "outputId": "1f63bc4f-8a20-4348-92da-18edbdc79301"
      },
      "outputs": [
        {
          "output_type": "display_data",
          "data": {
            "text/plain": [
              "<Figure size 640x480 with 1 Axes>"
            ],
            "image/png": "[encoded data removed]"
          },
          "metadata": {}
        }
      ],
      "source": [
        "show_image(generated_images, idx=10)"
      ]
    },
    {
      "cell_type": "code",
      "execution_count": 20,
      "metadata": {
        "colab": {
          "base_uri": "https://localhost:8080/",
          "height": 430
        },
        "id": "fr4bXyoXn0D3",
        "outputId": "36cead96-5077-48dc-aa26-7b020bd9db8f"
      },
      "outputs": [
        {
          "output_type": "display_data",
          "data": {
            "text/plain": [
              "<Figure size 640x480 with 1 Axes>"
            ],
            "image/png": "[encoded data removed]"
          },
          "metadata": {}
        }
      ],
      "source": [
        "show_image(generated_images, idx=20)"
      ]
    },
    {
      "cell_type": "code",
      "execution_count": 21,
      "metadata": {
        "colab": {
          "base_uri": "https://localhost:8080/",
          "height": 430
        },
        "id": "ftoRNBm-n0D3",
        "outputId": "c522d25b-e026-449d-875e-13f15073f137"
      },
      "outputs": [
        {
          "output_type": "display_data",
          "data": {
            "text/plain": [
              "<Figure size 640x480 with 1 Axes>"
            ],
            "image/png": "[encoded data removed]"
          },
          "metadata": {}
        }
      ],
      "source": [
        "show_image(generated_images, idx=50)"
      ]
    }
  ],
  "metadata": {
    "kernelspec": {
      "display_name": "Python 3",
      "name": "python3"
    },
    "language_info": {
      "codemirror_mode": {
        "name": "ipython",
        "version": 3
      },
      "file_extension": ".py",
      "mimetype": "text/x-python",
      "name": "python",
      "nbconvert_exporter": "python",
      "pygments_lexer": "ipython3",
      "version": "3.7.9"
    },
    "colab": {
      "provenance": [],
      "gpuType": "T4",
      "include_colab_link": true
    },
    "accelerator": "GPU"
  },
  "nbformat": 4,
  "nbformat_minor": 0
}