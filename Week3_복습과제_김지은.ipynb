{
  "nbformat": 4,
  "nbformat_minor": 0,
  "metadata": {
    "colab": {
      "provenance": [],
      "gpuType": "T4"
    },
    "kernelspec": {
      "name": "python3",
      "display_name": "Python 3"
    },
    "language_info": {
      "name": "python"
    },
    "accelerator": "GPU"
  },
  "cells": [
    {
      "cell_type": "markdown",
      "source": [
        "# Week3 복습과제 GAN"
      ],
      "metadata": {
        "id": "kgJ7AdJP9SjZ"
      }
    },
    {
      "cell_type": "markdown",
      "source": [
        "### 라이브러리 호출"
      ],
      "metadata": {
        "id": "nRuQAPAU9ZN7"
      }
    },
    {
      "cell_type": "code",
      "source": [
        "import imageio\n",
        "from tqdm import tqdm\n",
        "\n",
        "import torch\n",
        "import torch.nn as nn\n",
        "import torch.optim as optim\n",
        "from torch.utils.data import Dataset, DataLoader\n",
        "import matplotlib.pylab as plt\n",
        "import matplotlib\n",
        "\n",
        "from torchvision.utils import make_grid, save_image\n",
        "import torchvision.datasets as datasets\n",
        "import torchvision.transforms as transforms\n",
        "matplotlib.style.use('ggplot')\n",
        "device = torch.device('cuda' if torch.cuda.is_available() else 'cpu')"
      ],
      "metadata": {
        "id": "u9hhpe0u9YpP"
      },
      "execution_count": 1,
      "outputs": []
    },
    {
      "cell_type": "markdown",
      "source": [
        "### 변수 값 설정"
      ],
      "metadata": {
        "id": "Le2-8mC1-YeK"
      }
    },
    {
      "cell_type": "code",
      "execution_count": 2,
      "metadata": {
        "id": "qHMBNnSc9LPT"
      },
      "outputs": [],
      "source": [
        "batch_size = 512\n",
        "epochs = 200\n",
        "sample_size = 64\n",
        "nz = 128\n",
        "k = 1"
      ]
    },
    {
      "cell_type": "markdown",
      "source": [
        "### 데이터 내려받기 + 정규화"
      ],
      "metadata": {
        "id": "2DqtfBGm-gOx"
      }
    },
    {
      "cell_type": "code",
      "source": [
        "transform = transforms. Compose([\n",
        "    transforms.ToTensor(),\n",
        "    transforms. Normalize((0.5,), (0.5,)),\n",
        "])\n",
        "\n",
        "train_dataset = datasets.MNIST(\n",
        "  root=\"/content/drive/MyDrive/Euron-Data/chap13/data\", train=True, transform=transform, download=True)\n",
        "\n",
        "\n",
        "train_loader = DataLoader (\n",
        "  train_dataset, batch_size=batch_size, shuffle=True, num_workers=4)"
      ],
      "metadata": {
        "colab": {
          "base_uri": "https://localhost:8080/"
        },
        "id": "YeuH2127-iOK",
        "outputId": "21f843cc-c6e7-42bd-c9f8-254b7fca13ab"
      },
      "execution_count": 3,
      "outputs": [
        {
          "output_type": "stream",
          "name": "stderr",
          "text": [
            "/usr/local/lib/python3.11/dist-packages/torch/utils/data/dataloader.py:624: UserWarning: This DataLoader will create 4 worker processes in total. Our suggested max number of worker in current system is 2, which is smaller than what this DataLoader is going to create. Please be aware that excessive worker creation might get DataLoader running slow or even freeze, lower the worker number to avoid potential slowness/freeze if necessary.\n",
            "  warnings.warn(\n"
          ]
        }
      ]
    },
    {
      "cell_type": "markdown",
      "source": [
        "### 생성자 네트워크"
      ],
      "metadata": {
        "id": "383auyPn_lx3"
      }
    },
    {
      "cell_type": "code",
      "source": [
        "class Generator(nn.Module):\n",
        "  def __init__(self, nz):\n",
        "    super(Generator, self).__init__()\n",
        "    self.nz = nz\n",
        "    self.main = nn.Sequential(\n",
        "        nn.Linear(self.nz, 256),\n",
        "        nn.LeakyReLU(0.2),\n",
        "        nn.Linear(256, 512),\n",
        "        nn.LeakyReLU(0.2),\n",
        "        nn.Linear(512, 1024),\n",
        "        nn.LeakyReLU(0.2),\n",
        "        nn.Linear(1024, 784),\n",
        "        nn.Tanh()\n",
        "    )\n",
        "  def forward(self, x):\n",
        "    return self.main(x).view(-1,1,28,28)"
      ],
      "metadata": {
        "id": "gBzN5Qvl_n0k"
      },
      "execution_count": 4,
      "outputs": []
    },
    {
      "cell_type": "markdown",
      "source": [
        "### 판별자 네트워크"
      ],
      "metadata": {
        "id": "I3m4CpC8ACFn"
      }
    },
    {
      "cell_type": "code",
      "source": [
        "class Discriminator(nn.Module):\n",
        "  def __init__(self):\n",
        "    super(Discriminator, self).__init__()\n",
        "    self.n_input = 784\n",
        "    self.main = nn.Sequential(\n",
        "        nn.Linear(self.n_input, 1024),\n",
        "        nn.LeakyReLU(0.2),\n",
        "        nn.Dropout(0.3),\n",
        "        nn.Linear(1024, 512),\n",
        "        nn.LeakyReLU(0.2),\n",
        "        nn.Dropout(0.3),\n",
        "        nn.Linear(512, 256),\n",
        "        nn.LeakyReLU(0.2),\n",
        "        nn.Dropout(0.3),\n",
        "        nn.Linear(256, 1),\n",
        "        nn.Sigmoid()\n",
        "    )\n",
        "  def forward(self, x):\n",
        "    x = x.view(-1, 784)\n",
        "    return self.main(x)"
      ],
      "metadata": {
        "id": "GoiFZAdVAEgi"
      },
      "execution_count": 5,
      "outputs": []
    },
    {
      "cell_type": "markdown",
      "source": [
        "### 생성자 & 판별자 네트워크 초기화"
      ],
      "metadata": {
        "id": "b2vu1m0NAcXa"
      }
    },
    {
      "cell_type": "code",
      "source": [
        "generator = Generator(nz).to(device)\n",
        "discriminator = Discriminator().to(device)\n",
        "print(generator)\n",
        "print(discriminator)"
      ],
      "metadata": {
        "colab": {
          "base_uri": "https://localhost:8080/"
        },
        "id": "B8CfMD8rAehp",
        "outputId": "ca673ccf-f1d3-4e1c-c0ad-e9efd33c91f7"
      },
      "execution_count": 6,
      "outputs": [
        {
          "output_type": "stream",
          "name": "stdout",
          "text": [
            "Generator(\n",
            "  (main): Sequential(\n",
            "    (0): Linear(in_features=128, out_features=256, bias=True)\n",
            "    (1): LeakyReLU(negative_slope=0.2)\n",
            "    (2): Linear(in_features=256, out_features=512, bias=True)\n",
            "    (3): LeakyReLU(negative_slope=0.2)\n",
            "    (4): Linear(in_features=512, out_features=1024, bias=True)\n",
            "    (5): LeakyReLU(negative_slope=0.2)\n",
            "    (6): Linear(in_features=1024, out_features=784, bias=True)\n",
            "    (7): Tanh()\n",
            "  )\n",
            ")\n",
            "Discriminator(\n",
            "  (main): Sequential(\n",
            "    (0): Linear(in_features=784, out_features=1024, bias=True)\n",
            "    (1): LeakyReLU(negative_slope=0.2)\n",
            "    (2): Dropout(p=0.3, inplace=False)\n",
            "    (3): Linear(in_features=1024, out_features=512, bias=True)\n",
            "    (4): LeakyReLU(negative_slope=0.2)\n",
            "    (5): Dropout(p=0.3, inplace=False)\n",
            "    (6): Linear(in_features=512, out_features=256, bias=True)\n",
            "    (7): LeakyReLU(negative_slope=0.2)\n",
            "    (8): Dropout(p=0.3, inplace=False)\n",
            "    (9): Linear(in_features=256, out_features=1, bias=True)\n",
            "    (10): Sigmoid()\n",
            "  )\n",
            ")\n"
          ]
        }
      ]
    },
    {
      "cell_type": "markdown",
      "source": [
        "### 옵티마이저 & 손실 함수"
      ],
      "metadata": {
        "id": "FXXXYvcJAsvZ"
      }
    },
    {
      "cell_type": "code",
      "source": [
        "optim_g = optim.Adam(generator.parameters(), lr=0.0002)\n",
        "optim_d = optim.Adam(discriminator.parameters(), lr=0.0002)\n",
        "\n",
        "criterion = nn.BCELoss()\n",
        "\n",
        "losses_g = []\n",
        "losses_d = []\n",
        "images = []"
      ],
      "metadata": {
        "id": "uJ3XJemEAu-z"
      },
      "execution_count": 7,
      "outputs": []
    },
    {
      "cell_type": "markdown",
      "source": [
        "### 생성 이미지 저장 함수"
      ],
      "metadata": {
        "id": "-RbYjuJTA86O"
      }
    },
    {
      "cell_type": "code",
      "source": [
        "def save_generator_image(image, path):\n",
        "  save_image(image, path)"
      ],
      "metadata": {
        "id": "TbXkrhY5A-kM"
      },
      "execution_count": 8,
      "outputs": []
    },
    {
      "cell_type": "markdown",
      "source": [
        "### 판별자 학습을 위한 함수"
      ],
      "metadata": {
        "id": "iQKOavBGBCw9"
      }
    },
    {
      "cell_type": "code",
      "source": [
        "def train_discriminator(optimizer, data_real, data_fake):\n",
        "  b_size = data_real.size(0)\n",
        "  real_label = torch.ones(b_size, 1).to(device)\n",
        "  fake_label = torch.zeros(b_size, 1).to(device)\n",
        "  optimizer.zero_grad()\n",
        "  output_real = discriminator(data_real)\n",
        "  loss_real = criterion(output_real, real_label)\n",
        "  output_fake = discriminator(data_fake)\n",
        "  loss_fake = criterion(output_fake, fake_label)\n",
        "  loss_real.backward()\n",
        "  loss_fake.backward()\n",
        "  optimizer.step()\n",
        "  return loss_real + loss_fake"
      ],
      "metadata": {
        "id": "MpeiHuxoBEDw"
      },
      "execution_count": 9,
      "outputs": []
    },
    {
      "cell_type": "markdown",
      "source": [
        "### 생성자 학습을 위한 함수"
      ],
      "metadata": {
        "id": "WOJNSGPRBs8O"
      }
    },
    {
      "cell_type": "code",
      "source": [
        "def train_generator(optimizer, data_fake):\n",
        "  b_size = data_fake.size(0)\n",
        "  real_label = torch.ones(b_size, 1).to(device)\n",
        "  optimizer.zero_grad()\n",
        "  output = discriminator(data_fake)\n",
        "  loss = criterion(output, real_label)\n",
        "  loss.backward()\n",
        "  optimizer.step()\n",
        "  return loss"
      ],
      "metadata": {
        "id": "8pcEINLvBue9"
      },
      "execution_count": 10,
      "outputs": []
    },
    {
      "cell_type": "markdown",
      "source": [
        "### 모델 학습"
      ],
      "metadata": {
        "id": "LPyaK1GyB-9H"
      }
    },
    {
      "cell_type": "code",
      "source": [
        "generator.train()\n",
        "discriminator.train()\n",
        "\n",
        "for epoch in range(epochs):\n",
        "  loss_g = 0.0\n",
        "  loss_d = 0.0\n",
        "  for idx, data in tqdm(enumerate(train_loader), total=int(len(train_dataset)/train_loader.batch_size)):\n",
        "    image, _ = data\n",
        "    image = image.to(device)\n",
        "    b_size = len(image)\n",
        "    for step in range(k):\n",
        "      data_fake = generator(torch.randn(b_size, nz).to(device)).detach()\n",
        "      data_real = image\n",
        "      loss_d += train_discriminator(optim_d, data_real, data_fake)\n",
        "    data_fake = generator(torch.randn(b_size, nz).to(device))\n",
        "    loss_g += train_generator(optim_g, data_fake)\n",
        "  generated_img = generator(torch.randn(b_size, nz).to(device)).cpu().detach()\n",
        "  generated_img = make_grid(generated_img)\n",
        "  save_generator_image(generated_img, f\"/content/drive/MyDrive/Euron-Data/chap13/img/gen_img{epoch}.png\")\n",
        "  images.append(generated_img)\n",
        "  epoch_loss_g = loss_g / idx\n",
        "  epoch_loss_d = loss_d / idx\n",
        "  losses_g.append(epoch_loss_g)\n",
        "  losses_d.append(epoch_loss_d)\n",
        "\n",
        "  print(f\"Epoch {epoch} of {epochs}\")\n",
        "  print(f\"Generator loss: {epoch_loss_g:.8f}, Discriminator loss: {epoch_loss_d:.8f}\")"
      ],
      "metadata": {
        "colab": {
          "base_uri": "https://localhost:8080/"
        },
        "id": "g_qpQt-FCAb4",
        "outputId": "302817a8-99a4-4ffa-e5a5-5883f539963e"
      },
      "execution_count": 11,
      "outputs": [
        {
          "output_type": "stream",
          "name": "stderr",
          "text": [
            "118it [00:14,  8.32it/s]                         "
          ]
        },
        {
          "output_type": "stream",
          "name": "stdout",
          "text": [
            "Epoch 0 of 200\n",
            "Generator loss: 1.34967566, Discriminator loss: 0.90843177\n"
          ]
        },
        {
          "output_type": "stream",
          "name": "stderr",
          "text": [
            "\n",
            "118it [00:11, 10.11it/s]                         "
          ]
        },
        {
          "output_type": "stream",
          "name": "stdout",
          "text": [
            "Epoch 1 of 200\n",
            "Generator loss: 2.03834581, Discriminator loss: 1.47654259\n"
          ]
        },
        {
          "output_type": "stream",
          "name": "stderr",
          "text": [
            "\n",
            "118it [00:10, 11.00it/s]                         "
          ]
        },
        {
          "output_type": "stream",
          "name": "stdout",
          "text": [
            "Epoch 2 of 200\n",
            "Generator loss: 2.37820077, Discriminator loss: 0.96056664\n"
          ]
        },
        {
          "output_type": "stream",
          "name": "stderr",
          "text": [
            "\n",
            "118it [00:11, 10.24it/s]                         "
          ]
        },
        {
          "output_type": "stream",
          "name": "stdout",
          "text": [
            "Epoch 3 of 200\n",
            "Generator loss: 1.37481642, Discriminator loss: 0.99339628\n"
          ]
        },
        {
          "output_type": "stream",
          "name": "stderr",
          "text": [
            "\n",
            "118it [00:12,  9.65it/s]                         "
          ]
        },
        {
          "output_type": "stream",
          "name": "stdout",
          "text": [
            "Epoch 4 of 200\n",
            "Generator loss: 2.35563850, Discriminator loss: 1.27586627\n"
          ]
        },
        {
          "output_type": "stream",
          "name": "stderr",
          "text": [
            "\n",
            "118it [00:11,  9.99it/s]                         "
          ]
        },
        {
          "output_type": "stream",
          "name": "stdout",
          "text": [
            "Epoch 5 of 200\n",
            "Generator loss: 2.03054690, Discriminator loss: 0.87932420\n"
          ]
        },
        {
          "output_type": "stream",
          "name": "stderr",
          "text": [
            "\n",
            "118it [00:11, 10.04it/s]                         \n"
          ]
        },
        {
          "output_type": "stream",
          "name": "stdout",
          "text": [
            "Epoch 6 of 200\n",
            "Generator loss: 0.98847622, Discriminator loss: 1.22101045\n"
          ]
        },
        {
          "output_type": "stream",
          "name": "stderr",
          "text": [
            "118it [00:11,  9.95it/s]                         "
          ]
        },
        {
          "output_type": "stream",
          "name": "stdout",
          "text": [
            "Epoch 7 of 200\n",
            "Generator loss: 1.33060145, Discriminator loss: 1.22646976\n"
          ]
        },
        {
          "output_type": "stream",
          "name": "stderr",
          "text": [
            "\n",
            "118it [00:11, 10.67it/s]                         "
          ]
        },
        {
          "output_type": "stream",
          "name": "stdout",
          "text": [
            "Epoch 8 of 200\n",
            "Generator loss: 1.40558028, Discriminator loss: 0.92574543\n"
          ]
        },
        {
          "output_type": "stream",
          "name": "stderr",
          "text": [
            "\n",
            "118it [00:11, 10.41it/s]                         "
          ]
        },
        {
          "output_type": "stream",
          "name": "stdout",
          "text": [
            "Epoch 9 of 200\n",
            "Generator loss: 1.05081153, Discriminator loss: 1.27201200\n"
          ]
        },
        {
          "output_type": "stream",
          "name": "stderr",
          "text": [
            "\n",
            "118it [00:11,  9.88it/s]                         "
          ]
        },
        {
          "output_type": "stream",
          "name": "stdout",
          "text": [
            "Epoch 10 of 200\n",
            "Generator loss: 3.36214471, Discriminator loss: 1.02166057\n"
          ]
        },
        {
          "output_type": "stream",
          "name": "stderr",
          "text": [
            "\n",
            "118it [00:11,  9.93it/s]                         "
          ]
        },
        {
          "output_type": "stream",
          "name": "stdout",
          "text": [
            "Epoch 11 of 200\n",
            "Generator loss: 2.91484952, Discriminator loss: 1.28013957\n"
          ]
        },
        {
          "output_type": "stream",
          "name": "stderr",
          "text": [
            "\n",
            "118it [00:11,  9.84it/s]                         "
          ]
        },
        {
          "output_type": "stream",
          "name": "stdout",
          "text": [
            "Epoch 12 of 200\n",
            "Generator loss: 1.59014249, Discriminator loss: 1.17995989\n"
          ]
        },
        {
          "output_type": "stream",
          "name": "stderr",
          "text": [
            "\n",
            "118it [00:11,  9.88it/s]                         "
          ]
        },
        {
          "output_type": "stream",
          "name": "stdout",
          "text": [
            "Epoch 13 of 200\n",
            "Generator loss: 1.23649919, Discriminator loss: 0.98956931\n"
          ]
        },
        {
          "output_type": "stream",
          "name": "stderr",
          "text": [
            "\n",
            "118it [00:11, 10.10it/s]                         "
          ]
        },
        {
          "output_type": "stream",
          "name": "stdout",
          "text": [
            "Epoch 14 of 200\n",
            "Generator loss: 1.54804265, Discriminator loss: 1.04202044\n"
          ]
        },
        {
          "output_type": "stream",
          "name": "stderr",
          "text": [
            "\n",
            "118it [00:10, 10.84it/s]                         "
          ]
        },
        {
          "output_type": "stream",
          "name": "stdout",
          "text": [
            "Epoch 15 of 200\n",
            "Generator loss: 2.13267899, Discriminator loss: 0.85579062\n"
          ]
        },
        {
          "output_type": "stream",
          "name": "stderr",
          "text": [
            "\n",
            "118it [00:11, 10.10it/s]                         "
          ]
        },
        {
          "output_type": "stream",
          "name": "stdout",
          "text": [
            "Epoch 16 of 200\n",
            "Generator loss: 1.83349073, Discriminator loss: 0.79625314\n"
          ]
        },
        {
          "output_type": "stream",
          "name": "stderr",
          "text": [
            "\n",
            "118it [00:12,  9.79it/s]                         "
          ]
        },
        {
          "output_type": "stream",
          "name": "stdout",
          "text": [
            "Epoch 17 of 200\n",
            "Generator loss: 2.47680044, Discriminator loss: 0.77692455\n"
          ]
        },
        {
          "output_type": "stream",
          "name": "stderr",
          "text": [
            "\n",
            "118it [00:11,  9.88it/s]                         "
          ]
        },
        {
          "output_type": "stream",
          "name": "stdout",
          "text": [
            "Epoch 18 of 200\n",
            "Generator loss: 2.10813904, Discriminator loss: 0.77480906\n"
          ]
        },
        {
          "output_type": "stream",
          "name": "stderr",
          "text": [
            "\n",
            "118it [00:11,  9.97it/s]                         "
          ]
        },
        {
          "output_type": "stream",
          "name": "stdout",
          "text": [
            "Epoch 19 of 200\n",
            "Generator loss: 1.94470274, Discriminator loss: 0.80061024\n"
          ]
        },
        {
          "output_type": "stream",
          "name": "stderr",
          "text": [
            "\n",
            "118it [00:12,  9.79it/s]"
          ]
        },
        {
          "output_type": "stream",
          "name": "stdout",
          "text": [
            "Epoch 20 of 200\n",
            "Generator loss: 2.18869305, Discriminator loss: 0.62714291\n"
          ]
        },
        {
          "output_type": "stream",
          "name": "stderr",
          "text": [
            "\n",
            "118it [00:11, 10.62it/s]                         "
          ]
        },
        {
          "output_type": "stream",
          "name": "stdout",
          "text": [
            "Epoch 21 of 200\n",
            "Generator loss: 2.61173344, Discriminator loss: 0.47276509\n"
          ]
        },
        {
          "output_type": "stream",
          "name": "stderr",
          "text": [
            "\n",
            "118it [00:11, 10.69it/s]                         "
          ]
        },
        {
          "output_type": "stream",
          "name": "stdout",
          "text": [
            "Epoch 22 of 200\n",
            "Generator loss: 3.50708461, Discriminator loss: 0.29890561\n"
          ]
        },
        {
          "output_type": "stream",
          "name": "stderr",
          "text": [
            "\n",
            "118it [00:11, 10.02it/s]                         "
          ]
        },
        {
          "output_type": "stream",
          "name": "stdout",
          "text": [
            "Epoch 23 of 200\n",
            "Generator loss: 3.38445616, Discriminator loss: 0.51159757\n"
          ]
        },
        {
          "output_type": "stream",
          "name": "stderr",
          "text": [
            "\n",
            "118it [00:11, 10.01it/s]                         \n"
          ]
        },
        {
          "output_type": "stream",
          "name": "stdout",
          "text": [
            "Epoch 24 of 200\n",
            "Generator loss: 2.29783392, Discriminator loss: 0.66794455\n"
          ]
        },
        {
          "output_type": "stream",
          "name": "stderr",
          "text": [
            "118it [00:11, 10.02it/s]                         "
          ]
        },
        {
          "output_type": "stream",
          "name": "stdout",
          "text": [
            "Epoch 25 of 200\n",
            "Generator loss: 2.57404876, Discriminator loss: 0.67493004\n"
          ]
        },
        {
          "output_type": "stream",
          "name": "stderr",
          "text": [
            "\n",
            "118it [00:11,  9.86it/s]                         "
          ]
        },
        {
          "output_type": "stream",
          "name": "stdout",
          "text": [
            "Epoch 26 of 200\n",
            "Generator loss: 2.66632771, Discriminator loss: 0.53030860\n"
          ]
        },
        {
          "output_type": "stream",
          "name": "stderr",
          "text": [
            "\n",
            "118it [00:11, 10.37it/s]                         "
          ]
        },
        {
          "output_type": "stream",
          "name": "stdout",
          "text": [
            "Epoch 27 of 200\n",
            "Generator loss: 2.55724049, Discriminator loss: 0.51773697\n"
          ]
        },
        {
          "output_type": "stream",
          "name": "stderr",
          "text": [
            "\n",
            "118it [00:10, 11.15it/s]                         \n"
          ]
        },
        {
          "output_type": "stream",
          "name": "stdout",
          "text": [
            "Epoch 28 of 200\n",
            "Generator loss: 2.99385428, Discriminator loss: 0.57943416\n"
          ]
        },
        {
          "output_type": "stream",
          "name": "stderr",
          "text": [
            "118it [00:11, 10.01it/s]                         "
          ]
        },
        {
          "output_type": "stream",
          "name": "stdout",
          "text": [
            "Epoch 29 of 200\n",
            "Generator loss: 2.64496827, Discriminator loss: 0.57998580\n"
          ]
        },
        {
          "output_type": "stream",
          "name": "stderr",
          "text": [
            "\n",
            "118it [00:11, 10.10it/s]                         "
          ]
        },
        {
          "output_type": "stream",
          "name": "stdout",
          "text": [
            "Epoch 30 of 200\n",
            "Generator loss: 3.08754587, Discriminator loss: 0.47962508\n"
          ]
        },
        {
          "output_type": "stream",
          "name": "stderr",
          "text": [
            "\n",
            "118it [00:11, 10.12it/s]                         "
          ]
        },
        {
          "output_type": "stream",
          "name": "stdout",
          "text": [
            "Epoch 31 of 200\n",
            "Generator loss: 2.66542482, Discriminator loss: 0.55184299\n"
          ]
        },
        {
          "output_type": "stream",
          "name": "stderr",
          "text": [
            "\n",
            "118it [00:11, 10.17it/s]                         "
          ]
        },
        {
          "output_type": "stream",
          "name": "stdout",
          "text": [
            "Epoch 32 of 200\n",
            "Generator loss: 2.50777245, Discriminator loss: 0.61992985\n"
          ]
        },
        {
          "output_type": "stream",
          "name": "stderr",
          "text": [
            "\n",
            "118it [00:11, 10.13it/s]                         "
          ]
        },
        {
          "output_type": "stream",
          "name": "stdout",
          "text": [
            "Epoch 33 of 200\n",
            "Generator loss: 2.59547687, Discriminator loss: 0.61655605\n"
          ]
        },
        {
          "output_type": "stream",
          "name": "stderr",
          "text": [
            "\n",
            "118it [00:10, 11.11it/s]                         "
          ]
        },
        {
          "output_type": "stream",
          "name": "stdout",
          "text": [
            "Epoch 34 of 200\n",
            "Generator loss: 3.09348321, Discriminator loss: 0.55986071\n"
          ]
        },
        {
          "output_type": "stream",
          "name": "stderr",
          "text": [
            "\n",
            "118it [00:11, 10.10it/s]                         "
          ]
        },
        {
          "output_type": "stream",
          "name": "stdout",
          "text": [
            "Epoch 35 of 200\n",
            "Generator loss: 2.42410326, Discriminator loss: 0.65647143\n"
          ]
        },
        {
          "output_type": "stream",
          "name": "stderr",
          "text": [
            "\n",
            "118it [00:12,  9.74it/s]                         "
          ]
        },
        {
          "output_type": "stream",
          "name": "stdout",
          "text": [
            "Epoch 36 of 200\n",
            "Generator loss: 2.51581073, Discriminator loss: 0.55851728\n"
          ]
        },
        {
          "output_type": "stream",
          "name": "stderr",
          "text": [
            "\n",
            "118it [00:12,  9.83it/s]                         \n"
          ]
        },
        {
          "output_type": "stream",
          "name": "stdout",
          "text": [
            "Epoch 37 of 200\n",
            "Generator loss: 2.84303236, Discriminator loss: 0.56672931\n"
          ]
        },
        {
          "output_type": "stream",
          "name": "stderr",
          "text": [
            "118it [00:12,  9.66it/s]                         "
          ]
        },
        {
          "output_type": "stream",
          "name": "stdout",
          "text": [
            "Epoch 38 of 200\n",
            "Generator loss: 2.77357531, Discriminator loss: 0.56896335\n"
          ]
        },
        {
          "output_type": "stream",
          "name": "stderr",
          "text": [
            "\n",
            "118it [00:11,  9.84it/s]                         \n"
          ]
        },
        {
          "output_type": "stream",
          "name": "stdout",
          "text": [
            "Epoch 39 of 200\n",
            "Generator loss: 2.89288330, Discriminator loss: 0.53250074\n"
          ]
        },
        {
          "output_type": "stream",
          "name": "stderr",
          "text": [
            "118it [00:11,  9.90it/s]                         "
          ]
        },
        {
          "output_type": "stream",
          "name": "stdout",
          "text": [
            "Epoch 40 of 200\n",
            "Generator loss: 2.91937566, Discriminator loss: 0.48241112\n"
          ]
        },
        {
          "output_type": "stream",
          "name": "stderr",
          "text": [
            "\n",
            "118it [00:11, 10.57it/s]                         "
          ]
        },
        {
          "output_type": "stream",
          "name": "stdout",
          "text": [
            "Epoch 41 of 200\n",
            "Generator loss: 3.21423435, Discriminator loss: 0.52181846\n"
          ]
        },
        {
          "output_type": "stream",
          "name": "stderr",
          "text": [
            "\n",
            "118it [00:11, 10.18it/s]                         "
          ]
        },
        {
          "output_type": "stream",
          "name": "stdout",
          "text": [
            "Epoch 42 of 200\n",
            "Generator loss: 3.28853369, Discriminator loss: 0.49001133\n"
          ]
        },
        {
          "output_type": "stream",
          "name": "stderr",
          "text": [
            "\n",
            "118it [00:12,  9.75it/s]                         "
          ]
        },
        {
          "output_type": "stream",
          "name": "stdout",
          "text": [
            "Epoch 43 of 200\n",
            "Generator loss: 2.98807144, Discriminator loss: 0.51535922\n"
          ]
        },
        {
          "output_type": "stream",
          "name": "stderr",
          "text": [
            "\n",
            "118it [00:11,  9.87it/s]                         "
          ]
        },
        {
          "output_type": "stream",
          "name": "stdout",
          "text": [
            "Epoch 44 of 200\n",
            "Generator loss: 3.20283556, Discriminator loss: 0.48988712\n"
          ]
        },
        {
          "output_type": "stream",
          "name": "stderr",
          "text": [
            "\n",
            "118it [00:11,  9.93it/s]                         "
          ]
        },
        {
          "output_type": "stream",
          "name": "stdout",
          "text": [
            "Epoch 45 of 200\n",
            "Generator loss: 3.46845198, Discriminator loss: 0.42596439\n"
          ]
        },
        {
          "output_type": "stream",
          "name": "stderr",
          "text": [
            "\n",
            "118it [00:12,  9.81it/s]                         "
          ]
        },
        {
          "output_type": "stream",
          "name": "stdout",
          "text": [
            "Epoch 46 of 200\n",
            "Generator loss: 3.27126575, Discriminator loss: 0.44223964\n"
          ]
        },
        {
          "output_type": "stream",
          "name": "stderr",
          "text": [
            "\n",
            "118it [00:11, 10.37it/s]                         \n"
          ]
        },
        {
          "output_type": "stream",
          "name": "stdout",
          "text": [
            "Epoch 47 of 200\n",
            "Generator loss: 2.99743509, Discriminator loss: 0.53096610\n"
          ]
        },
        {
          "output_type": "stream",
          "name": "stderr",
          "text": [
            "118it [00:10, 10.88it/s]                         "
          ]
        },
        {
          "output_type": "stream",
          "name": "stdout",
          "text": [
            "Epoch 48 of 200\n",
            "Generator loss: 2.89544773, Discriminator loss: 0.54756820\n"
          ]
        },
        {
          "output_type": "stream",
          "name": "stderr",
          "text": [
            "\n",
            "118it [00:11, 10.29it/s]                         "
          ]
        },
        {
          "output_type": "stream",
          "name": "stdout",
          "text": [
            "Epoch 49 of 200\n",
            "Generator loss: 2.86142588, Discriminator loss: 0.54245448\n"
          ]
        },
        {
          "output_type": "stream",
          "name": "stderr",
          "text": [
            "\n",
            "118it [00:11, 10.14it/s]                         "
          ]
        },
        {
          "output_type": "stream",
          "name": "stdout",
          "text": [
            "Epoch 50 of 200\n",
            "Generator loss: 3.37567306, Discriminator loss: 0.41855934\n"
          ]
        },
        {
          "output_type": "stream",
          "name": "stderr",
          "text": [
            "\n",
            "118it [00:11, 10.00it/s]                         "
          ]
        },
        {
          "output_type": "stream",
          "name": "stdout",
          "text": [
            "Epoch 51 of 200\n",
            "Generator loss: 3.29722810, Discriminator loss: 0.46329507\n"
          ]
        },
        {
          "output_type": "stream",
          "name": "stderr",
          "text": [
            "\n",
            "118it [00:11,  9.90it/s]                         "
          ]
        },
        {
          "output_type": "stream",
          "name": "stdout",
          "text": [
            "Epoch 52 of 200\n",
            "Generator loss: 3.08538771, Discriminator loss: 0.47595096\n"
          ]
        },
        {
          "output_type": "stream",
          "name": "stderr",
          "text": [
            "\n",
            "118it [00:11,  9.98it/s]                         \n"
          ]
        },
        {
          "output_type": "stream",
          "name": "stdout",
          "text": [
            "Epoch 53 of 200\n",
            "Generator loss: 3.04422069, Discriminator loss: 0.53213108\n"
          ]
        },
        {
          "output_type": "stream",
          "name": "stderr",
          "text": [
            "118it [00:11, 10.50it/s]                         "
          ]
        },
        {
          "output_type": "stream",
          "name": "stdout",
          "text": [
            "Epoch 54 of 200\n",
            "Generator loss: 3.09558010, Discriminator loss: 0.53168094\n"
          ]
        },
        {
          "output_type": "stream",
          "name": "stderr",
          "text": [
            "\n",
            "118it [00:10, 10.82it/s]\n"
          ]
        },
        {
          "output_type": "stream",
          "name": "stdout",
          "text": [
            "Epoch 55 of 200\n",
            "Generator loss: 3.13570929, Discriminator loss: 0.46481818\n"
          ]
        },
        {
          "output_type": "stream",
          "name": "stderr",
          "text": [
            "118it [00:11,  9.90it/s]                         "
          ]
        },
        {
          "output_type": "stream",
          "name": "stdout",
          "text": [
            "Epoch 56 of 200\n",
            "Generator loss: 3.13179612, Discriminator loss: 0.48890579\n"
          ]
        },
        {
          "output_type": "stream",
          "name": "stderr",
          "text": [
            "\n",
            "118it [00:11, 10.07it/s]                         \n"
          ]
        },
        {
          "output_type": "stream",
          "name": "stdout",
          "text": [
            "Epoch 57 of 200\n",
            "Generator loss: 3.12736368, Discriminator loss: 0.48705855\n"
          ]
        },
        {
          "output_type": "stream",
          "name": "stderr",
          "text": [
            "118it [00:11, 10.03it/s]                         "
          ]
        },
        {
          "output_type": "stream",
          "name": "stdout",
          "text": [
            "Epoch 58 of 200\n",
            "Generator loss: 3.18482733, Discriminator loss: 0.47206819\n"
          ]
        },
        {
          "output_type": "stream",
          "name": "stderr",
          "text": [
            "\n",
            "118it [00:11,  9.98it/s]                         "
          ]
        },
        {
          "output_type": "stream",
          "name": "stdout",
          "text": [
            "Epoch 59 of 200\n",
            "Generator loss: 3.04859066, Discriminator loss: 0.51794165\n"
          ]
        },
        {
          "output_type": "stream",
          "name": "stderr",
          "text": [
            "\n",
            "118it [00:11, 10.20it/s]                         "
          ]
        },
        {
          "output_type": "stream",
          "name": "stdout",
          "text": [
            "Epoch 60 of 200\n",
            "Generator loss: 2.92312026, Discriminator loss: 0.54964322\n"
          ]
        },
        {
          "output_type": "stream",
          "name": "stderr",
          "text": [
            "\n",
            "118it [00:10, 10.77it/s]                         "
          ]
        },
        {
          "output_type": "stream",
          "name": "stdout",
          "text": [
            "Epoch 61 of 200\n",
            "Generator loss: 2.97964573, Discriminator loss: 0.59266853\n"
          ]
        },
        {
          "output_type": "stream",
          "name": "stderr",
          "text": [
            "\n",
            "118it [00:11, 10.40it/s]                         "
          ]
        },
        {
          "output_type": "stream",
          "name": "stdout",
          "text": [
            "Epoch 62 of 200\n",
            "Generator loss: 2.95751905, Discriminator loss: 0.57091445\n"
          ]
        },
        {
          "output_type": "stream",
          "name": "stderr",
          "text": [
            "\n",
            "118it [00:11,  9.84it/s]                         "
          ]
        },
        {
          "output_type": "stream",
          "name": "stdout",
          "text": [
            "Epoch 63 of 200\n",
            "Generator loss: 2.75326014, Discriminator loss: 0.54021853\n"
          ]
        },
        {
          "output_type": "stream",
          "name": "stderr",
          "text": [
            "\n",
            "118it [00:11, 10.05it/s]\n"
          ]
        },
        {
          "output_type": "stream",
          "name": "stdout",
          "text": [
            "Epoch 64 of 200\n",
            "Generator loss: 2.79735565, Discriminator loss: 0.53226346\n"
          ]
        },
        {
          "output_type": "stream",
          "name": "stderr",
          "text": [
            "118it [00:11,  9.94it/s]                         "
          ]
        },
        {
          "output_type": "stream",
          "name": "stdout",
          "text": [
            "Epoch 65 of 200\n",
            "Generator loss: 2.84261608, Discriminator loss: 0.50773412\n"
          ]
        },
        {
          "output_type": "stream",
          "name": "stderr",
          "text": [
            "\n",
            "118it [00:11, 10.01it/s]                         "
          ]
        },
        {
          "output_type": "stream",
          "name": "stdout",
          "text": [
            "Epoch 66 of 200\n",
            "Generator loss: 2.75765252, Discriminator loss: 0.54470009\n"
          ]
        },
        {
          "output_type": "stream",
          "name": "stderr",
          "text": [
            "\n",
            "118it [00:11, 10.12it/s]                         "
          ]
        },
        {
          "output_type": "stream",
          "name": "stdout",
          "text": [
            "Epoch 67 of 200\n",
            "Generator loss: 2.75118542, Discriminator loss: 0.53683621\n"
          ]
        },
        {
          "output_type": "stream",
          "name": "stderr",
          "text": [
            "\n",
            "118it [00:10, 10.91it/s]                         "
          ]
        },
        {
          "output_type": "stream",
          "name": "stdout",
          "text": [
            "Epoch 68 of 200\n",
            "Generator loss: 2.77918124, Discriminator loss: 0.56625080\n"
          ]
        },
        {
          "output_type": "stream",
          "name": "stderr",
          "text": [
            "\n",
            "118it [00:11, 10.10it/s]                         "
          ]
        },
        {
          "output_type": "stream",
          "name": "stdout",
          "text": [
            "Epoch 69 of 200\n",
            "Generator loss: 2.65144587, Discriminator loss: 0.60295051\n"
          ]
        },
        {
          "output_type": "stream",
          "name": "stderr",
          "text": [
            "\n",
            "118it [00:11, 10.16it/s]                         "
          ]
        },
        {
          "output_type": "stream",
          "name": "stdout",
          "text": [
            "Epoch 70 of 200\n",
            "Generator loss: 2.58247185, Discriminator loss: 0.60512453\n"
          ]
        },
        {
          "output_type": "stream",
          "name": "stderr",
          "text": [
            "\n",
            "118it [00:11, 10.02it/s]                         "
          ]
        },
        {
          "output_type": "stream",
          "name": "stdout",
          "text": [
            "Epoch 71 of 200\n",
            "Generator loss: 2.57533193, Discriminator loss: 0.63071537\n"
          ]
        },
        {
          "output_type": "stream",
          "name": "stderr",
          "text": [
            "\n",
            "118it [00:11, 10.09it/s]                         "
          ]
        },
        {
          "output_type": "stream",
          "name": "stdout",
          "text": [
            "Epoch 72 of 200\n",
            "Generator loss: 2.41876101, Discriminator loss: 0.67762256\n"
          ]
        },
        {
          "output_type": "stream",
          "name": "stderr",
          "text": [
            "\n",
            "118it [00:11, 10.03it/s]                         \n"
          ]
        },
        {
          "output_type": "stream",
          "name": "stdout",
          "text": [
            "Epoch 73 of 200\n",
            "Generator loss: 2.38552904, Discriminator loss: 0.64398366\n"
          ]
        },
        {
          "output_type": "stream",
          "name": "stderr",
          "text": [
            "118it [00:11, 10.54it/s]                         "
          ]
        },
        {
          "output_type": "stream",
          "name": "stdout",
          "text": [
            "Epoch 74 of 200\n",
            "Generator loss: 2.51428127, Discriminator loss: 0.59405351\n"
          ]
        },
        {
          "output_type": "stream",
          "name": "stderr",
          "text": [
            "\n",
            "118it [00:11, 10.65it/s]                         \n"
          ]
        },
        {
          "output_type": "stream",
          "name": "stdout",
          "text": [
            "Epoch 75 of 200\n",
            "Generator loss: 2.61484790, Discriminator loss: 0.57810235\n"
          ]
        },
        {
          "output_type": "stream",
          "name": "stderr",
          "text": [
            "118it [00:11,  9.88it/s]                         "
          ]
        },
        {
          "output_type": "stream",
          "name": "stdout",
          "text": [
            "Epoch 76 of 200\n",
            "Generator loss: 2.55730009, Discriminator loss: 0.62289739\n"
          ]
        },
        {
          "output_type": "stream",
          "name": "stderr",
          "text": [
            "\n",
            "118it [00:11,  9.92it/s]\n"
          ]
        },
        {
          "output_type": "stream",
          "name": "stdout",
          "text": [
            "Epoch 77 of 200\n",
            "Generator loss: 2.63220811, Discriminator loss: 0.62203974\n"
          ]
        },
        {
          "output_type": "stream",
          "name": "stderr",
          "text": [
            "118it [00:11, 10.04it/s]                         \n"
          ]
        },
        {
          "output_type": "stream",
          "name": "stdout",
          "text": [
            "Epoch 78 of 200\n",
            "Generator loss: 2.54214978, Discriminator loss: 0.61739528\n"
          ]
        },
        {
          "output_type": "stream",
          "name": "stderr",
          "text": [
            "118it [00:12,  9.78it/s]                         "
          ]
        },
        {
          "output_type": "stream",
          "name": "stdout",
          "text": [
            "Epoch 79 of 200\n",
            "Generator loss: 2.73802900, Discriminator loss: 0.58173472\n"
          ]
        },
        {
          "output_type": "stream",
          "name": "stderr",
          "text": [
            "\n",
            "118it [00:11, 10.16it/s]                         "
          ]
        },
        {
          "output_type": "stream",
          "name": "stdout",
          "text": [
            "Epoch 80 of 200\n",
            "Generator loss: 2.72072172, Discriminator loss: 0.58723283\n"
          ]
        },
        {
          "output_type": "stream",
          "name": "stderr",
          "text": [
            "\n",
            "118it [00:10, 10.86it/s]                         \n"
          ]
        },
        {
          "output_type": "stream",
          "name": "stdout",
          "text": [
            "Epoch 81 of 200\n",
            "Generator loss: 2.50391626, Discriminator loss: 0.63099372\n"
          ]
        },
        {
          "output_type": "stream",
          "name": "stderr",
          "text": [
            "118it [00:11, 10.21it/s]                         "
          ]
        },
        {
          "output_type": "stream",
          "name": "stdout",
          "text": [
            "Epoch 82 of 200\n",
            "Generator loss: 2.48245549, Discriminator loss: 0.65255016\n"
          ]
        },
        {
          "output_type": "stream",
          "name": "stderr",
          "text": [
            "\n",
            "118it [00:11,  9.88it/s]                         "
          ]
        },
        {
          "output_type": "stream",
          "name": "stdout",
          "text": [
            "Epoch 83 of 200\n",
            "Generator loss: 2.44390750, Discriminator loss: 0.66437447\n"
          ]
        },
        {
          "output_type": "stream",
          "name": "stderr",
          "text": [
            "\n",
            "118it [00:12,  9.80it/s]                         "
          ]
        },
        {
          "output_type": "stream",
          "name": "stdout",
          "text": [
            "Epoch 84 of 200\n",
            "Generator loss: 2.36015010, Discriminator loss: 0.68246168\n"
          ]
        },
        {
          "output_type": "stream",
          "name": "stderr",
          "text": [
            "\n",
            "118it [00:11,  9.92it/s]                         "
          ]
        },
        {
          "output_type": "stream",
          "name": "stdout",
          "text": [
            "Epoch 85 of 200\n",
            "Generator loss: 2.26282001, Discriminator loss: 0.69326746\n"
          ]
        },
        {
          "output_type": "stream",
          "name": "stderr",
          "text": [
            "\n",
            "118it [00:12,  9.83it/s]\n"
          ]
        },
        {
          "output_type": "stream",
          "name": "stdout",
          "text": [
            "Epoch 86 of 200\n",
            "Generator loss: 2.25368357, Discriminator loss: 0.67831194\n"
          ]
        },
        {
          "output_type": "stream",
          "name": "stderr",
          "text": [
            "118it [00:11, 10.09it/s]                         \n"
          ]
        },
        {
          "output_type": "stream",
          "name": "stdout",
          "text": [
            "Epoch 87 of 200\n",
            "Generator loss: 2.22201490, Discriminator loss: 0.67725772\n"
          ]
        },
        {
          "output_type": "stream",
          "name": "stderr",
          "text": [
            "118it [00:10, 10.94it/s]"
          ]
        },
        {
          "output_type": "stream",
          "name": "stdout",
          "text": [
            "Epoch 88 of 200\n",
            "Generator loss: 2.22664452, Discriminator loss: 0.70027244\n"
          ]
        },
        {
          "output_type": "stream",
          "name": "stderr",
          "text": [
            "\n",
            "118it [00:11,  9.99it/s]                         "
          ]
        },
        {
          "output_type": "stream",
          "name": "stdout",
          "text": [
            "Epoch 89 of 200\n",
            "Generator loss: 2.29067254, Discriminator loss: 0.72160625\n"
          ]
        },
        {
          "output_type": "stream",
          "name": "stderr",
          "text": [
            "\n",
            "118it [00:11,  9.89it/s]                         "
          ]
        },
        {
          "output_type": "stream",
          "name": "stdout",
          "text": [
            "Epoch 90 of 200\n",
            "Generator loss: 2.10260963, Discriminator loss: 0.76195389\n"
          ]
        },
        {
          "output_type": "stream",
          "name": "stderr",
          "text": [
            "\n",
            "118it [00:11, 10.16it/s]                         "
          ]
        },
        {
          "output_type": "stream",
          "name": "stdout",
          "text": [
            "Epoch 91 of 200\n",
            "Generator loss: 2.15380692, Discriminator loss: 0.72690725\n"
          ]
        },
        {
          "output_type": "stream",
          "name": "stderr",
          "text": [
            "\n",
            "118it [00:12,  9.80it/s]                         "
          ]
        },
        {
          "output_type": "stream",
          "name": "stdout",
          "text": [
            "Epoch 92 of 200\n",
            "Generator loss: 2.15160823, Discriminator loss: 0.73031843\n"
          ]
        },
        {
          "output_type": "stream",
          "name": "stderr",
          "text": [
            "\n",
            "118it [00:11, 10.06it/s]                         "
          ]
        },
        {
          "output_type": "stream",
          "name": "stdout",
          "text": [
            "Epoch 93 of 200\n",
            "Generator loss: 2.26686859, Discriminator loss: 0.70469820\n"
          ]
        },
        {
          "output_type": "stream",
          "name": "stderr",
          "text": [
            "\n",
            "118it [00:11, 10.07it/s]                         "
          ]
        },
        {
          "output_type": "stream",
          "name": "stdout",
          "text": [
            "Epoch 94 of 200\n",
            "Generator loss: 2.24822354, Discriminator loss: 0.70919752\n"
          ]
        },
        {
          "output_type": "stream",
          "name": "stderr",
          "text": [
            "\n",
            "118it [00:10, 11.13it/s]                         "
          ]
        },
        {
          "output_type": "stream",
          "name": "stdout",
          "text": [
            "Epoch 95 of 200\n",
            "Generator loss: 2.21017170, Discriminator loss: 0.71118611\n"
          ]
        },
        {
          "output_type": "stream",
          "name": "stderr",
          "text": [
            "\n",
            "118it [00:11, 10.23it/s]                         "
          ]
        },
        {
          "output_type": "stream",
          "name": "stdout",
          "text": [
            "Epoch 96 of 200\n",
            "Generator loss: 2.22287965, Discriminator loss: 0.71633595\n"
          ]
        },
        {
          "output_type": "stream",
          "name": "stderr",
          "text": [
            "\n",
            "118it [00:11, 10.00it/s]\n"
          ]
        },
        {
          "output_type": "stream",
          "name": "stdout",
          "text": [
            "Epoch 97 of 200\n",
            "Generator loss: 2.10937548, Discriminator loss: 0.74033016\n"
          ]
        },
        {
          "output_type": "stream",
          "name": "stderr",
          "text": [
            "118it [00:11, 10.11it/s]                         "
          ]
        },
        {
          "output_type": "stream",
          "name": "stdout",
          "text": [
            "Epoch 98 of 200\n",
            "Generator loss: 2.20893073, Discriminator loss: 0.74862695\n"
          ]
        },
        {
          "output_type": "stream",
          "name": "stderr",
          "text": [
            "\n",
            "118it [00:11, 10.07it/s]                         "
          ]
        },
        {
          "output_type": "stream",
          "name": "stdout",
          "text": [
            "Epoch 99 of 200\n",
            "Generator loss: 1.98169303, Discriminator loss: 0.81727058\n"
          ]
        },
        {
          "output_type": "stream",
          "name": "stderr",
          "text": [
            "\n",
            "118it [00:11,  9.87it/s]\n"
          ]
        },
        {
          "output_type": "stream",
          "name": "stdout",
          "text": [
            "Epoch 100 of 200\n",
            "Generator loss: 1.91803873, Discriminator loss: 0.79778314\n"
          ]
        },
        {
          "output_type": "stream",
          "name": "stderr",
          "text": [
            "118it [00:11, 10.20it/s]                         "
          ]
        },
        {
          "output_type": "stream",
          "name": "stdout",
          "text": [
            "Epoch 101 of 200\n",
            "Generator loss: 2.04254627, Discriminator loss: 0.74713260\n"
          ]
        },
        {
          "output_type": "stream",
          "name": "stderr",
          "text": [
            "\n",
            "118it [00:11, 10.27it/s]                         "
          ]
        },
        {
          "output_type": "stream",
          "name": "stdout",
          "text": [
            "Epoch 102 of 200\n",
            "Generator loss: 1.99852383, Discriminator loss: 0.78167880\n"
          ]
        },
        {
          "output_type": "stream",
          "name": "stderr",
          "text": [
            "\n",
            "118it [00:11, 10.19it/s]                         "
          ]
        },
        {
          "output_type": "stream",
          "name": "stdout",
          "text": [
            "Epoch 103 of 200\n",
            "Generator loss: 1.96514106, Discriminator loss: 0.80196083\n"
          ]
        },
        {
          "output_type": "stream",
          "name": "stderr",
          "text": [
            "\n",
            "118it [00:12,  9.75it/s]                         "
          ]
        },
        {
          "output_type": "stream",
          "name": "stdout",
          "text": [
            "Epoch 104 of 200\n",
            "Generator loss: 1.95791709, Discriminator loss: 0.79574710\n"
          ]
        },
        {
          "output_type": "stream",
          "name": "stderr",
          "text": [
            "\n",
            "118it [00:12,  9.65it/s]                         "
          ]
        },
        {
          "output_type": "stream",
          "name": "stdout",
          "text": [
            "Epoch 105 of 200\n",
            "Generator loss: 1.83898151, Discriminator loss: 0.84514964\n"
          ]
        },
        {
          "output_type": "stream",
          "name": "stderr",
          "text": [
            "\n",
            "118it [00:11,  9.93it/s]                         "
          ]
        },
        {
          "output_type": "stream",
          "name": "stdout",
          "text": [
            "Epoch 106 of 200\n",
            "Generator loss: 1.87366652, Discriminator loss: 0.85396159\n"
          ]
        },
        {
          "output_type": "stream",
          "name": "stderr",
          "text": [
            "\n",
            "118it [00:12,  9.82it/s]                         "
          ]
        },
        {
          "output_type": "stream",
          "name": "stdout",
          "text": [
            "Epoch 107 of 200\n",
            "Generator loss: 1.84122586, Discriminator loss: 0.83263028\n"
          ]
        },
        {
          "output_type": "stream",
          "name": "stderr",
          "text": [
            "\n",
            "118it [00:11,  9.89it/s]                         "
          ]
        },
        {
          "output_type": "stream",
          "name": "stdout",
          "text": [
            "Epoch 108 of 200\n",
            "Generator loss: 1.83672559, Discriminator loss: 0.84753710\n"
          ]
        },
        {
          "output_type": "stream",
          "name": "stderr",
          "text": [
            "\n",
            "118it [00:10, 10.80it/s]                         "
          ]
        },
        {
          "output_type": "stream",
          "name": "stdout",
          "text": [
            "Epoch 109 of 200\n",
            "Generator loss: 1.77771878, Discriminator loss: 0.86424935\n"
          ]
        },
        {
          "output_type": "stream",
          "name": "stderr",
          "text": [
            "\n",
            "118it [00:11, 10.14it/s]                         "
          ]
        },
        {
          "output_type": "stream",
          "name": "stdout",
          "text": [
            "Epoch 110 of 200\n",
            "Generator loss: 1.83050776, Discriminator loss: 0.86019558\n"
          ]
        },
        {
          "output_type": "stream",
          "name": "stderr",
          "text": [
            "\n",
            "118it [00:12,  9.77it/s]                         "
          ]
        },
        {
          "output_type": "stream",
          "name": "stdout",
          "text": [
            "Epoch 111 of 200\n",
            "Generator loss: 1.77847219, Discriminator loss: 0.86007041\n"
          ]
        },
        {
          "output_type": "stream",
          "name": "stderr",
          "text": [
            "\n",
            "118it [00:12,  9.78it/s]                         "
          ]
        },
        {
          "output_type": "stream",
          "name": "stdout",
          "text": [
            "Epoch 112 of 200\n",
            "Generator loss: 1.88484073, Discriminator loss: 0.82596064\n"
          ]
        },
        {
          "output_type": "stream",
          "name": "stderr",
          "text": [
            "\n",
            "118it [00:12,  9.72it/s]                         "
          ]
        },
        {
          "output_type": "stream",
          "name": "stdout",
          "text": [
            "Epoch 113 of 200\n",
            "Generator loss: 1.86277437, Discriminator loss: 0.83870029\n"
          ]
        },
        {
          "output_type": "stream",
          "name": "stderr",
          "text": [
            "\n",
            "118it [00:11,  9.90it/s]                         "
          ]
        },
        {
          "output_type": "stream",
          "name": "stdout",
          "text": [
            "Epoch 114 of 200\n",
            "Generator loss: 1.80994797, Discriminator loss: 0.84314728\n"
          ]
        },
        {
          "output_type": "stream",
          "name": "stderr",
          "text": [
            "\n",
            "118it [00:11,  9.86it/s]                         "
          ]
        },
        {
          "output_type": "stream",
          "name": "stdout",
          "text": [
            "Epoch 115 of 200\n",
            "Generator loss: 1.82754016, Discriminator loss: 0.86457318\n"
          ]
        },
        {
          "output_type": "stream",
          "name": "stderr",
          "text": [
            "\n",
            "118it [00:11, 10.38it/s]                         "
          ]
        },
        {
          "output_type": "stream",
          "name": "stdout",
          "text": [
            "Epoch 116 of 200\n",
            "Generator loss: 1.87618041, Discriminator loss: 0.84413183\n"
          ]
        },
        {
          "output_type": "stream",
          "name": "stderr",
          "text": [
            "\n",
            "118it [00:11, 10.64it/s]                         "
          ]
        },
        {
          "output_type": "stream",
          "name": "stdout",
          "text": [
            "Epoch 117 of 200\n",
            "Generator loss: 1.82482171, Discriminator loss: 0.83941972\n"
          ]
        },
        {
          "output_type": "stream",
          "name": "stderr",
          "text": [
            "\n",
            "118it [00:11,  9.94it/s]                         "
          ]
        },
        {
          "output_type": "stream",
          "name": "stdout",
          "text": [
            "Epoch 118 of 200\n",
            "Generator loss: 1.78467107, Discriminator loss: 0.86092925\n"
          ]
        },
        {
          "output_type": "stream",
          "name": "stderr",
          "text": [
            "\n",
            "118it [00:12,  9.80it/s]                         "
          ]
        },
        {
          "output_type": "stream",
          "name": "stdout",
          "text": [
            "Epoch 119 of 200\n",
            "Generator loss: 1.81749761, Discriminator loss: 0.84569001\n"
          ]
        },
        {
          "output_type": "stream",
          "name": "stderr",
          "text": [
            "\n",
            "118it [00:12,  9.62it/s]                         "
          ]
        },
        {
          "output_type": "stream",
          "name": "stdout",
          "text": [
            "Epoch 120 of 200\n",
            "Generator loss: 1.83465397, Discriminator loss: 0.84481531\n"
          ]
        },
        {
          "output_type": "stream",
          "name": "stderr",
          "text": [
            "\n",
            "118it [00:12,  9.73it/s]                         "
          ]
        },
        {
          "output_type": "stream",
          "name": "stdout",
          "text": [
            "Epoch 121 of 200\n",
            "Generator loss: 1.76610947, Discriminator loss: 0.88119048\n"
          ]
        },
        {
          "output_type": "stream",
          "name": "stderr",
          "text": [
            "\n",
            "118it [00:12,  9.70it/s]"
          ]
        },
        {
          "output_type": "stream",
          "name": "stdout",
          "text": [
            "Epoch 122 of 200\n",
            "Generator loss: 1.79543805, Discriminator loss: 0.86230004\n"
          ]
        },
        {
          "output_type": "stream",
          "name": "stderr",
          "text": [
            "\n",
            "118it [00:12,  9.73it/s]                         "
          ]
        },
        {
          "output_type": "stream",
          "name": "stdout",
          "text": [
            "Epoch 123 of 200\n",
            "Generator loss: 1.79149354, Discriminator loss: 0.86528242\n"
          ]
        },
        {
          "output_type": "stream",
          "name": "stderr",
          "text": [
            "\n",
            "118it [00:11, 10.13it/s]                         "
          ]
        },
        {
          "output_type": "stream",
          "name": "stdout",
          "text": [
            "Epoch 124 of 200\n",
            "Generator loss: 1.67983866, Discriminator loss: 0.90362275\n"
          ]
        },
        {
          "output_type": "stream",
          "name": "stderr",
          "text": [
            "\n",
            "118it [00:11, 10.27it/s]                         "
          ]
        },
        {
          "output_type": "stream",
          "name": "stdout",
          "text": [
            "Epoch 125 of 200\n",
            "Generator loss: 1.71073794, Discriminator loss: 0.89518893\n"
          ]
        },
        {
          "output_type": "stream",
          "name": "stderr",
          "text": [
            "\n",
            "118it [00:11,  9.88it/s]                         "
          ]
        },
        {
          "output_type": "stream",
          "name": "stdout",
          "text": [
            "Epoch 126 of 200\n",
            "Generator loss: 1.65775979, Discriminator loss: 0.90716785\n"
          ]
        },
        {
          "output_type": "stream",
          "name": "stderr",
          "text": [
            "\n",
            "118it [00:12,  9.68it/s]                         "
          ]
        },
        {
          "output_type": "stream",
          "name": "stdout",
          "text": [
            "Epoch 127 of 200\n",
            "Generator loss: 1.68718851, Discriminator loss: 0.89298695\n"
          ]
        },
        {
          "output_type": "stream",
          "name": "stderr",
          "text": [
            "\n",
            "118it [00:12,  9.66it/s]                         "
          ]
        },
        {
          "output_type": "stream",
          "name": "stdout",
          "text": [
            "Epoch 128 of 200\n",
            "Generator loss: 1.72534406, Discriminator loss: 0.90816867\n"
          ]
        },
        {
          "output_type": "stream",
          "name": "stderr",
          "text": [
            "\n",
            "118it [00:12,  9.68it/s]                         "
          ]
        },
        {
          "output_type": "stream",
          "name": "stdout",
          "text": [
            "Epoch 129 of 200\n",
            "Generator loss: 1.67507374, Discriminator loss: 0.91930485\n"
          ]
        },
        {
          "output_type": "stream",
          "name": "stderr",
          "text": [
            "\n",
            "118it [00:12,  9.68it/s]                         "
          ]
        },
        {
          "output_type": "stream",
          "name": "stdout",
          "text": [
            "Epoch 130 of 200\n",
            "Generator loss: 1.67720747, Discriminator loss: 0.90896857\n"
          ]
        },
        {
          "output_type": "stream",
          "name": "stderr",
          "text": [
            "\n",
            "118it [00:12,  9.80it/s]                         "
          ]
        },
        {
          "output_type": "stream",
          "name": "stdout",
          "text": [
            "Epoch 131 of 200\n",
            "Generator loss: 1.61330163, Discriminator loss: 0.90697920\n"
          ]
        },
        {
          "output_type": "stream",
          "name": "stderr",
          "text": [
            "\n",
            "118it [00:11,  9.92it/s]                         \n"
          ]
        },
        {
          "output_type": "stream",
          "name": "stdout",
          "text": [
            "Epoch 132 of 200\n",
            "Generator loss: 1.61066914, Discriminator loss: 0.93834007\n"
          ]
        },
        {
          "output_type": "stream",
          "name": "stderr",
          "text": [
            "118it [00:10, 10.75it/s]                         \n"
          ]
        },
        {
          "output_type": "stream",
          "name": "stdout",
          "text": [
            "Epoch 133 of 200\n",
            "Generator loss: 1.58563292, Discriminator loss: 0.94141483\n"
          ]
        },
        {
          "output_type": "stream",
          "name": "stderr",
          "text": [
            "118it [00:11, 10.20it/s]                         "
          ]
        },
        {
          "output_type": "stream",
          "name": "stdout",
          "text": [
            "Epoch 134 of 200\n",
            "Generator loss: 1.55627036, Discriminator loss: 0.94647032\n"
          ]
        },
        {
          "output_type": "stream",
          "name": "stderr",
          "text": [
            "\n",
            "118it [00:12,  9.63it/s]                         "
          ]
        },
        {
          "output_type": "stream",
          "name": "stdout",
          "text": [
            "Epoch 135 of 200\n",
            "Generator loss: 1.60356987, Discriminator loss: 0.94578552\n"
          ]
        },
        {
          "output_type": "stream",
          "name": "stderr",
          "text": [
            "\n",
            "118it [00:12,  9.82it/s]                         "
          ]
        },
        {
          "output_type": "stream",
          "name": "stdout",
          "text": [
            "Epoch 136 of 200\n",
            "Generator loss: 1.51263988, Discriminator loss: 0.99603271\n"
          ]
        },
        {
          "output_type": "stream",
          "name": "stderr",
          "text": [
            "\n",
            "118it [00:12,  9.63it/s]                         "
          ]
        },
        {
          "output_type": "stream",
          "name": "stdout",
          "text": [
            "Epoch 137 of 200\n",
            "Generator loss: 1.57456970, Discriminator loss: 0.95142049\n"
          ]
        },
        {
          "output_type": "stream",
          "name": "stderr",
          "text": [
            "\n",
            "118it [00:12,  9.80it/s]                         "
          ]
        },
        {
          "output_type": "stream",
          "name": "stdout",
          "text": [
            "Epoch 138 of 200\n",
            "Generator loss: 1.52739310, Discriminator loss: 0.95409358\n"
          ]
        },
        {
          "output_type": "stream",
          "name": "stderr",
          "text": [
            "\n",
            "118it [00:12,  9.64it/s]                         "
          ]
        },
        {
          "output_type": "stream",
          "name": "stdout",
          "text": [
            "Epoch 139 of 200\n",
            "Generator loss: 1.52446592, Discriminator loss: 0.97206533\n"
          ]
        },
        {
          "output_type": "stream",
          "name": "stderr",
          "text": [
            "\n",
            "118it [00:11,  9.94it/s]                         "
          ]
        },
        {
          "output_type": "stream",
          "name": "stdout",
          "text": [
            "Epoch 140 of 200\n",
            "Generator loss: 1.47076309, Discriminator loss: 0.98787081\n"
          ]
        },
        {
          "output_type": "stream",
          "name": "stderr",
          "text": [
            "\n",
            "118it [00:11, 10.71it/s]                         "
          ]
        },
        {
          "output_type": "stream",
          "name": "stdout",
          "text": [
            "Epoch 141 of 200\n",
            "Generator loss: 1.56230831, Discriminator loss: 0.97207421\n"
          ]
        },
        {
          "output_type": "stream",
          "name": "stderr",
          "text": [
            "\n",
            "118it [00:11, 10.03it/s]                         "
          ]
        },
        {
          "output_type": "stream",
          "name": "stdout",
          "text": [
            "Epoch 142 of 200\n",
            "Generator loss: 1.53577745, Discriminator loss: 0.97167546\n"
          ]
        },
        {
          "output_type": "stream",
          "name": "stderr",
          "text": [
            "\n",
            "118it [00:12,  9.73it/s]                         "
          ]
        },
        {
          "output_type": "stream",
          "name": "stdout",
          "text": [
            "Epoch 143 of 200\n",
            "Generator loss: 1.47544932, Discriminator loss: 0.99889654\n"
          ]
        },
        {
          "output_type": "stream",
          "name": "stderr",
          "text": [
            "\n",
            "118it [00:12,  9.78it/s]                         "
          ]
        },
        {
          "output_type": "stream",
          "name": "stdout",
          "text": [
            "Epoch 144 of 200\n",
            "Generator loss: 1.48054647, Discriminator loss: 0.97740906\n"
          ]
        },
        {
          "output_type": "stream",
          "name": "stderr",
          "text": [
            "\n",
            "118it [00:12,  9.68it/s]                         "
          ]
        },
        {
          "output_type": "stream",
          "name": "stdout",
          "text": [
            "Epoch 145 of 200\n",
            "Generator loss: 1.53592491, Discriminator loss: 0.96541518\n"
          ]
        },
        {
          "output_type": "stream",
          "name": "stderr",
          "text": [
            "\n",
            "118it [00:12,  9.70it/s]                         "
          ]
        },
        {
          "output_type": "stream",
          "name": "stdout",
          "text": [
            "Epoch 146 of 200\n",
            "Generator loss: 1.45894778, Discriminator loss: 0.98469633\n"
          ]
        },
        {
          "output_type": "stream",
          "name": "stderr",
          "text": [
            "\n",
            "118it [00:12,  9.79it/s]                         "
          ]
        },
        {
          "output_type": "stream",
          "name": "stdout",
          "text": [
            "Epoch 147 of 200\n",
            "Generator loss: 1.43875480, Discriminator loss: 1.01871562\n"
          ]
        },
        {
          "output_type": "stream",
          "name": "stderr",
          "text": [
            "\n",
            "118it [00:11, 10.04it/s]                         \n"
          ]
        },
        {
          "output_type": "stream",
          "name": "stdout",
          "text": [
            "Epoch 148 of 200\n",
            "Generator loss: 1.46645820, Discriminator loss: 1.00222683\n"
          ]
        },
        {
          "output_type": "stream",
          "name": "stderr",
          "text": [
            "118it [00:11, 10.61it/s]                         \n"
          ]
        },
        {
          "output_type": "stream",
          "name": "stdout",
          "text": [
            "Epoch 149 of 200\n",
            "Generator loss: 1.44784367, Discriminator loss: 0.99122304\n"
          ]
        },
        {
          "output_type": "stream",
          "name": "stderr",
          "text": [
            "118it [00:11,  9.88it/s]                         "
          ]
        },
        {
          "output_type": "stream",
          "name": "stdout",
          "text": [
            "Epoch 150 of 200\n",
            "Generator loss: 1.51280785, Discriminator loss: 0.98605102\n"
          ]
        },
        {
          "output_type": "stream",
          "name": "stderr",
          "text": [
            "\n",
            "118it [00:12,  9.83it/s]                         \n"
          ]
        },
        {
          "output_type": "stream",
          "name": "stdout",
          "text": [
            "Epoch 151 of 200\n",
            "Generator loss: 1.48625898, Discriminator loss: 0.98692626\n"
          ]
        },
        {
          "output_type": "stream",
          "name": "stderr",
          "text": [
            "118it [00:12,  9.80it/s]                         "
          ]
        },
        {
          "output_type": "stream",
          "name": "stdout",
          "text": [
            "Epoch 152 of 200\n",
            "Generator loss: 1.48265159, Discriminator loss: 0.98731399\n"
          ]
        },
        {
          "output_type": "stream",
          "name": "stderr",
          "text": [
            "\n",
            "118it [00:12,  9.65it/s]                         "
          ]
        },
        {
          "output_type": "stream",
          "name": "stdout",
          "text": [
            "Epoch 153 of 200\n",
            "Generator loss: 1.49355972, Discriminator loss: 0.99106532\n"
          ]
        },
        {
          "output_type": "stream",
          "name": "stderr",
          "text": [
            "\n",
            "118it [00:12,  9.59it/s]"
          ]
        },
        {
          "output_type": "stream",
          "name": "stdout",
          "text": [
            "Epoch 154 of 200\n",
            "Generator loss: 1.47164726, Discriminator loss: 0.99686605\n"
          ]
        },
        {
          "output_type": "stream",
          "name": "stderr",
          "text": [
            "\n",
            "118it [00:12,  9.53it/s]                         "
          ]
        },
        {
          "output_type": "stream",
          "name": "stdout",
          "text": [
            "Epoch 155 of 200\n",
            "Generator loss: 1.47074783, Discriminator loss: 0.99005288\n"
          ]
        },
        {
          "output_type": "stream",
          "name": "stderr",
          "text": [
            "\n",
            "118it [00:12,  9.62it/s]                         "
          ]
        },
        {
          "output_type": "stream",
          "name": "stdout",
          "text": [
            "Epoch 156 of 200\n",
            "Generator loss: 1.40090764, Discriminator loss: 1.01527166\n"
          ]
        },
        {
          "output_type": "stream",
          "name": "stderr",
          "text": [
            "\n",
            "118it [00:11, 10.10it/s]                         \n"
          ]
        },
        {
          "output_type": "stream",
          "name": "stdout",
          "text": [
            "Epoch 157 of 200\n",
            "Generator loss: 1.47498500, Discriminator loss: 1.02183855\n"
          ]
        },
        {
          "output_type": "stream",
          "name": "stderr",
          "text": [
            "118it [00:11, 10.34it/s]                         \n"
          ]
        },
        {
          "output_type": "stream",
          "name": "stdout",
          "text": [
            "Epoch 158 of 200\n",
            "Generator loss: 1.40282559, Discriminator loss: 1.01870012\n"
          ]
        },
        {
          "output_type": "stream",
          "name": "stderr",
          "text": [
            "118it [00:12,  9.62it/s]                         "
          ]
        },
        {
          "output_type": "stream",
          "name": "stdout",
          "text": [
            "Epoch 159 of 200\n",
            "Generator loss: 1.41687083, Discriminator loss: 1.00505769\n"
          ]
        },
        {
          "output_type": "stream",
          "name": "stderr",
          "text": [
            "\n",
            "118it [00:12,  9.54it/s]                         "
          ]
        },
        {
          "output_type": "stream",
          "name": "stdout",
          "text": [
            "Epoch 160 of 200\n",
            "Generator loss: 1.44126725, Discriminator loss: 1.00332880\n"
          ]
        },
        {
          "output_type": "stream",
          "name": "stderr",
          "text": [
            "\n",
            "118it [00:12,  9.59it/s]                         \n"
          ]
        },
        {
          "output_type": "stream",
          "name": "stdout",
          "text": [
            "Epoch 161 of 200\n",
            "Generator loss: 1.40481186, Discriminator loss: 1.02655566\n"
          ]
        },
        {
          "output_type": "stream",
          "name": "stderr",
          "text": [
            "118it [00:12,  9.53it/s]                         "
          ]
        },
        {
          "output_type": "stream",
          "name": "stdout",
          "text": [
            "Epoch 162 of 200\n",
            "Generator loss: 1.35379231, Discriminator loss: 1.04319477\n"
          ]
        },
        {
          "output_type": "stream",
          "name": "stderr",
          "text": [
            "\n",
            "118it [00:12,  9.59it/s]                         \n"
          ]
        },
        {
          "output_type": "stream",
          "name": "stdout",
          "text": [
            "Epoch 163 of 200\n",
            "Generator loss: 1.38169360, Discriminator loss: 1.03653324\n"
          ]
        },
        {
          "output_type": "stream",
          "name": "stderr",
          "text": [
            "118it [00:12,  9.50it/s]                         "
          ]
        },
        {
          "output_type": "stream",
          "name": "stdout",
          "text": [
            "Epoch 164 of 200\n",
            "Generator loss: 1.34149408, Discriminator loss: 1.05433869\n"
          ]
        },
        {
          "output_type": "stream",
          "name": "stderr",
          "text": [
            "\n",
            "118it [00:12,  9.42it/s]                         "
          ]
        },
        {
          "output_type": "stream",
          "name": "stdout",
          "text": [
            "Epoch 165 of 200\n",
            "Generator loss: 1.34228218, Discriminator loss: 1.05055082\n"
          ]
        },
        {
          "output_type": "stream",
          "name": "stderr",
          "text": [
            "\n",
            "118it [00:15,  7.55it/s]                         "
          ]
        },
        {
          "output_type": "stream",
          "name": "stdout",
          "text": [
            "Epoch 166 of 200\n",
            "Generator loss: 1.33272290, Discriminator loss: 1.05994296\n"
          ]
        },
        {
          "output_type": "stream",
          "name": "stderr",
          "text": [
            "\n",
            "118it [00:17,  6.90it/s]                         "
          ]
        },
        {
          "output_type": "stream",
          "name": "stdout",
          "text": [
            "Epoch 167 of 200\n",
            "Generator loss: 1.33812976, Discriminator loss: 1.04538369\n"
          ]
        },
        {
          "output_type": "stream",
          "name": "stderr",
          "text": [
            "\n",
            "118it [00:15,  7.48it/s]                         "
          ]
        },
        {
          "output_type": "stream",
          "name": "stdout",
          "text": [
            "Epoch 168 of 200\n",
            "Generator loss: 1.32490301, Discriminator loss: 1.05231702\n"
          ]
        },
        {
          "output_type": "stream",
          "name": "stderr",
          "text": [
            "\n",
            "118it [00:12,  9.21it/s]                         "
          ]
        },
        {
          "output_type": "stream",
          "name": "stdout",
          "text": [
            "Epoch 169 of 200\n",
            "Generator loss: 1.35385430, Discriminator loss: 1.04548430\n"
          ]
        },
        {
          "output_type": "stream",
          "name": "stderr",
          "text": [
            "\n",
            "118it [00:13,  9.06it/s]                         \n"
          ]
        },
        {
          "output_type": "stream",
          "name": "stdout",
          "text": [
            "Epoch 170 of 200\n",
            "Generator loss: 1.36112475, Discriminator loss: 1.06138146\n"
          ]
        },
        {
          "output_type": "stream",
          "name": "stderr",
          "text": [
            "118it [00:15,  7.73it/s]                         \n"
          ]
        },
        {
          "output_type": "stream",
          "name": "stdout",
          "text": [
            "Epoch 171 of 200\n",
            "Generator loss: 1.29871178, Discriminator loss: 1.06608200\n"
          ]
        },
        {
          "output_type": "stream",
          "name": "stderr",
          "text": [
            "118it [00:16,  7.19it/s]                         "
          ]
        },
        {
          "output_type": "stream",
          "name": "stdout",
          "text": [
            "Epoch 172 of 200\n",
            "Generator loss: 1.33635771, Discriminator loss: 1.05269945\n"
          ]
        },
        {
          "output_type": "stream",
          "name": "stderr",
          "text": [
            "\n",
            "118it [00:18,  6.32it/s]"
          ]
        },
        {
          "output_type": "stream",
          "name": "stdout",
          "text": [
            "Epoch 173 of 200\n",
            "Generator loss: 1.33941936, Discriminator loss: 1.05654943\n"
          ]
        },
        {
          "output_type": "stream",
          "name": "stderr",
          "text": [
            "\n",
            "118it [00:16,  7.20it/s]                         "
          ]
        },
        {
          "output_type": "stream",
          "name": "stdout",
          "text": [
            "Epoch 174 of 200\n",
            "Generator loss: 1.40123904, Discriminator loss: 1.04588211\n"
          ]
        },
        {
          "output_type": "stream",
          "name": "stderr",
          "text": [
            "\n",
            "118it [00:12,  9.09it/s]                         "
          ]
        },
        {
          "output_type": "stream",
          "name": "stdout",
          "text": [
            "Epoch 175 of 200\n",
            "Generator loss: 1.41667688, Discriminator loss: 1.02480876\n"
          ]
        },
        {
          "output_type": "stream",
          "name": "stderr",
          "text": [
            "\n",
            "118it [00:13,  9.03it/s]                         \n"
          ]
        },
        {
          "output_type": "stream",
          "name": "stdout",
          "text": [
            "Epoch 176 of 200\n",
            "Generator loss: 1.35963595, Discriminator loss: 1.03669298\n"
          ]
        },
        {
          "output_type": "stream",
          "name": "stderr",
          "text": [
            "118it [00:15,  7.67it/s]                         "
          ]
        },
        {
          "output_type": "stream",
          "name": "stdout",
          "text": [
            "Epoch 177 of 200\n",
            "Generator loss: 1.37856293, Discriminator loss: 1.05054295\n"
          ]
        },
        {
          "output_type": "stream",
          "name": "stderr",
          "text": [
            "\n",
            "118it [00:12,  9.32it/s]                         "
          ]
        },
        {
          "output_type": "stream",
          "name": "stdout",
          "text": [
            "Epoch 178 of 200\n",
            "Generator loss: 1.39716470, Discriminator loss: 1.03593862\n"
          ]
        },
        {
          "output_type": "stream",
          "name": "stderr",
          "text": [
            "\n",
            "118it [00:13,  8.97it/s]                         "
          ]
        },
        {
          "output_type": "stream",
          "name": "stdout",
          "text": [
            "Epoch 179 of 200\n",
            "Generator loss: 1.30773270, Discriminator loss: 1.06325948\n"
          ]
        },
        {
          "output_type": "stream",
          "name": "stderr",
          "text": [
            "\n",
            "118it [00:12,  9.35it/s]                         "
          ]
        },
        {
          "output_type": "stream",
          "name": "stdout",
          "text": [
            "Epoch 180 of 200\n",
            "Generator loss: 1.34535956, Discriminator loss: 1.05375040\n"
          ]
        },
        {
          "output_type": "stream",
          "name": "stderr",
          "text": [
            "\n",
            "118it [00:12,  9.27it/s]                         "
          ]
        },
        {
          "output_type": "stream",
          "name": "stdout",
          "text": [
            "Epoch 181 of 200\n",
            "Generator loss: 1.30985451, Discriminator loss: 1.07876158\n"
          ]
        },
        {
          "output_type": "stream",
          "name": "stderr",
          "text": [
            "\n",
            "118it [00:12,  9.40it/s]                         "
          ]
        },
        {
          "output_type": "stream",
          "name": "stdout",
          "text": [
            "Epoch 182 of 200\n",
            "Generator loss: 1.31009710, Discriminator loss: 1.07835412\n"
          ]
        },
        {
          "output_type": "stream",
          "name": "stderr",
          "text": [
            "\n",
            "118it [00:12,  9.57it/s]                         "
          ]
        },
        {
          "output_type": "stream",
          "name": "stdout",
          "text": [
            "Epoch 183 of 200\n",
            "Generator loss: 1.27669632, Discriminator loss: 1.07887673\n"
          ]
        },
        {
          "output_type": "stream",
          "name": "stderr",
          "text": [
            "\n",
            "118it [00:11, 10.01it/s]                         "
          ]
        },
        {
          "output_type": "stream",
          "name": "stdout",
          "text": [
            "Epoch 184 of 200\n",
            "Generator loss: 1.36234879, Discriminator loss: 1.05396891\n"
          ]
        },
        {
          "output_type": "stream",
          "name": "stderr",
          "text": [
            "\n",
            "118it [00:12,  9.53it/s]                         "
          ]
        },
        {
          "output_type": "stream",
          "name": "stdout",
          "text": [
            "Epoch 185 of 200\n",
            "Generator loss: 1.33322155, Discriminator loss: 1.05739510\n"
          ]
        },
        {
          "output_type": "stream",
          "name": "stderr",
          "text": [
            "\n",
            "118it [00:12,  9.29it/s]                         "
          ]
        },
        {
          "output_type": "stream",
          "name": "stdout",
          "text": [
            "Epoch 186 of 200\n",
            "Generator loss: 1.29994392, Discriminator loss: 1.07604885\n"
          ]
        },
        {
          "output_type": "stream",
          "name": "stderr",
          "text": [
            "\n",
            "118it [00:13,  9.06it/s]                         "
          ]
        },
        {
          "output_type": "stream",
          "name": "stdout",
          "text": [
            "Epoch 187 of 200\n",
            "Generator loss: 1.38123965, Discriminator loss: 1.03612983\n"
          ]
        },
        {
          "output_type": "stream",
          "name": "stderr",
          "text": [
            "\n",
            "118it [00:13,  9.03it/s]                         "
          ]
        },
        {
          "output_type": "stream",
          "name": "stdout",
          "text": [
            "Epoch 188 of 200\n",
            "Generator loss: 1.32933927, Discriminator loss: 1.05103624\n"
          ]
        },
        {
          "output_type": "stream",
          "name": "stderr",
          "text": [
            "\n",
            "118it [00:12,  9.50it/s]                         "
          ]
        },
        {
          "output_type": "stream",
          "name": "stdout",
          "text": [
            "Epoch 189 of 200\n",
            "Generator loss: 1.35114503, Discriminator loss: 1.04969478\n"
          ]
        },
        {
          "output_type": "stream",
          "name": "stderr",
          "text": [
            "\n",
            "118it [00:12,  9.46it/s]                         \n"
          ]
        },
        {
          "output_type": "stream",
          "name": "stdout",
          "text": [
            "Epoch 190 of 200\n",
            "Generator loss: 1.27992475, Discriminator loss: 1.09229171\n"
          ]
        },
        {
          "output_type": "stream",
          "name": "stderr",
          "text": [
            "118it [00:13,  9.06it/s]                         "
          ]
        },
        {
          "output_type": "stream",
          "name": "stdout",
          "text": [
            "Epoch 191 of 200\n",
            "Generator loss: 1.28096616, Discriminator loss: 1.08856511\n"
          ]
        },
        {
          "output_type": "stream",
          "name": "stderr",
          "text": [
            "\n",
            "118it [00:12,  9.50it/s]                         "
          ]
        },
        {
          "output_type": "stream",
          "name": "stdout",
          "text": [
            "Epoch 192 of 200\n",
            "Generator loss: 1.29619968, Discriminator loss: 1.08562636\n"
          ]
        },
        {
          "output_type": "stream",
          "name": "stderr",
          "text": [
            "\n",
            "118it [00:12,  9.40it/s]                         \n"
          ]
        },
        {
          "output_type": "stream",
          "name": "stdout",
          "text": [
            "Epoch 193 of 200\n",
            "Generator loss: 1.24952710, Discriminator loss: 1.07806945\n"
          ]
        },
        {
          "output_type": "stream",
          "name": "stderr",
          "text": [
            "118it [00:12,  9.38it/s]                         "
          ]
        },
        {
          "output_type": "stream",
          "name": "stdout",
          "text": [
            "Epoch 194 of 200\n",
            "Generator loss: 1.29368579, Discriminator loss: 1.07524586\n"
          ]
        },
        {
          "output_type": "stream",
          "name": "stderr",
          "text": [
            "\n",
            "118it [00:12,  9.34it/s]                         "
          ]
        },
        {
          "output_type": "stream",
          "name": "stdout",
          "text": [
            "Epoch 195 of 200\n",
            "Generator loss: 1.25872052, Discriminator loss: 1.09198892\n"
          ]
        },
        {
          "output_type": "stream",
          "name": "stderr",
          "text": [
            "\n",
            "118it [00:11, 10.10it/s]                         "
          ]
        },
        {
          "output_type": "stream",
          "name": "stdout",
          "text": [
            "Epoch 196 of 200\n",
            "Generator loss: 1.27421808, Discriminator loss: 1.09104788\n"
          ]
        },
        {
          "output_type": "stream",
          "name": "stderr",
          "text": [
            "\n",
            "118it [00:12,  9.80it/s]                         "
          ]
        },
        {
          "output_type": "stream",
          "name": "stdout",
          "text": [
            "Epoch 197 of 200\n",
            "Generator loss: 1.26777434, Discriminator loss: 1.09204769\n"
          ]
        },
        {
          "output_type": "stream",
          "name": "stderr",
          "text": [
            "\n",
            "118it [00:12,  9.55it/s]                         "
          ]
        },
        {
          "output_type": "stream",
          "name": "stdout",
          "text": [
            "Epoch 198 of 200\n",
            "Generator loss: 1.21957839, Discriminator loss: 1.11829603\n"
          ]
        },
        {
          "output_type": "stream",
          "name": "stderr",
          "text": [
            "\n",
            "118it [00:12,  9.29it/s]                         "
          ]
        },
        {
          "output_type": "stream",
          "name": "stdout",
          "text": [
            "Epoch 199 of 200\n",
            "Generator loss: 1.23280931, Discriminator loss: 1.11158371\n"
          ]
        },
        {
          "output_type": "stream",
          "name": "stderr",
          "text": [
            "\n"
          ]
        }
      ]
    },
    {
      "cell_type": "markdown",
      "source": [
        "### 오차 확인"
      ],
      "metadata": {
        "id": "mLyGct3XFhJj"
      }
    },
    {
      "cell_type": "code",
      "source": [
        "plt.figure()\n",
        "losses_g = [fl.item() for fl in losses_g]\n",
        "plt.plot(losses_g, label='Generator loss')\n",
        "losses_d = [fl.item() for fl in losses_d]\n",
        "plt.plot(losses_d, label='Discriminator loss')\n",
        "plt.legend()"
      ],
      "metadata": {
        "colab": {
          "base_uri": "https://localhost:8080/",
          "height": 448
        },
        "id": "ARTDwrerNE2h",
        "outputId": "07a797e0-9e7b-4e6b-e014-351c341ffca8"
      },
      "execution_count": 12,
      "outputs": [
        {
          "output_type": "execute_result",
          "data": {
            "text/plain": [
              "<matplotlib.legend.Legend at 0x7c8d98a40910>"
            ]
          },
          "metadata": {},
          "execution_count": 12
        },
        {
          "output_type": "display_data",
          "data": {
            "text/plain": [
              "<Figure size 640x480 with 1 Axes>"
            ],
            "image/png": "[encoded data removed]"
          },
          "metadata": {}
        }
      ]
    },
    {
      "cell_type": "markdown",
      "source": [
        "### 생성된 이미지 출력"
      ],
      "metadata": {
        "id": "V7gu2v2ZCzMo"
      }
    },
    {
      "cell_type": "code",
      "source": [
        "fake_images = generator(torch.randn(b_size, nz).to(device))\n",
        "import numpy as np\n",
        "for i in range(10):\n",
        "  fake_images_img = np.reshape(fake_images.data.cpu().numpy()[i],(28,28))\n",
        "  plt.imshow(fake_images_img, cmap='gray')\n",
        "  plt.savefig('/content/drive/MyDrive/Euron-Data/chap13/img/fake_images_img'+str(i)+'.png')\n",
        "  plt.show()"
      ],
      "metadata": {
        "colab": {
          "base_uri": "https://localhost:8080/",
          "height": 1000
        },
        "id": "qGkapf0mNWfR",
        "outputId": "09254dbb-ee5a-4d01-dfc1-10f24087e7f7"
      },
      "execution_count": 15,
      "outputs": [
        {
          "output_type": "display_data",
          "data": {
            "text/plain": [
              "<Figure size 640x480 with 1 Axes>"
            ],
            "image/png": "[encoded data removed]"
          },
          "metadata": {}
        },
        {
          "output_type": "display_data",
          "data": {
            "text/plain": [
              "<Figure size 640x480 with 1 Axes>"
            ],
            "image/png": "[encoded data removed]"
          },
          "metadata": {}
        },
        {
          "output_type": "display_data",
          "data": {
            "text/plain": [
              "<Figure size 640x480 with 1 Axes>"
            ],
            "image/png": "[encoded data removed]"
          },
          "metadata": {}
        },
        {
          "output_type": "display_data",
          "data": {
            "text/plain": [
              "<Figure size 640x480 with 1 Axes>"
            ],
            "image/png": "[encoded data removed]"
          },
          "metadata": {}
        },
        {
          "output_type": "display_data",
          "data": {
            "text/plain": [
              "<Figure size 640x480 with 1 Axes>"
            ],
            "image/png": "[encoded data removed]"
          },
          "metadata": {}
        },
        {
          "output_type": "display_data",
          "data": {
            "text/plain": [
              "<Figure size 640x480 with 1 Axes>"
            ],
            "image/png": "[encoded data removed]"
          },
          "metadata": {}
        },
        {
          "output_type": "display_data",
          "data": {
            "text/plain": [
              "<Figure size 640x480 with 1 Axes>"
            ],
            "image/png": "[encoded data removed]"
          },
          "metadata": {}
        },
        {
          "output_type": "display_data",
          "data": {
            "text/plain": [
              "<Figure size 640x480 with 1 Axes>"
            ],
            "image/png": "[encoded data removed]"
          },
          "metadata": {}
        },
        {
          "output_type": "display_data",
          "data": {
            "text/plain": [
              "<Figure size 640x480 with 1 Axes>"
            ],
            "image/png": "[encoded data removed]"
          },
          "metadata": {}
        },
        {
          "output_type": "display_data",
          "data": {
            "text/plain": [
              "<Figure size 640x480 with 1 Axes>"
            ],
            "image/png": "[encoded data removed]"
          },
          "metadata": {}
        }
      ]
    }
  ]
}