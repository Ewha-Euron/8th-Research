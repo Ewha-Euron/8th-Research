{
  "cells": [
    {
      "cell_type": "markdown",
      "source": [
        "### 13장. 생성 모델\n",
        "#### GAN 구현\n",
        "- MNIST 데이터셋 사용하여 파이토치로 구현"
      ],
      "metadata": {
        "id": "tjseiiM3btB3"
      }
    },
    {
      "cell_type": "code",
      "source": [
        "from google.colab import files # 데이터 불러오기\n",
        "file_uploaded=files.upload()   # chap13/data.zip 데이터 불러오기"
      ],
      "metadata": {
        "colab": {
          "base_uri": "https://localhost:8080/",
          "height": 76
        },
        "id": "bwGWIjiDBLOu",
        "outputId": "9aeef7a4-206f-4411-edec-ccde9d212d1e"
      },
      "execution_count": null,
      "outputs": [
        {
          "output_type": "display_data",
          "data": {
            "text/plain": [
              "<IPython.core.display.HTML object>"
            ],
            "text/html": [
              "\n",
              "     <input type=\"file\" id=\"files-e7e4ce08-180f-4059-8ae7-aa5bccb3b010\" name=\"files[]\" multiple disabled\n",
              "        style=\"border:none\" />\n",
              "     <output id=\"result-e7e4ce08-180f-4059-8ae7-aa5bccb3b010\">\n",
              "      Upload widget is only available when the cell has been executed in the\n",
              "      current browser session. Please rerun this cell to enable.\n",
              "      </output>\n",
              "      <script>// Copyright 2017 Google LLC\n",
              "//\n",
              "// Licensed under the Apache License, Version 2.0 (the \"License\");\n",
              "// you may not use this file except in compliance with the License.\n",
              "// You may obtain a copy of the License at\n",
              "//\n",
              "//      http://www.apache.org/licenses/LICENSE-2.0\n",
              "//\n",
              "// Unless required by applicable law or agreed to in writing, software\n",
              "// distributed under the License is distributed on an \"AS IS\" BASIS,\n",
              "// WITHOUT WARRANTIES OR CONDITIONS OF ANY KIND, either express or implied.\n",
              "// See the License for the specific language governing permissions and\n",
              "// limitations under the License.\n",
              "\n",
              "/**\n",
              " * @fileoverview Helpers for google.colab Python module.\n",
              " */\n",
              "(function(scope) {\n",
              "function span(text, styleAttributes = {}) {\n",
              "  const element = document.createElement('span');\n",
              "  element.textContent = text;\n",
              "  for (const key of Object.keys(styleAttributes)) {\n",
              "    element.style[key] = styleAttributes[key];\n",
              "  }\n",
              "  return element;\n",
              "}\n",
              "\n",
              "// Max number of bytes which will be uploaded at a time.\n",
              "const MAX_PAYLOAD_SIZE = 100 * 1024;\n",
              "\n",
              "function _uploadFiles(inputId, outputId) {\n",
              "  const steps = uploadFilesStep(inputId, outputId);\n",
              "  const outputElement = document.getElementById(outputId);\n",
              "  // Cache steps on the outputElement to make it available for the next call\n",
              "  // to uploadFilesContinue from Python.\n",
              "  outputElement.steps = steps;\n",
              "\n",
              "  return _uploadFilesContinue(outputId);\n",
              "}\n",
              "\n",
              "// This is roughly an async generator (not supported in the browser yet),\n",
              "// where there are multiple asynchronous steps and the Python side is going\n",
              "// to poll for completion of each step.\n",
              "// This uses a Promise to block the python side on completion of each step,\n",
              "// then passes the result of the previous step as the input to the next step.\n",
              "function _uploadFilesContinue(outputId) {\n",
              "  const outputElement = document.getElementById(outputId);\n",
              "  const steps = outputElement.steps;\n",
              "\n",
              "  const next = steps.next(outputElement.lastPromiseValue);\n",
              "  return Promise.resolve(next.value.promise).then((value) => {\n",
              "    // Cache the last promise value to make it available to the next\n",
              "    // step of the generator.\n",
              "    outputElement.lastPromiseValue = value;\n",
              "    return next.value.response;\n",
              "  });\n",
              "}\n",
              "\n",
              "/**\n",
              " * Generator function which is called between each async step of the upload\n",
              " * process.\n",
              " * @param {string} inputId Element ID of the input file picker element.\n",
              " * @param {string} outputId Element ID of the output display.\n",
              " * @return {!Iterable<!Object>} Iterable of next steps.\n",
              " */\n",
              "function* uploadFilesStep(inputId, outputId) {\n",
              "  const inputElement = document.getElementById(inputId);\n",
              "  inputElement.disabled = false;\n",
              "\n",
              "  const outputElement = document.getElementById(outputId);\n",
              "  outputElement.innerHTML = '';\n",
              "\n",
              "  const pickedPromise = new Promise((resolve) => {\n",
              "    inputElement.addEventListener('change', (e) => {\n",
              "      resolve(e.target.files);\n",
              "    });\n",
              "  });\n",
              "\n",
              "  const cancel = document.createElement('button');\n",
              "  inputElement.parentElement.appendChild(cancel);\n",
              "  cancel.textContent = 'Cancel upload';\n",
              "  const cancelPromise = new Promise((resolve) => {\n",
              "    cancel.onclick = () => {\n",
              "      resolve(null);\n",
              "    };\n",
              "  });\n",
              "\n",
              "  // Wait for the user to pick the files.\n",
              "  const files = yield {\n",
              "    promise: Promise.race([pickedPromise, cancelPromise]),\n",
              "    response: {\n",
              "      action: 'starting',\n",
              "    }\n",
              "  };\n",
              "\n",
              "  cancel.remove();\n",
              "\n",
              "  // Disable the input element since further picks are not allowed.\n",
              "  inputElement.disabled = true;\n",
              "\n",
              "  if (!files) {\n",
              "    return {\n",
              "      response: {\n",
              "        action: 'complete',\n",
              "      }\n",
              "    };\n",
              "  }\n",
              "\n",
              "  for (const file of files) {\n",
              "    const li = document.createElement('li');\n",
              "    li.append(span(file.name, {fontWeight: 'bold'}));\n",
              "    li.append(span(\n",
              "        `(${file.type || 'n/a'}) - ${file.size} bytes, ` +\n",
              "        `last modified: ${\n",
              "            file.lastModifiedDate ? file.lastModifiedDate.toLocaleDateString() :\n",
              "                                    'n/a'} - `));\n",
              "    const percent = span('0% done');\n",
              "    li.appendChild(percent);\n",
              "\n",
              "    outputElement.appendChild(li);\n",
              "\n",
              "    const fileDataPromise = new Promise((resolve) => {\n",
              "      const reader = new FileReader();\n",
              "      reader.onload = (e) => {\n",
              "        resolve(e.target.result);\n",
              "      };\n",
              "      reader.readAsArrayBuffer(file);\n",
              "    });\n",
              "    // Wait for the data to be ready.\n",
              "    let fileData = yield {\n",
              "      promise: fileDataPromise,\n",
              "      response: {\n",
              "        action: 'continue',\n",
              "      }\n",
              "    };\n",
              "\n",
              "    // Use a chunked sending to avoid message size limits. See b/62115660.\n",
              "    let position = 0;\n",
              "    do {\n",
              "      const length = Math.min(fileData.byteLength - position, MAX_PAYLOAD_SIZE);\n",
              "      const chunk = new Uint8Array(fileData, position, length);\n",
              "      position += length;\n",
              "\n",
              "      const base64 = btoa(String.fromCharCode.apply(null, chunk));\n",
              "      yield {\n",
              "        response: {\n",
              "          action: 'append',\n",
              "          file: file.name,\n",
              "          data: base64,\n",
              "        },\n",
              "      };\n",
              "\n",
              "      let percentDone = fileData.byteLength === 0 ?\n",
              "          100 :\n",
              "          Math.round((position / fileData.byteLength) * 100);\n",
              "      percent.textContent = `${percentDone}% done`;\n",
              "\n",
              "    } while (position < fileData.byteLength);\n",
              "  }\n",
              "\n",
              "  // All done.\n",
              "  yield {\n",
              "    response: {\n",
              "      action: 'complete',\n",
              "    }\n",
              "  };\n",
              "}\n",
              "\n",
              "scope.google = scope.google || {};\n",
              "scope.google.colab = scope.google.colab || {};\n",
              "scope.google.colab._files = {\n",
              "  _uploadFiles,\n",
              "  _uploadFilesContinue,\n",
              "};\n",
              "})(self);\n",
              "</script> "
            ]
          },
          "metadata": {}
        },
        {
          "output_type": "stream",
          "name": "stdout",
          "text": [
            "Saving data.zip to data.zip\n"
          ]
        }
      ]
    },
    {
      "cell_type": "code",
      "source": [
        "!unzip data.zip -d data/  # data 폴더 만들어 압축 풀기"
      ],
      "metadata": {
        "colab": {
          "base_uri": "https://localhost:8080/"
        },
        "id": "Sg4tA2BPBe_h",
        "outputId": "4ff7cb9a-a92e-4d6c-c889-d1296e3694c4"
      },
      "execution_count": null,
      "outputs": [
        {
          "output_type": "stream",
          "name": "stdout",
          "text": [
            "Archive:  data.zip\n",
            "   creating: data/MNIST/\n",
            "   creating: data/MNIST/processed/\n",
            "  inflating: data/MNIST/processed/test.pt  \n",
            "  inflating: data/MNIST/processed/training.pt  \n",
            "   creating: data/MNIST/raw/\n",
            "  inflating: data/MNIST/raw/t10k-images-idx3-ubyte  \n",
            "  inflating: data/MNIST/raw/t10k-images-idx3-ubyte.gz  \n",
            "  inflating: data/MNIST/raw/t10k-labels-idx1-ubyte  \n",
            "  inflating: data/MNIST/raw/t10k-labels-idx1-ubyte.gz  \n",
            "  inflating: data/MNIST/raw/train-images-idx3-ubyte  \n",
            "  inflating: data/MNIST/raw/train-images-idx3-ubyte.gz  \n",
            "  inflating: data/MNIST/raw/train-labels-idx1-ubyte  \n",
            "  inflating: data/MNIST/raw/train-labels-idx1-ubyte.gz  \n"
          ]
        }
      ]
    },
    {
      "cell_type": "code",
      "source": [
        "# 라이브러리 호출\n",
        "import imageio  # 이미지 데이터를 읽고 쓸 수 있는 쉬운 인터페이스 제공하는 라이브러리\n",
        "from tqdm import tqdm\n",
        "\n",
        "import torch\n",
        "import torch.nn as nn\n",
        "import torch.optim as optim\n",
        "from torch.utils.data import DataLoader, Dataset\n",
        "import matplotlib.pylab as plt\n",
        "import matplotlib\n",
        "\n",
        "from torchvision.utils import make_grid, save_image\n",
        "import torchvision.datasets as datasets\n",
        "import torchvision.transforms as transforms\n",
        "matplotlib.style.use('ggplot')  # stylesheet 변경하여 사용 - 'ggplot' : 격자무늬 백그라운드 삽입\n",
        "device = torch.device('cuda' if torch.cuda.is_available() else 'cpu')"
      ],
      "metadata": {
        "id": "qzOjXCA1bthI"
      },
      "execution_count": null,
      "outputs": []
    },
    {
      "cell_type": "code",
      "source": [
        "# 변수 값 설정\n",
        "batch_size = 512\n",
        "epochs = 200\n",
        "sample_size = 64  # 노이즈 벡터 사용하여 가짜 이미지 생성\n",
        "nz = 128  # 잠재 벡터 크기\n",
        "k = 1 # 판별자에 적용할 스텝 수"
      ],
      "metadata": {
        "id": "qN4l5exD9c6Q"
      },
      "execution_count": null,
      "outputs": []
    },
    {
      "cell_type": "markdown",
      "source": [
        "- `sample_size` : 생성자에 제공할 고정 크기의 노이즈 벡터에 대한 크기.\n",
        "- `nz` : 잠재 벡터의 크기, 이는 생성자의 입력 크기와 동일해야 함.\n",
        "- `k` : 판별자에 적용할 스텝 수, 1로 지정한 이유는 훈련 비용 최소화하기 위함.\n",
        "\n"
      ],
      "metadata": {
        "id": "DA-IwcCk-O7f"
      }
    },
    {
      "cell_type": "code",
      "source": [
        "# MNIST 내려받은 후 정규화\n",
        "transform = transforms.Compose([\n",
        "                                transforms.ToTensor(), # 이미지 텐서로 변환\n",
        "                                transforms.Normalize((0.5,),(0.5,)),\n",
        "                                # 이미지를 평균 0.5, 표준편차 0.5 되도록 정규화\n",
        "])\n",
        "\n",
        "train_dataset = datasets.MNIST(\n",
        "    root='./data', train=True, download=True, transform=transform)\n",
        "train_loader = DataLoader(\n",
        "    train_dataset, batch_size=batch_size, shuffle=True, num_workers=4)"
      ],
      "metadata": {
        "colab": {
          "base_uri": "https://localhost:8080/"
        },
        "id": "ALL1WHWw_PwA",
        "outputId": "7a449a40-06d3-4062-e7f7-51135f43fce8"
      },
      "execution_count": null,
      "outputs": [
        {
          "output_type": "stream",
          "name": "stderr",
          "text": [
            "/usr/local/lib/python3.11/dist-packages/torch/utils/data/dataloader.py:624: UserWarning: This DataLoader will create 4 worker processes in total. Our suggested max number of worker in current system is 2, which is smaller than what this DataLoader is going to create. Please be aware that excessive worker creation might get DataLoader running slow or even freeze, lower the worker number to avoid potential slowness/freeze if necessary.\n",
            "  warnings.warn(\n"
          ]
        }
      ]
    },
    {
      "cell_type": "code",
      "source": [
        "# 생성자 네트워크 생성\n",
        "class Generator(nn.Module):\n",
        "    def __init__(self, nz):\n",
        "        super(Generator, self).__init__()\n",
        "        self.nz = nz\n",
        "        self.main = nn.Sequential(\n",
        "            nn.Linear(self.nz, 256),\n",
        "            nn.LeakyReLU(0.2),\n",
        "            nn.Linear(256, 512),\n",
        "            nn.LeakyReLU(0.2),\n",
        "            nn.Linear(512, 1024),\n",
        "            nn.LeakyReLU(0.2),\n",
        "            nn.Linear(1024, 784),\n",
        "            nn.Tanh(),\n",
        "        )\n",
        "    def forward(self, x):\n",
        "        return self.main(x).view(-1, 1, 28, 28)\n",
        "        # 생성자 네트워크의 반환값은 '배치 크기x1x28x28'이 됨."
      ],
      "metadata": {
        "id": "ZuruTnIH_ccj"
      },
      "execution_count": null,
      "outputs": []
    },
    {
      "cell_type": "code",
      "source": [
        "# 판별자 네트워크 생성\n",
        "class Discriminator(nn.Module):\n",
        "    def __init__(self):\n",
        "        super(Discriminator, self).__init__()\n",
        "        self.n_input = 784  # 판별자의 입력 크기\n",
        "        self.main = nn.Sequential(\n",
        "            # 판별자 역시 선형 계층과 리키렐루 활성화 함수로 구성\n",
        "            nn.Linear(self.n_input, 1024),\n",
        "            nn.LeakyReLU(0.2),\n",
        "            nn.Dropout(0.3),\n",
        "            nn.Linear(1024, 512),\n",
        "            nn.LeakyReLU(0.2),\n",
        "            nn.Dropout(0.3),\n",
        "            nn.Linear(512, 256),\n",
        "            nn.LeakyReLU(0.2),\n",
        "            nn.Dropout(0.3),\n",
        "            nn.Linear(256, 1),\n",
        "            nn.Sigmoid(),\n",
        "        )\n",
        "\n",
        "    def forward(self, x):\n",
        "        x = x.view(-1, 784)\n",
        "        return self.main(x)   # 이미지가 진짜인지 가짜인지 분류하는 값 반환"
      ],
      "metadata": {
        "id": "AaStsioADlv8"
      },
      "execution_count": null,
      "outputs": []
    },
    {
      "cell_type": "code",
      "source": [
        "# 생성자와 판별자 네크워크 초기화\n",
        "# 생성자는 잠재 벡터 nz라는 변수를 파라미터로 전달해야 함.\n",
        "generator = Generator(nz).to(device)\n",
        "discriminator = Discriminator().to(device)\n",
        "print(generator)\n",
        "print(discriminator)"
      ],
      "metadata": {
        "id": "_MOAaorZEtxG",
        "colab": {
          "base_uri": "https://localhost:8080/"
        },
        "outputId": "9551a4b8-7020-4cc3-f702-3a41ca565645"
      },
      "execution_count": null,
      "outputs": [
        {
          "output_type": "stream",
          "name": "stdout",
          "text": [
            "Generator(\n",
            "  (main): Sequential(\n",
            "    (0): Linear(in_features=128, out_features=256, bias=True)\n",
            "    (1): LeakyReLU(negative_slope=0.2)\n",
            "    (2): Linear(in_features=256, out_features=512, bias=True)\n",
            "    (3): LeakyReLU(negative_slope=0.2)\n",
            "    (4): Linear(in_features=512, out_features=1024, bias=True)\n",
            "    (5): LeakyReLU(negative_slope=0.2)\n",
            "    (6): Linear(in_features=1024, out_features=784, bias=True)\n",
            "    (7): Tanh()\n",
            "  )\n",
            ")\n",
            "Discriminator(\n",
            "  (main): Sequential(\n",
            "    (0): Linear(in_features=784, out_features=1024, bias=True)\n",
            "    (1): LeakyReLU(negative_slope=0.2)\n",
            "    (2): Dropout(p=0.3, inplace=False)\n",
            "    (3): Linear(in_features=1024, out_features=512, bias=True)\n",
            "    (4): LeakyReLU(negative_slope=0.2)\n",
            "    (5): Dropout(p=0.3, inplace=False)\n",
            "    (6): Linear(in_features=512, out_features=256, bias=True)\n",
            "    (7): LeakyReLU(negative_slope=0.2)\n",
            "    (8): Dropout(p=0.3, inplace=False)\n",
            "    (9): Linear(in_features=256, out_features=1, bias=True)\n",
            "    (10): Sigmoid()\n",
            "  )\n",
            ")\n"
          ]
        }
      ]
    },
    {
      "cell_type": "code",
      "source": [
        "# 옵티마이저와 손실 함수 정의\n",
        "optim_g = optim.Adam(generator.parameters(), lr = 0.0002)\n",
        "optim_d = optim.Adam(discriminator.parameters(), lr = 0.0002)\n",
        "\n",
        "criterion = nn.BCELoss()\n",
        "\n",
        "losses_g = []  # 매 에포크마다 발생하는 생성자 오차 저장하기 위한 리스트형 변수\n",
        "losses_d = []  # 매 에포크마다 발생하는 판별자 오차 저장하기 위한 리스트형 변수\n",
        "images = []  # 생성자에 의해 생성되는 이미지 저장하기 위한 리스트형 변수"
      ],
      "metadata": {
        "id": "dcpPz6oMXFsi"
      },
      "execution_count": null,
      "outputs": []
    },
    {
      "cell_type": "code",
      "source": [
        "# 생성된 이미지 저장 함수 정의\n",
        "# 이미지가 생성되는 과정을 이해할 수 있도록 시각화하여 보여 줌.\n",
        "def save_generator_image(image, path):\n",
        "    save_image(image, path)"
      ],
      "metadata": {
        "id": "j0DFA7upYyNn"
      },
      "execution_count": null,
      "outputs": []
    },
    {
      "cell_type": "code",
      "source": [
        "# 판별자 학습을 위한 함수\n",
        "def train_discriminator(optimizer, data_real, data_fake):\n",
        "    b_size = data_real.size(0)  # 배치 크기 정보 얻기\n",
        "    real_label = torch.ones(b_size, 1).to(device)\n",
        "    fake_label = torch.zeros(b_size, 1).to(device)\n",
        "    optimizer.zero_grad()\n",
        "    output_real = discriminator(data_real)\n",
        "    loss_real = criterion(output_real, real_label)\n",
        "    # 진짜 데이터를 판별자에 제공하여 학습한 결과와 진짜 데이터의 레이블 이용하여 오차 계산\n",
        "    output_fake = discriminator(data_fake)\n",
        "    loss_fake = criterion(output_fake, fake_label)\n",
        "    # 가짜 데이터를 판별자에 제공하여 학습한 결과와 가짜 데이터의 레이블 이용하여 오차 계산\n",
        "    loss_real.backward()\n",
        "    loss_fake.backward()\n",
        "    optimizer.step()\n",
        "    return loss_real + loss_fake\n",
        "    # 진짜 데이터와 가짜 데이터의 오차 합쳐진 최종 오차 반환"
      ],
      "metadata": {
        "id": "m4I_tH6MY7M0"
      },
      "execution_count": null,
      "outputs": []
    },
    {
      "cell_type": "markdown",
      "source": [
        "- `real_label`, `fake_label` : 모델 훈련을 위해 진짜 이미지와 생성자에서 생성한 가짜 이미지가 필요. 또한 레이블 정보도 필요한데, 레이블 정보는 텐서 형태를 가져야 하며 배치 크기와도 동일해야 함. 각각 진짜 데이터, 가짜 데이터에 대한 레이블 생성.\n",
        "- `torch.ones(b_size, 1)` : 1 값을 가진 (b_size x 1) 크기의 텐서를 생성."
      ],
      "metadata": {
        "id": "UVb2NGTLb0B1"
      }
    },
    {
      "cell_type": "code",
      "source": [
        "# 생성자 학습을 위한 함수\n",
        "def train_generator(optimizer, data_fake):\n",
        "    b_size = data_fake.size(0)\n",
        "    real_label = torch.ones(b_size, 1).to(device)\n",
        "    optimizer.zero_grad()\n",
        "    output = discriminator(data_fake)\n",
        "    loss = criterion(output, real_label)\n",
        "    loss.backward()\n",
        "    optimizer.step()\n",
        "    return loss"
      ],
      "metadata": {
        "id": "ksZm_NrNbzSC"
      },
      "execution_count": null,
      "outputs": []
    },
    {
      "cell_type": "code",
      "source": [
        "!mkdir img #img 폴더 만들기"
      ],
      "metadata": {
        "colab": {
          "base_uri": "https://localhost:8080/"
        },
        "id": "Z0ar6fVihAUE",
        "outputId": "2cf58503-0190-48e6-b871-b54df8ae7c90"
      },
      "execution_count": null,
      "outputs": [
        {
          "output_type": "stream",
          "name": "stdout",
          "text": [
            "mkdir: cannot create directory ‘img’: File exists\n"
          ]
        }
      ]
    },
    {
      "cell_type": "markdown",
      "source": [
        "- `real_label = torch.ones(b_size, 1).to(device)` : 생성자 네트워크에서는 가짜 데이터만 사용하고 있는데, 생성자 입장에서는 가짜 데이터가 실제로 진짜라는 것에 주의."
      ],
      "metadata": {
        "id": "ebD34Wp7cZ2P"
      }
    },
    {
      "cell_type": "code",
      "source": [
        "# 모델 학습\n",
        "generator.train()  # 생성자를 학습 모드로 설정\n",
        "discriminator.train()  # 판별자를 학습 모드로 설정\n",
        "\n",
        "for epoch in range(epochs):\n",
        "    loss_g = 0.0  # 생성자 오차를 추적(저장)하기 위한 변수\n",
        "    loss_d = 0.0  # 판별자 오차를 추적(저장)하기 위한 변수\n",
        "    for idx, data in tqdm(enumerate(train_loader),\n",
        "                          total=int(len(train_dataset)/train_loader.batch_size)):\n",
        "        image, _ = data  # 학습을 위한 이미지 데이터 가져옴.\n",
        "        image = image.to(device)  # 데이터셋이 CPU/GPU 장치 사용하도록 지정\n",
        "        b_size = len(image)\n",
        "        for step in range(k):\n",
        "        # k(1) 스텝 수에 따라 판별자 실행, 이때 k 수를 증가시킬 수 있지만 학습 시간 길어질 수 있음.\n",
        "            data_fake = generator(torch.randn(b_size, nz).to(device)).detach()\n",
        "            data_real = image\n",
        "            loss_d += train_discriminator(optim_d, data_real, data_fake)\n",
        "        data_fake = generator(torch.randn(b_size, nz).to(device))\n",
        "        loss_g += train_generator(optim_g, data_fake)  # 생성자 학습\n",
        "    generated_img = generator(torch.randn(b_size, nz).to(device)).cpu().detach()\n",
        "    # 생성자 이용하여 새로운 이미지 생성하고 CPU 장치 이용하여 디스크에 저장\n",
        "    generated_img = make_grid(generated_img)  # 이미지를 그리드 형태로 표현\n",
        "    save_generator_image(generated_img, \"./img/gen_img{epoch}.png\")\n",
        "    # 생성된 이미지(텐서) 디스크에 저장\n",
        "    images.append(generated_img)\n",
        "    epoch_loss_g = loss_g / idx  # 에포크에 대한 총 생성자 오차 계산\n",
        "    epoch_loss_d = loss_d / idx    # 에포크에 대한 총 판별자 오차 계산\n",
        "    losses_g.append(loss_g)\n",
        "    losses_d.append(loss_d)\n",
        "\n",
        "    print(f\"Epoch {epoch} of {epochs}\")\n",
        "    print(f\"Generator loss: {epoch_loss_g:.8f}, Discriminator loss: {epoch_loss_d:.8f}\")"
      ],
      "metadata": {
        "colab": {
          "base_uri": "https://localhost:8080/"
        },
        "id": "HP_FKIm3cngM",
        "outputId": "45d19622-7bbd-4218-9390-f7066b604132"
      },
      "execution_count": null,
      "outputs": [
        {
          "output_type": "stream",
          "name": "stderr",
          "text": [
            "/usr/local/lib/python3.11/dist-packages/torch/utils/data/dataloader.py:624: UserWarning: This DataLoader will create 4 worker processes in total. Our suggested max number of worker in current system is 2, which is smaller than what this DataLoader is going to create. Please be aware that excessive worker creation might get DataLoader running slow or even freeze, lower the worker number to avoid potential slowness/freeze if necessary.\n",
            "  warnings.warn(\n",
            "118it [00:12,  9.77it/s]                         \n"
          ]
        },
        {
          "output_type": "stream",
          "name": "stdout",
          "text": [
            "Epoch 0 of 200\n",
            "Generator loss: 1.33967149, Discriminator loss: 0.88638353\n"
          ]
        },
        {
          "output_type": "stream",
          "name": "stderr",
          "text": [
            "118it [00:12,  9.63it/s]                         \n"
          ]
        },
        {
          "output_type": "stream",
          "name": "stdout",
          "text": [
            "Epoch 1 of 200\n",
            "Generator loss: 2.09944582, Discriminator loss: 1.40294945\n"
          ]
        },
        {
          "output_type": "stream",
          "name": "stderr",
          "text": [
            "118it [00:12,  9.37it/s]                         "
          ]
        },
        {
          "output_type": "stream",
          "name": "stdout",
          "text": [
            "Epoch 2 of 200\n",
            "Generator loss: 5.03607798, Discriminator loss: 0.45133102\n"
          ]
        },
        {
          "output_type": "stream",
          "name": "stderr",
          "text": [
            "\n",
            "118it [00:12,  9.52it/s]                         "
          ]
        },
        {
          "output_type": "stream",
          "name": "stdout",
          "text": [
            "Epoch 3 of 200\n",
            "Generator loss: 2.02879214, Discriminator loss: 1.00099814\n"
          ]
        },
        {
          "output_type": "stream",
          "name": "stderr",
          "text": [
            "\n",
            "118it [00:12,  9.30it/s]                         "
          ]
        },
        {
          "output_type": "stream",
          "name": "stdout",
          "text": [
            "Epoch 4 of 200\n",
            "Generator loss: 1.32876909, Discriminator loss: 1.23041654\n"
          ]
        },
        {
          "output_type": "stream",
          "name": "stderr",
          "text": [
            "\n",
            "118it [00:12,  9.62it/s]                         "
          ]
        },
        {
          "output_type": "stream",
          "name": "stdout",
          "text": [
            "Epoch 5 of 200\n",
            "Generator loss: 1.55025291, Discriminator loss: 1.17396092\n"
          ]
        },
        {
          "output_type": "stream",
          "name": "stderr",
          "text": [
            "\n",
            "118it [00:12,  9.31it/s]                         "
          ]
        },
        {
          "output_type": "stream",
          "name": "stdout",
          "text": [
            "Epoch 6 of 200\n",
            "Generator loss: 1.64928949, Discriminator loss: 1.27658439\n"
          ]
        },
        {
          "output_type": "stream",
          "name": "stderr",
          "text": [
            "\n",
            "118it [00:12,  9.22it/s]                         \n"
          ]
        },
        {
          "output_type": "stream",
          "name": "stdout",
          "text": [
            "Epoch 7 of 200\n",
            "Generator loss: 1.32605183, Discriminator loss: 1.01079011\n"
          ]
        },
        {
          "output_type": "stream",
          "name": "stderr",
          "text": [
            "118it [00:11,  9.86it/s]                         "
          ]
        },
        {
          "output_type": "stream",
          "name": "stdout",
          "text": [
            "Epoch 8 of 200\n",
            "Generator loss: 1.16500235, Discriminator loss: 1.20365727\n"
          ]
        },
        {
          "output_type": "stream",
          "name": "stderr",
          "text": [
            "\n",
            "118it [00:12,  9.56it/s]                         "
          ]
        },
        {
          "output_type": "stream",
          "name": "stdout",
          "text": [
            "Epoch 9 of 200\n",
            "Generator loss: 0.98714280, Discriminator loss: 1.34477985\n"
          ]
        },
        {
          "output_type": "stream",
          "name": "stderr",
          "text": [
            "\n",
            "118it [00:12,  9.61it/s]                         "
          ]
        },
        {
          "output_type": "stream",
          "name": "stdout",
          "text": [
            "Epoch 10 of 200\n",
            "Generator loss: 0.82862312, Discriminator loss: 1.22879279\n"
          ]
        },
        {
          "output_type": "stream",
          "name": "stderr",
          "text": [
            "\n",
            "118it [00:12,  9.33it/s]                         \n"
          ]
        },
        {
          "output_type": "stream",
          "name": "stdout",
          "text": [
            "Epoch 11 of 200\n",
            "Generator loss: 1.63170636, Discriminator loss: 0.94414908\n"
          ]
        },
        {
          "output_type": "stream",
          "name": "stderr",
          "text": [
            "118it [00:12,  9.37it/s]                         "
          ]
        },
        {
          "output_type": "stream",
          "name": "stdout",
          "text": [
            "Epoch 12 of 200\n",
            "Generator loss: 2.31384230, Discriminator loss: 0.98376673\n"
          ]
        },
        {
          "output_type": "stream",
          "name": "stderr",
          "text": [
            "\n",
            "118it [00:11,  9.84it/s]                         "
          ]
        },
        {
          "output_type": "stream",
          "name": "stdout",
          "text": [
            "Epoch 13 of 200\n",
            "Generator loss: 1.91076005, Discriminator loss: 1.03501475\n"
          ]
        },
        {
          "output_type": "stream",
          "name": "stderr",
          "text": [
            "\n",
            "118it [00:11,  9.89it/s]                         "
          ]
        },
        {
          "output_type": "stream",
          "name": "stdout",
          "text": [
            "Epoch 14 of 200\n",
            "Generator loss: 1.89640617, Discriminator loss: 0.85692000\n"
          ]
        },
        {
          "output_type": "stream",
          "name": "stderr",
          "text": [
            "\n",
            "118it [00:11, 10.09it/s]                         "
          ]
        },
        {
          "output_type": "stream",
          "name": "stdout",
          "text": [
            "Epoch 15 of 200\n",
            "Generator loss: 2.04948854, Discriminator loss: 0.94533885\n"
          ]
        },
        {
          "output_type": "stream",
          "name": "stderr",
          "text": [
            "\n",
            "118it [00:11, 10.05it/s]                         "
          ]
        },
        {
          "output_type": "stream",
          "name": "stdout",
          "text": [
            "Epoch 16 of 200\n",
            "Generator loss: 2.21280646, Discriminator loss: 0.81087017\n"
          ]
        },
        {
          "output_type": "stream",
          "name": "stderr",
          "text": [
            "\n",
            "118it [00:11, 10.13it/s]                         "
          ]
        },
        {
          "output_type": "stream",
          "name": "stdout",
          "text": [
            "Epoch 17 of 200\n",
            "Generator loss: 2.02859497, Discriminator loss: 0.81868547\n"
          ]
        },
        {
          "output_type": "stream",
          "name": "stderr",
          "text": [
            "\n",
            "118it [00:12,  9.20it/s]                         "
          ]
        },
        {
          "output_type": "stream",
          "name": "stdout",
          "text": [
            "Epoch 18 of 200\n",
            "Generator loss: 1.89782727, Discriminator loss: 0.81108820\n"
          ]
        },
        {
          "output_type": "stream",
          "name": "stderr",
          "text": [
            "\n",
            "118it [00:12,  9.54it/s]                         \n"
          ]
        },
        {
          "output_type": "stream",
          "name": "stdout",
          "text": [
            "Epoch 19 of 200\n",
            "Generator loss: 2.05191135, Discriminator loss: 0.83466089\n"
          ]
        },
        {
          "output_type": "stream",
          "name": "stderr",
          "text": [
            "118it [00:10, 10.75it/s]                         "
          ]
        },
        {
          "output_type": "stream",
          "name": "stdout",
          "text": [
            "Epoch 20 of 200\n",
            "Generator loss: 1.56621397, Discriminator loss: 0.91826040\n"
          ]
        },
        {
          "output_type": "stream",
          "name": "stderr",
          "text": [
            "\n",
            "118it [00:11, 10.34it/s]                         "
          ]
        },
        {
          "output_type": "stream",
          "name": "stdout",
          "text": [
            "Epoch 21 of 200\n",
            "Generator loss: 2.45576048, Discriminator loss: 0.67792284\n"
          ]
        },
        {
          "output_type": "stream",
          "name": "stderr",
          "text": [
            "\n",
            "118it [00:11, 10.30it/s]                         "
          ]
        },
        {
          "output_type": "stream",
          "name": "stdout",
          "text": [
            "Epoch 22 of 200\n",
            "Generator loss: 1.78272891, Discriminator loss: 0.89708376\n"
          ]
        },
        {
          "output_type": "stream",
          "name": "stderr",
          "text": [
            "\n",
            "118it [00:11, 10.23it/s]                         "
          ]
        },
        {
          "output_type": "stream",
          "name": "stdout",
          "text": [
            "Epoch 23 of 200\n",
            "Generator loss: 1.78619158, Discriminator loss: 0.77987194\n"
          ]
        },
        {
          "output_type": "stream",
          "name": "stderr",
          "text": [
            "\n",
            "118it [00:11, 10.24it/s]                         "
          ]
        },
        {
          "output_type": "stream",
          "name": "stdout",
          "text": [
            "Epoch 24 of 200\n",
            "Generator loss: 2.27142787, Discriminator loss: 0.53619123\n"
          ]
        },
        {
          "output_type": "stream",
          "name": "stderr",
          "text": [
            "\n",
            "118it [00:11, 10.32it/s]                         "
          ]
        },
        {
          "output_type": "stream",
          "name": "stdout",
          "text": [
            "Epoch 25 of 200\n",
            "Generator loss: 2.36626291, Discriminator loss: 0.75666195\n"
          ]
        },
        {
          "output_type": "stream",
          "name": "stderr",
          "text": [
            "\n",
            "118it [00:11, 10.02it/s]                         "
          ]
        },
        {
          "output_type": "stream",
          "name": "stdout",
          "text": [
            "Epoch 26 of 200\n",
            "Generator loss: 2.02328181, Discriminator loss: 0.65521544\n"
          ]
        },
        {
          "output_type": "stream",
          "name": "stderr",
          "text": [
            "\n",
            "118it [00:11, 10.14it/s]                         "
          ]
        },
        {
          "output_type": "stream",
          "name": "stdout",
          "text": [
            "Epoch 27 of 200\n",
            "Generator loss: 2.25639820, Discriminator loss: 0.65394783\n"
          ]
        },
        {
          "output_type": "stream",
          "name": "stderr",
          "text": [
            "\n",
            "118it [00:11,  9.90it/s]                         \n"
          ]
        },
        {
          "output_type": "stream",
          "name": "stdout",
          "text": [
            "Epoch 28 of 200\n",
            "Generator loss: 2.29194450, Discriminator loss: 0.73140961\n"
          ]
        },
        {
          "output_type": "stream",
          "name": "stderr",
          "text": [
            "118it [00:14,  7.90it/s]                         \n"
          ]
        },
        {
          "output_type": "stream",
          "name": "stdout",
          "text": [
            "Epoch 29 of 200\n",
            "Generator loss: 2.13118529, Discriminator loss: 0.67393434\n"
          ]
        },
        {
          "output_type": "stream",
          "name": "stderr",
          "text": [
            "118it [00:13,  8.81it/s]                         "
          ]
        },
        {
          "output_type": "stream",
          "name": "stdout",
          "text": [
            "Epoch 30 of 200\n",
            "Generator loss: 2.18528557, Discriminator loss: 0.77548957\n"
          ]
        },
        {
          "output_type": "stream",
          "name": "stderr",
          "text": [
            "\n",
            "118it [00:15,  7.52it/s]                         "
          ]
        },
        {
          "output_type": "stream",
          "name": "stdout",
          "text": [
            "Epoch 31 of 200\n",
            "Generator loss: 1.99026024, Discriminator loss: 0.73913854\n"
          ]
        },
        {
          "output_type": "stream",
          "name": "stderr",
          "text": [
            "\n",
            "118it [00:13,  8.69it/s]                         "
          ]
        },
        {
          "output_type": "stream",
          "name": "stdout",
          "text": [
            "Epoch 32 of 200\n",
            "Generator loss: 2.43121099, Discriminator loss: 0.57805443\n"
          ]
        },
        {
          "output_type": "stream",
          "name": "stderr",
          "text": [
            "\n",
            "118it [00:12,  9.53it/s]                         "
          ]
        },
        {
          "output_type": "stream",
          "name": "stdout",
          "text": [
            "Epoch 33 of 200\n",
            "Generator loss: 2.38314176, Discriminator loss: 0.64409512\n"
          ]
        },
        {
          "output_type": "stream",
          "name": "stderr",
          "text": [
            "\n",
            "118it [00:11, 10.32it/s]                         "
          ]
        },
        {
          "output_type": "stream",
          "name": "stdout",
          "text": [
            "Epoch 34 of 200\n",
            "Generator loss: 2.00071383, Discriminator loss: 0.75571483\n"
          ]
        },
        {
          "output_type": "stream",
          "name": "stderr",
          "text": [
            "\n",
            "118it [00:11, 10.10it/s]                         "
          ]
        },
        {
          "output_type": "stream",
          "name": "stdout",
          "text": [
            "Epoch 35 of 200\n",
            "Generator loss: 2.64304090, Discriminator loss: 0.51573235\n"
          ]
        },
        {
          "output_type": "stream",
          "name": "stderr",
          "text": [
            "\n",
            "118it [00:12,  9.58it/s]                         "
          ]
        },
        {
          "output_type": "stream",
          "name": "stdout",
          "text": [
            "Epoch 36 of 200\n",
            "Generator loss: 2.59072256, Discriminator loss: 0.65368336\n"
          ]
        },
        {
          "output_type": "stream",
          "name": "stderr",
          "text": [
            "\n",
            "118it [00:12,  9.68it/s]                         "
          ]
        },
        {
          "output_type": "stream",
          "name": "stdout",
          "text": [
            "Epoch 37 of 200\n",
            "Generator loss: 2.68329716, Discriminator loss: 0.55342668\n"
          ]
        },
        {
          "output_type": "stream",
          "name": "stderr",
          "text": [
            "\n",
            "118it [00:13,  8.96it/s]                         "
          ]
        },
        {
          "output_type": "stream",
          "name": "stdout",
          "text": [
            "Epoch 38 of 200\n",
            "Generator loss: 2.95651293, Discriminator loss: 0.58866233\n"
          ]
        },
        {
          "output_type": "stream",
          "name": "stderr",
          "text": [
            "\n",
            "118it [00:14,  8.39it/s]                         "
          ]
        },
        {
          "output_type": "stream",
          "name": "stdout",
          "text": [
            "Epoch 39 of 200\n",
            "Generator loss: 2.61064911, Discriminator loss: 0.59925801\n"
          ]
        },
        {
          "output_type": "stream",
          "name": "stderr",
          "text": [
            "\n",
            "118it [00:12,  9.23it/s]                         "
          ]
        },
        {
          "output_type": "stream",
          "name": "stdout",
          "text": [
            "Epoch 40 of 200\n",
            "Generator loss: 3.08943129, Discriminator loss: 0.45836857\n"
          ]
        },
        {
          "output_type": "stream",
          "name": "stderr",
          "text": [
            "\n",
            "118it [00:12,  9.73it/s]                         "
          ]
        },
        {
          "output_type": "stream",
          "name": "stdout",
          "text": [
            "Epoch 41 of 200\n",
            "Generator loss: 3.22377849, Discriminator loss: 0.43069473\n"
          ]
        },
        {
          "output_type": "stream",
          "name": "stderr",
          "text": [
            "\n",
            "118it [00:11,  9.93it/s]                         \n"
          ]
        },
        {
          "output_type": "stream",
          "name": "stdout",
          "text": [
            "Epoch 42 of 200\n",
            "Generator loss: 2.91491580, Discriminator loss: 0.49000201\n"
          ]
        },
        {
          "output_type": "stream",
          "name": "stderr",
          "text": [
            "118it [00:12,  9.36it/s]                         "
          ]
        },
        {
          "output_type": "stream",
          "name": "stdout",
          "text": [
            "Epoch 43 of 200\n",
            "Generator loss: 2.70731592, Discriminator loss: 0.59688348\n"
          ]
        },
        {
          "output_type": "stream",
          "name": "stderr",
          "text": [
            "\n",
            "118it [00:14,  8.43it/s]                         "
          ]
        },
        {
          "output_type": "stream",
          "name": "stdout",
          "text": [
            "Epoch 44 of 200\n",
            "Generator loss: 2.83577728, Discriminator loss: 0.47574097\n"
          ]
        },
        {
          "output_type": "stream",
          "name": "stderr",
          "text": [
            "\n",
            "118it [00:14,  7.89it/s]                         \n"
          ]
        },
        {
          "output_type": "stream",
          "name": "stdout",
          "text": [
            "Epoch 45 of 200\n",
            "Generator loss: 2.96508861, Discriminator loss: 0.48965517\n"
          ]
        },
        {
          "output_type": "stream",
          "name": "stderr",
          "text": [
            "118it [00:14,  8.30it/s]                         "
          ]
        },
        {
          "output_type": "stream",
          "name": "stdout",
          "text": [
            "Epoch 46 of 200\n",
            "Generator loss: 3.02634883, Discriminator loss: 0.48607573\n"
          ]
        },
        {
          "output_type": "stream",
          "name": "stderr",
          "text": [
            "\n",
            "118it [00:13,  8.85it/s]                         "
          ]
        },
        {
          "output_type": "stream",
          "name": "stdout",
          "text": [
            "Epoch 47 of 200\n",
            "Generator loss: 2.93766117, Discriminator loss: 0.47896424\n"
          ]
        },
        {
          "output_type": "stream",
          "name": "stderr",
          "text": [
            "\n",
            "118it [00:11,  9.84it/s]                         "
          ]
        },
        {
          "output_type": "stream",
          "name": "stdout",
          "text": [
            "Epoch 48 of 200\n",
            "Generator loss: 3.14443827, Discriminator loss: 0.47787404\n"
          ]
        },
        {
          "output_type": "stream",
          "name": "stderr",
          "text": [
            "\n",
            "118it [00:13,  8.80it/s]                         "
          ]
        },
        {
          "output_type": "stream",
          "name": "stdout",
          "text": [
            "Epoch 49 of 200\n",
            "Generator loss: 3.06961155, Discriminator loss: 0.49659252\n"
          ]
        },
        {
          "output_type": "stream",
          "name": "stderr",
          "text": [
            "\n",
            "118it [00:12,  9.38it/s]                         "
          ]
        },
        {
          "output_type": "stream",
          "name": "stdout",
          "text": [
            "Epoch 50 of 200\n",
            "Generator loss: 2.92638898, Discriminator loss: 0.52296644\n"
          ]
        },
        {
          "output_type": "stream",
          "name": "stderr",
          "text": [
            "\n",
            "118it [00:12,  9.42it/s]                         "
          ]
        },
        {
          "output_type": "stream",
          "name": "stdout",
          "text": [
            "Epoch 51 of 200\n",
            "Generator loss: 2.88610053, Discriminator loss: 0.52458465\n"
          ]
        },
        {
          "output_type": "stream",
          "name": "stderr",
          "text": [
            "\n",
            "118it [00:12,  9.52it/s]                         "
          ]
        },
        {
          "output_type": "stream",
          "name": "stdout",
          "text": [
            "Epoch 52 of 200\n",
            "Generator loss: 2.83603215, Discriminator loss: 0.50263131\n"
          ]
        },
        {
          "output_type": "stream",
          "name": "stderr",
          "text": [
            "\n",
            "118it [00:12,  9.67it/s]                         "
          ]
        },
        {
          "output_type": "stream",
          "name": "stdout",
          "text": [
            "Epoch 53 of 200\n",
            "Generator loss: 2.75083017, Discriminator loss: 0.58946323\n"
          ]
        },
        {
          "output_type": "stream",
          "name": "stderr",
          "text": [
            "\n",
            "118it [00:12,  9.50it/s]                         "
          ]
        },
        {
          "output_type": "stream",
          "name": "stdout",
          "text": [
            "Epoch 54 of 200\n",
            "Generator loss: 2.54702139, Discriminator loss: 0.66323501\n"
          ]
        },
        {
          "output_type": "stream",
          "name": "stderr",
          "text": [
            "\n",
            "118it [00:11,  9.87it/s]                         "
          ]
        },
        {
          "output_type": "stream",
          "name": "stdout",
          "text": [
            "Epoch 55 of 200\n",
            "Generator loss: 2.62589240, Discriminator loss: 0.57091975\n"
          ]
        },
        {
          "output_type": "stream",
          "name": "stderr",
          "text": [
            "\n",
            "118it [00:11,  9.99it/s]                         "
          ]
        },
        {
          "output_type": "stream",
          "name": "stdout",
          "text": [
            "Epoch 56 of 200\n",
            "Generator loss: 2.92902184, Discriminator loss: 0.54666853\n"
          ]
        },
        {
          "output_type": "stream",
          "name": "stderr",
          "text": [
            "\n",
            "118it [00:11,  9.92it/s]                         "
          ]
        },
        {
          "output_type": "stream",
          "name": "stdout",
          "text": [
            "Epoch 57 of 200\n",
            "Generator loss: 2.79914832, Discriminator loss: 0.57410973\n"
          ]
        },
        {
          "output_type": "stream",
          "name": "stderr",
          "text": [
            "\n",
            "118it [00:11, 10.39it/s]                         "
          ]
        },
        {
          "output_type": "stream",
          "name": "stdout",
          "text": [
            "Epoch 58 of 200\n",
            "Generator loss: 2.53982997, Discriminator loss: 0.61093301\n"
          ]
        },
        {
          "output_type": "stream",
          "name": "stderr",
          "text": [
            "\n",
            "118it [00:11, 10.66it/s]                         "
          ]
        },
        {
          "output_type": "stream",
          "name": "stdout",
          "text": [
            "Epoch 59 of 200\n",
            "Generator loss: 2.68403649, Discriminator loss: 0.62282753\n"
          ]
        },
        {
          "output_type": "stream",
          "name": "stderr",
          "text": [
            "\n",
            "118it [00:11, 10.44it/s]                         "
          ]
        },
        {
          "output_type": "stream",
          "name": "stdout",
          "text": [
            "Epoch 60 of 200\n",
            "Generator loss: 2.68883038, Discriminator loss: 0.60724413\n"
          ]
        },
        {
          "output_type": "stream",
          "name": "stderr",
          "text": [
            "\n",
            "118it [00:11, 10.18it/s]                         "
          ]
        },
        {
          "output_type": "stream",
          "name": "stdout",
          "text": [
            "Epoch 61 of 200\n",
            "Generator loss: 2.82197165, Discriminator loss: 0.52632225\n"
          ]
        },
        {
          "output_type": "stream",
          "name": "stderr",
          "text": [
            "\n",
            "118it [00:11,  9.99it/s]                         "
          ]
        },
        {
          "output_type": "stream",
          "name": "stdout",
          "text": [
            "Epoch 62 of 200\n",
            "Generator loss: 2.69313574, Discriminator loss: 0.54380405\n"
          ]
        },
        {
          "output_type": "stream",
          "name": "stderr",
          "text": [
            "\n",
            "118it [00:11, 10.24it/s]                         "
          ]
        },
        {
          "output_type": "stream",
          "name": "stdout",
          "text": [
            "Epoch 63 of 200\n",
            "Generator loss: 2.79603577, Discriminator loss: 0.53324705\n"
          ]
        },
        {
          "output_type": "stream",
          "name": "stderr",
          "text": [
            "\n",
            "118it [00:11, 10.12it/s]                         \n"
          ]
        },
        {
          "output_type": "stream",
          "name": "stdout",
          "text": [
            "Epoch 64 of 200\n",
            "Generator loss: 2.58244967, Discriminator loss: 0.63543802\n"
          ]
        },
        {
          "output_type": "stream",
          "name": "stderr",
          "text": [
            "118it [00:11,  9.98it/s]                         "
          ]
        },
        {
          "output_type": "stream",
          "name": "stdout",
          "text": [
            "Epoch 65 of 200\n",
            "Generator loss: 2.62676597, Discriminator loss: 0.62328935\n"
          ]
        },
        {
          "output_type": "stream",
          "name": "stderr",
          "text": [
            "\n",
            "118it [00:11,  9.89it/s]                         "
          ]
        },
        {
          "output_type": "stream",
          "name": "stdout",
          "text": [
            "Epoch 66 of 200\n",
            "Generator loss: 2.66258359, Discriminator loss: 0.58964938\n"
          ]
        },
        {
          "output_type": "stream",
          "name": "stderr",
          "text": [
            "\n",
            "118it [00:11,  9.98it/s]\n"
          ]
        },
        {
          "output_type": "stream",
          "name": "stdout",
          "text": [
            "Epoch 67 of 200\n",
            "Generator loss: 2.55803752, Discriminator loss: 0.58614928\n"
          ]
        },
        {
          "output_type": "stream",
          "name": "stderr",
          "text": [
            "118it [00:11,  9.96it/s]                         \n"
          ]
        },
        {
          "output_type": "stream",
          "name": "stdout",
          "text": [
            "Epoch 68 of 200\n",
            "Generator loss: 2.76077461, Discriminator loss: 0.56675750\n"
          ]
        },
        {
          "output_type": "stream",
          "name": "stderr",
          "text": [
            "118it [00:11, 10.04it/s]                         "
          ]
        },
        {
          "output_type": "stream",
          "name": "stdout",
          "text": [
            "Epoch 69 of 200\n",
            "Generator loss: 2.59732246, Discriminator loss: 0.61892533\n"
          ]
        },
        {
          "output_type": "stream",
          "name": "stderr",
          "text": [
            "\n",
            "118it [00:11, 10.08it/s]                         "
          ]
        },
        {
          "output_type": "stream",
          "name": "stdout",
          "text": [
            "Epoch 70 of 200\n",
            "Generator loss: 2.66688037, Discriminator loss: 0.61550176\n"
          ]
        },
        {
          "output_type": "stream",
          "name": "stderr",
          "text": [
            "\n",
            "118it [00:11, 10.19it/s]\n"
          ]
        },
        {
          "output_type": "stream",
          "name": "stdout",
          "text": [
            "Epoch 71 of 200\n",
            "Generator loss: 2.60269523, Discriminator loss: 0.58229256\n"
          ]
        },
        {
          "output_type": "stream",
          "name": "stderr",
          "text": [
            "118it [00:11, 10.03it/s]                         "
          ]
        },
        {
          "output_type": "stream",
          "name": "stdout",
          "text": [
            "Epoch 72 of 200\n",
            "Generator loss: 2.51953363, Discriminator loss: 0.60957789\n"
          ]
        },
        {
          "output_type": "stream",
          "name": "stderr",
          "text": [
            "\n",
            "118it [00:11, 10.25it/s]                         "
          ]
        },
        {
          "output_type": "stream",
          "name": "stdout",
          "text": [
            "Epoch 73 of 200\n",
            "Generator loss: 2.50259233, Discriminator loss: 0.63510466\n"
          ]
        },
        {
          "output_type": "stream",
          "name": "stderr",
          "text": [
            "\n",
            "118it [00:11, 10.57it/s]                         "
          ]
        },
        {
          "output_type": "stream",
          "name": "stdout",
          "text": [
            "Epoch 74 of 200\n",
            "Generator loss: 2.62126923, Discriminator loss: 0.61037749\n"
          ]
        },
        {
          "output_type": "stream",
          "name": "stderr",
          "text": [
            "\n",
            "118it [00:11, 10.24it/s]                         "
          ]
        },
        {
          "output_type": "stream",
          "name": "stdout",
          "text": [
            "Epoch 75 of 200\n",
            "Generator loss: 2.46305895, Discriminator loss: 0.62687421\n"
          ]
        },
        {
          "output_type": "stream",
          "name": "stderr",
          "text": [
            "\n",
            "118it [00:11, 10.06it/s]                         "
          ]
        },
        {
          "output_type": "stream",
          "name": "stdout",
          "text": [
            "Epoch 76 of 200\n",
            "Generator loss: 2.30182505, Discriminator loss: 0.65505028\n"
          ]
        },
        {
          "output_type": "stream",
          "name": "stderr",
          "text": [
            "\n",
            "118it [00:11, 10.16it/s]                         "
          ]
        },
        {
          "output_type": "stream",
          "name": "stdout",
          "text": [
            "Epoch 77 of 200\n",
            "Generator loss: 2.40380692, Discriminator loss: 0.65512830\n"
          ]
        },
        {
          "output_type": "stream",
          "name": "stderr",
          "text": [
            "\n",
            "118it [00:11, 10.03it/s]                         "
          ]
        },
        {
          "output_type": "stream",
          "name": "stdout",
          "text": [
            "Epoch 78 of 200\n",
            "Generator loss: 2.43499231, Discriminator loss: 0.65446436\n"
          ]
        },
        {
          "output_type": "stream",
          "name": "stderr",
          "text": [
            "\n",
            "118it [00:11, 10.23it/s]                         "
          ]
        },
        {
          "output_type": "stream",
          "name": "stdout",
          "text": [
            "Epoch 79 of 200\n",
            "Generator loss: 2.27410293, Discriminator loss: 0.66970575\n"
          ]
        },
        {
          "output_type": "stream",
          "name": "stderr",
          "text": [
            "\n",
            "118it [00:11, 10.35it/s]                         "
          ]
        },
        {
          "output_type": "stream",
          "name": "stdout",
          "text": [
            "Epoch 80 of 200\n",
            "Generator loss: 2.31825542, Discriminator loss: 0.67107636\n"
          ]
        },
        {
          "output_type": "stream",
          "name": "stderr",
          "text": [
            "\n",
            "118it [00:11, 10.21it/s]                         "
          ]
        },
        {
          "output_type": "stream",
          "name": "stdout",
          "text": [
            "Epoch 81 of 200\n",
            "Generator loss: 2.27601576, Discriminator loss: 0.67716074\n"
          ]
        },
        {
          "output_type": "stream",
          "name": "stderr",
          "text": [
            "\n",
            "118it [00:11, 10.30it/s]"
          ]
        },
        {
          "output_type": "stream",
          "name": "stdout",
          "text": [
            "Epoch 82 of 200\n",
            "Generator loss: 2.46208048, Discriminator loss: 0.65455306\n"
          ]
        },
        {
          "output_type": "stream",
          "name": "stderr",
          "text": [
            "\n",
            "118it [00:11,  9.98it/s]                         "
          ]
        },
        {
          "output_type": "stream",
          "name": "stdout",
          "text": [
            "Epoch 83 of 200\n",
            "Generator loss: 2.26070142, Discriminator loss: 0.67287230\n"
          ]
        },
        {
          "output_type": "stream",
          "name": "stderr",
          "text": [
            "\n",
            "118it [00:11, 10.13it/s]                         "
          ]
        },
        {
          "output_type": "stream",
          "name": "stdout",
          "text": [
            "Epoch 84 of 200\n",
            "Generator loss: 2.18833613, Discriminator loss: 0.70313573\n"
          ]
        },
        {
          "output_type": "stream",
          "name": "stderr",
          "text": [
            "\n",
            "118it [00:11, 10.29it/s]                         "
          ]
        },
        {
          "output_type": "stream",
          "name": "stdout",
          "text": [
            "Epoch 85 of 200\n",
            "Generator loss: 2.14352226, Discriminator loss: 0.69252008\n"
          ]
        },
        {
          "output_type": "stream",
          "name": "stderr",
          "text": [
            "\n",
            "118it [00:11, 10.72it/s]                         \n"
          ]
        },
        {
          "output_type": "stream",
          "name": "stdout",
          "text": [
            "Epoch 86 of 200\n",
            "Generator loss: 2.15535808, Discriminator loss: 0.70491606\n"
          ]
        },
        {
          "output_type": "stream",
          "name": "stderr",
          "text": [
            "118it [00:10, 10.82it/s]                         "
          ]
        },
        {
          "output_type": "stream",
          "name": "stdout",
          "text": [
            "Epoch 87 of 200\n",
            "Generator loss: 2.17047930, Discriminator loss: 0.74180615\n"
          ]
        },
        {
          "output_type": "stream",
          "name": "stderr",
          "text": [
            "\n",
            "118it [00:11, 10.20it/s]                         "
          ]
        },
        {
          "output_type": "stream",
          "name": "stdout",
          "text": [
            "Epoch 88 of 200\n",
            "Generator loss: 2.16147113, Discriminator loss: 0.71359384\n"
          ]
        },
        {
          "output_type": "stream",
          "name": "stderr",
          "text": [
            "\n",
            "118it [00:11, 10.34it/s]                         "
          ]
        },
        {
          "output_type": "stream",
          "name": "stdout",
          "text": [
            "Epoch 89 of 200\n",
            "Generator loss: 2.07625651, Discriminator loss: 0.75027090\n"
          ]
        },
        {
          "output_type": "stream",
          "name": "stderr",
          "text": [
            "\n",
            "118it [00:11, 10.31it/s]                         "
          ]
        },
        {
          "output_type": "stream",
          "name": "stdout",
          "text": [
            "Epoch 90 of 200\n",
            "Generator loss: 2.08207774, Discriminator loss: 0.76060414\n"
          ]
        },
        {
          "output_type": "stream",
          "name": "stderr",
          "text": [
            "\n",
            "118it [00:11, 10.16it/s]                         "
          ]
        },
        {
          "output_type": "stream",
          "name": "stdout",
          "text": [
            "Epoch 91 of 200\n",
            "Generator loss: 2.02117515, Discriminator loss: 0.76004082\n"
          ]
        },
        {
          "output_type": "stream",
          "name": "stderr",
          "text": [
            "\n",
            "118it [00:11, 10.31it/s]                         "
          ]
        },
        {
          "output_type": "stream",
          "name": "stdout",
          "text": [
            "Epoch 92 of 200\n",
            "Generator loss: 2.06633162, Discriminator loss: 0.74158919\n"
          ]
        },
        {
          "output_type": "stream",
          "name": "stderr",
          "text": [
            "\n",
            "118it [00:11, 10.27it/s]                         "
          ]
        },
        {
          "output_type": "stream",
          "name": "stdout",
          "text": [
            "Epoch 93 of 200\n",
            "Generator loss: 2.09993792, Discriminator loss: 0.72747469\n"
          ]
        },
        {
          "output_type": "stream",
          "name": "stderr",
          "text": [
            "\n",
            "118it [00:11, 10.21it/s]                         "
          ]
        },
        {
          "output_type": "stream",
          "name": "stdout",
          "text": [
            "Epoch 94 of 200\n",
            "Generator loss: 2.07878923, Discriminator loss: 0.73373967\n"
          ]
        },
        {
          "output_type": "stream",
          "name": "stderr",
          "text": [
            "\n",
            "118it [00:11, 10.26it/s]                         "
          ]
        },
        {
          "output_type": "stream",
          "name": "stdout",
          "text": [
            "Epoch 95 of 200\n",
            "Generator loss: 2.04139781, Discriminator loss: 0.75998628\n"
          ]
        },
        {
          "output_type": "stream",
          "name": "stderr",
          "text": [
            "\n",
            "118it [00:11, 10.13it/s]                         "
          ]
        },
        {
          "output_type": "stream",
          "name": "stdout",
          "text": [
            "Epoch 96 of 200\n",
            "Generator loss: 2.01093888, Discriminator loss: 0.76218855\n"
          ]
        },
        {
          "output_type": "stream",
          "name": "stderr",
          "text": [
            "\n",
            "118it [00:11, 10.26it/s]                         \n"
          ]
        },
        {
          "output_type": "stream",
          "name": "stdout",
          "text": [
            "Epoch 97 of 200\n",
            "Generator loss: 1.93619585, Discriminator loss: 0.79607588\n"
          ]
        },
        {
          "output_type": "stream",
          "name": "stderr",
          "text": [
            "118it [00:11, 10.15it/s]                         "
          ]
        },
        {
          "output_type": "stream",
          "name": "stdout",
          "text": [
            "Epoch 98 of 200\n",
            "Generator loss: 1.97525990, Discriminator loss: 0.78632295\n"
          ]
        },
        {
          "output_type": "stream",
          "name": "stderr",
          "text": [
            "\n",
            "118it [00:11, 10.21it/s]                         "
          ]
        },
        {
          "output_type": "stream",
          "name": "stdout",
          "text": [
            "Epoch 99 of 200\n",
            "Generator loss: 1.95660901, Discriminator loss: 0.80531597\n"
          ]
        },
        {
          "output_type": "stream",
          "name": "stderr",
          "text": [
            "\n",
            "118it [00:11, 10.55it/s]                         \n"
          ]
        },
        {
          "output_type": "stream",
          "name": "stdout",
          "text": [
            "Epoch 100 of 200\n",
            "Generator loss: 2.00636196, Discriminator loss: 0.78221804\n"
          ]
        },
        {
          "output_type": "stream",
          "name": "stderr",
          "text": [
            "118it [00:11, 10.39it/s]                         "
          ]
        },
        {
          "output_type": "stream",
          "name": "stdout",
          "text": [
            "Epoch 101 of 200\n",
            "Generator loss: 2.04997897, Discriminator loss: 0.78241259\n"
          ]
        },
        {
          "output_type": "stream",
          "name": "stderr",
          "text": [
            "\n",
            "118it [00:11,  9.97it/s]                         "
          ]
        },
        {
          "output_type": "stream",
          "name": "stdout",
          "text": [
            "Epoch 102 of 200\n",
            "Generator loss: 1.87911212, Discriminator loss: 0.84020531\n"
          ]
        },
        {
          "output_type": "stream",
          "name": "stderr",
          "text": [
            "\n",
            "118it [00:11, 10.09it/s]                         "
          ]
        },
        {
          "output_type": "stream",
          "name": "stdout",
          "text": [
            "Epoch 103 of 200\n",
            "Generator loss: 1.87149549, Discriminator loss: 0.83696574\n"
          ]
        },
        {
          "output_type": "stream",
          "name": "stderr",
          "text": [
            "\n",
            "118it [00:11,  9.99it/s]                         "
          ]
        },
        {
          "output_type": "stream",
          "name": "stdout",
          "text": [
            "Epoch 104 of 200\n",
            "Generator loss: 1.89254081, Discriminator loss: 0.83545578\n"
          ]
        },
        {
          "output_type": "stream",
          "name": "stderr",
          "text": [
            "\n",
            "118it [00:11, 10.20it/s]                         "
          ]
        },
        {
          "output_type": "stream",
          "name": "stdout",
          "text": [
            "Epoch 105 of 200\n",
            "Generator loss: 1.95899701, Discriminator loss: 0.78782296\n"
          ]
        },
        {
          "output_type": "stream",
          "name": "stderr",
          "text": [
            "\n",
            "118it [00:11, 10.25it/s]                         "
          ]
        },
        {
          "output_type": "stream",
          "name": "stdout",
          "text": [
            "Epoch 106 of 200\n",
            "Generator loss: 1.84935498, Discriminator loss: 0.85360163\n"
          ]
        },
        {
          "output_type": "stream",
          "name": "stderr",
          "text": [
            "\n",
            "118it [00:11, 10.18it/s]                         "
          ]
        },
        {
          "output_type": "stream",
          "name": "stdout",
          "text": [
            "Epoch 107 of 200\n",
            "Generator loss: 1.87892425, Discriminator loss: 0.80646485\n"
          ]
        },
        {
          "output_type": "stream",
          "name": "stderr",
          "text": [
            "\n",
            "118it [00:11, 10.26it/s]                         "
          ]
        },
        {
          "output_type": "stream",
          "name": "stdout",
          "text": [
            "Epoch 108 of 200\n",
            "Generator loss: 1.94054365, Discriminator loss: 0.77802908\n"
          ]
        },
        {
          "output_type": "stream",
          "name": "stderr",
          "text": [
            "\n",
            "118it [00:11, 10.19it/s]                         "
          ]
        },
        {
          "output_type": "stream",
          "name": "stdout",
          "text": [
            "Epoch 109 of 200\n",
            "Generator loss: 1.88999605, Discriminator loss: 0.80923140\n"
          ]
        },
        {
          "output_type": "stream",
          "name": "stderr",
          "text": [
            "\n",
            "118it [00:11, 10.26it/s]                         "
          ]
        },
        {
          "output_type": "stream",
          "name": "stdout",
          "text": [
            "Epoch 110 of 200\n",
            "Generator loss: 1.81572604, Discriminator loss: 0.86101723\n"
          ]
        },
        {
          "output_type": "stream",
          "name": "stderr",
          "text": [
            "\n",
            "118it [00:11, 10.29it/s]                         "
          ]
        },
        {
          "output_type": "stream",
          "name": "stdout",
          "text": [
            "Epoch 111 of 200\n",
            "Generator loss: 1.76821220, Discriminator loss: 0.84142852\n"
          ]
        },
        {
          "output_type": "stream",
          "name": "stderr",
          "text": [
            "\n",
            "118it [00:11, 10.15it/s]"
          ]
        },
        {
          "output_type": "stream",
          "name": "stdout",
          "text": [
            "Epoch 112 of 200\n",
            "Generator loss: 1.89980280, Discriminator loss: 0.84933650\n"
          ]
        },
        {
          "output_type": "stream",
          "name": "stderr",
          "text": [
            "\n",
            "118it [00:11, 10.70it/s]                         "
          ]
        },
        {
          "output_type": "stream",
          "name": "stdout",
          "text": [
            "Epoch 113 of 200\n",
            "Generator loss: 1.86405683, Discriminator loss: 0.84140587\n"
          ]
        },
        {
          "output_type": "stream",
          "name": "stderr",
          "text": [
            "\n",
            "118it [00:10, 10.85it/s]                         "
          ]
        },
        {
          "output_type": "stream",
          "name": "stdout",
          "text": [
            "Epoch 114 of 200\n",
            "Generator loss: 1.78468823, Discriminator loss: 0.84849924\n"
          ]
        },
        {
          "output_type": "stream",
          "name": "stderr",
          "text": [
            "\n",
            "118it [00:11, 10.14it/s]"
          ]
        },
        {
          "output_type": "stream",
          "name": "stdout",
          "text": [
            "Epoch 115 of 200\n",
            "Generator loss: 1.83917141, Discriminator loss: 0.84077710\n"
          ]
        },
        {
          "output_type": "stream",
          "name": "stderr",
          "text": [
            "\n",
            "118it [00:11, 10.35it/s]                         "
          ]
        },
        {
          "output_type": "stream",
          "name": "stdout",
          "text": [
            "Epoch 116 of 200\n",
            "Generator loss: 1.74033356, Discriminator loss: 0.86441427\n"
          ]
        },
        {
          "output_type": "stream",
          "name": "stderr",
          "text": [
            "\n",
            "118it [00:11, 10.15it/s]                         "
          ]
        },
        {
          "output_type": "stream",
          "name": "stdout",
          "text": [
            "Epoch 117 of 200\n",
            "Generator loss: 1.84492898, Discriminator loss: 0.83501434\n"
          ]
        },
        {
          "output_type": "stream",
          "name": "stderr",
          "text": [
            "\n",
            "118it [00:11, 10.29it/s]                         "
          ]
        },
        {
          "output_type": "stream",
          "name": "stdout",
          "text": [
            "Epoch 118 of 200\n",
            "Generator loss: 1.77602196, Discriminator loss: 0.83409452\n"
          ]
        },
        {
          "output_type": "stream",
          "name": "stderr",
          "text": [
            "\n",
            "118it [00:11, 10.12it/s]                         "
          ]
        },
        {
          "output_type": "stream",
          "name": "stdout",
          "text": [
            "Epoch 119 of 200\n",
            "Generator loss: 1.84458792, Discriminator loss: 0.83923697\n"
          ]
        },
        {
          "output_type": "stream",
          "name": "stderr",
          "text": [
            "\n",
            "118it [00:11, 10.09it/s]                         "
          ]
        },
        {
          "output_type": "stream",
          "name": "stdout",
          "text": [
            "Epoch 120 of 200\n",
            "Generator loss: 1.78484309, Discriminator loss: 0.86330593\n"
          ]
        },
        {
          "output_type": "stream",
          "name": "stderr",
          "text": [
            "\n",
            "118it [00:11, 10.10it/s]                         "
          ]
        },
        {
          "output_type": "stream",
          "name": "stdout",
          "text": [
            "Epoch 121 of 200\n",
            "Generator loss: 1.78350234, Discriminator loss: 0.84616596\n"
          ]
        },
        {
          "output_type": "stream",
          "name": "stderr",
          "text": [
            "\n",
            "118it [00:11, 10.11it/s]                         \n"
          ]
        },
        {
          "output_type": "stream",
          "name": "stdout",
          "text": [
            "Epoch 122 of 200\n",
            "Generator loss: 1.86316681, Discriminator loss: 0.85615510\n"
          ]
        },
        {
          "output_type": "stream",
          "name": "stderr",
          "text": [
            "118it [00:11, 10.37it/s]                         "
          ]
        },
        {
          "output_type": "stream",
          "name": "stdout",
          "text": [
            "Epoch 123 of 200\n",
            "Generator loss: 1.67478526, Discriminator loss: 0.90748215\n"
          ]
        },
        {
          "output_type": "stream",
          "name": "stderr",
          "text": [
            "\n",
            "118it [00:11, 10.19it/s]                         "
          ]
        },
        {
          "output_type": "stream",
          "name": "stdout",
          "text": [
            "Epoch 124 of 200\n",
            "Generator loss: 1.70261049, Discriminator loss: 0.87408412\n"
          ]
        },
        {
          "output_type": "stream",
          "name": "stderr",
          "text": [
            "\n",
            "118it [00:11, 10.09it/s]                         "
          ]
        },
        {
          "output_type": "stream",
          "name": "stdout",
          "text": [
            "Epoch 125 of 200\n",
            "Generator loss: 1.71978915, Discriminator loss: 0.88357645\n"
          ]
        },
        {
          "output_type": "stream",
          "name": "stderr",
          "text": [
            "\n",
            "118it [00:10, 10.83it/s]                         "
          ]
        },
        {
          "output_type": "stream",
          "name": "stdout",
          "text": [
            "Epoch 126 of 200\n",
            "Generator loss: 1.74354076, Discriminator loss: 0.87641883\n"
          ]
        },
        {
          "output_type": "stream",
          "name": "stderr",
          "text": [
            "\n",
            "118it [00:11, 10.57it/s]"
          ]
        },
        {
          "output_type": "stream",
          "name": "stdout",
          "text": [
            "Epoch 127 of 200\n",
            "Generator loss: 1.70887029, Discriminator loss: 0.87857991\n"
          ]
        },
        {
          "output_type": "stream",
          "name": "stderr",
          "text": [
            "\n",
            "118it [00:11, 10.07it/s]                         "
          ]
        },
        {
          "output_type": "stream",
          "name": "stdout",
          "text": [
            "Epoch 128 of 200\n",
            "Generator loss: 1.71286488, Discriminator loss: 0.89678842\n"
          ]
        },
        {
          "output_type": "stream",
          "name": "stderr",
          "text": [
            "\n",
            "118it [00:11, 10.10it/s]                         "
          ]
        },
        {
          "output_type": "stream",
          "name": "stdout",
          "text": [
            "Epoch 129 of 200\n",
            "Generator loss: 1.66871297, Discriminator loss: 0.90659094\n"
          ]
        },
        {
          "output_type": "stream",
          "name": "stderr",
          "text": [
            "\n",
            "118it [00:11, 10.11it/s]                         "
          ]
        },
        {
          "output_type": "stream",
          "name": "stdout",
          "text": [
            "Epoch 130 of 200\n",
            "Generator loss: 1.67084634, Discriminator loss: 0.90844470\n"
          ]
        },
        {
          "output_type": "stream",
          "name": "stderr",
          "text": [
            "\n",
            "118it [00:11, 10.13it/s]                         "
          ]
        },
        {
          "output_type": "stream",
          "name": "stdout",
          "text": [
            "Epoch 131 of 200\n",
            "Generator loss: 1.56508315, Discriminator loss: 0.94138914\n"
          ]
        },
        {
          "output_type": "stream",
          "name": "stderr",
          "text": [
            "\n",
            "118it [00:11, 10.22it/s]                         "
          ]
        },
        {
          "output_type": "stream",
          "name": "stdout",
          "text": [
            "Epoch 132 of 200\n",
            "Generator loss: 1.73584592, Discriminator loss: 0.92654395\n"
          ]
        },
        {
          "output_type": "stream",
          "name": "stderr",
          "text": [
            "\n",
            "118it [00:11, 10.07it/s]"
          ]
        },
        {
          "output_type": "stream",
          "name": "stdout",
          "text": [
            "Epoch 133 of 200\n",
            "Generator loss: 1.65316141, Discriminator loss: 0.91812646\n"
          ]
        },
        {
          "output_type": "stream",
          "name": "stderr",
          "text": [
            "\n",
            "118it [00:11, 10.25it/s]                         "
          ]
        },
        {
          "output_type": "stream",
          "name": "stdout",
          "text": [
            "Epoch 134 of 200\n",
            "Generator loss: 1.59480786, Discriminator loss: 0.94246805\n"
          ]
        },
        {
          "output_type": "stream",
          "name": "stderr",
          "text": [
            "\n",
            "118it [00:11, 10.02it/s]                         "
          ]
        },
        {
          "output_type": "stream",
          "name": "stdout",
          "text": [
            "Epoch 135 of 200\n",
            "Generator loss: 1.61236036, Discriminator loss: 0.92945731\n"
          ]
        },
        {
          "output_type": "stream",
          "name": "stderr",
          "text": [
            "\n",
            "118it [00:11, 10.20it/s]                         "
          ]
        },
        {
          "output_type": "stream",
          "name": "stdout",
          "text": [
            "Epoch 136 of 200\n",
            "Generator loss: 1.59189010, Discriminator loss: 0.94025505\n"
          ]
        },
        {
          "output_type": "stream",
          "name": "stderr",
          "text": [
            "\n",
            "118it [00:11, 10.31it/s]                         "
          ]
        },
        {
          "output_type": "stream",
          "name": "stdout",
          "text": [
            "Epoch 137 of 200\n",
            "Generator loss: 1.61168993, Discriminator loss: 0.91855574\n"
          ]
        },
        {
          "output_type": "stream",
          "name": "stderr",
          "text": [
            "\n",
            "118it [00:11, 10.40it/s]                         "
          ]
        },
        {
          "output_type": "stream",
          "name": "stdout",
          "text": [
            "Epoch 138 of 200\n",
            "Generator loss: 1.65141845, Discriminator loss: 0.91505241\n"
          ]
        },
        {
          "output_type": "stream",
          "name": "stderr",
          "text": [
            "\n",
            "118it [00:11, 10.36it/s]                         "
          ]
        },
        {
          "output_type": "stream",
          "name": "stdout",
          "text": [
            "Epoch 139 of 200\n",
            "Generator loss: 1.64485097, Discriminator loss: 0.92272997\n"
          ]
        },
        {
          "output_type": "stream",
          "name": "stderr",
          "text": [
            "\n",
            "118it [00:10, 10.74it/s]                         "
          ]
        },
        {
          "output_type": "stream",
          "name": "stdout",
          "text": [
            "Epoch 140 of 200\n",
            "Generator loss: 1.59031594, Discriminator loss: 0.94312233\n"
          ]
        },
        {
          "output_type": "stream",
          "name": "stderr",
          "text": [
            "\n",
            "118it [00:11, 10.23it/s]"
          ]
        },
        {
          "output_type": "stream",
          "name": "stdout",
          "text": [
            "Epoch 141 of 200\n",
            "Generator loss: 1.55346382, Discriminator loss: 0.95443553\n"
          ]
        },
        {
          "output_type": "stream",
          "name": "stderr",
          "text": [
            "\n",
            "118it [00:11, 10.13it/s]                         "
          ]
        },
        {
          "output_type": "stream",
          "name": "stdout",
          "text": [
            "Epoch 142 of 200\n",
            "Generator loss: 1.55895054, Discriminator loss: 0.94345069\n"
          ]
        },
        {
          "output_type": "stream",
          "name": "stderr",
          "text": [
            "\n",
            "118it [00:11,  9.93it/s]                         "
          ]
        },
        {
          "output_type": "stream",
          "name": "stdout",
          "text": [
            "Epoch 143 of 200\n",
            "Generator loss: 1.53128195, Discriminator loss: 0.96169978\n"
          ]
        },
        {
          "output_type": "stream",
          "name": "stderr",
          "text": [
            "\n",
            "118it [00:11, 10.00it/s]                         "
          ]
        },
        {
          "output_type": "stream",
          "name": "stdout",
          "text": [
            "Epoch 144 of 200\n",
            "Generator loss: 1.49156368, Discriminator loss: 0.96670902\n"
          ]
        },
        {
          "output_type": "stream",
          "name": "stderr",
          "text": [
            "\n",
            "118it [00:11, 10.14it/s]                         "
          ]
        },
        {
          "output_type": "stream",
          "name": "stdout",
          "text": [
            "Epoch 145 of 200\n",
            "Generator loss: 1.51698518, Discriminator loss: 0.96954012\n"
          ]
        },
        {
          "output_type": "stream",
          "name": "stderr",
          "text": [
            "\n",
            "118it [00:11, 10.13it/s]                         "
          ]
        },
        {
          "output_type": "stream",
          "name": "stdout",
          "text": [
            "Epoch 146 of 200\n",
            "Generator loss: 1.52067995, Discriminator loss: 0.95151043\n"
          ]
        },
        {
          "output_type": "stream",
          "name": "stderr",
          "text": [
            "\n",
            "118it [00:11, 10.12it/s]                         "
          ]
        },
        {
          "output_type": "stream",
          "name": "stdout",
          "text": [
            "Epoch 147 of 200\n",
            "Generator loss: 1.51794899, Discriminator loss: 0.96756476\n"
          ]
        },
        {
          "output_type": "stream",
          "name": "stderr",
          "text": [
            "\n",
            "118it [00:12,  9.69it/s]                         \n"
          ]
        },
        {
          "output_type": "stream",
          "name": "stdout",
          "text": [
            "Epoch 148 of 200\n",
            "Generator loss: 1.51552105, Discriminator loss: 0.99005085\n"
          ]
        },
        {
          "output_type": "stream",
          "name": "stderr",
          "text": [
            "118it [00:11,  9.88it/s]                         "
          ]
        },
        {
          "output_type": "stream",
          "name": "stdout",
          "text": [
            "Epoch 149 of 200\n",
            "Generator loss: 1.49264503, Discriminator loss: 0.98790354\n"
          ]
        },
        {
          "output_type": "stream",
          "name": "stderr",
          "text": [
            "\n",
            "118it [00:11, 10.11it/s]                         "
          ]
        },
        {
          "output_type": "stream",
          "name": "stdout",
          "text": [
            "Epoch 150 of 200\n",
            "Generator loss: 1.48182833, Discriminator loss: 0.99788082\n"
          ]
        },
        {
          "output_type": "stream",
          "name": "stderr",
          "text": [
            "\n",
            "118it [00:11,  9.85it/s]                         "
          ]
        },
        {
          "output_type": "stream",
          "name": "stdout",
          "text": [
            "Epoch 151 of 200\n",
            "Generator loss: 1.47909796, Discriminator loss: 0.99927521\n"
          ]
        },
        {
          "output_type": "stream",
          "name": "stderr",
          "text": [
            "\n",
            "118it [00:11, 10.02it/s]                         "
          ]
        },
        {
          "output_type": "stream",
          "name": "stdout",
          "text": [
            "Epoch 152 of 200\n",
            "Generator loss: 1.44912410, Discriminator loss: 0.99526733\n"
          ]
        },
        {
          "output_type": "stream",
          "name": "stderr",
          "text": [
            "\n",
            "118it [00:11,  9.96it/s]                         "
          ]
        },
        {
          "output_type": "stream",
          "name": "stdout",
          "text": [
            "Epoch 153 of 200\n",
            "Generator loss: 1.43782842, Discriminator loss: 1.00193810\n"
          ]
        },
        {
          "output_type": "stream",
          "name": "stderr",
          "text": [
            "\n",
            "118it [00:11, 10.59it/s]                         "
          ]
        },
        {
          "output_type": "stream",
          "name": "stdout",
          "text": [
            "Epoch 154 of 200\n",
            "Generator loss: 1.47868025, Discriminator loss: 0.99304467\n"
          ]
        },
        {
          "output_type": "stream",
          "name": "stderr",
          "text": [
            "\n",
            "118it [00:11, 10.60it/s]                         "
          ]
        },
        {
          "output_type": "stream",
          "name": "stdout",
          "text": [
            "Epoch 155 of 200\n",
            "Generator loss: 1.50344968, Discriminator loss: 0.99019700\n"
          ]
        },
        {
          "output_type": "stream",
          "name": "stderr",
          "text": [
            "\n",
            "118it [00:11, 10.39it/s]                         "
          ]
        },
        {
          "output_type": "stream",
          "name": "stdout",
          "text": [
            "Epoch 156 of 200\n",
            "Generator loss: 1.50584888, Discriminator loss: 1.00364029\n"
          ]
        },
        {
          "output_type": "stream",
          "name": "stderr",
          "text": [
            "\n",
            "118it [00:11, 10.26it/s]                         "
          ]
        },
        {
          "output_type": "stream",
          "name": "stdout",
          "text": [
            "Epoch 157 of 200\n",
            "Generator loss: 1.45014310, Discriminator loss: 0.99159467\n"
          ]
        },
        {
          "output_type": "stream",
          "name": "stderr",
          "text": [
            "\n",
            "118it [00:11, 10.11it/s]                         "
          ]
        },
        {
          "output_type": "stream",
          "name": "stdout",
          "text": [
            "Epoch 158 of 200\n",
            "Generator loss: 1.53325033, Discriminator loss: 0.98533034\n"
          ]
        },
        {
          "output_type": "stream",
          "name": "stderr",
          "text": [
            "\n",
            "118it [00:11, 10.06it/s]                         "
          ]
        },
        {
          "output_type": "stream",
          "name": "stdout",
          "text": [
            "Epoch 159 of 200\n",
            "Generator loss: 1.46047306, Discriminator loss: 0.99609834\n"
          ]
        },
        {
          "output_type": "stream",
          "name": "stderr",
          "text": [
            "\n",
            "118it [00:11, 10.15it/s]                         "
          ]
        },
        {
          "output_type": "stream",
          "name": "stdout",
          "text": [
            "Epoch 160 of 200\n",
            "Generator loss: 1.47160828, Discriminator loss: 0.99313796\n"
          ]
        },
        {
          "output_type": "stream",
          "name": "stderr",
          "text": [
            "\n",
            "118it [00:11, 10.09it/s]                         "
          ]
        },
        {
          "output_type": "stream",
          "name": "stdout",
          "text": [
            "Epoch 161 of 200\n",
            "Generator loss: 1.49131441, Discriminator loss: 0.98920864\n"
          ]
        },
        {
          "output_type": "stream",
          "name": "stderr",
          "text": [
            "\n",
            "118it [00:11, 10.18it/s]                         "
          ]
        },
        {
          "output_type": "stream",
          "name": "stdout",
          "text": [
            "Epoch 162 of 200\n",
            "Generator loss: 1.50535834, Discriminator loss: 0.98644555\n"
          ]
        },
        {
          "output_type": "stream",
          "name": "stderr",
          "text": [
            "\n",
            "118it [00:11, 10.10it/s]                         "
          ]
        },
        {
          "output_type": "stream",
          "name": "stdout",
          "text": [
            "Epoch 163 of 200\n",
            "Generator loss: 1.44155085, Discriminator loss: 0.99837536\n"
          ]
        },
        {
          "output_type": "stream",
          "name": "stderr",
          "text": [
            "\n",
            "118it [00:11, 10.20it/s]                         "
          ]
        },
        {
          "output_type": "stream",
          "name": "stdout",
          "text": [
            "Epoch 164 of 200\n",
            "Generator loss: 1.42720616, Discriminator loss: 1.00123453\n"
          ]
        },
        {
          "output_type": "stream",
          "name": "stderr",
          "text": [
            "\n",
            "118it [00:11, 10.32it/s]                         "
          ]
        },
        {
          "output_type": "stream",
          "name": "stdout",
          "text": [
            "Epoch 165 of 200\n",
            "Generator loss: 1.47120786, Discriminator loss: 1.00718164\n"
          ]
        },
        {
          "output_type": "stream",
          "name": "stderr",
          "text": [
            "\n",
            "118it [00:11, 10.55it/s]                         \n"
          ]
        },
        {
          "output_type": "stream",
          "name": "stdout",
          "text": [
            "Epoch 166 of 200\n",
            "Generator loss: 1.44420564, Discriminator loss: 1.00359952\n"
          ]
        },
        {
          "output_type": "stream",
          "name": "stderr",
          "text": [
            "118it [00:10, 11.19it/s]                         "
          ]
        },
        {
          "output_type": "stream",
          "name": "stdout",
          "text": [
            "Epoch 167 of 200\n",
            "Generator loss: 1.44280207, Discriminator loss: 1.00712276\n"
          ]
        },
        {
          "output_type": "stream",
          "name": "stderr",
          "text": [
            "\n",
            "118it [00:11, 10.68it/s]                         "
          ]
        },
        {
          "output_type": "stream",
          "name": "stdout",
          "text": [
            "Epoch 168 of 200\n",
            "Generator loss: 1.43515122, Discriminator loss: 1.00152087\n"
          ]
        },
        {
          "output_type": "stream",
          "name": "stderr",
          "text": [
            "\n",
            "118it [00:11, 10.14it/s]                         "
          ]
        },
        {
          "output_type": "stream",
          "name": "stdout",
          "text": [
            "Epoch 169 of 200\n",
            "Generator loss: 1.40651608, Discriminator loss: 1.01945472\n"
          ]
        },
        {
          "output_type": "stream",
          "name": "stderr",
          "text": [
            "\n",
            "118it [00:11, 10.21it/s]                         "
          ]
        },
        {
          "output_type": "stream",
          "name": "stdout",
          "text": [
            "Epoch 170 of 200\n",
            "Generator loss: 1.44226050, Discriminator loss: 1.00845802\n"
          ]
        },
        {
          "output_type": "stream",
          "name": "stderr",
          "text": [
            "\n",
            "118it [00:11, 10.28it/s]                         "
          ]
        },
        {
          "output_type": "stream",
          "name": "stdout",
          "text": [
            "Epoch 171 of 200\n",
            "Generator loss: 1.47284579, Discriminator loss: 1.00540578\n"
          ]
        },
        {
          "output_type": "stream",
          "name": "stderr",
          "text": [
            "\n",
            "118it [00:11, 10.21it/s]"
          ]
        },
        {
          "output_type": "stream",
          "name": "stdout",
          "text": [
            "Epoch 172 of 200\n",
            "Generator loss: 1.39634037, Discriminator loss: 1.01093054\n"
          ]
        },
        {
          "output_type": "stream",
          "name": "stderr",
          "text": [
            "\n",
            "118it [00:11, 10.21it/s]                         "
          ]
        },
        {
          "output_type": "stream",
          "name": "stdout",
          "text": [
            "Epoch 173 of 200\n",
            "Generator loss: 1.43853545, Discriminator loss: 1.02061379\n"
          ]
        },
        {
          "output_type": "stream",
          "name": "stderr",
          "text": [
            "\n",
            "118it [00:11, 10.13it/s]                         "
          ]
        },
        {
          "output_type": "stream",
          "name": "stdout",
          "text": [
            "Epoch 174 of 200\n",
            "Generator loss: 1.40279710, Discriminator loss: 1.01748729\n"
          ]
        },
        {
          "output_type": "stream",
          "name": "stderr",
          "text": [
            "\n",
            "118it [00:11, 10.34it/s]                         "
          ]
        },
        {
          "output_type": "stream",
          "name": "stdout",
          "text": [
            "Epoch 175 of 200\n",
            "Generator loss: 1.42096102, Discriminator loss: 1.01634955\n"
          ]
        },
        {
          "output_type": "stream",
          "name": "stderr",
          "text": [
            "\n",
            "118it [00:11, 10.35it/s]                         "
          ]
        },
        {
          "output_type": "stream",
          "name": "stdout",
          "text": [
            "Epoch 176 of 200\n",
            "Generator loss: 1.38030660, Discriminator loss: 1.01776707\n"
          ]
        },
        {
          "output_type": "stream",
          "name": "stderr",
          "text": [
            "\n",
            "118it [00:11, 10.21it/s]                         "
          ]
        },
        {
          "output_type": "stream",
          "name": "stdout",
          "text": [
            "Epoch 177 of 200\n",
            "Generator loss: 1.39694226, Discriminator loss: 1.04087627\n"
          ]
        },
        {
          "output_type": "stream",
          "name": "stderr",
          "text": [
            "\n",
            "118it [00:11, 10.66it/s]                         "
          ]
        },
        {
          "output_type": "stream",
          "name": "stdout",
          "text": [
            "Epoch 178 of 200\n",
            "Generator loss: 1.43745399, Discriminator loss: 1.03314686\n"
          ]
        },
        {
          "output_type": "stream",
          "name": "stderr",
          "text": [
            "\n",
            "118it [00:10, 10.98it/s]                         "
          ]
        },
        {
          "output_type": "stream",
          "name": "stdout",
          "text": [
            "Epoch 179 of 200\n",
            "Generator loss: 1.32312799, Discriminator loss: 1.06045437\n"
          ]
        },
        {
          "output_type": "stream",
          "name": "stderr",
          "text": [
            "\n",
            "118it [00:11, 10.44it/s]                         "
          ]
        },
        {
          "output_type": "stream",
          "name": "stdout",
          "text": [
            "Epoch 180 of 200\n",
            "Generator loss: 1.33487344, Discriminator loss: 1.05597556\n"
          ]
        },
        {
          "output_type": "stream",
          "name": "stderr",
          "text": [
            "\n",
            "118it [00:11, 10.28it/s]                         "
          ]
        },
        {
          "output_type": "stream",
          "name": "stdout",
          "text": [
            "Epoch 181 of 200\n",
            "Generator loss: 1.43592894, Discriminator loss: 1.01405513\n"
          ]
        },
        {
          "output_type": "stream",
          "name": "stderr",
          "text": [
            "\n",
            "118it [00:11, 10.05it/s]                         "
          ]
        },
        {
          "output_type": "stream",
          "name": "stdout",
          "text": [
            "Epoch 182 of 200\n",
            "Generator loss: 1.39335620, Discriminator loss: 1.01855850\n"
          ]
        },
        {
          "output_type": "stream",
          "name": "stderr",
          "text": [
            "\n",
            "118it [00:11, 10.43it/s]                         \n"
          ]
        },
        {
          "output_type": "stream",
          "name": "stdout",
          "text": [
            "Epoch 183 of 200\n",
            "Generator loss: 1.38455296, Discriminator loss: 1.02826345\n"
          ]
        },
        {
          "output_type": "stream",
          "name": "stderr",
          "text": [
            "118it [00:11, 10.55it/s]                         "
          ]
        },
        {
          "output_type": "stream",
          "name": "stdout",
          "text": [
            "Epoch 184 of 200\n",
            "Generator loss: 1.33587754, Discriminator loss: 1.05252635\n"
          ]
        },
        {
          "output_type": "stream",
          "name": "stderr",
          "text": [
            "\n",
            "118it [00:11, 10.37it/s]                         "
          ]
        },
        {
          "output_type": "stream",
          "name": "stdout",
          "text": [
            "Epoch 185 of 200\n",
            "Generator loss: 1.30167389, Discriminator loss: 1.06148195\n"
          ]
        },
        {
          "output_type": "stream",
          "name": "stderr",
          "text": [
            "\n",
            "118it [00:11, 10.45it/s]"
          ]
        },
        {
          "output_type": "stream",
          "name": "stdout",
          "text": [
            "Epoch 186 of 200\n",
            "Generator loss: 1.35128176, Discriminator loss: 1.05032647\n"
          ]
        },
        {
          "output_type": "stream",
          "name": "stderr",
          "text": [
            "\n",
            "118it [00:11, 10.58it/s]                         "
          ]
        },
        {
          "output_type": "stream",
          "name": "stdout",
          "text": [
            "Epoch 187 of 200\n",
            "Generator loss: 1.32546628, Discriminator loss: 1.05650830\n"
          ]
        },
        {
          "output_type": "stream",
          "name": "stderr",
          "text": [
            "\n",
            "118it [00:11, 10.62it/s]                         "
          ]
        },
        {
          "output_type": "stream",
          "name": "stdout",
          "text": [
            "Epoch 188 of 200\n",
            "Generator loss: 1.30458128, Discriminator loss: 1.06609797\n"
          ]
        },
        {
          "output_type": "stream",
          "name": "stderr",
          "text": [
            "\n",
            "118it [00:10, 11.55it/s]                         "
          ]
        },
        {
          "output_type": "stream",
          "name": "stdout",
          "text": [
            "Epoch 189 of 200\n",
            "Generator loss: 1.34552658, Discriminator loss: 1.05572879\n"
          ]
        },
        {
          "output_type": "stream",
          "name": "stderr",
          "text": [
            "\n",
            "118it [00:10, 10.95it/s]                         "
          ]
        },
        {
          "output_type": "stream",
          "name": "stdout",
          "text": [
            "Epoch 190 of 200\n",
            "Generator loss: 1.34142077, Discriminator loss: 1.06862688\n"
          ]
        },
        {
          "output_type": "stream",
          "name": "stderr",
          "text": [
            "\n",
            "118it [00:11, 10.65it/s]                         "
          ]
        },
        {
          "output_type": "stream",
          "name": "stdout",
          "text": [
            "Epoch 191 of 200\n",
            "Generator loss: 1.24510729, Discriminator loss: 1.08462882\n"
          ]
        },
        {
          "output_type": "stream",
          "name": "stderr",
          "text": [
            "\n",
            "118it [00:11, 10.67it/s]                         "
          ]
        },
        {
          "output_type": "stream",
          "name": "stdout",
          "text": [
            "Epoch 192 of 200\n",
            "Generator loss: 1.29660606, Discriminator loss: 1.06639647\n"
          ]
        },
        {
          "output_type": "stream",
          "name": "stderr",
          "text": [
            "\n",
            "118it [00:11, 10.59it/s]                         "
          ]
        },
        {
          "output_type": "stream",
          "name": "stdout",
          "text": [
            "Epoch 193 of 200\n",
            "Generator loss: 1.30643713, Discriminator loss: 1.05859029\n"
          ]
        },
        {
          "output_type": "stream",
          "name": "stderr",
          "text": [
            "\n",
            "118it [00:11, 10.69it/s]                         "
          ]
        },
        {
          "output_type": "stream",
          "name": "stdout",
          "text": [
            "Epoch 194 of 200\n",
            "Generator loss: 1.33360314, Discriminator loss: 1.06762767\n"
          ]
        },
        {
          "output_type": "stream",
          "name": "stderr",
          "text": [
            "\n",
            "118it [00:11, 10.61it/s]                         "
          ]
        },
        {
          "output_type": "stream",
          "name": "stdout",
          "text": [
            "Epoch 195 of 200\n",
            "Generator loss: 1.35221660, Discriminator loss: 1.04241216\n"
          ]
        },
        {
          "output_type": "stream",
          "name": "stderr",
          "text": [
            "\n",
            "118it [00:11, 10.71it/s]                         \n"
          ]
        },
        {
          "output_type": "stream",
          "name": "stdout",
          "text": [
            "Epoch 196 of 200\n",
            "Generator loss: 1.31370604, Discriminator loss: 1.06998265\n"
          ]
        },
        {
          "output_type": "stream",
          "name": "stderr",
          "text": [
            "118it [00:10, 10.84it/s]                         "
          ]
        },
        {
          "output_type": "stream",
          "name": "stdout",
          "text": [
            "Epoch 197 of 200\n",
            "Generator loss: 1.32100129, Discriminator loss: 1.06184542\n"
          ]
        },
        {
          "output_type": "stream",
          "name": "stderr",
          "text": [
            "\n",
            "118it [00:10, 11.51it/s]                         "
          ]
        },
        {
          "output_type": "stream",
          "name": "stdout",
          "text": [
            "Epoch 198 of 200\n",
            "Generator loss: 1.27027237, Discriminator loss: 1.08334482\n"
          ]
        },
        {
          "output_type": "stream",
          "name": "stderr",
          "text": [
            "\n",
            "118it [00:10, 10.92it/s]                         "
          ]
        },
        {
          "output_type": "stream",
          "name": "stdout",
          "text": [
            "Epoch 199 of 200\n",
            "Generator loss: 1.27488804, Discriminator loss: 1.09351492\n"
          ]
        },
        {
          "output_type": "stream",
          "name": "stderr",
          "text": [
            "\n"
          ]
        }
      ]
    },
    {
      "cell_type": "markdown",
      "source": [
        "- `data_fake = generator(torch.randn(b_size, nz).to(device)).detach()` : 생성자에서 새로운 이미지 데이터(텐서) 생성하기 위해서는 노이즈 데이터가 필요함. 노이즈 데이터는 `torch.randn()` 이용하여 생성.\n",
        "    - `torch.randn(b_size, nz)` : 생성자에서 가짜 이미지 생성하기 위해서는 생성자에 노이즈 데이터(벡터) 제공해야 함. 노이즈 데이터는 잠재 벡터(nz) 크기와 동일해야 하고, 평균 0 표준편차 1인 가우시안 정규분포 이용하여 (b_size x nz) 크기 갖도록 함.\n",
        "    - `to(device)` : 모델이 데이터 처리하려면 모델과 데이터 모두 동일한 장치 사용해야 함. 모델이 사용할 장치 지정함.\n",
        "    - `detach()` : 이렇게 떼어 낸 데이터를 이용하여 판별자를 학습시키고 그 결과를 `loss_d`에 붙여 넣음."
      ],
      "metadata": {
        "id": "t53t3Gtzhqrd"
      }
    },
    {
      "cell_type": "code",
      "source": [
        "# 생성자와 판별자의 오차 확인\n",
        "plt.figure()\n",
        "losses_g = [f1.item() for f1 in losses_g]\n",
        "plt.plot(losses_g, label='Generator loss')\n",
        "losses_d = [f2.item() for f2 in losses_d]\n",
        "plt.plot(losses_d, label='Discriminator Loss')\n",
        "plt.legend()\n",
        "plt.show()"
      ],
      "metadata": {
        "colab": {
          "base_uri": "https://localhost:8080/",
          "height": 430
        },
        "id": "K--Ng0_nhKRO",
        "outputId": "c2304ae4-b9cf-454f-bf4d-269dfc9c5624"
      },
      "execution_count": null,
      "outputs": [
        {
          "output_type": "display_data",
          "data": {
            "text/plain": [
              "<Figure size 640x480 with 1 Axes>"
            ],
            "image/png": "[encoded data removed]"
          },
          "metadata": {}
        }
      ]
    },
    {
      "cell_type": "markdown",
      "source": [
        "- 처음 몇 에포크 동안 생성자의 오차는 증가, 판별자의 오차는 감소함.\n",
        "    - 이유 : 학습 초기 단계에 생성자는 좋은 가짜 이미지 생성하지 못하기 때문에 판별자가 실제 이미지와 가짜 이미지 쉽게 구분할 수 있음.\n",
        "- 학습 진행됨에 따라 생성자는 진짜와 같은 가짜 이미지 만들며 판별자는 가짜 이미지 중 일부를 진짜로 분류함. 그림과 같이 생성자의 오차가 감소하면 판별자의 오차가 증가함."
      ],
      "metadata": {
        "id": "Fn3s-2-JjTzM"
      }
    },
    {
      "cell_type": "code",
      "source": [
        "import numpy as np # numpy 라이브러리 import"
      ],
      "metadata": {
        "id": "zBvc1jPwsY9L"
      },
      "execution_count": null,
      "outputs": []
    },
    {
      "cell_type": "code",
      "source": [
        "# 생성된 이미지 출력\n",
        "fake_images = generator(torch.randn(b_size, nz).to(device))\n",
        "for i in range(10):\n",
        "    fake_images_img = np.reshape(fake_images.data.cpu().numpy()[i], (28, 28))\n",
        "    plt.imshow(fake_images_img, cmap='gray')\n",
        "    plt.show()"
      ],
      "metadata": {
        "colab": {
          "base_uri": "https://localhost:8080/",
          "height": 1000
        },
        "id": "6Prcw43wjOmI",
        "outputId": "85b54bf2-260b-4581-8bb8-95f1a1f73a51"
      },
      "execution_count": null,
      "outputs": [
        {
          "output_type": "display_data",
          "data": {
            "text/plain": [
              "<Figure size 640x480 with 1 Axes>"
            ],
            "image/png": "[encoded data removed]"
          },
          "metadata": {}
        },
        {
          "output_type": "display_data",
          "data": {
            "text/plain": [
              "<Figure size 640x480 with 1 Axes>"
            ],
            "image/png": "[encoded data removed]"
          },
          "metadata": {}
        },
        {
          "output_type": "display_data",
          "data": {
            "text/plain": [
              "<Figure size 640x480 with 1 Axes>"
            ],
            "image/png": "[encoded data removed]"
          },
          "metadata": {}
        },
        {
          "output_type": "display_data",
          "data": {
            "text/plain": [
              "<Figure size 640x480 with 1 Axes>"
            ],
            "image/png": "[encoded data removed]"
          },
          "metadata": {}
        },
        {
          "output_type": "display_data",
          "data": {
            "text/plain": [
              "<Figure size 640x480 with 1 Axes>"
            ],
            "image/png": "[encoded data removed]"
          },
          "metadata": {}
        },
        {
          "output_type": "display_data",
          "data": {
            "text/plain": [
              "<Figure size 640x480 with 1 Axes>"
            ],
            "image/png": "[encoded data removed]"
          },
          "metadata": {}
        },
        {
          "output_type": "display_data",
          "data": {
            "text/plain": [
              "<Figure size 640x480 with 1 Axes>"
            ],
            "image/png": "[encoded data removed]"
          },
          "metadata": {}
        },
        {
          "output_type": "display_data",
          "data": {
            "text/plain": [
              "<Figure size 640x480 with 1 Axes>"
            ],
            "image/png": "[encoded data removed]"
          },
          "metadata": {}
        },
        {
          "output_type": "display_data",
          "data": {
            "text/plain": [
              "<Figure size 640x480 with 1 Axes>"
            ],
            "image/png": "[encoded data removed]"
          },
          "metadata": {}
        },
        {
          "output_type": "display_data",
          "data": {
            "text/plain": [
              "<Figure size 640x480 with 1 Axes>"
            ],
            "image/png": "[encoded data removed]"
          },
          "metadata": {}
        }
      ]
    }
  ],
  "metadata": {
    "colab": {
      "provenance": [],
      "gpuType": "T4"
    },
    "kernelspec": {
      "display_name": "Python 3",
      "name": "python3"
    },
    "language_info": {
      "name": "python"
    },
    "accelerator": "GPU"
  },
  "nbformat": 4,
  "nbformat_minor": 0
}