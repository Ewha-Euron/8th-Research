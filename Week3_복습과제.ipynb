{
  "nbformat": 4,
  "nbformat_minor": 0,
  "metadata": {
    "colab": {
      "provenance": [],
      "gpuType": "T4"
    },
    "kernelspec": {
      "name": "python3",
      "display_name": "Python 3"
    },
    "language_info": {
      "name": "python"
    },
    "accelerator": "GPU"
  },
  "cells": [
    {
      "cell_type": "code",
      "execution_count": null,
      "metadata": {
        "id": "ppIqb597HXXl"
      },
      "outputs": [],
      "source": [
        "from tqdm import tqdm\n",
        "\n",
        "import torch\n",
        "import torch.nn as nn\n",
        "import torch.optim as optim\n",
        "from torch.utils.data import Dataset, DataLoader\n",
        "import matplotlib\n",
        "import matplotlib.pylab as plt\n",
        "\n",
        "from torchvision.utils import make_grid, save_image\n",
        "import torchvision.datasets as datasets\n",
        "import torchvision.transforms as transforms\n",
        "device = torch.device(\"cuda\" if torch.cuda.is_available() else \"cpu\")"
      ]
    },
    {
      "cell_type": "code",
      "source": [
        "batch_size = 512\n",
        "epochs = 200\n",
        "sample_size = 64\n",
        "nz = 128\n",
        "k = 1"
      ],
      "metadata": {
        "id": "sXBpIFgTIEGl"
      },
      "execution_count": null,
      "outputs": []
    },
    {
      "cell_type": "code",
      "source": [
        "transform = transforms.Compose([\n",
        "                                transforms.ToTensor(),\n",
        "                                transforms.Normalize((0.5,),(0.5,)), # 데이터 전처리 과정 / 입력 이미지 정규화\n",
        "])\n",
        "\n",
        "train_dataset = datasets.MNIST( # MNIST 데이터셋 불러옴\n",
        "    root=\"./data\", train=True, transform=transform, download=True) # Train=True : 훈련 데이터셋\n",
        "\n",
        "train_loader = DataLoader( # 배치 단위로 데이터 로드\n",
        "    train_dataset, batch_size=batch_size, shuffle=True, num_workers=4) # batch_six : 한 번에 512개 가져옴\n",
        "                                                                       # Shuffle=True : 데이터 순서 섞어서 로드 -> 다양성 증가"
      ],
      "metadata": {
        "colab": {
          "base_uri": "https://localhost:8080/"
        },
        "id": "roVyMdvGIaEH",
        "outputId": "37c375d1-2e17-47c5-e5ab-291eb4afa548"
      },
      "execution_count": null,
      "outputs": [
        {
          "output_type": "stream",
          "name": "stderr",
          "text": [
            "100%|██████████| 9.91M/9.91M [00:00<00:00, 11.5MB/s]\n",
            "100%|██████████| 28.9k/28.9k [00:00<00:00, 345kB/s]\n",
            "100%|██████████| 1.65M/1.65M [00:00<00:00, 3.21MB/s]\n",
            "100%|██████████| 4.54k/4.54k [00:00<00:00, 7.62MB/s]\n",
            "/usr/local/lib/python3.11/dist-packages/torch/utils/data/dataloader.py:624: UserWarning: This DataLoader will create 4 worker processes in total. Our suggested max number of worker in current system is 2, which is smaller than what this DataLoader is going to create. Please be aware that excessive worker creation might get DataLoader running slow or even freeze, lower the worker number to avoid potential slowness/freeze if necessary.\n",
            "  warnings.warn(\n"
          ]
        }
      ]
    },
    {
      "cell_type": "code",
      "source": [
        "# 생성자 구현\n",
        "class Generator(nn.Module):\n",
        "    def __init__(self, nz): # 생성자 : 랜덤 노이즈 z를 입력값으로\n",
        "        super(Generator, self).__init__()\n",
        "        self.nz = nz\n",
        "        self.main = nn.Sequential( # 신경망 구조\n",
        "            nn.Linear(self.nz, 256), # 완전 연결층\n",
        "            nn.LeakyReLU(0.2),\n",
        "            nn.Linear(256, 512),\n",
        "            nn.LeakyReLU(0.2),\n",
        "            nn.Linear(512, 1024),\n",
        "            nn.LeakyReLU(0.2),\n",
        "            nn.Linear(1024, 784), # 최종적으로 784차원\n",
        "            nn.Tanh(),\n",
        "        )\n",
        "    def forward(self, x): # 순전파 / x : 랜덤 노이즈 입력값\n",
        "        return self.main(x).view(-1, 1, 28, 28)"
      ],
      "metadata": {
        "id": "D4XBkZUmJFEJ"
      },
      "execution_count": null,
      "outputs": []
    },
    {
      "cell_type": "code",
      "source": [
        "# 판별자 구현\n",
        "class Discriminator(nn.Module):\n",
        "    def __init__(self):\n",
        "        super(Discriminator, self).__init__()\n",
        "        self.n_input = 784\n",
        "        self.main = nn.Sequential(\n",
        "            nn.Linear(self.n_input, 1024),\n",
        "            nn.LeakyReLU(0.2),\n",
        "            nn.Dropout(0.3),\n",
        "            nn.Linear(1024, 512),\n",
        "            nn.LeakyReLU(0.2),\n",
        "            nn.Dropout(0.3),\n",
        "            nn.Linear(512, 256),\n",
        "            nn.LeakyReLU(0.2),\n",
        "            nn.Dropout(0.3),\n",
        "            nn.Linear(256, 1), # 최종 출려값 / 0~1 사이의 확률값\n",
        "            nn.Sigmoid(), # 최종 출력값을 [0, 1] 범위로 조정시킴\n",
        "        )\n",
        "    def forward(self, x): # 순전파\n",
        "        x = x.view(-1, 784) # 배치 크기를 맞춰주는 형태\n",
        "        return self.main(x)"
      ],
      "metadata": {
        "id": "fugeRy59JKJv"
      },
      "execution_count": null,
      "outputs": []
    },
    {
      "cell_type": "code",
      "source": [
        "# 생성자와 판별자 초기화\n",
        "generator = Generator(nz).to(device)\n",
        "discriminator = Discriminator().to(device)\n",
        "print(generator)\n",
        "print(discriminator)"
      ],
      "metadata": {
        "colab": {
          "base_uri": "https://localhost:8080/"
        },
        "id": "-Fb-ZzCbJOx1",
        "outputId": "3046f3c3-5432-4501-f781-42bf219e50a5"
      },
      "execution_count": null,
      "outputs": [
        {
          "output_type": "stream",
          "name": "stdout",
          "text": [
            "Generator(\n",
            "  (main): Sequential(\n",
            "    (0): Linear(in_features=128, out_features=256, bias=True)\n",
            "    (1): LeakyReLU(negative_slope=0.2)\n",
            "    (2): Linear(in_features=256, out_features=512, bias=True)\n",
            "    (3): LeakyReLU(negative_slope=0.2)\n",
            "    (4): Linear(in_features=512, out_features=1024, bias=True)\n",
            "    (5): LeakyReLU(negative_slope=0.2)\n",
            "    (6): Linear(in_features=1024, out_features=784, bias=True)\n",
            "    (7): Tanh()\n",
            "  )\n",
            ")\n",
            "Discriminator(\n",
            "  (main): Sequential(\n",
            "    (0): Linear(in_features=784, out_features=1024, bias=True)\n",
            "    (1): LeakyReLU(negative_slope=0.2)\n",
            "    (2): Dropout(p=0.3, inplace=False)\n",
            "    (3): Linear(in_features=1024, out_features=512, bias=True)\n",
            "    (4): LeakyReLU(negative_slope=0.2)\n",
            "    (5): Dropout(p=0.3, inplace=False)\n",
            "    (6): Linear(in_features=512, out_features=256, bias=True)\n",
            "    (7): LeakyReLU(negative_slope=0.2)\n",
            "    (8): Dropout(p=0.3, inplace=False)\n",
            "    (9): Linear(in_features=256, out_features=1, bias=True)\n",
            "    (10): Sigmoid()\n",
            "  )\n",
            ")\n"
          ]
        }
      ]
    },
    {
      "cell_type": "code",
      "source": [
        "# 옵티마이저와 손실함수 정의\n",
        "optim_g = optim.Adam(generator.parameters(), lr=0.0002) # Adam 옵티마이저로 생성자 각각 최적화시킴\n",
        "optim_d = optim.Adam(discriminator.parameters(), lr=0.0002) # Adam 옵티마이저로 판별자 각각 최적화시킴\n",
        "\n",
        "criterion = nn.BCELoss() # 손실 함수(Binary Cross Entropy Loss -> 이진 분류 대상)\n",
        "\n",
        "# 손실값 / 생성된 이미지 저장시킬 공간\n",
        "losses_g = []\n",
        "losses_d = []\n",
        "images = []"
      ],
      "metadata": {
        "id": "xngPuWUEJWd-"
      },
      "execution_count": null,
      "outputs": []
    },
    {
      "cell_type": "code",
      "source": [
        "# 생성된 이미지 저장 함수 정의\n",
        "def save_generator_image(image, path): # 생성된 이미지를 path에 저장\n",
        "    save_image(image, path)"
      ],
      "metadata": {
        "id": "1Q1oO23lJfA9"
      },
      "execution_count": null,
      "outputs": []
    },
    {
      "cell_type": "code",
      "source": [
        "# 판별자 학습을 위한 함수\n",
        "def train_discriminator(optimizer, data_real, data_fake):\n",
        "    b_size = data_real.size(0)\n",
        "    real_label = torch.ones(b_size, 1).to(device) # 진짜 이미지 : 1로 라벨링\n",
        "    fake_label = torch.zeros(b_size, 1).to(device) # 가짜 이미지 : 0으로 라벨링\n",
        "    optimizer.zero_grad() # 역전파로 인해 그래디언트 누적되는 것 초기화 필요\n",
        "\n",
        "    # 진짜 데이터 학습\n",
        "    output_real = discriminator(data_real)\n",
        "    loss_real = criterion(output_real, real_label) # 진짜 데이터를 판별자로 학습한 결과와 진짜 레이블 간의 오차값 계산\n",
        "    # 가짜 데이터 학습\n",
        "    output_fake = discriminator(data_fake)\n",
        "    loss_fake = criterion(output_fake, fake_label) # 가짜 데이터로 판별자로 학습한 결과와 가짜 레이블 간의 오차값 계산\n",
        "\n",
        "    loss_real.backward()\n",
        "    loss_fake.backward()\n",
        "    optimizer.step() # 옵티마이저(가중치) 업데이트시킴\n",
        "    return loss_real + loss_fake # 진짜 데이터와 가짜 데이터의 오차를 합한 최종적인 오차 형태"
      ],
      "metadata": {
        "id": "2AC6UrICJks0"
      },
      "execution_count": null,
      "outputs": []
    },
    {
      "cell_type": "code",
      "source": [
        "# 생성자 학습을 위한 함수\n",
        "def train_generator(optimizer, data_fake):\n",
        "    b_size = data_fake.size(0)\n",
        "    real_label = torch.ones(b_size, 1).to(device) # 가짜 데이터를 1로 라벨링\n",
        "    optimizer.zero_grad() # 그래디언트 누적되는 거 방지\n",
        "\n",
        "    output = discriminator(data_fake) # 가짜 데이터만 활용함 -> 가짜 데이터 입력받아 진짜일 확률\n",
        "    loss = criterion(output, real_label) # 손실값 계산\n",
        "\n",
        "    loss.backward()\n",
        "    optimizer.step()\n",
        "\n",
        "    return loss # 최종 손실값"
      ],
      "metadata": {
        "id": "bCpSgQ7dKABA"
      },
      "execution_count": null,
      "outputs": []
    },
    {
      "cell_type": "code",
      "source": [
        "!mkdir img #img 폴더 만들기"
      ],
      "metadata": {
        "id": "OVTzKVOXKNcw"
      },
      "execution_count": null,
      "outputs": []
    },
    {
      "cell_type": "code",
      "source": [
        "# 모델 학습 과정\n",
        "# 학습 모드 설정\n",
        "generator.train()\n",
        "discriminator.train()\n",
        "\n",
        "for epoch in range(epochs):\n",
        "    loss_g = 0.0 # 변수 초기값 0으로\n",
        "    loss_d = 0.0\n",
        "    # 데이터 로더를 통한 배치 학습\n",
        "    for idx, data in tqdm(enumerate(train_loader), total=int(len(train_dataset)/train_loader.batch_size)):\n",
        "\n",
        "        image, _ = data\n",
        "        image = image.to(device)\n",
        "        b_size = len(image)\n",
        "        # 판별자 학습 과정\n",
        "        for step in range(k):\n",
        "            data_fake = generator(torch.randn(b_size, nz).to(device)).detach() # 생성자에서 노이즈 입력받아 가짜 이미지 생성\n",
        "            data_real = image\n",
        "            loss_d += train_discriminator(optim_d, data_real, data_fake)\n",
        "        # 생성자 학습 과정\n",
        "        data_fake = generator(torch.randn(b_size, nz).to(device)) # 새로운 가짜 이미지 생성\n",
        "        loss_g += train_generator(optim_g, data_fake)\n",
        "    # 이미지 생성 및 저장\n",
        "    generated_img = generator(torch.randn(b_size, nz).to(device)).cpu().detach()\n",
        "    generated_img = make_grid(generated_img)\n",
        "    save_generator_image(generated_img, \"./img/gen_img{epoch}.png\")\n",
        "    images.append(generated_img)\n",
        "    # 손실값 계산, 저장\n",
        "    epoch_loss_g = loss_g / idx # 평균 생성자 손실\n",
        "    epoch_loss_d = loss_d / idx # 평균 판별자 손실\n",
        "    losses_g.append(epoch_loss_g)\n",
        "    losses_d.append(epoch_loss_d)\n",
        "\n",
        "    print(f\"Epoch {epoch} of {epochs}\")\n",
        "    print(f\"Generator loss: {epoch_loss_g:.8f}, Discriminator loss: {epoch_loss_d:.8f}\")"
      ],
      "metadata": {
        "colab": {
          "base_uri": "https://localhost:8080/"
        },
        "id": "sA3eqNJjKJAD",
        "outputId": "63e6b116-f098-45ef-bb22-e3cf771fe0fc"
      },
      "execution_count": null,
      "outputs": [
        {
          "output_type": "stream",
          "name": "stderr",
          "text": [
            "118it [00:11, 10.12it/s]                         "
          ]
        },
        {
          "output_type": "stream",
          "name": "stdout",
          "text": [
            "Epoch 0 of 200\n",
            "Generator loss: 1.32567739, Discriminator loss: 0.89297736\n"
          ]
        },
        {
          "output_type": "stream",
          "name": "stderr",
          "text": [
            "\n",
            "118it [00:11, 10.34it/s]                         \n"
          ]
        },
        {
          "output_type": "stream",
          "name": "stdout",
          "text": [
            "Epoch 1 of 200\n",
            "Generator loss: 1.81906307, Discriminator loss: 1.40885425\n"
          ]
        },
        {
          "output_type": "stream",
          "name": "stderr",
          "text": [
            "118it [00:11, 10.40it/s]                         "
          ]
        },
        {
          "output_type": "stream",
          "name": "stdout",
          "text": [
            "Epoch 2 of 200\n",
            "Generator loss: 2.98218799, Discriminator loss: 0.89903188\n"
          ]
        },
        {
          "output_type": "stream",
          "name": "stderr",
          "text": [
            "\n",
            "118it [00:11,  9.93it/s]                         "
          ]
        },
        {
          "output_type": "stream",
          "name": "stdout",
          "text": [
            "Epoch 3 of 200\n",
            "Generator loss: 0.99073362, Discriminator loss: 1.27104998\n"
          ]
        },
        {
          "output_type": "stream",
          "name": "stderr",
          "text": [
            "\n",
            "118it [00:10, 10.74it/s]                         "
          ]
        },
        {
          "output_type": "stream",
          "name": "stdout",
          "text": [
            "Epoch 4 of 200\n",
            "Generator loss: 1.19823217, Discriminator loss: 1.23320830\n"
          ]
        },
        {
          "output_type": "stream",
          "name": "stderr",
          "text": [
            "\n",
            "118it [00:10, 10.83it/s]                         \n"
          ]
        },
        {
          "output_type": "stream",
          "name": "stdout",
          "text": [
            "Epoch 5 of 200\n",
            "Generator loss: 5.84866238, Discriminator loss: 0.73695904\n"
          ]
        },
        {
          "output_type": "stream",
          "name": "stderr",
          "text": [
            "118it [00:11, 10.28it/s]                         "
          ]
        },
        {
          "output_type": "stream",
          "name": "stdout",
          "text": [
            "Epoch 6 of 200\n",
            "Generator loss: 2.29009056, Discriminator loss: 1.09637702\n"
          ]
        },
        {
          "output_type": "stream",
          "name": "stderr",
          "text": [
            "\n",
            "118it [00:12,  9.48it/s]                         "
          ]
        },
        {
          "output_type": "stream",
          "name": "stdout",
          "text": [
            "Epoch 7 of 200\n",
            "Generator loss: 1.39046371, Discriminator loss: 1.20699978\n"
          ]
        },
        {
          "output_type": "stream",
          "name": "stderr",
          "text": [
            "\n",
            "118it [00:12,  9.28it/s]                         "
          ]
        },
        {
          "output_type": "stream",
          "name": "stdout",
          "text": [
            "Epoch 8 of 200\n",
            "Generator loss: 0.95712346, Discriminator loss: 1.21664739\n"
          ]
        },
        {
          "output_type": "stream",
          "name": "stderr",
          "text": [
            "\n",
            "118it [00:11,  9.98it/s]                         "
          ]
        },
        {
          "output_type": "stream",
          "name": "stdout",
          "text": [
            "Epoch 9 of 200\n",
            "Generator loss: 1.29846108, Discriminator loss: 1.12485468\n"
          ]
        },
        {
          "output_type": "stream",
          "name": "stderr",
          "text": [
            "\n",
            "118it [00:11, 10.03it/s]                         "
          ]
        },
        {
          "output_type": "stream",
          "name": "stdout",
          "text": [
            "Epoch 10 of 200\n",
            "Generator loss: 2.37614441, Discriminator loss: 1.32535195\n"
          ]
        },
        {
          "output_type": "stream",
          "name": "stderr",
          "text": [
            "\n",
            "118it [00:12,  9.27it/s]                         "
          ]
        },
        {
          "output_type": "stream",
          "name": "stdout",
          "text": [
            "Epoch 11 of 200\n",
            "Generator loss: 2.22657204, Discriminator loss: 1.10863245\n"
          ]
        },
        {
          "output_type": "stream",
          "name": "stderr",
          "text": [
            "\n",
            "118it [00:15,  7.82it/s]                         "
          ]
        },
        {
          "output_type": "stream",
          "name": "stdout",
          "text": [
            "Epoch 12 of 200\n",
            "Generator loss: 2.21962047, Discriminator loss: 0.98221207\n"
          ]
        },
        {
          "output_type": "stream",
          "name": "stderr",
          "text": [
            "\n",
            "118it [00:15,  7.54it/s]"
          ]
        },
        {
          "output_type": "stream",
          "name": "stdout",
          "text": [
            "Epoch 13 of 200\n",
            "Generator loss: 1.37022293, Discriminator loss: 1.21424878\n"
          ]
        },
        {
          "output_type": "stream",
          "name": "stderr",
          "text": [
            "\n",
            "118it [00:16,  7.33it/s]"
          ]
        },
        {
          "output_type": "stream",
          "name": "stdout",
          "text": [
            "Epoch 14 of 200\n",
            "Generator loss: 2.48201084, Discriminator loss: 0.96542794\n"
          ]
        },
        {
          "output_type": "stream",
          "name": "stderr",
          "text": [
            "\n",
            "118it [00:13,  8.73it/s]                         "
          ]
        },
        {
          "output_type": "stream",
          "name": "stdout",
          "text": [
            "Epoch 15 of 200\n",
            "Generator loss: 1.64164126, Discriminator loss: 1.27583766\n"
          ]
        },
        {
          "output_type": "stream",
          "name": "stderr",
          "text": [
            "\n",
            "118it [00:13,  8.56it/s]                         "
          ]
        },
        {
          "output_type": "stream",
          "name": "stdout",
          "text": [
            "Epoch 16 of 200\n",
            "Generator loss: 1.73654532, Discriminator loss: 0.82898736\n"
          ]
        },
        {
          "output_type": "stream",
          "name": "stderr",
          "text": [
            "\n",
            "118it [00:12,  9.34it/s]                         "
          ]
        },
        {
          "output_type": "stream",
          "name": "stdout",
          "text": [
            "Epoch 17 of 200\n",
            "Generator loss: 1.90745056, Discriminator loss: 1.06243026\n"
          ]
        },
        {
          "output_type": "stream",
          "name": "stderr",
          "text": [
            "\n",
            "118it [00:12,  9.71it/s]                         "
          ]
        },
        {
          "output_type": "stream",
          "name": "stdout",
          "text": [
            "Epoch 18 of 200\n",
            "Generator loss: 1.37720239, Discriminator loss: 0.99094069\n"
          ]
        },
        {
          "output_type": "stream",
          "name": "stderr",
          "text": [
            "\n",
            "118it [00:11, 10.10it/s]                         "
          ]
        },
        {
          "output_type": "stream",
          "name": "stdout",
          "text": [
            "Epoch 19 of 200\n",
            "Generator loss: 1.84554291, Discriminator loss: 0.90686882\n"
          ]
        },
        {
          "output_type": "stream",
          "name": "stderr",
          "text": [
            "\n",
            "118it [00:12,  9.70it/s]                         "
          ]
        },
        {
          "output_type": "stream",
          "name": "stdout",
          "text": [
            "Epoch 20 of 200\n",
            "Generator loss: 2.09504676, Discriminator loss: 0.80842036\n"
          ]
        },
        {
          "output_type": "stream",
          "name": "stderr",
          "text": [
            "\n",
            "118it [00:11, 10.07it/s]                         "
          ]
        },
        {
          "output_type": "stream",
          "name": "stdout",
          "text": [
            "Epoch 21 of 200\n",
            "Generator loss: 1.76052237, Discriminator loss: 0.85557067\n"
          ]
        },
        {
          "output_type": "stream",
          "name": "stderr",
          "text": [
            "\n",
            "118it [00:12,  9.44it/s]                         "
          ]
        },
        {
          "output_type": "stream",
          "name": "stdout",
          "text": [
            "Epoch 22 of 200\n",
            "Generator loss: 1.73394680, Discriminator loss: 0.81417131\n"
          ]
        },
        {
          "output_type": "stream",
          "name": "stderr",
          "text": [
            "\n",
            "118it [00:13,  8.75it/s]                         "
          ]
        },
        {
          "output_type": "stream",
          "name": "stdout",
          "text": [
            "Epoch 23 of 200\n",
            "Generator loss: 1.68064630, Discriminator loss: 0.66546869\n"
          ]
        },
        {
          "output_type": "stream",
          "name": "stderr",
          "text": [
            "\n",
            "118it [00:17,  6.74it/s]                         "
          ]
        },
        {
          "output_type": "stream",
          "name": "stdout",
          "text": [
            "Epoch 24 of 200\n",
            "Generator loss: 2.86298060, Discriminator loss: 0.41476771\n"
          ]
        },
        {
          "output_type": "stream",
          "name": "stderr",
          "text": [
            "\n",
            "118it [00:13,  8.45it/s]                         "
          ]
        },
        {
          "output_type": "stream",
          "name": "stdout",
          "text": [
            "Epoch 25 of 200\n",
            "Generator loss: 2.79871726, Discriminator loss: 0.43197578\n"
          ]
        },
        {
          "output_type": "stream",
          "name": "stderr",
          "text": [
            "\n",
            "118it [00:12,  9.46it/s]                         "
          ]
        },
        {
          "output_type": "stream",
          "name": "stdout",
          "text": [
            "Epoch 26 of 200\n",
            "Generator loss: 2.90822506, Discriminator loss: 0.52611870\n"
          ]
        },
        {
          "output_type": "stream",
          "name": "stderr",
          "text": [
            "\n",
            "118it [00:14,  8.40it/s]                         "
          ]
        },
        {
          "output_type": "stream",
          "name": "stdout",
          "text": [
            "Epoch 27 of 200\n",
            "Generator loss: 2.82330251, Discriminator loss: 0.50895339\n"
          ]
        },
        {
          "output_type": "stream",
          "name": "stderr",
          "text": [
            "\n",
            "118it [00:15,  7.85it/s]\n"
          ]
        },
        {
          "output_type": "stream",
          "name": "stdout",
          "text": [
            "Epoch 28 of 200\n",
            "Generator loss: 2.80139470, Discriminator loss: 0.41884279\n"
          ]
        },
        {
          "output_type": "stream",
          "name": "stderr",
          "text": [
            "118it [00:14,  8.04it/s]                         "
          ]
        },
        {
          "output_type": "stream",
          "name": "stdout",
          "text": [
            "Epoch 29 of 200\n",
            "Generator loss: 2.68260098, Discriminator loss: 0.48754707\n"
          ]
        },
        {
          "output_type": "stream",
          "name": "stderr",
          "text": [
            "\n",
            "118it [00:12,  9.21it/s]                         \n"
          ]
        },
        {
          "output_type": "stream",
          "name": "stdout",
          "text": [
            "Epoch 30 of 200\n",
            "Generator loss: 2.87278056, Discriminator loss: 0.50771475\n"
          ]
        },
        {
          "output_type": "stream",
          "name": "stderr",
          "text": [
            "118it [00:12,  9.67it/s]                         \n"
          ]
        },
        {
          "output_type": "stream",
          "name": "stdout",
          "text": [
            "Epoch 31 of 200\n",
            "Generator loss: 2.50462246, Discriminator loss: 0.62507683\n"
          ]
        },
        {
          "output_type": "stream",
          "name": "stderr",
          "text": [
            "118it [00:12,  9.75it/s]                         \n"
          ]
        },
        {
          "output_type": "stream",
          "name": "stdout",
          "text": [
            "Epoch 32 of 200\n",
            "Generator loss: 2.71780825, Discriminator loss: 0.48903617\n"
          ]
        },
        {
          "output_type": "stream",
          "name": "stderr",
          "text": [
            "118it [00:12,  9.26it/s]                         "
          ]
        },
        {
          "output_type": "stream",
          "name": "stdout",
          "text": [
            "Epoch 33 of 200\n",
            "Generator loss: 2.87111735, Discriminator loss: 0.45086634\n"
          ]
        },
        {
          "output_type": "stream",
          "name": "stderr",
          "text": [
            "\n",
            "118it [00:11, 10.17it/s]                         "
          ]
        },
        {
          "output_type": "stream",
          "name": "stdout",
          "text": [
            "Epoch 34 of 200\n",
            "Generator loss: 2.60673094, Discriminator loss: 0.56243867\n"
          ]
        },
        {
          "output_type": "stream",
          "name": "stderr",
          "text": [
            "\n",
            "118it [00:11,  9.90it/s]                         "
          ]
        },
        {
          "output_type": "stream",
          "name": "stdout",
          "text": [
            "Epoch 35 of 200\n",
            "Generator loss: 2.72606611, Discriminator loss: 0.48686403\n"
          ]
        },
        {
          "output_type": "stream",
          "name": "stderr",
          "text": [
            "\n",
            "118it [00:11, 10.23it/s]                         "
          ]
        },
        {
          "output_type": "stream",
          "name": "stdout",
          "text": [
            "Epoch 36 of 200\n",
            "Generator loss: 2.47100019, Discriminator loss: 0.57838023\n"
          ]
        },
        {
          "output_type": "stream",
          "name": "stderr",
          "text": [
            "\n",
            "118it [00:11, 10.65it/s]                         \n"
          ]
        },
        {
          "output_type": "stream",
          "name": "stdout",
          "text": [
            "Epoch 37 of 200\n",
            "Generator loss: 2.39085007, Discriminator loss: 0.59721112\n"
          ]
        },
        {
          "output_type": "stream",
          "name": "stderr",
          "text": [
            "118it [00:11, 10.42it/s]                         "
          ]
        },
        {
          "output_type": "stream",
          "name": "stdout",
          "text": [
            "Epoch 38 of 200\n",
            "Generator loss: 2.49324346, Discriminator loss: 0.59251666\n"
          ]
        },
        {
          "output_type": "stream",
          "name": "stderr",
          "text": [
            "\n",
            "118it [00:11,  9.85it/s]                         \n"
          ]
        },
        {
          "output_type": "stream",
          "name": "stdout",
          "text": [
            "Epoch 39 of 200\n",
            "Generator loss: 2.77208519, Discriminator loss: 0.52435648\n"
          ]
        },
        {
          "output_type": "stream",
          "name": "stderr",
          "text": [
            "118it [00:11,  9.84it/s]                         "
          ]
        },
        {
          "output_type": "stream",
          "name": "stdout",
          "text": [
            "Epoch 40 of 200\n",
            "Generator loss: 2.72151494, Discriminator loss: 0.49843580\n"
          ]
        },
        {
          "output_type": "stream",
          "name": "stderr",
          "text": [
            "\n",
            "118it [00:11, 10.13it/s]                         "
          ]
        },
        {
          "output_type": "stream",
          "name": "stdout",
          "text": [
            "Epoch 41 of 200\n",
            "Generator loss: 3.20776391, Discriminator loss: 0.45417157\n"
          ]
        },
        {
          "output_type": "stream",
          "name": "stderr",
          "text": [
            "\n",
            "118it [00:11, 10.21it/s]                         \n"
          ]
        },
        {
          "output_type": "stream",
          "name": "stdout",
          "text": [
            "Epoch 42 of 200\n",
            "Generator loss: 2.61140418, Discriminator loss: 0.58320612\n"
          ]
        },
        {
          "output_type": "stream",
          "name": "stderr",
          "text": [
            "118it [00:11,  9.94it/s]                         "
          ]
        },
        {
          "output_type": "stream",
          "name": "stdout",
          "text": [
            "Epoch 43 of 200\n",
            "Generator loss: 2.88725424, Discriminator loss: 0.46648160\n"
          ]
        },
        {
          "output_type": "stream",
          "name": "stderr",
          "text": [
            "\n",
            "118it [00:12,  9.80it/s]                         "
          ]
        },
        {
          "output_type": "stream",
          "name": "stdout",
          "text": [
            "Epoch 44 of 200\n",
            "Generator loss: 2.78161263, Discriminator loss: 0.55577105\n"
          ]
        },
        {
          "output_type": "stream",
          "name": "stderr",
          "text": [
            "\n",
            "118it [00:11,  9.99it/s]                         "
          ]
        },
        {
          "output_type": "stream",
          "name": "stdout",
          "text": [
            "Epoch 45 of 200\n",
            "Generator loss: 2.80674529, Discriminator loss: 0.50223559\n"
          ]
        },
        {
          "output_type": "stream",
          "name": "stderr",
          "text": [
            "\n",
            "118it [00:11, 10.02it/s]                         "
          ]
        },
        {
          "output_type": "stream",
          "name": "stdout",
          "text": [
            "Epoch 46 of 200\n",
            "Generator loss: 2.73027992, Discriminator loss: 0.58779246\n"
          ]
        },
        {
          "output_type": "stream",
          "name": "stderr",
          "text": [
            "\n",
            "118it [00:11, 10.00it/s]                         "
          ]
        },
        {
          "output_type": "stream",
          "name": "stdout",
          "text": [
            "Epoch 47 of 200\n",
            "Generator loss: 2.82924938, Discriminator loss: 0.55714184\n"
          ]
        },
        {
          "output_type": "stream",
          "name": "stderr",
          "text": [
            "\n",
            "118it [00:11, 10.18it/s]                         "
          ]
        },
        {
          "output_type": "stream",
          "name": "stdout",
          "text": [
            "Epoch 48 of 200\n",
            "Generator loss: 2.63843250, Discriminator loss: 0.59289247\n"
          ]
        },
        {
          "output_type": "stream",
          "name": "stderr",
          "text": [
            "\n",
            "118it [00:11, 10.16it/s]                         "
          ]
        },
        {
          "output_type": "stream",
          "name": "stdout",
          "text": [
            "Epoch 49 of 200\n",
            "Generator loss: 2.49905062, Discriminator loss: 0.56485540\n"
          ]
        },
        {
          "output_type": "stream",
          "name": "stderr",
          "text": [
            "\n",
            "118it [00:11, 10.24it/s]                         "
          ]
        },
        {
          "output_type": "stream",
          "name": "stdout",
          "text": [
            "Epoch 50 of 200\n",
            "Generator loss: 2.71616864, Discriminator loss: 0.54764915\n"
          ]
        },
        {
          "output_type": "stream",
          "name": "stderr",
          "text": [
            "\n",
            "118it [00:10, 10.74it/s]                         "
          ]
        },
        {
          "output_type": "stream",
          "name": "stdout",
          "text": [
            "Epoch 51 of 200\n",
            "Generator loss: 2.54708719, Discriminator loss: 0.57573181\n"
          ]
        },
        {
          "output_type": "stream",
          "name": "stderr",
          "text": [
            "\n",
            "118it [00:10, 10.76it/s]                         \n"
          ]
        },
        {
          "output_type": "stream",
          "name": "stdout",
          "text": [
            "Epoch 52 of 200\n",
            "Generator loss: 2.53037000, Discriminator loss: 0.56593019\n"
          ]
        },
        {
          "output_type": "stream",
          "name": "stderr",
          "text": [
            "118it [00:11, 10.27it/s]                         \n"
          ]
        },
        {
          "output_type": "stream",
          "name": "stdout",
          "text": [
            "Epoch 53 of 200\n",
            "Generator loss: 2.71340275, Discriminator loss: 0.56349069\n"
          ]
        },
        {
          "output_type": "stream",
          "name": "stderr",
          "text": [
            "118it [00:11, 10.20it/s]                         "
          ]
        },
        {
          "output_type": "stream",
          "name": "stdout",
          "text": [
            "Epoch 54 of 200\n",
            "Generator loss: 2.74932933, Discriminator loss: 0.52627617\n"
          ]
        },
        {
          "output_type": "stream",
          "name": "stderr",
          "text": [
            "\n",
            "118it [00:11, 10.34it/s]                         "
          ]
        },
        {
          "output_type": "stream",
          "name": "stdout",
          "text": [
            "Epoch 55 of 200\n",
            "Generator loss: 2.93026924, Discriminator loss: 0.53632200\n"
          ]
        },
        {
          "output_type": "stream",
          "name": "stderr",
          "text": [
            "\n",
            "118it [00:11, 10.29it/s]                         "
          ]
        },
        {
          "output_type": "stream",
          "name": "stdout",
          "text": [
            "Epoch 56 of 200\n",
            "Generator loss: 2.74366164, Discriminator loss: 0.58227521\n"
          ]
        },
        {
          "output_type": "stream",
          "name": "stderr",
          "text": [
            "\n",
            "118it [00:11, 10.12it/s]                         \n"
          ]
        },
        {
          "output_type": "stream",
          "name": "stdout",
          "text": [
            "Epoch 57 of 200\n",
            "Generator loss: 2.54867625, Discriminator loss: 0.59554553\n"
          ]
        },
        {
          "output_type": "stream",
          "name": "stderr",
          "text": [
            "118it [00:11, 10.21it/s]                         "
          ]
        },
        {
          "output_type": "stream",
          "name": "stdout",
          "text": [
            "Epoch 58 of 200\n",
            "Generator loss: 2.60908508, Discriminator loss: 0.56018990\n"
          ]
        },
        {
          "output_type": "stream",
          "name": "stderr",
          "text": [
            "\n",
            "118it [00:11, 10.26it/s]                         "
          ]
        },
        {
          "output_type": "stream",
          "name": "stdout",
          "text": [
            "Epoch 59 of 200\n",
            "Generator loss: 2.63971090, Discriminator loss: 0.55733865\n"
          ]
        },
        {
          "output_type": "stream",
          "name": "stderr",
          "text": [
            "\n",
            "118it [00:11, 10.13it/s]                         "
          ]
        },
        {
          "output_type": "stream",
          "name": "stdout",
          "text": [
            "Epoch 60 of 200\n",
            "Generator loss: 2.54629970, Discriminator loss: 0.59494835\n"
          ]
        },
        {
          "output_type": "stream",
          "name": "stderr",
          "text": [
            "\n",
            "118it [00:11, 10.26it/s]                         "
          ]
        },
        {
          "output_type": "stream",
          "name": "stdout",
          "text": [
            "Epoch 61 of 200\n",
            "Generator loss: 2.35659933, Discriminator loss: 0.65221256\n"
          ]
        },
        {
          "output_type": "stream",
          "name": "stderr",
          "text": [
            "\n",
            "118it [00:11, 10.07it/s]                         "
          ]
        },
        {
          "output_type": "stream",
          "name": "stdout",
          "text": [
            "Epoch 62 of 200\n",
            "Generator loss: 2.47694468, Discriminator loss: 0.64542454\n"
          ]
        },
        {
          "output_type": "stream",
          "name": "stderr",
          "text": [
            "\n",
            "118it [00:11, 10.54it/s]                         "
          ]
        },
        {
          "output_type": "stream",
          "name": "stdout",
          "text": [
            "Epoch 63 of 200\n",
            "Generator loss: 2.57946682, Discriminator loss: 0.62748182\n"
          ]
        },
        {
          "output_type": "stream",
          "name": "stderr",
          "text": [
            "\n",
            "118it [00:10, 10.77it/s]                         "
          ]
        },
        {
          "output_type": "stream",
          "name": "stdout",
          "text": [
            "Epoch 64 of 200\n",
            "Generator loss: 2.46568942, Discriminator loss: 0.60189277\n"
          ]
        },
        {
          "output_type": "stream",
          "name": "stderr",
          "text": [
            "\n",
            "118it [00:11, 10.47it/s]                         \n"
          ]
        },
        {
          "output_type": "stream",
          "name": "stdout",
          "text": [
            "Epoch 65 of 200\n",
            "Generator loss: 2.53585315, Discriminator loss: 0.56897902\n"
          ]
        },
        {
          "output_type": "stream",
          "name": "stderr",
          "text": [
            "118it [00:11, 10.13it/s]                         \n"
          ]
        },
        {
          "output_type": "stream",
          "name": "stdout",
          "text": [
            "Epoch 66 of 200\n",
            "Generator loss: 2.38424373, Discriminator loss: 0.60903370\n"
          ]
        },
        {
          "output_type": "stream",
          "name": "stderr",
          "text": [
            "118it [00:11, 10.36it/s]                         "
          ]
        },
        {
          "output_type": "stream",
          "name": "stdout",
          "text": [
            "Epoch 67 of 200\n",
            "Generator loss: 2.41216946, Discriminator loss: 0.60548836\n"
          ]
        },
        {
          "output_type": "stream",
          "name": "stderr",
          "text": [
            "\n",
            "118it [00:11, 10.22it/s]                         "
          ]
        },
        {
          "output_type": "stream",
          "name": "stdout",
          "text": [
            "Epoch 68 of 200\n",
            "Generator loss: 2.37942696, Discriminator loss: 0.63168132\n"
          ]
        },
        {
          "output_type": "stream",
          "name": "stderr",
          "text": [
            "\n",
            "118it [00:11, 10.30it/s]                         \n"
          ]
        },
        {
          "output_type": "stream",
          "name": "stdout",
          "text": [
            "Epoch 69 of 200\n",
            "Generator loss: 2.43456697, Discriminator loss: 0.62013787\n"
          ]
        },
        {
          "output_type": "stream",
          "name": "stderr",
          "text": [
            "118it [00:11, 10.10it/s]                         "
          ]
        },
        {
          "output_type": "stream",
          "name": "stdout",
          "text": [
            "Epoch 70 of 200\n",
            "Generator loss: 2.54953885, Discriminator loss: 0.58190066\n"
          ]
        },
        {
          "output_type": "stream",
          "name": "stderr",
          "text": [
            "\n",
            "118it [00:11, 10.20it/s]                         "
          ]
        },
        {
          "output_type": "stream",
          "name": "stdout",
          "text": [
            "Epoch 71 of 200\n",
            "Generator loss: 2.52217603, Discriminator loss: 0.62444770\n"
          ]
        },
        {
          "output_type": "stream",
          "name": "stderr",
          "text": [
            "\n",
            "118it [00:11, 10.23it/s]                         "
          ]
        },
        {
          "output_type": "stream",
          "name": "stdout",
          "text": [
            "Epoch 72 of 200\n",
            "Generator loss: 2.41615677, Discriminator loss: 0.63979429\n"
          ]
        },
        {
          "output_type": "stream",
          "name": "stderr",
          "text": [
            "\n",
            "118it [00:11, 10.24it/s]                         "
          ]
        },
        {
          "output_type": "stream",
          "name": "stdout",
          "text": [
            "Epoch 73 of 200\n",
            "Generator loss: 2.49415994, Discriminator loss: 0.62534922\n"
          ]
        },
        {
          "output_type": "stream",
          "name": "stderr",
          "text": [
            "\n",
            "118it [00:11, 10.28it/s]                         "
          ]
        },
        {
          "output_type": "stream",
          "name": "stdout",
          "text": [
            "Epoch 74 of 200\n",
            "Generator loss: 2.37766767, Discriminator loss: 0.60533553\n"
          ]
        },
        {
          "output_type": "stream",
          "name": "stderr",
          "text": [
            "\n",
            "118it [00:11, 10.70it/s]                         "
          ]
        },
        {
          "output_type": "stream",
          "name": "stdout",
          "text": [
            "Epoch 75 of 200\n",
            "Generator loss: 2.55353379, Discriminator loss: 0.59618467\n"
          ]
        },
        {
          "output_type": "stream",
          "name": "stderr",
          "text": [
            "\n",
            "118it [00:10, 10.96it/s]                         "
          ]
        },
        {
          "output_type": "stream",
          "name": "stdout",
          "text": [
            "Epoch 76 of 200\n",
            "Generator loss: 2.32213020, Discriminator loss: 0.65977091\n"
          ]
        },
        {
          "output_type": "stream",
          "name": "stderr",
          "text": [
            "\n",
            "118it [00:11, 10.08it/s]                         "
          ]
        },
        {
          "output_type": "stream",
          "name": "stdout",
          "text": [
            "Epoch 77 of 200\n",
            "Generator loss: 2.25355148, Discriminator loss: 0.66756409\n"
          ]
        },
        {
          "output_type": "stream",
          "name": "stderr",
          "text": [
            "\n",
            "118it [00:11, 10.20it/s]                         "
          ]
        },
        {
          "output_type": "stream",
          "name": "stdout",
          "text": [
            "Epoch 78 of 200\n",
            "Generator loss: 2.25245619, Discriminator loss: 0.67457038\n"
          ]
        },
        {
          "output_type": "stream",
          "name": "stderr",
          "text": [
            "\n",
            "118it [00:11, 10.27it/s]                         "
          ]
        },
        {
          "output_type": "stream",
          "name": "stdout",
          "text": [
            "Epoch 79 of 200\n",
            "Generator loss: 2.26080322, Discriminator loss: 0.66919589\n"
          ]
        },
        {
          "output_type": "stream",
          "name": "stderr",
          "text": [
            "\n",
            "118it [00:11, 10.35it/s]                         "
          ]
        },
        {
          "output_type": "stream",
          "name": "stdout",
          "text": [
            "Epoch 80 of 200\n",
            "Generator loss: 2.24574804, Discriminator loss: 0.65720856\n"
          ]
        },
        {
          "output_type": "stream",
          "name": "stderr",
          "text": [
            "\n",
            "118it [00:11, 10.22it/s]                         "
          ]
        },
        {
          "output_type": "stream",
          "name": "stdout",
          "text": [
            "Epoch 81 of 200\n",
            "Generator loss: 2.25876093, Discriminator loss: 0.65977830\n"
          ]
        },
        {
          "output_type": "stream",
          "name": "stderr",
          "text": [
            "\n",
            "118it [00:11, 10.44it/s]                         "
          ]
        },
        {
          "output_type": "stream",
          "name": "stdout",
          "text": [
            "Epoch 82 of 200\n",
            "Generator loss: 2.19318509, Discriminator loss: 0.69790792\n"
          ]
        },
        {
          "output_type": "stream",
          "name": "stderr",
          "text": [
            "\n",
            "118it [00:11, 10.20it/s]                         "
          ]
        },
        {
          "output_type": "stream",
          "name": "stdout",
          "text": [
            "Epoch 83 of 200\n",
            "Generator loss: 2.29965520, Discriminator loss: 0.70660818\n"
          ]
        },
        {
          "output_type": "stream",
          "name": "stderr",
          "text": [
            "\n",
            "118it [00:11, 10.20it/s]                         "
          ]
        },
        {
          "output_type": "stream",
          "name": "stdout",
          "text": [
            "Epoch 84 of 200\n",
            "Generator loss: 2.04727006, Discriminator loss: 0.71201539\n"
          ]
        },
        {
          "output_type": "stream",
          "name": "stderr",
          "text": [
            "\n",
            "118it [00:11, 10.32it/s]                         \n"
          ]
        },
        {
          "output_type": "stream",
          "name": "stdout",
          "text": [
            "Epoch 85 of 200\n",
            "Generator loss: 2.14577007, Discriminator loss: 0.71059954\n"
          ]
        },
        {
          "output_type": "stream",
          "name": "stderr",
          "text": [
            "118it [00:11, 10.60it/s]                         \n"
          ]
        },
        {
          "output_type": "stream",
          "name": "stdout",
          "text": [
            "Epoch 86 of 200\n",
            "Generator loss: 2.06602716, Discriminator loss: 0.72184622\n"
          ]
        },
        {
          "output_type": "stream",
          "name": "stderr",
          "text": [
            "118it [00:10, 10.90it/s]                         "
          ]
        },
        {
          "output_type": "stream",
          "name": "stdout",
          "text": [
            "Epoch 87 of 200\n",
            "Generator loss: 2.17614508, Discriminator loss: 0.73461807\n"
          ]
        },
        {
          "output_type": "stream",
          "name": "stderr",
          "text": [
            "\n",
            "118it [00:11, 10.43it/s]                         "
          ]
        },
        {
          "output_type": "stream",
          "name": "stdout",
          "text": [
            "Epoch 88 of 200\n",
            "Generator loss: 1.89780819, Discriminator loss: 0.80027539\n"
          ]
        },
        {
          "output_type": "stream",
          "name": "stderr",
          "text": [
            "\n",
            "118it [00:11, 10.10it/s]                         "
          ]
        },
        {
          "output_type": "stream",
          "name": "stdout",
          "text": [
            "Epoch 89 of 200\n",
            "Generator loss: 2.06167722, Discriminator loss: 0.74042189\n"
          ]
        },
        {
          "output_type": "stream",
          "name": "stderr",
          "text": [
            "\n",
            "118it [00:11, 10.37it/s]                         "
          ]
        },
        {
          "output_type": "stream",
          "name": "stdout",
          "text": [
            "Epoch 90 of 200\n",
            "Generator loss: 1.96201050, Discriminator loss: 0.77644247\n"
          ]
        },
        {
          "output_type": "stream",
          "name": "stderr",
          "text": [
            "\n",
            "118it [00:11, 10.23it/s]                         "
          ]
        },
        {
          "output_type": "stream",
          "name": "stdout",
          "text": [
            "Epoch 91 of 200\n",
            "Generator loss: 1.95311403, Discriminator loss: 0.79222775\n"
          ]
        },
        {
          "output_type": "stream",
          "name": "stderr",
          "text": [
            "\n",
            "118it [00:11, 10.23it/s]                         "
          ]
        },
        {
          "output_type": "stream",
          "name": "stdout",
          "text": [
            "Epoch 92 of 200\n",
            "Generator loss: 1.93588245, Discriminator loss: 0.82063335\n"
          ]
        },
        {
          "output_type": "stream",
          "name": "stderr",
          "text": [
            "\n",
            "118it [00:11, 10.47it/s]                         "
          ]
        },
        {
          "output_type": "stream",
          "name": "stdout",
          "text": [
            "Epoch 93 of 200\n",
            "Generator loss: 2.04621410, Discriminator loss: 0.74908108\n"
          ]
        },
        {
          "output_type": "stream",
          "name": "stderr",
          "text": [
            "\n",
            "118it [00:11, 10.23it/s]                         "
          ]
        },
        {
          "output_type": "stream",
          "name": "stdout",
          "text": [
            "Epoch 94 of 200\n",
            "Generator loss: 1.99234223, Discriminator loss: 0.76672190\n"
          ]
        },
        {
          "output_type": "stream",
          "name": "stderr",
          "text": [
            "\n",
            "118it [00:11, 10.48it/s]                         "
          ]
        },
        {
          "output_type": "stream",
          "name": "stdout",
          "text": [
            "Epoch 95 of 200\n",
            "Generator loss: 2.04735065, Discriminator loss: 0.74234515\n"
          ]
        },
        {
          "output_type": "stream",
          "name": "stderr",
          "text": [
            "\n",
            "118it [00:11, 10.57it/s]                         "
          ]
        },
        {
          "output_type": "stream",
          "name": "stdout",
          "text": [
            "Epoch 96 of 200\n",
            "Generator loss: 1.99242187, Discriminator loss: 0.77011514\n"
          ]
        },
        {
          "output_type": "stream",
          "name": "stderr",
          "text": [
            "\n",
            "118it [00:11, 10.62it/s]                         "
          ]
        },
        {
          "output_type": "stream",
          "name": "stdout",
          "text": [
            "Epoch 97 of 200\n",
            "Generator loss: 1.90643024, Discriminator loss: 0.78319067\n"
          ]
        },
        {
          "output_type": "stream",
          "name": "stderr",
          "text": [
            "\n",
            "118it [00:10, 10.91it/s]                         "
          ]
        },
        {
          "output_type": "stream",
          "name": "stdout",
          "text": [
            "Epoch 98 of 200\n",
            "Generator loss: 1.99560320, Discriminator loss: 0.75599015\n"
          ]
        },
        {
          "output_type": "stream",
          "name": "stderr",
          "text": [
            "\n",
            "118it [00:11, 10.32it/s]"
          ]
        },
        {
          "output_type": "stream",
          "name": "stdout",
          "text": [
            "Epoch 99 of 200\n",
            "Generator loss: 1.87133574, Discriminator loss: 0.80905414\n"
          ]
        },
        {
          "output_type": "stream",
          "name": "stderr",
          "text": [
            "\n",
            "118it [00:11, 10.26it/s]                         "
          ]
        },
        {
          "output_type": "stream",
          "name": "stdout",
          "text": [
            "Epoch 100 of 200\n",
            "Generator loss: 1.86261368, Discriminator loss: 0.81689990\n"
          ]
        },
        {
          "output_type": "stream",
          "name": "stderr",
          "text": [
            "\n",
            "118it [00:11, 10.40it/s]                         "
          ]
        },
        {
          "output_type": "stream",
          "name": "stdout",
          "text": [
            "Epoch 101 of 200\n",
            "Generator loss: 2.02367544, Discriminator loss: 0.77898991\n"
          ]
        },
        {
          "output_type": "stream",
          "name": "stderr",
          "text": [
            "\n",
            "118it [00:11, 10.29it/s]                         "
          ]
        },
        {
          "output_type": "stream",
          "name": "stdout",
          "text": [
            "Epoch 102 of 200\n",
            "Generator loss: 1.87489796, Discriminator loss: 0.80290347\n"
          ]
        },
        {
          "output_type": "stream",
          "name": "stderr",
          "text": [
            "\n",
            "118it [00:11, 10.27it/s]                         "
          ]
        },
        {
          "output_type": "stream",
          "name": "stdout",
          "text": [
            "Epoch 103 of 200\n",
            "Generator loss: 1.93321443, Discriminator loss: 0.78784132\n"
          ]
        },
        {
          "output_type": "stream",
          "name": "stderr",
          "text": [
            "\n",
            "118it [00:11, 10.31it/s]                         "
          ]
        },
        {
          "output_type": "stream",
          "name": "stdout",
          "text": [
            "Epoch 104 of 200\n",
            "Generator loss: 1.93428886, Discriminator loss: 0.80619758\n"
          ]
        },
        {
          "output_type": "stream",
          "name": "stderr",
          "text": [
            "\n",
            "118it [00:11, 10.26it/s]                         "
          ]
        },
        {
          "output_type": "stream",
          "name": "stdout",
          "text": [
            "Epoch 105 of 200\n",
            "Generator loss: 1.95432353, Discriminator loss: 0.79433626\n"
          ]
        },
        {
          "output_type": "stream",
          "name": "stderr",
          "text": [
            "\n",
            "118it [00:11, 10.37it/s]                         "
          ]
        },
        {
          "output_type": "stream",
          "name": "stdout",
          "text": [
            "Epoch 106 of 200\n",
            "Generator loss: 1.91093671, Discriminator loss: 0.80188334\n"
          ]
        },
        {
          "output_type": "stream",
          "name": "stderr",
          "text": [
            "\n",
            "118it [00:11, 10.39it/s]                         "
          ]
        },
        {
          "output_type": "stream",
          "name": "stdout",
          "text": [
            "Epoch 107 of 200\n",
            "Generator loss: 1.82997024, Discriminator loss: 0.83253455\n"
          ]
        },
        {
          "output_type": "stream",
          "name": "stderr",
          "text": [
            "\n",
            "118it [00:11, 10.49it/s]                         "
          ]
        },
        {
          "output_type": "stream",
          "name": "stdout",
          "text": [
            "Epoch 108 of 200\n",
            "Generator loss: 1.77177441, Discriminator loss: 0.86950421\n"
          ]
        },
        {
          "output_type": "stream",
          "name": "stderr",
          "text": [
            "\n",
            "118it [00:12,  9.73it/s]                         "
          ]
        },
        {
          "output_type": "stream",
          "name": "stdout",
          "text": [
            "Epoch 109 of 200\n",
            "Generator loss: 1.79875922, Discriminator loss: 0.83088624\n"
          ]
        },
        {
          "output_type": "stream",
          "name": "stderr",
          "text": [
            "\n",
            "118it [00:11, 10.18it/s]                         "
          ]
        },
        {
          "output_type": "stream",
          "name": "stdout",
          "text": [
            "Epoch 110 of 200\n",
            "Generator loss: 1.79196858, Discriminator loss: 0.83917665\n"
          ]
        },
        {
          "output_type": "stream",
          "name": "stderr",
          "text": [
            "\n",
            "118it [00:11, 10.32it/s]                         "
          ]
        },
        {
          "output_type": "stream",
          "name": "stdout",
          "text": [
            "Epoch 111 of 200\n",
            "Generator loss: 1.78018939, Discriminator loss: 0.83793616\n"
          ]
        },
        {
          "output_type": "stream",
          "name": "stderr",
          "text": [
            "\n",
            "118it [00:11,  9.90it/s]"
          ]
        },
        {
          "output_type": "stream",
          "name": "stdout",
          "text": [
            "Epoch 112 of 200\n",
            "Generator loss: 1.74182773, Discriminator loss: 0.85469168\n"
          ]
        },
        {
          "output_type": "stream",
          "name": "stderr",
          "text": [
            "\n",
            "118it [00:11, 10.25it/s]                         "
          ]
        },
        {
          "output_type": "stream",
          "name": "stdout",
          "text": [
            "Epoch 113 of 200\n",
            "Generator loss: 1.73252833, Discriminator loss: 0.88141078\n"
          ]
        },
        {
          "output_type": "stream",
          "name": "stderr",
          "text": [
            "\n",
            "118it [00:11, 10.22it/s]                         "
          ]
        },
        {
          "output_type": "stream",
          "name": "stdout",
          "text": [
            "Epoch 114 of 200\n",
            "Generator loss: 1.73637152, Discriminator loss: 0.86646068\n"
          ]
        },
        {
          "output_type": "stream",
          "name": "stderr",
          "text": [
            "\n",
            "118it [00:11, 10.28it/s]                         "
          ]
        },
        {
          "output_type": "stream",
          "name": "stdout",
          "text": [
            "Epoch 115 of 200\n",
            "Generator loss: 1.72074997, Discriminator loss: 0.85908377\n"
          ]
        },
        {
          "output_type": "stream",
          "name": "stderr",
          "text": [
            "\n",
            "118it [00:11, 10.37it/s]                         "
          ]
        },
        {
          "output_type": "stream",
          "name": "stdout",
          "text": [
            "Epoch 116 of 200\n",
            "Generator loss: 1.72969079, Discriminator loss: 0.88703346\n"
          ]
        },
        {
          "output_type": "stream",
          "name": "stderr",
          "text": [
            "\n",
            "118it [00:11, 10.39it/s]                         "
          ]
        },
        {
          "output_type": "stream",
          "name": "stdout",
          "text": [
            "Epoch 117 of 200\n",
            "Generator loss: 1.70025659, Discriminator loss: 0.89375520\n"
          ]
        },
        {
          "output_type": "stream",
          "name": "stderr",
          "text": [
            "\n",
            "118it [00:11, 10.20it/s]                         "
          ]
        },
        {
          "output_type": "stream",
          "name": "stdout",
          "text": [
            "Epoch 118 of 200\n",
            "Generator loss: 1.70989668, Discriminator loss: 0.88180989\n"
          ]
        },
        {
          "output_type": "stream",
          "name": "stderr",
          "text": [
            "\n",
            "118it [00:11, 10.56it/s]                         "
          ]
        },
        {
          "output_type": "stream",
          "name": "stdout",
          "text": [
            "Epoch 119 of 200\n",
            "Generator loss: 1.77817631, Discriminator loss: 0.84691077\n"
          ]
        },
        {
          "output_type": "stream",
          "name": "stderr",
          "text": [
            "\n",
            "118it [00:11, 10.65it/s]                         "
          ]
        },
        {
          "output_type": "stream",
          "name": "stdout",
          "text": [
            "Epoch 120 of 200\n",
            "Generator loss: 1.75112629, Discriminator loss: 0.86999756\n"
          ]
        },
        {
          "output_type": "stream",
          "name": "stderr",
          "text": [
            "\n",
            "118it [00:10, 11.23it/s]                         "
          ]
        },
        {
          "output_type": "stream",
          "name": "stdout",
          "text": [
            "Epoch 121 of 200\n",
            "Generator loss: 1.67756402, Discriminator loss: 0.87087286\n"
          ]
        },
        {
          "output_type": "stream",
          "name": "stderr",
          "text": [
            "\n",
            "118it [00:10, 10.86it/s]                         "
          ]
        },
        {
          "output_type": "stream",
          "name": "stdout",
          "text": [
            "Epoch 122 of 200\n",
            "Generator loss: 1.70709932, Discriminator loss: 0.86859149\n"
          ]
        },
        {
          "output_type": "stream",
          "name": "stderr",
          "text": [
            "\n",
            "118it [00:11, 10.45it/s]                         "
          ]
        },
        {
          "output_type": "stream",
          "name": "stdout",
          "text": [
            "Epoch 123 of 200\n",
            "Generator loss: 1.64957070, Discriminator loss: 0.90697527\n"
          ]
        },
        {
          "output_type": "stream",
          "name": "stderr",
          "text": [
            "\n",
            "118it [00:11, 10.57it/s]                         "
          ]
        },
        {
          "output_type": "stream",
          "name": "stdout",
          "text": [
            "Epoch 124 of 200\n",
            "Generator loss: 1.68179095, Discriminator loss: 0.87708265\n"
          ]
        },
        {
          "output_type": "stream",
          "name": "stderr",
          "text": [
            "\n",
            "118it [00:11, 10.29it/s]                         "
          ]
        },
        {
          "output_type": "stream",
          "name": "stdout",
          "text": [
            "Epoch 125 of 200\n",
            "Generator loss: 1.70499289, Discriminator loss: 0.87598836\n"
          ]
        },
        {
          "output_type": "stream",
          "name": "stderr",
          "text": [
            "\n",
            "118it [00:11, 10.39it/s]                         "
          ]
        },
        {
          "output_type": "stream",
          "name": "stdout",
          "text": [
            "Epoch 126 of 200\n",
            "Generator loss: 1.62899852, Discriminator loss: 0.89823014\n"
          ]
        },
        {
          "output_type": "stream",
          "name": "stderr",
          "text": [
            "\n",
            "118it [00:11, 10.57it/s]                         "
          ]
        },
        {
          "output_type": "stream",
          "name": "stdout",
          "text": [
            "Epoch 127 of 200\n",
            "Generator loss: 1.66131568, Discriminator loss: 0.90353292\n"
          ]
        },
        {
          "output_type": "stream",
          "name": "stderr",
          "text": [
            "\n",
            "118it [00:11, 10.35it/s]                         "
          ]
        },
        {
          "output_type": "stream",
          "name": "stdout",
          "text": [
            "Epoch 128 of 200\n",
            "Generator loss: 1.59654105, Discriminator loss: 0.90790594\n"
          ]
        },
        {
          "output_type": "stream",
          "name": "stderr",
          "text": [
            "\n",
            "118it [00:11, 10.51it/s]                         "
          ]
        },
        {
          "output_type": "stream",
          "name": "stdout",
          "text": [
            "Epoch 129 of 200\n",
            "Generator loss: 1.64014935, Discriminator loss: 0.90598696\n"
          ]
        },
        {
          "output_type": "stream",
          "name": "stderr",
          "text": [
            "\n",
            "118it [00:10, 10.92it/s]"
          ]
        },
        {
          "output_type": "stream",
          "name": "stdout",
          "text": [
            "Epoch 130 of 200\n",
            "Generator loss: 1.62341595, Discriminator loss: 0.93033218\n"
          ]
        },
        {
          "output_type": "stream",
          "name": "stderr",
          "text": [
            "\n",
            "118it [00:10, 11.04it/s]                         "
          ]
        },
        {
          "output_type": "stream",
          "name": "stdout",
          "text": [
            "Epoch 131 of 200\n",
            "Generator loss: 1.52658820, Discriminator loss: 0.92878079\n"
          ]
        },
        {
          "output_type": "stream",
          "name": "stderr",
          "text": [
            "\n",
            "118it [00:11, 10.55it/s]                         "
          ]
        },
        {
          "output_type": "stream",
          "name": "stdout",
          "text": [
            "Epoch 132 of 200\n",
            "Generator loss: 1.59557843, Discriminator loss: 0.94885522\n"
          ]
        },
        {
          "output_type": "stream",
          "name": "stderr",
          "text": [
            "\n",
            "118it [00:11, 10.56it/s]                         "
          ]
        },
        {
          "output_type": "stream",
          "name": "stdout",
          "text": [
            "Epoch 133 of 200\n",
            "Generator loss: 1.61600387, Discriminator loss: 0.95127863\n"
          ]
        },
        {
          "output_type": "stream",
          "name": "stderr",
          "text": [
            "\n",
            "118it [00:11, 10.45it/s]                         "
          ]
        },
        {
          "output_type": "stream",
          "name": "stdout",
          "text": [
            "Epoch 134 of 200\n",
            "Generator loss: 1.51733339, Discriminator loss: 0.94042253\n"
          ]
        },
        {
          "output_type": "stream",
          "name": "stderr",
          "text": [
            "\n",
            "118it [00:11, 10.57it/s]                         "
          ]
        },
        {
          "output_type": "stream",
          "name": "stdout",
          "text": [
            "Epoch 135 of 200\n",
            "Generator loss: 1.61004150, Discriminator loss: 0.92035669\n"
          ]
        },
        {
          "output_type": "stream",
          "name": "stderr",
          "text": [
            "\n",
            "118it [00:11, 10.40it/s]                         "
          ]
        },
        {
          "output_type": "stream",
          "name": "stdout",
          "text": [
            "Epoch 136 of 200\n",
            "Generator loss: 1.63009858, Discriminator loss: 0.92584401\n"
          ]
        },
        {
          "output_type": "stream",
          "name": "stderr",
          "text": [
            "\n",
            "118it [00:11, 10.58it/s]                         "
          ]
        },
        {
          "output_type": "stream",
          "name": "stdout",
          "text": [
            "Epoch 137 of 200\n",
            "Generator loss: 1.57240319, Discriminator loss: 0.93528181\n"
          ]
        },
        {
          "output_type": "stream",
          "name": "stderr",
          "text": [
            "\n",
            "118it [00:11, 10.57it/s]                         "
          ]
        },
        {
          "output_type": "stream",
          "name": "stdout",
          "text": [
            "Epoch 138 of 200\n",
            "Generator loss: 1.56111705, Discriminator loss: 0.94172347\n"
          ]
        },
        {
          "output_type": "stream",
          "name": "stderr",
          "text": [
            "\n",
            "118it [00:10, 10.84it/s]                         "
          ]
        },
        {
          "output_type": "stream",
          "name": "stdout",
          "text": [
            "Epoch 139 of 200\n",
            "Generator loss: 1.51411390, Discriminator loss: 0.97362250\n"
          ]
        },
        {
          "output_type": "stream",
          "name": "stderr",
          "text": [
            "\n",
            "118it [00:10, 11.44it/s]"
          ]
        },
        {
          "output_type": "stream",
          "name": "stdout",
          "text": [
            "Epoch 140 of 200\n",
            "Generator loss: 1.53316200, Discriminator loss: 0.94756734\n"
          ]
        },
        {
          "output_type": "stream",
          "name": "stderr",
          "text": [
            "\n",
            "118it [00:11, 10.67it/s]                         "
          ]
        },
        {
          "output_type": "stream",
          "name": "stdout",
          "text": [
            "Epoch 141 of 200\n",
            "Generator loss: 1.57365775, Discriminator loss: 0.93458903\n"
          ]
        },
        {
          "output_type": "stream",
          "name": "stderr",
          "text": [
            "\n",
            "118it [00:11, 10.37it/s]                         "
          ]
        },
        {
          "output_type": "stream",
          "name": "stdout",
          "text": [
            "Epoch 142 of 200\n",
            "Generator loss: 1.47939885, Discriminator loss: 0.96733779\n"
          ]
        },
        {
          "output_type": "stream",
          "name": "stderr",
          "text": [
            "\n",
            "118it [00:11, 10.52it/s]                         "
          ]
        },
        {
          "output_type": "stream",
          "name": "stdout",
          "text": [
            "Epoch 143 of 200\n",
            "Generator loss: 1.48180473, Discriminator loss: 0.96654785\n"
          ]
        },
        {
          "output_type": "stream",
          "name": "stderr",
          "text": [
            "\n",
            "118it [00:11, 10.39it/s]                         "
          ]
        },
        {
          "output_type": "stream",
          "name": "stdout",
          "text": [
            "Epoch 144 of 200\n",
            "Generator loss: 1.50286686, Discriminator loss: 0.97822261\n"
          ]
        },
        {
          "output_type": "stream",
          "name": "stderr",
          "text": [
            "\n",
            "118it [00:11, 10.19it/s]                         "
          ]
        },
        {
          "output_type": "stream",
          "name": "stdout",
          "text": [
            "Epoch 145 of 200\n",
            "Generator loss: 1.48897183, Discriminator loss: 0.97981960\n"
          ]
        },
        {
          "output_type": "stream",
          "name": "stderr",
          "text": [
            "\n",
            "118it [00:11, 10.23it/s]                         "
          ]
        },
        {
          "output_type": "stream",
          "name": "stdout",
          "text": [
            "Epoch 146 of 200\n",
            "Generator loss: 1.45081103, Discriminator loss: 0.98608994\n"
          ]
        },
        {
          "output_type": "stream",
          "name": "stderr",
          "text": [
            "\n",
            "118it [00:11, 10.30it/s]"
          ]
        },
        {
          "output_type": "stream",
          "name": "stdout",
          "text": [
            "Epoch 147 of 200\n",
            "Generator loss: 1.51418734, Discriminator loss: 0.96853906\n"
          ]
        },
        {
          "output_type": "stream",
          "name": "stderr",
          "text": [
            "\n",
            "118it [00:11, 10.37it/s]                         "
          ]
        },
        {
          "output_type": "stream",
          "name": "stdout",
          "text": [
            "Epoch 148 of 200\n",
            "Generator loss: 1.45424795, Discriminator loss: 0.98194629\n"
          ]
        },
        {
          "output_type": "stream",
          "name": "stderr",
          "text": [
            "\n",
            "118it [00:11, 10.71it/s]"
          ]
        },
        {
          "output_type": "stream",
          "name": "stdout",
          "text": [
            "Epoch 149 of 200\n",
            "Generator loss: 1.51593065, Discriminator loss: 0.96756679\n"
          ]
        },
        {
          "output_type": "stream",
          "name": "stderr",
          "text": [
            "\n",
            "118it [00:10, 10.99it/s]                         "
          ]
        },
        {
          "output_type": "stream",
          "name": "stdout",
          "text": [
            "Epoch 150 of 200\n",
            "Generator loss: 1.42355657, Discriminator loss: 0.99802333\n"
          ]
        },
        {
          "output_type": "stream",
          "name": "stderr",
          "text": [
            "\n",
            "118it [00:10, 10.74it/s]                         "
          ]
        },
        {
          "output_type": "stream",
          "name": "stdout",
          "text": [
            "Epoch 151 of 200\n",
            "Generator loss: 1.46246099, Discriminator loss: 0.98738486\n"
          ]
        },
        {
          "output_type": "stream",
          "name": "stderr",
          "text": [
            "\n",
            "118it [00:11, 10.27it/s]                         "
          ]
        },
        {
          "output_type": "stream",
          "name": "stdout",
          "text": [
            "Epoch 152 of 200\n",
            "Generator loss: 1.45170569, Discriminator loss: 0.98734236\n"
          ]
        },
        {
          "output_type": "stream",
          "name": "stderr",
          "text": [
            "\n",
            "118it [00:11, 10.34it/s]                         "
          ]
        },
        {
          "output_type": "stream",
          "name": "stdout",
          "text": [
            "Epoch 153 of 200\n",
            "Generator loss: 1.52117479, Discriminator loss: 0.97317934\n"
          ]
        },
        {
          "output_type": "stream",
          "name": "stderr",
          "text": [
            "\n",
            "118it [00:11, 10.43it/s]                         "
          ]
        },
        {
          "output_type": "stream",
          "name": "stdout",
          "text": [
            "Epoch 154 of 200\n",
            "Generator loss: 1.48806703, Discriminator loss: 0.97763038\n"
          ]
        },
        {
          "output_type": "stream",
          "name": "stderr",
          "text": [
            "\n",
            "118it [00:11, 10.49it/s]                         "
          ]
        },
        {
          "output_type": "stream",
          "name": "stdout",
          "text": [
            "Epoch 155 of 200\n",
            "Generator loss: 1.43057394, Discriminator loss: 1.00096810\n"
          ]
        },
        {
          "output_type": "stream",
          "name": "stderr",
          "text": [
            "\n",
            "118it [00:11, 10.63it/s]                         "
          ]
        },
        {
          "output_type": "stream",
          "name": "stdout",
          "text": [
            "Epoch 156 of 200\n",
            "Generator loss: 1.39230037, Discriminator loss: 1.01808488\n"
          ]
        },
        {
          "output_type": "stream",
          "name": "stderr",
          "text": [
            "\n",
            "118it [00:11, 10.52it/s]                         "
          ]
        },
        {
          "output_type": "stream",
          "name": "stdout",
          "text": [
            "Epoch 157 of 200\n",
            "Generator loss: 1.42318952, Discriminator loss: 0.99049479\n"
          ]
        },
        {
          "output_type": "stream",
          "name": "stderr",
          "text": [
            "\n",
            "118it [00:11, 10.41it/s]                         "
          ]
        },
        {
          "output_type": "stream",
          "name": "stdout",
          "text": [
            "Epoch 158 of 200\n",
            "Generator loss: 1.39990592, Discriminator loss: 1.00385952\n"
          ]
        },
        {
          "output_type": "stream",
          "name": "stderr",
          "text": [
            "\n",
            "118it [00:11, 10.67it/s]                         \n"
          ]
        },
        {
          "output_type": "stream",
          "name": "stdout",
          "text": [
            "Epoch 159 of 200\n",
            "Generator loss: 1.41793990, Discriminator loss: 1.00829387\n"
          ]
        },
        {
          "output_type": "stream",
          "name": "stderr",
          "text": [
            "118it [00:10, 11.33it/s]                         "
          ]
        },
        {
          "output_type": "stream",
          "name": "stdout",
          "text": [
            "Epoch 160 of 200\n",
            "Generator loss: 1.42694986, Discriminator loss: 1.00724351\n"
          ]
        },
        {
          "output_type": "stream",
          "name": "stderr",
          "text": [
            "\n",
            "118it [00:11, 10.65it/s]                         "
          ]
        },
        {
          "output_type": "stream",
          "name": "stdout",
          "text": [
            "Epoch 161 of 200\n",
            "Generator loss: 1.44457459, Discriminator loss: 1.01667619\n"
          ]
        },
        {
          "output_type": "stream",
          "name": "stderr",
          "text": [
            "\n",
            "118it [00:11, 10.58it/s]                         "
          ]
        },
        {
          "output_type": "stream",
          "name": "stdout",
          "text": [
            "Epoch 162 of 200\n",
            "Generator loss: 1.33494055, Discriminator loss: 1.02005851\n"
          ]
        },
        {
          "output_type": "stream",
          "name": "stderr",
          "text": [
            "\n",
            "118it [00:11, 10.24it/s]                         "
          ]
        },
        {
          "output_type": "stream",
          "name": "stdout",
          "text": [
            "Epoch 163 of 200\n",
            "Generator loss: 1.42858934, Discriminator loss: 1.01343703\n"
          ]
        },
        {
          "output_type": "stream",
          "name": "stderr",
          "text": [
            "\n",
            "118it [00:11, 10.30it/s]                         "
          ]
        },
        {
          "output_type": "stream",
          "name": "stdout",
          "text": [
            "Epoch 164 of 200\n",
            "Generator loss: 1.36642289, Discriminator loss: 1.02905667\n"
          ]
        },
        {
          "output_type": "stream",
          "name": "stderr",
          "text": [
            "\n",
            "118it [00:11, 10.23it/s]"
          ]
        },
        {
          "output_type": "stream",
          "name": "stdout",
          "text": [
            "Epoch 165 of 200\n",
            "Generator loss: 1.41377592, Discriminator loss: 1.01704240\n"
          ]
        },
        {
          "output_type": "stream",
          "name": "stderr",
          "text": [
            "\n",
            "118it [00:11,  9.99it/s]                         "
          ]
        },
        {
          "output_type": "stream",
          "name": "stdout",
          "text": [
            "Epoch 166 of 200\n",
            "Generator loss: 1.32627714, Discriminator loss: 1.04590845\n"
          ]
        },
        {
          "output_type": "stream",
          "name": "stderr",
          "text": [
            "\n",
            "118it [00:11, 10.20it/s]                         "
          ]
        },
        {
          "output_type": "stream",
          "name": "stdout",
          "text": [
            "Epoch 167 of 200\n",
            "Generator loss: 1.36702108, Discriminator loss: 1.02038288\n"
          ]
        },
        {
          "output_type": "stream",
          "name": "stderr",
          "text": [
            "\n",
            "118it [00:11, 10.30it/s]                         "
          ]
        },
        {
          "output_type": "stream",
          "name": "stdout",
          "text": [
            "Epoch 168 of 200\n",
            "Generator loss: 1.38256872, Discriminator loss: 1.03340697\n"
          ]
        },
        {
          "output_type": "stream",
          "name": "stderr",
          "text": [
            "\n",
            "118it [00:11, 10.12it/s]                         "
          ]
        },
        {
          "output_type": "stream",
          "name": "stdout",
          "text": [
            "Epoch 169 of 200\n",
            "Generator loss: 1.38219035, Discriminator loss: 1.02479422\n"
          ]
        },
        {
          "output_type": "stream",
          "name": "stderr",
          "text": [
            "\n",
            "118it [00:11, 10.61it/s]                         "
          ]
        },
        {
          "output_type": "stream",
          "name": "stdout",
          "text": [
            "Epoch 170 of 200\n",
            "Generator loss: 1.36327648, Discriminator loss: 1.04935586\n"
          ]
        },
        {
          "output_type": "stream",
          "name": "stderr",
          "text": [
            "\n",
            "118it [00:11, 10.67it/s]                         \n"
          ]
        },
        {
          "output_type": "stream",
          "name": "stdout",
          "text": [
            "Epoch 171 of 200\n",
            "Generator loss: 1.34384668, Discriminator loss: 1.04554379\n"
          ]
        },
        {
          "output_type": "stream",
          "name": "stderr",
          "text": [
            "118it [00:11, 10.53it/s]"
          ]
        },
        {
          "output_type": "stream",
          "name": "stdout",
          "text": [
            "Epoch 172 of 200\n",
            "Generator loss: 1.37582767, Discriminator loss: 1.03902602\n"
          ]
        },
        {
          "output_type": "stream",
          "name": "stderr",
          "text": [
            "\n",
            "118it [00:11, 10.18it/s]                         "
          ]
        },
        {
          "output_type": "stream",
          "name": "stdout",
          "text": [
            "Epoch 173 of 200\n",
            "Generator loss: 1.37434578, Discriminator loss: 1.02813423\n"
          ]
        },
        {
          "output_type": "stream",
          "name": "stderr",
          "text": [
            "\n",
            "118it [00:11, 10.26it/s]                         "
          ]
        },
        {
          "output_type": "stream",
          "name": "stdout",
          "text": [
            "Epoch 174 of 200\n",
            "Generator loss: 1.33410490, Discriminator loss: 1.04034603\n"
          ]
        },
        {
          "output_type": "stream",
          "name": "stderr",
          "text": [
            "\n",
            "118it [00:11, 10.29it/s]                         "
          ]
        },
        {
          "output_type": "stream",
          "name": "stdout",
          "text": [
            "Epoch 175 of 200\n",
            "Generator loss: 1.32900953, Discriminator loss: 1.05021000\n"
          ]
        },
        {
          "output_type": "stream",
          "name": "stderr",
          "text": [
            "\n",
            "118it [00:11,  9.99it/s]                         "
          ]
        },
        {
          "output_type": "stream",
          "name": "stdout",
          "text": [
            "Epoch 176 of 200\n",
            "Generator loss: 1.33723915, Discriminator loss: 1.03039324\n"
          ]
        },
        {
          "output_type": "stream",
          "name": "stderr",
          "text": [
            "\n",
            "118it [00:11, 10.08it/s]"
          ]
        },
        {
          "output_type": "stream",
          "name": "stdout",
          "text": [
            "Epoch 177 of 200\n",
            "Generator loss: 1.35869431, Discriminator loss: 1.04652035\n"
          ]
        },
        {
          "output_type": "stream",
          "name": "stderr",
          "text": [
            "\n",
            "118it [00:11, 10.11it/s]                         "
          ]
        },
        {
          "output_type": "stream",
          "name": "stdout",
          "text": [
            "Epoch 178 of 200\n",
            "Generator loss: 1.35981846, Discriminator loss: 1.04756761\n"
          ]
        },
        {
          "output_type": "stream",
          "name": "stderr",
          "text": [
            "\n",
            "118it [00:11, 10.13it/s]                         "
          ]
        },
        {
          "output_type": "stream",
          "name": "stdout",
          "text": [
            "Epoch 179 of 200\n",
            "Generator loss: 1.29910958, Discriminator loss: 1.05012131\n"
          ]
        },
        {
          "output_type": "stream",
          "name": "stderr",
          "text": [
            "\n",
            "118it [00:11, 10.22it/s]                         "
          ]
        },
        {
          "output_type": "stream",
          "name": "stdout",
          "text": [
            "Epoch 180 of 200\n",
            "Generator loss: 1.32560933, Discriminator loss: 1.04056823\n"
          ]
        },
        {
          "output_type": "stream",
          "name": "stderr",
          "text": [
            "\n",
            "118it [00:11, 10.23it/s]                         "
          ]
        },
        {
          "output_type": "stream",
          "name": "stdout",
          "text": [
            "Epoch 181 of 200\n",
            "Generator loss: 1.33156633, Discriminator loss: 1.04021955\n"
          ]
        },
        {
          "output_type": "stream",
          "name": "stderr",
          "text": [
            "\n",
            "118it [00:11, 10.50it/s]                         "
          ]
        },
        {
          "output_type": "stream",
          "name": "stdout",
          "text": [
            "Epoch 182 of 200\n",
            "Generator loss: 1.34438097, Discriminator loss: 1.05450165\n"
          ]
        },
        {
          "output_type": "stream",
          "name": "stderr",
          "text": [
            "\n",
            "118it [00:11, 10.55it/s]                         \n"
          ]
        },
        {
          "output_type": "stream",
          "name": "stdout",
          "text": [
            "Epoch 183 of 200\n",
            "Generator loss: 1.33982205, Discriminator loss: 1.04936612\n"
          ]
        },
        {
          "output_type": "stream",
          "name": "stderr",
          "text": [
            "118it [00:11, 10.40it/s]                         "
          ]
        },
        {
          "output_type": "stream",
          "name": "stdout",
          "text": [
            "Epoch 184 of 200\n",
            "Generator loss: 1.30753136, Discriminator loss: 1.06253910\n"
          ]
        },
        {
          "output_type": "stream",
          "name": "stderr",
          "text": [
            "\n",
            "118it [00:11, 10.15it/s]                         "
          ]
        },
        {
          "output_type": "stream",
          "name": "stdout",
          "text": [
            "Epoch 185 of 200\n",
            "Generator loss: 1.31248510, Discriminator loss: 1.06933427\n"
          ]
        },
        {
          "output_type": "stream",
          "name": "stderr",
          "text": [
            "\n",
            "118it [00:11, 10.06it/s]                         \n"
          ]
        },
        {
          "output_type": "stream",
          "name": "stdout",
          "text": [
            "Epoch 186 of 200\n",
            "Generator loss: 1.35451901, Discriminator loss: 1.04572809\n"
          ]
        },
        {
          "output_type": "stream",
          "name": "stderr",
          "text": [
            "118it [00:11, 10.11it/s]                         "
          ]
        },
        {
          "output_type": "stream",
          "name": "stdout",
          "text": [
            "Epoch 187 of 200\n",
            "Generator loss: 1.33296824, Discriminator loss: 1.04431617\n"
          ]
        },
        {
          "output_type": "stream",
          "name": "stderr",
          "text": [
            "\n",
            "118it [00:11, 10.19it/s]                         "
          ]
        },
        {
          "output_type": "stream",
          "name": "stdout",
          "text": [
            "Epoch 188 of 200\n",
            "Generator loss: 1.29335737, Discriminator loss: 1.06013656\n"
          ]
        },
        {
          "output_type": "stream",
          "name": "stderr",
          "text": [
            "\n",
            "118it [00:11, 10.09it/s]"
          ]
        },
        {
          "output_type": "stream",
          "name": "stdout",
          "text": [
            "Epoch 189 of 200\n",
            "Generator loss: 1.33506393, Discriminator loss: 1.05652714\n"
          ]
        },
        {
          "output_type": "stream",
          "name": "stderr",
          "text": [
            "\n",
            "118it [00:11, 10.20it/s]                         "
          ]
        },
        {
          "output_type": "stream",
          "name": "stdout",
          "text": [
            "Epoch 190 of 200\n",
            "Generator loss: 1.30993545, Discriminator loss: 1.06191039\n"
          ]
        },
        {
          "output_type": "stream",
          "name": "stderr",
          "text": [
            "\n",
            "118it [00:11, 10.18it/s]                         "
          ]
        },
        {
          "output_type": "stream",
          "name": "stdout",
          "text": [
            "Epoch 191 of 200\n",
            "Generator loss: 1.26734614, Discriminator loss: 1.08963454\n"
          ]
        },
        {
          "output_type": "stream",
          "name": "stderr",
          "text": [
            "\n",
            "118it [00:11, 10.16it/s]                         "
          ]
        },
        {
          "output_type": "stream",
          "name": "stdout",
          "text": [
            "Epoch 192 of 200\n",
            "Generator loss: 1.27493382, Discriminator loss: 1.07089877\n"
          ]
        },
        {
          "output_type": "stream",
          "name": "stderr",
          "text": [
            "\n",
            "118it [00:11, 10.21it/s]                         "
          ]
        },
        {
          "output_type": "stream",
          "name": "stdout",
          "text": [
            "Epoch 193 of 200\n",
            "Generator loss: 1.23961008, Discriminator loss: 1.09355330\n"
          ]
        },
        {
          "output_type": "stream",
          "name": "stderr",
          "text": [
            "\n",
            "118it [00:11, 10.36it/s]                         "
          ]
        },
        {
          "output_type": "stream",
          "name": "stdout",
          "text": [
            "Epoch 194 of 200\n",
            "Generator loss: 1.26372480, Discriminator loss: 1.07568264\n"
          ]
        },
        {
          "output_type": "stream",
          "name": "stderr",
          "text": [
            "\n",
            "118it [00:10, 10.87it/s]                         "
          ]
        },
        {
          "output_type": "stream",
          "name": "stdout",
          "text": [
            "Epoch 195 of 200\n",
            "Generator loss: 1.22939885, Discriminator loss: 1.08214593\n"
          ]
        },
        {
          "output_type": "stream",
          "name": "stderr",
          "text": [
            "\n",
            "118it [00:11, 10.53it/s]                         "
          ]
        },
        {
          "output_type": "stream",
          "name": "stdout",
          "text": [
            "Epoch 196 of 200\n",
            "Generator loss: 1.26858163, Discriminator loss: 1.09257996\n"
          ]
        },
        {
          "output_type": "stream",
          "name": "stderr",
          "text": [
            "\n",
            "118it [00:11, 10.19it/s]                         "
          ]
        },
        {
          "output_type": "stream",
          "name": "stdout",
          "text": [
            "Epoch 197 of 200\n",
            "Generator loss: 1.26305342, Discriminator loss: 1.09270954\n"
          ]
        },
        {
          "output_type": "stream",
          "name": "stderr",
          "text": [
            "\n",
            "118it [00:11, 10.16it/s]                         "
          ]
        },
        {
          "output_type": "stream",
          "name": "stdout",
          "text": [
            "Epoch 198 of 200\n",
            "Generator loss: 1.23326850, Discriminator loss: 1.08909440\n"
          ]
        },
        {
          "output_type": "stream",
          "name": "stderr",
          "text": [
            "\n",
            "118it [00:11, 10.16it/s]                         \n"
          ]
        },
        {
          "output_type": "stream",
          "name": "stdout",
          "text": [
            "Epoch 199 of 200\n",
            "Generator loss: 1.20165300, Discriminator loss: 1.10178363\n"
          ]
        }
      ]
    },
    {
      "cell_type": "code",
      "source": [
        "# 생성자와 판별자의 오차값 확인\n",
        "plt.figure()\n",
        "losses_g = [fl.item() for fl in losses_g] # 파이썬 숫자값으로 변환\n",
        "plt.plot(losses_g, label = 'Generator loss')\n",
        "losses_d = [fl.item() for fl in losses_d]\n",
        "plt.plot(losses_d, label = 'Discriminator loss')\n",
        "plt.legend()"
      ],
      "metadata": {
        "colab": {
          "base_uri": "https://localhost:8080/",
          "height": 449
        },
        "id": "Ez6pN1EUK0Ba",
        "outputId": "ac4cfde0-63c6-4a5b-e61e-e31231392ea6"
      },
      "execution_count": null,
      "outputs": [
        {
          "output_type": "execute_result",
          "data": {
            "text/plain": [
              "<matplotlib.legend.Legend at 0x7c0ea0c33a10>"
            ]
          },
          "metadata": {},
          "execution_count": 15
        },
        {
          "output_type": "display_data",
          "data": {
            "text/plain": [
              "<Figure size 640x480 with 1 Axes>"
            ],
            "image/png": "[encoded data removed]"
          },
          "metadata": {}
        }
      ]
    },
    {
      "cell_type": "code",
      "source": [
        "import numpy as np"
      ],
      "metadata": {
        "id": "tEcYLYrrTyP1"
      },
      "execution_count": null,
      "outputs": []
    },
    {
      "cell_type": "code",
      "source": [
        "# 생성된 이미지 일부만 출력\n",
        "fake_images = generator(torch.randn(sample_size, nz).to(device))\n",
        "for i in range(10): # 생성된 이미지 10개 출력\n",
        "  fake_images_img = np.reshape(fake_images.data.cpu().numpy()[i], (28, 28)) # Numpy 배열로 변환\n",
        "  plt.imshow(fake_images_img, cmap = 'gray') # 흑백 이미지\n",
        "  plt.show()"
      ],
      "metadata": {
        "colab": {
          "base_uri": "https://localhost:8080/",
          "height": 1000
        },
        "id": "2nbyNZ2XLXor",
        "outputId": "e19848c7-86ff-4dc5-cec0-15e1cf45e625"
      },
      "execution_count": null,
      "outputs": [
        {
          "output_type": "display_data",
          "data": {
            "text/plain": [
              "<Figure size 640x480 with 1 Axes>"
            ],
            "image/png": "[encoded data removed]"
          },
          "metadata": {}
        },
        {
          "output_type": "display_data",
          "data": {
            "text/plain": [
              "<Figure size 640x480 with 1 Axes>"
            ],
            "image/png": "[encoded data removed]"
          },
          "metadata": {}
        },
        {
          "output_type": "display_data",
          "data": {
            "text/plain": [
              "<Figure size 640x480 with 1 Axes>"
            ],
            "image/png": "[encoded data removed]"
          },
          "metadata": {}
        },
        {
          "output_type": "display_data",
          "data": {
            "text/plain": [
              "<Figure size 640x480 with 1 Axes>"
            ],
            "image/png": "[encoded data removed]"
          },
          "metadata": {}
        },
        {
          "output_type": "display_data",
          "data": {
            "text/plain": [
              "<Figure size 640x480 with 1 Axes>"
            ],
            "image/png": "[encoded data removed]"
          },
          "metadata": {}
        },
        {
          "output_type": "display_data",
          "data": {
            "text/plain": [
              "<Figure size 640x480 with 1 Axes>"
            ],
            "image/png": "[encoded data removed]"
          },
          "metadata": {}
        },
        {
          "output_type": "display_data",
          "data": {
            "text/plain": [
              "<Figure size 640x480 with 1 Axes>"
            ],
            "image/png": "[encoded data removed]"
          },
          "metadata": {}
        },
        {
          "output_type": "display_data",
          "data": {
            "text/plain": [
              "<Figure size 640x480 with 1 Axes>"
            ],
            "image/png": "[encoded data removed]"
          },
          "metadata": {}
        },
        {
          "output_type": "display_data",
          "data": {
            "text/plain": [
              "<Figure size 640x480 with 1 Axes>"
            ],
            "image/png": "[encoded data removed]"
          },
          "metadata": {}
        },
        {
          "output_type": "display_data",
          "data": {
            "text/plain": [
              "<Figure size 640x480 with 1 Axes>"
            ],
            "image/png": "[encoded data removed]"
          },
          "metadata": {}
        }
      ]
    }
  ]
}