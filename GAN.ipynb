{
  "nbformat": 4,
  "nbformat_minor": 0,
  "metadata": {
    "colab": {
      "provenance": [],
      "gpuType": "T4"
    },
    "kernelspec": {
      "name": "python3",
      "display_name": "Python 3"
    },
    "language_info": {
      "name": "python"
    },
    "accelerator": "GPU"
  },
  "cells": [
    {
      "cell_type": "code",
      "execution_count": 1,
      "metadata": {
        "colab": {
          "base_uri": "https://localhost:8080/"
        },
        "id": "Uq_e8NStPlyx",
        "outputId": "b3053d16-f53f-4b6e-9344-0a20245350a1"
      },
      "outputs": [
        {
          "output_type": "stream",
          "name": "stderr",
          "text": [
            "100%|██████████| 9.91M/9.91M [00:00<00:00, 17.8MB/s]\n",
            "100%|██████████| 28.9k/28.9k [00:00<00:00, 485kB/s]\n",
            "100%|██████████| 1.65M/1.65M [00:00<00:00, 4.43MB/s]\n",
            "100%|██████████| 4.54k/4.54k [00:00<00:00, 10.9MB/s]\n"
          ]
        }
      ],
      "source": [
        "import torch\n",
        "from torchvision import datasets, transforms\n",
        "from torch.utils.data import DataLoader\n",
        "\n",
        "# 이미지 전처리: 텐서로 변환하고 픽셀 값을 [-1, 1]로 정규화\n",
        "transform = transforms.Compose([\n",
        "    transforms.ToTensor(),\n",
        "    transforms.Normalize((0.5,), (0.5,))\n",
        "])\n",
        "\n",
        "# MNIST 데이터셋 로드 (자동 다운로드)\n",
        "train_dataset = datasets.MNIST(root='./data', train=True, transform=transform, download=True)\n",
        "\n",
        "# DataLoader 정의\n",
        "train_loader = DataLoader(train_dataset, batch_size=128, shuffle=True)"
      ]
    },
    {
      "cell_type": "code",
      "source": [
        "import imageio  # 이미지 데이터를 읽고 쓸 수 있는 쉬운 인터페이스 제공하는 라이브러리\n",
        "from tqdm import tqdm\n",
        "\n",
        "import torch.nn as nn\n",
        "import torch.optim as optim\n",
        "from torch.utils.data import Dataset\n",
        "import matplotlib.pylab as plt\n",
        "import matplotlib\n",
        "\n",
        "from torchvision.utils import make_grid, save_image\n",
        "import torchvision.datasets as datasets\n",
        "import torchvision.transforms as transforms\n",
        "matplotlib.style.use('ggplot')  # stylesheet 변경하여 사용 - 'ggplot' : 격자무늬 백그라운드 삽입\n",
        "device = torch.device('cuda' if torch.cuda.is_available() else 'cpu')"
      ],
      "metadata": {
        "id": "sdcfUBbzQNok"
      },
      "execution_count": 2,
      "outputs": []
    },
    {
      "cell_type": "code",
      "source": [
        "# 변수 값 설정\n",
        "batch_size = 512\n",
        "epochs = 200\n",
        "sample_size = 64  # 노이즈 벡터 사용하여 가짜 이미지 생성\n",
        "nz = 128  # 잠재 벡터 크기\n",
        "k = 1 # 판별자에 적용할 스텝 수"
      ],
      "metadata": {
        "id": "VfN54sMVQODy"
      },
      "execution_count": 3,
      "outputs": []
    },
    {
      "cell_type": "code",
      "source": [
        "# 생성자 네트워크 생성\n",
        "class Generator(nn.Module):\n",
        "    def __init__(self, nz):\n",
        "        super(Generator, self).__init__()\n",
        "        self.nz = nz\n",
        "        self.main = nn.Sequential(\n",
        "            nn.Linear(self.nz, 256),\n",
        "            nn.LeakyReLU(0.2),\n",
        "            nn.Linear(256, 512),\n",
        "            nn.LeakyReLU(0.2),\n",
        "            nn.Linear(512, 1024),\n",
        "            nn.LeakyReLU(0.2),\n",
        "            nn.Linear(1024, 784),\n",
        "            nn.Tanh(),\n",
        "        )\n",
        "    def forward(self, x):\n",
        "        return self.main(x).view(-1, 1, 28, 28)\n",
        "        # 생성자 네트워크의 반환값은 '배치 크기x1x28x28'이 됨."
      ],
      "metadata": {
        "id": "4cV_OV4-QN7_"
      },
      "execution_count": 4,
      "outputs": []
    },
    {
      "cell_type": "code",
      "source": [
        "# 판별자 네트워크 생성\n",
        "class Discriminator(nn.Module):\n",
        "    def __init__(self):\n",
        "        super(Discriminator, self).__init__()\n",
        "        self.n_input = 784  # 판별자의 입력 크기\n",
        "        self.main = nn.Sequential(\n",
        "            # 판별자 역시 선형 계층과 리키렐루 활성화 함수로 구성\n",
        "            nn.Linear(self.n_input, 1024),\n",
        "            nn.LeakyReLU(0.2),\n",
        "            nn.Dropout(0.3),\n",
        "            nn.Linear(1024, 512),\n",
        "            nn.LeakyReLU(0.2),\n",
        "            nn.Dropout(0.3),\n",
        "            nn.Linear(512, 256),\n",
        "            nn.LeakyReLU(0.2),\n",
        "            nn.Dropout(0.3),\n",
        "            nn.Linear(256, 1),\n",
        "            nn.Sigmoid(),\n",
        "        )\n",
        "\n",
        "    def forward(self, x):\n",
        "        x = x.view(-1, 784)\n",
        "        return self.main(x)   # 이미지가 진짜인지 가짜인지 분류하는 값 반환"
      ],
      "metadata": {
        "id": "OMF6fOEcQN6Y"
      },
      "execution_count": 5,
      "outputs": []
    },
    {
      "cell_type": "code",
      "source": [
        "# 생성자와 판별자 네크워크 초기화\n",
        "# 생성자는 잠재 벡터 nz라는 변수를 파라미터로 전달해야 함.\n",
        "generator = Generator(nz).to(device)\n",
        "discriminator = Discriminator().to(device)\n",
        "print(generator)\n",
        "print(discriminator)"
      ],
      "metadata": {
        "colab": {
          "base_uri": "https://localhost:8080/"
        },
        "id": "GTp-lwkRQN2J",
        "outputId": "6b3c1bd8-5ff5-41a8-818f-247ef9d3b81e"
      },
      "execution_count": 6,
      "outputs": [
        {
          "output_type": "stream",
          "name": "stdout",
          "text": [
            "Generator(\n",
            "  (main): Sequential(\n",
            "    (0): Linear(in_features=128, out_features=256, bias=True)\n",
            "    (1): LeakyReLU(negative_slope=0.2)\n",
            "    (2): Linear(in_features=256, out_features=512, bias=True)\n",
            "    (3): LeakyReLU(negative_slope=0.2)\n",
            "    (4): Linear(in_features=512, out_features=1024, bias=True)\n",
            "    (5): LeakyReLU(negative_slope=0.2)\n",
            "    (6): Linear(in_features=1024, out_features=784, bias=True)\n",
            "    (7): Tanh()\n",
            "  )\n",
            ")\n",
            "Discriminator(\n",
            "  (main): Sequential(\n",
            "    (0): Linear(in_features=784, out_features=1024, bias=True)\n",
            "    (1): LeakyReLU(negative_slope=0.2)\n",
            "    (2): Dropout(p=0.3, inplace=False)\n",
            "    (3): Linear(in_features=1024, out_features=512, bias=True)\n",
            "    (4): LeakyReLU(negative_slope=0.2)\n",
            "    (5): Dropout(p=0.3, inplace=False)\n",
            "    (6): Linear(in_features=512, out_features=256, bias=True)\n",
            "    (7): LeakyReLU(negative_slope=0.2)\n",
            "    (8): Dropout(p=0.3, inplace=False)\n",
            "    (9): Linear(in_features=256, out_features=1, bias=True)\n",
            "    (10): Sigmoid()\n",
            "  )\n",
            ")\n"
          ]
        }
      ]
    },
    {
      "cell_type": "code",
      "source": [
        "# 옵티마이저와 손실 함수 정의\n",
        "optim_g = optim.Adam(generator.parameters(), lr = 0.0002)\n",
        "optim_d = optim.Adam(discriminator.parameters(), lr = 0.0002)\n",
        "\n",
        "criterion = nn.BCELoss()\n",
        "\n",
        "losses_g = []  # 매 에포크마다 발생하는 생성자 오차 저장하기 위한 리스트형 변수\n",
        "losses_d = []  # 매 에포크마다 발생하는 판별자 오차 저장하기 위한 리스트형 변수\n",
        "images = []  # 생성자에 의해 생성되는 이미지 저장하기 위한 리스트형 변수"
      ],
      "metadata": {
        "id": "Va_iCikARACU"
      },
      "execution_count": 7,
      "outputs": []
    },
    {
      "cell_type": "code",
      "source": [
        "# 생성된 이미지 저장 함수 정의\n",
        "# 이미지가 생성되는 과정을 이해할 수 있도록 시각화하여 보여 줌.\n",
        "def save_generator_image(image, path):\n",
        "    save_image(image, path)"
      ],
      "metadata": {
        "id": "ywmxDyZZQ_6t"
      },
      "execution_count": 8,
      "outputs": []
    },
    {
      "cell_type": "code",
      "source": [
        "# 판별자 학습을 위한 함수\n",
        "def train_discriminator(optimizer, data_real, data_fake):\n",
        "    b_size = data_real.size(0)  # 배치 크기 정보 얻기\n",
        "    real_label = torch.ones(b_size, 1).to(device)\n",
        "    fake_label = torch.zeros(b_size, 1).to(device)\n",
        "    optimizer.zero_grad()\n",
        "    output_real = discriminator(data_real)\n",
        "    loss_real = criterion(output_real, real_label)\n",
        "    # 진짜 데이터를 판별자에 제공하여 학습한 결과와 진짜 데이터의 레이블 이용하여 오차 계산\n",
        "    output_fake = discriminator(data_fake)\n",
        "    loss_fake = criterion(output_fake, fake_label)\n",
        "    # 가짜 데이터를 판별자에 제공하여 학습한 결과와 가짜 데이터의 레이블 이용하여 오차 계산\n",
        "    loss_real.backward()\n",
        "    loss_fake.backward()\n",
        "    optimizer.step()\n",
        "    return loss_real + loss_fake\n",
        "    # 진짜 데이터와 가짜 데이터의 오차 합쳐진 최종 오차 반환"
      ],
      "metadata": {
        "id": "LJUHY3USRDx-"
      },
      "execution_count": 9,
      "outputs": []
    },
    {
      "cell_type": "code",
      "source": [
        "# 생성자 학습을 위한 함수\n",
        "def train_generator(optimizer, data_fake):\n",
        "    b_size = data_fake.size(0)\n",
        "    real_label = torch.ones(b_size, 1).to(device)\n",
        "    optimizer.zero_grad()\n",
        "    output = discriminator(data_fake)\n",
        "    loss = criterion(output, real_label)\n",
        "    loss.backward()\n",
        "    optimizer.step()\n",
        "    return loss"
      ],
      "metadata": {
        "id": "iZ8N-FHPRFBi"
      },
      "execution_count": 10,
      "outputs": []
    },
    {
      "cell_type": "code",
      "source": [
        "!mkdir img #img 폴더 만들기"
      ],
      "metadata": {
        "id": "1XCbb2SBRGNn"
      },
      "execution_count": 11,
      "outputs": []
    },
    {
      "cell_type": "code",
      "source": [
        "# 모델 학습\n",
        "generator.train()  # 생성자를 학습 모드로 설정\n",
        "discriminator.train()  # 판별자를 학습 모드로 설정\n",
        "\n",
        "for epoch in range(epochs):\n",
        "    loss_g = 0.0  # 생성자 오차를 추적(저장)하기 위한 변수\n",
        "    loss_d = 0.0  # 판별자 오차를 추적(저장)하기 위한 변수\n",
        "    for idx, data in tqdm(enumerate(train_loader),\n",
        "                          total=int(len(train_dataset)/train_loader.batch_size)):\n",
        "        image, _ = data  # 학습을 위한 이미지 데이터 가져옴.\n",
        "        image = image.to(device)  # 데이터셋이 CPU/GPU 장치 사용하도록 지정\n",
        "        b_size = len(image)\n",
        "        for step in range(k):\n",
        "        # k(1) 스텝 수에 따라 판별자 실행, 이때 k 수를 증가시킬 수 있지만 학습 시간 길어질 수 있음.\n",
        "            data_fake = generator(torch.randn(b_size, nz).to(device)).detach()\n",
        "            data_real = image\n",
        "            loss_d += train_discriminator(optim_d, data_real, data_fake)\n",
        "        data_fake = generator(torch.randn(b_size, nz).to(device))\n",
        "        loss_g += train_generator(optim_g, data_fake)  # 생성자 학습\n",
        "    generated_img = generator(torch.randn(b_size, nz).to(device)).cpu().detach()\n",
        "    # 생성자 이용하여 새로운 이미지 생성하고 CPU 장치 이용하여 디스크에 저장\n",
        "    generated_img = make_grid(generated_img)  # 이미지를 그리드 형태로 표현\n",
        "    save_generator_image(generated_img, \"./img/gen_img{epoch}.png\")\n",
        "    # 생성된 이미지(텐서) 디스크에 저장\n",
        "    images.append(generated_img)\n",
        "    epoch_loss_g = loss_g / idx  # 에포크에 대한 총 생성자 오차 계산\n",
        "    epoch_loss_d = loss_d / idx    # 에포크에 대한 총 판별자 오차 계산\n",
        "    losses_g.append(loss_g)\n",
        "    losses_d.append(loss_d)\n",
        "\n",
        "    print(f\"Epoch {epoch} of {epochs}\")\n",
        "    print(f\"Generator loss: {epoch_loss_g:.8f}, Discriminator loss: {epoch_loss_d:.8f}\")"
      ],
      "metadata": {
        "colab": {
          "base_uri": "https://localhost:8080/",
          "height": 1000
        },
        "id": "aSWeL4zRRH-v",
        "outputId": "685a13b2-5b45-4d22-9ef6-4403e3c6cc21"
      },
      "execution_count": 12,
      "outputs": [
        {
          "output_type": "stream",
          "name": "stderr",
          "text": [
            "469it [00:24, 18.88it/s]                         \n"
          ]
        },
        {
          "output_type": "stream",
          "name": "stdout",
          "text": [
            "Epoch 0 of 200\n",
            "Generator loss: 2.59330487, Discriminator loss: 0.97748244\n"
          ]
        },
        {
          "output_type": "stream",
          "name": "stderr",
          "text": [
            "469it [00:16, 28.20it/s]                         \n"
          ]
        },
        {
          "output_type": "stream",
          "name": "stdout",
          "text": [
            "Epoch 1 of 200\n",
            "Generator loss: 2.95747423, Discriminator loss: 0.93208599\n"
          ]
        },
        {
          "output_type": "stream",
          "name": "stderr",
          "text": [
            "469it [00:15, 29.60it/s]\n"
          ]
        },
        {
          "output_type": "stream",
          "name": "stdout",
          "text": [
            "Epoch 2 of 200\n",
            "Generator loss: 1.67881358, Discriminator loss: 1.00572133\n"
          ]
        },
        {
          "output_type": "stream",
          "name": "stderr",
          "text": [
            "469it [00:15, 30.54it/s]                         \n"
          ]
        },
        {
          "output_type": "stream",
          "name": "stdout",
          "text": [
            "Epoch 3 of 200\n",
            "Generator loss: 2.24015284, Discriminator loss: 0.76586360\n"
          ]
        },
        {
          "output_type": "stream",
          "name": "stderr",
          "text": [
            "469it [00:17, 27.22it/s]                         \n"
          ]
        },
        {
          "output_type": "stream",
          "name": "stdout",
          "text": [
            "Epoch 4 of 200\n",
            "Generator loss: 2.79672718, Discriminator loss: 0.53699821\n"
          ]
        },
        {
          "output_type": "stream",
          "name": "stderr",
          "text": [
            "469it [00:15, 30.31it/s]                         \n"
          ]
        },
        {
          "output_type": "stream",
          "name": "stdout",
          "text": [
            "Epoch 5 of 200\n",
            "Generator loss: 3.30800629, Discriminator loss: 0.41168737\n"
          ]
        },
        {
          "output_type": "stream",
          "name": "stderr",
          "text": [
            "469it [00:15, 30.44it/s]                         \n"
          ]
        },
        {
          "output_type": "stream",
          "name": "stdout",
          "text": [
            "Epoch 6 of 200\n",
            "Generator loss: 3.10661292, Discriminator loss: 0.48980346\n"
          ]
        },
        {
          "output_type": "stream",
          "name": "stderr",
          "text": [
            "469it [00:15, 29.40it/s]\n"
          ]
        },
        {
          "output_type": "stream",
          "name": "stdout",
          "text": [
            "Epoch 7 of 200\n",
            "Generator loss: 2.90254164, Discriminator loss: 0.53441215\n"
          ]
        },
        {
          "output_type": "stream",
          "name": "stderr",
          "text": [
            "469it [00:15, 29.85it/s]                         \n"
          ]
        },
        {
          "output_type": "stream",
          "name": "stdout",
          "text": [
            "Epoch 8 of 200\n",
            "Generator loss: 2.69738507, Discriminator loss: 0.54042184\n"
          ]
        },
        {
          "output_type": "stream",
          "name": "stderr",
          "text": [
            "469it [00:15, 31.25it/s]                         \n"
          ]
        },
        {
          "output_type": "stream",
          "name": "stdout",
          "text": [
            "Epoch 9 of 200\n",
            "Generator loss: 2.46395063, Discriminator loss: 0.61827260\n"
          ]
        },
        {
          "output_type": "stream",
          "name": "stderr",
          "text": [
            "469it [00:15, 31.05it/s]\n"
          ]
        },
        {
          "output_type": "stream",
          "name": "stdout",
          "text": [
            "Epoch 10 of 200\n",
            "Generator loss: 2.72770166, Discriminator loss: 0.52091271\n"
          ]
        },
        {
          "output_type": "stream",
          "name": "stderr",
          "text": [
            "469it [00:15, 29.78it/s]                         \n"
          ]
        },
        {
          "output_type": "stream",
          "name": "stdout",
          "text": [
            "Epoch 11 of 200\n",
            "Generator loss: 2.55560613, Discriminator loss: 0.58671135\n"
          ]
        },
        {
          "output_type": "stream",
          "name": "stderr",
          "text": [
            "469it [00:15, 30.85it/s]\n"
          ]
        },
        {
          "output_type": "stream",
          "name": "stdout",
          "text": [
            "Epoch 12 of 200\n",
            "Generator loss: 2.37906241, Discriminator loss: 0.67362082\n"
          ]
        },
        {
          "output_type": "stream",
          "name": "stderr",
          "text": [
            "469it [00:15, 30.98it/s]\n"
          ]
        },
        {
          "output_type": "stream",
          "name": "stdout",
          "text": [
            "Epoch 13 of 200\n",
            "Generator loss: 2.21083856, Discriminator loss: 0.68274736\n"
          ]
        },
        {
          "output_type": "stream",
          "name": "stderr",
          "text": [
            "469it [00:14, 31.76it/s]\n"
          ]
        },
        {
          "output_type": "stream",
          "name": "stdout",
          "text": [
            "Epoch 14 of 200\n",
            "Generator loss: 2.29445148, Discriminator loss: 0.68775481\n"
          ]
        },
        {
          "output_type": "stream",
          "name": "stderr",
          "text": [
            "469it [00:15, 30.36it/s]                         \n"
          ]
        },
        {
          "output_type": "stream",
          "name": "stdout",
          "text": [
            "Epoch 15 of 200\n",
            "Generator loss: 2.33032298, Discriminator loss: 0.65514749\n"
          ]
        },
        {
          "output_type": "stream",
          "name": "stderr",
          "text": [
            "469it [00:14, 32.18it/s]\n"
          ]
        },
        {
          "output_type": "stream",
          "name": "stdout",
          "text": [
            "Epoch 16 of 200\n",
            "Generator loss: 2.47252965, Discriminator loss: 0.64803690\n"
          ]
        },
        {
          "output_type": "stream",
          "name": "stderr",
          "text": [
            "469it [00:14, 32.17it/s]\n"
          ]
        },
        {
          "output_type": "stream",
          "name": "stdout",
          "text": [
            "Epoch 17 of 200\n",
            "Generator loss: 2.14785862, Discriminator loss: 0.72754776\n"
          ]
        },
        {
          "output_type": "stream",
          "name": "stderr",
          "text": [
            "469it [00:14, 32.23it/s]                         \n"
          ]
        },
        {
          "output_type": "stream",
          "name": "stdout",
          "text": [
            "Epoch 18 of 200\n",
            "Generator loss: 2.08080888, Discriminator loss: 0.76774287\n"
          ]
        },
        {
          "output_type": "stream",
          "name": "stderr",
          "text": [
            "469it [00:14, 31.82it/s]                         \n"
          ]
        },
        {
          "output_type": "stream",
          "name": "stdout",
          "text": [
            "Epoch 19 of 200\n",
            "Generator loss: 2.07470489, Discriminator loss: 0.72547811\n"
          ]
        },
        {
          "output_type": "stream",
          "name": "stderr",
          "text": [
            "469it [00:15, 30.49it/s]                         \n"
          ]
        },
        {
          "output_type": "stream",
          "name": "stdout",
          "text": [
            "Epoch 20 of 200\n",
            "Generator loss: 1.92943978, Discriminator loss: 0.77886969\n"
          ]
        },
        {
          "output_type": "stream",
          "name": "stderr",
          "text": [
            "469it [00:14, 31.89it/s]\n"
          ]
        },
        {
          "output_type": "stream",
          "name": "stdout",
          "text": [
            "Epoch 21 of 200\n",
            "Generator loss: 2.00707197, Discriminator loss: 0.77609462\n"
          ]
        },
        {
          "output_type": "stream",
          "name": "stderr",
          "text": [
            "469it [00:14, 31.84it/s]\n"
          ]
        },
        {
          "output_type": "stream",
          "name": "stdout",
          "text": [
            "Epoch 22 of 200\n",
            "Generator loss: 1.86092293, Discriminator loss: 0.80902970\n"
          ]
        },
        {
          "output_type": "stream",
          "name": "stderr",
          "text": [
            "469it [00:15, 31.13it/s]                         \n"
          ]
        },
        {
          "output_type": "stream",
          "name": "stdout",
          "text": [
            "Epoch 23 of 200\n",
            "Generator loss: 1.82520330, Discriminator loss: 0.83352125\n"
          ]
        },
        {
          "output_type": "stream",
          "name": "stderr",
          "text": [
            "469it [00:15, 30.15it/s]                         \n"
          ]
        },
        {
          "output_type": "stream",
          "name": "stdout",
          "text": [
            "Epoch 24 of 200\n",
            "Generator loss: 1.75534093, Discriminator loss: 0.85431564\n"
          ]
        },
        {
          "output_type": "stream",
          "name": "stderr",
          "text": [
            "469it [00:14, 31.65it/s]\n"
          ]
        },
        {
          "output_type": "stream",
          "name": "stdout",
          "text": [
            "Epoch 25 of 200\n",
            "Generator loss: 1.78358316, Discriminator loss: 0.85637426\n"
          ]
        },
        {
          "output_type": "stream",
          "name": "stderr",
          "text": [
            "469it [00:14, 31.90it/s]                         \n"
          ]
        },
        {
          "output_type": "stream",
          "name": "stdout",
          "text": [
            "Epoch 26 of 200\n",
            "Generator loss: 1.70979345, Discriminator loss: 0.86090410\n"
          ]
        },
        {
          "output_type": "stream",
          "name": "stderr",
          "text": [
            "469it [00:14, 31.34it/s]\n"
          ]
        },
        {
          "output_type": "stream",
          "name": "stdout",
          "text": [
            "Epoch 27 of 200\n",
            "Generator loss: 1.72547603, Discriminator loss: 0.88215768\n"
          ]
        },
        {
          "output_type": "stream",
          "name": "stderr",
          "text": [
            "469it [00:15, 30.34it/s]                         \n"
          ]
        },
        {
          "output_type": "stream",
          "name": "stdout",
          "text": [
            "Epoch 28 of 200\n",
            "Generator loss: 1.72175765, Discriminator loss: 0.87370247\n"
          ]
        },
        {
          "output_type": "stream",
          "name": "stderr",
          "text": [
            "469it [00:15, 31.22it/s]\n"
          ]
        },
        {
          "output_type": "stream",
          "name": "stdout",
          "text": [
            "Epoch 29 of 200\n",
            "Generator loss: 1.65592051, Discriminator loss: 0.89549780\n"
          ]
        },
        {
          "output_type": "stream",
          "name": "stderr",
          "text": [
            "469it [00:14, 31.82it/s]                         \n"
          ]
        },
        {
          "output_type": "stream",
          "name": "stdout",
          "text": [
            "Epoch 30 of 200\n",
            "Generator loss: 1.54974854, Discriminator loss: 0.92445642\n"
          ]
        },
        {
          "output_type": "stream",
          "name": "stderr",
          "text": [
            "469it [00:14, 31.64it/s]                         \n"
          ]
        },
        {
          "output_type": "stream",
          "name": "stdout",
          "text": [
            "Epoch 31 of 200\n",
            "Generator loss: 1.50453162, Discriminator loss: 0.96207011\n"
          ]
        },
        {
          "output_type": "stream",
          "name": "stderr",
          "text": [
            "469it [00:15, 30.55it/s]\n"
          ]
        },
        {
          "output_type": "stream",
          "name": "stdout",
          "text": [
            "Epoch 32 of 200\n",
            "Generator loss: 1.54458559, Discriminator loss: 0.95678568\n"
          ]
        },
        {
          "output_type": "stream",
          "name": "stderr",
          "text": [
            "469it [00:14, 32.03it/s]                         \n"
          ]
        },
        {
          "output_type": "stream",
          "name": "stdout",
          "text": [
            "Epoch 33 of 200\n",
            "Generator loss: 1.51132298, Discriminator loss: 0.95725083\n"
          ]
        },
        {
          "output_type": "stream",
          "name": "stderr",
          "text": [
            "469it [00:14, 31.59it/s]                         \n"
          ]
        },
        {
          "output_type": "stream",
          "name": "stdout",
          "text": [
            "Epoch 34 of 200\n",
            "Generator loss: 1.53412604, Discriminator loss: 0.95704854\n"
          ]
        },
        {
          "output_type": "stream",
          "name": "stderr",
          "text": [
            "469it [00:14, 31.42it/s]                         \n"
          ]
        },
        {
          "output_type": "stream",
          "name": "stdout",
          "text": [
            "Epoch 35 of 200\n",
            "Generator loss: 1.49374282, Discriminator loss: 0.96543360\n"
          ]
        },
        {
          "output_type": "stream",
          "name": "stderr",
          "text": [
            "469it [00:15, 30.19it/s]                         \n"
          ]
        },
        {
          "output_type": "stream",
          "name": "stdout",
          "text": [
            "Epoch 36 of 200\n",
            "Generator loss: 1.46894860, Discriminator loss: 0.97263438\n"
          ]
        },
        {
          "output_type": "stream",
          "name": "stderr",
          "text": [
            "469it [00:14, 31.63it/s]                         \n"
          ]
        },
        {
          "output_type": "stream",
          "name": "stdout",
          "text": [
            "Epoch 37 of 200\n",
            "Generator loss: 1.36139643, Discriminator loss: 1.02691412\n"
          ]
        },
        {
          "output_type": "stream",
          "name": "stderr",
          "text": [
            "469it [00:14, 31.71it/s]\n"
          ]
        },
        {
          "output_type": "stream",
          "name": "stdout",
          "text": [
            "Epoch 38 of 200\n",
            "Generator loss: 1.33985269, Discriminator loss: 1.03934324\n"
          ]
        },
        {
          "output_type": "stream",
          "name": "stderr",
          "text": [
            "469it [00:14, 31.94it/s]\n"
          ]
        },
        {
          "output_type": "stream",
          "name": "stdout",
          "text": [
            "Epoch 39 of 200\n",
            "Generator loss: 1.36570549, Discriminator loss: 1.03226674\n"
          ]
        },
        {
          "output_type": "stream",
          "name": "stderr",
          "text": [
            "469it [00:14, 31.48it/s]                         \n"
          ]
        },
        {
          "output_type": "stream",
          "name": "stdout",
          "text": [
            "Epoch 40 of 200\n",
            "Generator loss: 1.37327731, Discriminator loss: 1.02498007\n"
          ]
        },
        {
          "output_type": "stream",
          "name": "stderr",
          "text": [
            "469it [00:14, 31.96it/s]                         \n"
          ]
        },
        {
          "output_type": "stream",
          "name": "stdout",
          "text": [
            "Epoch 41 of 200\n",
            "Generator loss: 1.33631670, Discriminator loss: 1.04213428\n"
          ]
        },
        {
          "output_type": "stream",
          "name": "stderr",
          "text": [
            "469it [00:14, 32.40it/s]                         \n"
          ]
        },
        {
          "output_type": "stream",
          "name": "stdout",
          "text": [
            "Epoch 42 of 200\n",
            "Generator loss: 1.31164253, Discriminator loss: 1.05223835\n"
          ]
        },
        {
          "output_type": "stream",
          "name": "stderr",
          "text": [
            "469it [00:14, 31.80it/s]\n"
          ]
        },
        {
          "output_type": "stream",
          "name": "stdout",
          "text": [
            "Epoch 43 of 200\n",
            "Generator loss: 1.35238540, Discriminator loss: 1.03958797\n"
          ]
        },
        {
          "output_type": "stream",
          "name": "stderr",
          "text": [
            "469it [00:14, 32.03it/s]                         \n"
          ]
        },
        {
          "output_type": "stream",
          "name": "stdout",
          "text": [
            "Epoch 44 of 200\n",
            "Generator loss: 1.32505143, Discriminator loss: 1.04237735\n"
          ]
        },
        {
          "output_type": "stream",
          "name": "stderr",
          "text": [
            "469it [00:15, 30.04it/s]                         \n"
          ]
        },
        {
          "output_type": "stream",
          "name": "stdout",
          "text": [
            "Epoch 45 of 200\n",
            "Generator loss: 1.28646863, Discriminator loss: 1.05547190\n"
          ]
        },
        {
          "output_type": "stream",
          "name": "stderr",
          "text": [
            "469it [00:15, 30.89it/s]                         \n"
          ]
        },
        {
          "output_type": "stream",
          "name": "stdout",
          "text": [
            "Epoch 46 of 200\n",
            "Generator loss: 1.29155064, Discriminator loss: 1.06809056\n"
          ]
        },
        {
          "output_type": "stream",
          "name": "stderr",
          "text": [
            "469it [00:15, 31.15it/s]                         \n"
          ]
        },
        {
          "output_type": "stream",
          "name": "stdout",
          "text": [
            "Epoch 47 of 200\n",
            "Generator loss: 1.24987853, Discriminator loss: 1.07614636\n"
          ]
        },
        {
          "output_type": "stream",
          "name": "stderr",
          "text": [
            "469it [00:15, 31.21it/s]\n"
          ]
        },
        {
          "output_type": "stream",
          "name": "stdout",
          "text": [
            "Epoch 48 of 200\n",
            "Generator loss: 1.23784137, Discriminator loss: 1.09441471\n"
          ]
        },
        {
          "output_type": "stream",
          "name": "stderr",
          "text": [
            "469it [00:15, 30.31it/s]                         \n"
          ]
        },
        {
          "output_type": "stream",
          "name": "stdout",
          "text": [
            "Epoch 49 of 200\n",
            "Generator loss: 1.25755787, Discriminator loss: 1.08056939\n"
          ]
        },
        {
          "output_type": "stream",
          "name": "stderr",
          "text": [
            "469it [00:15, 31.09it/s]\n"
          ]
        },
        {
          "output_type": "stream",
          "name": "stdout",
          "text": [
            "Epoch 50 of 200\n",
            "Generator loss: 1.19896889, Discriminator loss: 1.09485269\n"
          ]
        },
        {
          "output_type": "stream",
          "name": "stderr",
          "text": [
            "469it [00:14, 31.37it/s]\n"
          ]
        },
        {
          "output_type": "stream",
          "name": "stdout",
          "text": [
            "Epoch 51 of 200\n",
            "Generator loss: 1.20303786, Discriminator loss: 1.11493456\n"
          ]
        },
        {
          "output_type": "stream",
          "name": "stderr",
          "text": [
            "469it [00:15, 31.13it/s]                         \n"
          ]
        },
        {
          "output_type": "stream",
          "name": "stdout",
          "text": [
            "Epoch 52 of 200\n",
            "Generator loss: 1.18665588, Discriminator loss: 1.12401617\n"
          ]
        },
        {
          "output_type": "stream",
          "name": "stderr",
          "text": [
            "469it [00:15, 30.17it/s]                         \n"
          ]
        },
        {
          "output_type": "stream",
          "name": "stdout",
          "text": [
            "Epoch 53 of 200\n",
            "Generator loss: 1.19428313, Discriminator loss: 1.10553694\n"
          ]
        },
        {
          "output_type": "stream",
          "name": "stderr",
          "text": [
            "469it [00:14, 31.37it/s]                         \n"
          ]
        },
        {
          "output_type": "stream",
          "name": "stdout",
          "text": [
            "Epoch 54 of 200\n",
            "Generator loss: 1.19893837, Discriminator loss: 1.11504757\n"
          ]
        },
        {
          "output_type": "stream",
          "name": "stderr",
          "text": [
            "469it [00:15, 31.04it/s]                         \n"
          ]
        },
        {
          "output_type": "stream",
          "name": "stdout",
          "text": [
            "Epoch 55 of 200\n",
            "Generator loss: 1.17726076, Discriminator loss: 1.11887872\n"
          ]
        },
        {
          "output_type": "stream",
          "name": "stderr",
          "text": [
            "469it [00:15, 30.30it/s]                         \n"
          ]
        },
        {
          "output_type": "stream",
          "name": "stdout",
          "text": [
            "Epoch 56 of 200\n",
            "Generator loss: 1.15051675, Discriminator loss: 1.13334131\n"
          ]
        },
        {
          "output_type": "stream",
          "name": "stderr",
          "text": [
            "469it [00:15, 30.44it/s]                         \n"
          ]
        },
        {
          "output_type": "stream",
          "name": "stdout",
          "text": [
            "Epoch 57 of 200\n",
            "Generator loss: 1.16775334, Discriminator loss: 1.12922609\n"
          ]
        },
        {
          "output_type": "stream",
          "name": "stderr",
          "text": [
            "469it [00:15, 30.97it/s]                         \n"
          ]
        },
        {
          "output_type": "stream",
          "name": "stdout",
          "text": [
            "Epoch 58 of 200\n",
            "Generator loss: 1.14657545, Discriminator loss: 1.13391232\n"
          ]
        },
        {
          "output_type": "stream",
          "name": "stderr",
          "text": [
            "469it [00:14, 31.51it/s]                         \n"
          ]
        },
        {
          "output_type": "stream",
          "name": "stdout",
          "text": [
            "Epoch 59 of 200\n",
            "Generator loss: 1.14542091, Discriminator loss: 1.14162970\n"
          ]
        },
        {
          "output_type": "stream",
          "name": "stderr",
          "text": [
            "469it [00:15, 30.32it/s]                         \n"
          ]
        },
        {
          "output_type": "stream",
          "name": "stdout",
          "text": [
            "Epoch 60 of 200\n",
            "Generator loss: 1.12730014, Discriminator loss: 1.14205062\n"
          ]
        },
        {
          "output_type": "stream",
          "name": "stderr",
          "text": [
            "469it [00:15, 29.88it/s]                         \n"
          ]
        },
        {
          "output_type": "stream",
          "name": "stdout",
          "text": [
            "Epoch 61 of 200\n",
            "Generator loss: 1.11651373, Discriminator loss: 1.14162469\n"
          ]
        },
        {
          "output_type": "stream",
          "name": "stderr",
          "text": [
            "469it [00:15, 31.08it/s]\n"
          ]
        },
        {
          "output_type": "stream",
          "name": "stdout",
          "text": [
            "Epoch 62 of 200\n",
            "Generator loss: 1.10934234, Discriminator loss: 1.15730643\n"
          ]
        },
        {
          "output_type": "stream",
          "name": "stderr",
          "text": [
            "469it [00:15, 31.26it/s]                         \n"
          ]
        },
        {
          "output_type": "stream",
          "name": "stdout",
          "text": [
            "Epoch 63 of 200\n",
            "Generator loss: 1.09658396, Discriminator loss: 1.16510844\n"
          ]
        },
        {
          "output_type": "stream",
          "name": "stderr",
          "text": [
            "469it [00:15, 29.46it/s]                         \n"
          ]
        },
        {
          "output_type": "stream",
          "name": "stdout",
          "text": [
            "Epoch 64 of 200\n",
            "Generator loss: 1.08935654, Discriminator loss: 1.16804326\n"
          ]
        },
        {
          "output_type": "stream",
          "name": "stderr",
          "text": [
            "469it [00:15, 30.72it/s]                         \n"
          ]
        },
        {
          "output_type": "stream",
          "name": "stdout",
          "text": [
            "Epoch 65 of 200\n",
            "Generator loss: 1.08742714, Discriminator loss: 1.17986465\n"
          ]
        },
        {
          "output_type": "stream",
          "name": "stderr",
          "text": [
            "469it [00:15, 31.15it/s]\n"
          ]
        },
        {
          "output_type": "stream",
          "name": "stdout",
          "text": [
            "Epoch 66 of 200\n",
            "Generator loss: 1.09695840, Discriminator loss: 1.15834248\n"
          ]
        },
        {
          "output_type": "stream",
          "name": "stderr",
          "text": [
            "  4%|▍         | 20/468 [00:00<00:14, 31.28it/s]\n"
          ]
        },
        {
          "output_type": "error",
          "ename": "KeyboardInterrupt",
          "evalue": "",
          "traceback": [
            "\u001b[0;31m---------------------------------------------------------------------------\u001b[0m",
            "\u001b[0;31mKeyboardInterrupt\u001b[0m                         Traceback (most recent call last)",
            "\u001b[0;32m<ipython-input-12-fb912071e994>\u001b[0m in \u001b[0;36m<cell line: 0>\u001b[0;34m()\u001b[0m\n\u001b[1;32m      6\u001b[0m     \u001b[0mloss_g\u001b[0m \u001b[0;34m=\u001b[0m \u001b[0;36m0.0\u001b[0m  \u001b[0;31m# 생성자 오차를 추적(저장)하기 위한 변수\u001b[0m\u001b[0;34m\u001b[0m\u001b[0;34m\u001b[0m\u001b[0m\n\u001b[1;32m      7\u001b[0m     \u001b[0mloss_d\u001b[0m \u001b[0;34m=\u001b[0m \u001b[0;36m0.0\u001b[0m  \u001b[0;31m# 판별자 오차를 추적(저장)하기 위한 변수\u001b[0m\u001b[0;34m\u001b[0m\u001b[0;34m\u001b[0m\u001b[0m\n\u001b[0;32m----> 8\u001b[0;31m     for idx, data in tqdm(enumerate(train_loader),\n\u001b[0m\u001b[1;32m      9\u001b[0m                           total=int(len(train_dataset)/train_loader.batch_size)):\n\u001b[1;32m     10\u001b[0m         \u001b[0mimage\u001b[0m\u001b[0;34m,\u001b[0m \u001b[0m_\u001b[0m \u001b[0;34m=\u001b[0m \u001b[0mdata\u001b[0m  \u001b[0;31m# 학습을 위한 이미지 데이터 가져옴.\u001b[0m\u001b[0;34m\u001b[0m\u001b[0;34m\u001b[0m\u001b[0m\n",
            "\u001b[0;32m/usr/local/lib/python3.11/dist-packages/tqdm/std.py\u001b[0m in \u001b[0;36m__iter__\u001b[0;34m(self)\u001b[0m\n\u001b[1;32m   1179\u001b[0m \u001b[0;34m\u001b[0m\u001b[0m\n\u001b[1;32m   1180\u001b[0m         \u001b[0;32mtry\u001b[0m\u001b[0;34m:\u001b[0m\u001b[0;34m\u001b[0m\u001b[0;34m\u001b[0m\u001b[0m\n\u001b[0;32m-> 1181\u001b[0;31m             \u001b[0;32mfor\u001b[0m \u001b[0mobj\u001b[0m \u001b[0;32min\u001b[0m \u001b[0miterable\u001b[0m\u001b[0;34m:\u001b[0m\u001b[0;34m\u001b[0m\u001b[0;34m\u001b[0m\u001b[0m\n\u001b[0m\u001b[1;32m   1182\u001b[0m                 \u001b[0;32myield\u001b[0m \u001b[0mobj\u001b[0m\u001b[0;34m\u001b[0m\u001b[0;34m\u001b[0m\u001b[0m\n\u001b[1;32m   1183\u001b[0m                 \u001b[0;31m# Update and possibly print the progressbar.\u001b[0m\u001b[0;34m\u001b[0m\u001b[0;34m\u001b[0m\u001b[0m\n",
            "\u001b[0;32m/usr/local/lib/python3.11/dist-packages/torch/utils/data/dataloader.py\u001b[0m in \u001b[0;36m__next__\u001b[0;34m(self)\u001b[0m\n\u001b[1;32m    706\u001b[0m                 \u001b[0;31m# TODO(https://github.com/pytorch/pytorch/issues/76750)\u001b[0m\u001b[0;34m\u001b[0m\u001b[0;34m\u001b[0m\u001b[0m\n\u001b[1;32m    707\u001b[0m                 \u001b[0mself\u001b[0m\u001b[0;34m.\u001b[0m\u001b[0m_reset\u001b[0m\u001b[0;34m(\u001b[0m\u001b[0;34m)\u001b[0m  \u001b[0;31m# type: ignore[call-arg]\u001b[0m\u001b[0;34m\u001b[0m\u001b[0;34m\u001b[0m\u001b[0m\n\u001b[0;32m--> 708\u001b[0;31m             \u001b[0mdata\u001b[0m \u001b[0;34m=\u001b[0m \u001b[0mself\u001b[0m\u001b[0;34m.\u001b[0m\u001b[0m_next_data\u001b[0m\u001b[0;34m(\u001b[0m\u001b[0;34m)\u001b[0m\u001b[0;34m\u001b[0m\u001b[0;34m\u001b[0m\u001b[0m\n\u001b[0m\u001b[1;32m    709\u001b[0m             \u001b[0mself\u001b[0m\u001b[0;34m.\u001b[0m\u001b[0m_num_yielded\u001b[0m \u001b[0;34m+=\u001b[0m \u001b[0;36m1\u001b[0m\u001b[0;34m\u001b[0m\u001b[0;34m\u001b[0m\u001b[0m\n\u001b[1;32m    710\u001b[0m             if (\n",
            "\u001b[0;32m/usr/local/lib/python3.11/dist-packages/torch/utils/data/dataloader.py\u001b[0m in \u001b[0;36m_next_data\u001b[0;34m(self)\u001b[0m\n\u001b[1;32m    762\u001b[0m     \u001b[0;32mdef\u001b[0m \u001b[0m_next_data\u001b[0m\u001b[0;34m(\u001b[0m\u001b[0mself\u001b[0m\u001b[0;34m)\u001b[0m\u001b[0;34m:\u001b[0m\u001b[0;34m\u001b[0m\u001b[0;34m\u001b[0m\u001b[0m\n\u001b[1;32m    763\u001b[0m         \u001b[0mindex\u001b[0m \u001b[0;34m=\u001b[0m \u001b[0mself\u001b[0m\u001b[0;34m.\u001b[0m\u001b[0m_next_index\u001b[0m\u001b[0;34m(\u001b[0m\u001b[0;34m)\u001b[0m  \u001b[0;31m# may raise StopIteration\u001b[0m\u001b[0;34m\u001b[0m\u001b[0;34m\u001b[0m\u001b[0m\n\u001b[0;32m--> 764\u001b[0;31m         \u001b[0mdata\u001b[0m \u001b[0;34m=\u001b[0m \u001b[0mself\u001b[0m\u001b[0;34m.\u001b[0m\u001b[0m_dataset_fetcher\u001b[0m\u001b[0;34m.\u001b[0m\u001b[0mfetch\u001b[0m\u001b[0;34m(\u001b[0m\u001b[0mindex\u001b[0m\u001b[0;34m)\u001b[0m  \u001b[0;31m# may raise StopIteration\u001b[0m\u001b[0;34m\u001b[0m\u001b[0;34m\u001b[0m\u001b[0m\n\u001b[0m\u001b[1;32m    765\u001b[0m         \u001b[0;32mif\u001b[0m \u001b[0mself\u001b[0m\u001b[0;34m.\u001b[0m\u001b[0m_pin_memory\u001b[0m\u001b[0;34m:\u001b[0m\u001b[0;34m\u001b[0m\u001b[0;34m\u001b[0m\u001b[0m\n\u001b[1;32m    766\u001b[0m             \u001b[0mdata\u001b[0m \u001b[0;34m=\u001b[0m \u001b[0m_utils\u001b[0m\u001b[0;34m.\u001b[0m\u001b[0mpin_memory\u001b[0m\u001b[0;34m.\u001b[0m\u001b[0mpin_memory\u001b[0m\u001b[0;34m(\u001b[0m\u001b[0mdata\u001b[0m\u001b[0;34m,\u001b[0m \u001b[0mself\u001b[0m\u001b[0;34m.\u001b[0m\u001b[0m_pin_memory_device\u001b[0m\u001b[0;34m)\u001b[0m\u001b[0;34m\u001b[0m\u001b[0;34m\u001b[0m\u001b[0m\n",
            "\u001b[0;32m/usr/local/lib/python3.11/dist-packages/torch/utils/data/_utils/fetch.py\u001b[0m in \u001b[0;36mfetch\u001b[0;34m(self, possibly_batched_index)\u001b[0m\n\u001b[1;32m     50\u001b[0m                 \u001b[0mdata\u001b[0m \u001b[0;34m=\u001b[0m \u001b[0mself\u001b[0m\u001b[0;34m.\u001b[0m\u001b[0mdataset\u001b[0m\u001b[0;34m.\u001b[0m\u001b[0m__getitems__\u001b[0m\u001b[0;34m(\u001b[0m\u001b[0mpossibly_batched_index\u001b[0m\u001b[0;34m)\u001b[0m\u001b[0;34m\u001b[0m\u001b[0;34m\u001b[0m\u001b[0m\n\u001b[1;32m     51\u001b[0m             \u001b[0;32melse\u001b[0m\u001b[0;34m:\u001b[0m\u001b[0;34m\u001b[0m\u001b[0;34m\u001b[0m\u001b[0m\n\u001b[0;32m---> 52\u001b[0;31m                 \u001b[0mdata\u001b[0m \u001b[0;34m=\u001b[0m \u001b[0;34m[\u001b[0m\u001b[0mself\u001b[0m\u001b[0;34m.\u001b[0m\u001b[0mdataset\u001b[0m\u001b[0;34m[\u001b[0m\u001b[0midx\u001b[0m\u001b[0;34m]\u001b[0m \u001b[0;32mfor\u001b[0m \u001b[0midx\u001b[0m \u001b[0;32min\u001b[0m \u001b[0mpossibly_batched_index\u001b[0m\u001b[0;34m]\u001b[0m\u001b[0;34m\u001b[0m\u001b[0;34m\u001b[0m\u001b[0m\n\u001b[0m\u001b[1;32m     53\u001b[0m         \u001b[0;32melse\u001b[0m\u001b[0;34m:\u001b[0m\u001b[0;34m\u001b[0m\u001b[0;34m\u001b[0m\u001b[0m\n\u001b[1;32m     54\u001b[0m             \u001b[0mdata\u001b[0m \u001b[0;34m=\u001b[0m \u001b[0mself\u001b[0m\u001b[0;34m.\u001b[0m\u001b[0mdataset\u001b[0m\u001b[0;34m[\u001b[0m\u001b[0mpossibly_batched_index\u001b[0m\u001b[0;34m]\u001b[0m\u001b[0;34m\u001b[0m\u001b[0;34m\u001b[0m\u001b[0m\n",
            "\u001b[0;32m/usr/local/lib/python3.11/dist-packages/torch/utils/data/_utils/fetch.py\u001b[0m in \u001b[0;36m<listcomp>\u001b[0;34m(.0)\u001b[0m\n\u001b[1;32m     50\u001b[0m                 \u001b[0mdata\u001b[0m \u001b[0;34m=\u001b[0m \u001b[0mself\u001b[0m\u001b[0;34m.\u001b[0m\u001b[0mdataset\u001b[0m\u001b[0;34m.\u001b[0m\u001b[0m__getitems__\u001b[0m\u001b[0;34m(\u001b[0m\u001b[0mpossibly_batched_index\u001b[0m\u001b[0;34m)\u001b[0m\u001b[0;34m\u001b[0m\u001b[0;34m\u001b[0m\u001b[0m\n\u001b[1;32m     51\u001b[0m             \u001b[0;32melse\u001b[0m\u001b[0;34m:\u001b[0m\u001b[0;34m\u001b[0m\u001b[0;34m\u001b[0m\u001b[0m\n\u001b[0;32m---> 52\u001b[0;31m                 \u001b[0mdata\u001b[0m \u001b[0;34m=\u001b[0m \u001b[0;34m[\u001b[0m\u001b[0mself\u001b[0m\u001b[0;34m.\u001b[0m\u001b[0mdataset\u001b[0m\u001b[0;34m[\u001b[0m\u001b[0midx\u001b[0m\u001b[0;34m]\u001b[0m \u001b[0;32mfor\u001b[0m \u001b[0midx\u001b[0m \u001b[0;32min\u001b[0m \u001b[0mpossibly_batched_index\u001b[0m\u001b[0;34m]\u001b[0m\u001b[0;34m\u001b[0m\u001b[0;34m\u001b[0m\u001b[0m\n\u001b[0m\u001b[1;32m     53\u001b[0m         \u001b[0;32melse\u001b[0m\u001b[0;34m:\u001b[0m\u001b[0;34m\u001b[0m\u001b[0;34m\u001b[0m\u001b[0m\n\u001b[1;32m     54\u001b[0m             \u001b[0mdata\u001b[0m \u001b[0;34m=\u001b[0m \u001b[0mself\u001b[0m\u001b[0;34m.\u001b[0m\u001b[0mdataset\u001b[0m\u001b[0;34m[\u001b[0m\u001b[0mpossibly_batched_index\u001b[0m\u001b[0;34m]\u001b[0m\u001b[0;34m\u001b[0m\u001b[0;34m\u001b[0m\u001b[0m\n",
            "\u001b[0;32m/usr/local/lib/python3.11/dist-packages/torchvision/datasets/mnist.py\u001b[0m in \u001b[0;36m__getitem__\u001b[0;34m(self, index)\u001b[0m\n\u001b[1;32m    144\u001b[0m \u001b[0;34m\u001b[0m\u001b[0m\n\u001b[1;32m    145\u001b[0m         \u001b[0;32mif\u001b[0m \u001b[0mself\u001b[0m\u001b[0;34m.\u001b[0m\u001b[0mtransform\u001b[0m \u001b[0;32mis\u001b[0m \u001b[0;32mnot\u001b[0m \u001b[0;32mNone\u001b[0m\u001b[0;34m:\u001b[0m\u001b[0;34m\u001b[0m\u001b[0;34m\u001b[0m\u001b[0m\n\u001b[0;32m--> 146\u001b[0;31m             \u001b[0mimg\u001b[0m \u001b[0;34m=\u001b[0m \u001b[0mself\u001b[0m\u001b[0;34m.\u001b[0m\u001b[0mtransform\u001b[0m\u001b[0;34m(\u001b[0m\u001b[0mimg\u001b[0m\u001b[0;34m)\u001b[0m\u001b[0;34m\u001b[0m\u001b[0;34m\u001b[0m\u001b[0m\n\u001b[0m\u001b[1;32m    147\u001b[0m \u001b[0;34m\u001b[0m\u001b[0m\n\u001b[1;32m    148\u001b[0m         \u001b[0;32mif\u001b[0m \u001b[0mself\u001b[0m\u001b[0;34m.\u001b[0m\u001b[0mtarget_transform\u001b[0m \u001b[0;32mis\u001b[0m \u001b[0;32mnot\u001b[0m \u001b[0;32mNone\u001b[0m\u001b[0;34m:\u001b[0m\u001b[0;34m\u001b[0m\u001b[0;34m\u001b[0m\u001b[0m\n",
            "\u001b[0;32m/usr/local/lib/python3.11/dist-packages/torchvision/transforms/transforms.py\u001b[0m in \u001b[0;36m__call__\u001b[0;34m(self, img)\u001b[0m\n\u001b[1;32m     93\u001b[0m     \u001b[0;32mdef\u001b[0m \u001b[0m__call__\u001b[0m\u001b[0;34m(\u001b[0m\u001b[0mself\u001b[0m\u001b[0;34m,\u001b[0m \u001b[0mimg\u001b[0m\u001b[0;34m)\u001b[0m\u001b[0;34m:\u001b[0m\u001b[0;34m\u001b[0m\u001b[0;34m\u001b[0m\u001b[0m\n\u001b[1;32m     94\u001b[0m         \u001b[0;32mfor\u001b[0m \u001b[0mt\u001b[0m \u001b[0;32min\u001b[0m \u001b[0mself\u001b[0m\u001b[0;34m.\u001b[0m\u001b[0mtransforms\u001b[0m\u001b[0;34m:\u001b[0m\u001b[0;34m\u001b[0m\u001b[0;34m\u001b[0m\u001b[0m\n\u001b[0;32m---> 95\u001b[0;31m             \u001b[0mimg\u001b[0m \u001b[0;34m=\u001b[0m \u001b[0mt\u001b[0m\u001b[0;34m(\u001b[0m\u001b[0mimg\u001b[0m\u001b[0;34m)\u001b[0m\u001b[0;34m\u001b[0m\u001b[0;34m\u001b[0m\u001b[0m\n\u001b[0m\u001b[1;32m     96\u001b[0m         \u001b[0;32mreturn\u001b[0m \u001b[0mimg\u001b[0m\u001b[0;34m\u001b[0m\u001b[0;34m\u001b[0m\u001b[0m\n\u001b[1;32m     97\u001b[0m \u001b[0;34m\u001b[0m\u001b[0m\n",
            "\u001b[0;32m/usr/local/lib/python3.11/dist-packages/torchvision/transforms/transforms.py\u001b[0m in \u001b[0;36m__call__\u001b[0;34m(self, pic)\u001b[0m\n\u001b[1;32m    135\u001b[0m             \u001b[0mTensor\u001b[0m\u001b[0;34m:\u001b[0m \u001b[0mConverted\u001b[0m \u001b[0mimage\u001b[0m\u001b[0;34m.\u001b[0m\u001b[0;34m\u001b[0m\u001b[0;34m\u001b[0m\u001b[0m\n\u001b[1;32m    136\u001b[0m         \"\"\"\n\u001b[0;32m--> 137\u001b[0;31m         \u001b[0;32mreturn\u001b[0m \u001b[0mF\u001b[0m\u001b[0;34m.\u001b[0m\u001b[0mto_tensor\u001b[0m\u001b[0;34m(\u001b[0m\u001b[0mpic\u001b[0m\u001b[0;34m)\u001b[0m\u001b[0;34m\u001b[0m\u001b[0;34m\u001b[0m\u001b[0m\n\u001b[0m\u001b[1;32m    138\u001b[0m \u001b[0;34m\u001b[0m\u001b[0m\n\u001b[1;32m    139\u001b[0m     \u001b[0;32mdef\u001b[0m \u001b[0m__repr__\u001b[0m\u001b[0;34m(\u001b[0m\u001b[0mself\u001b[0m\u001b[0;34m)\u001b[0m \u001b[0;34m->\u001b[0m \u001b[0mstr\u001b[0m\u001b[0;34m:\u001b[0m\u001b[0;34m\u001b[0m\u001b[0;34m\u001b[0m\u001b[0m\n",
            "\u001b[0;32m/usr/local/lib/python3.11/dist-packages/torchvision/transforms/functional.py\u001b[0m in \u001b[0;36mto_tensor\u001b[0;34m(pic)\u001b[0m\n\u001b[1;32m    174\u001b[0m     \u001b[0mimg\u001b[0m \u001b[0;34m=\u001b[0m \u001b[0mimg\u001b[0m\u001b[0;34m.\u001b[0m\u001b[0mpermute\u001b[0m\u001b[0;34m(\u001b[0m\u001b[0;34m(\u001b[0m\u001b[0;36m2\u001b[0m\u001b[0;34m,\u001b[0m \u001b[0;36m0\u001b[0m\u001b[0;34m,\u001b[0m \u001b[0;36m1\u001b[0m\u001b[0;34m)\u001b[0m\u001b[0;34m)\u001b[0m\u001b[0;34m.\u001b[0m\u001b[0mcontiguous\u001b[0m\u001b[0;34m(\u001b[0m\u001b[0;34m)\u001b[0m\u001b[0;34m\u001b[0m\u001b[0;34m\u001b[0m\u001b[0m\n\u001b[1;32m    175\u001b[0m     \u001b[0;32mif\u001b[0m \u001b[0misinstance\u001b[0m\u001b[0;34m(\u001b[0m\u001b[0mimg\u001b[0m\u001b[0;34m,\u001b[0m \u001b[0mtorch\u001b[0m\u001b[0;34m.\u001b[0m\u001b[0mByteTensor\u001b[0m\u001b[0;34m)\u001b[0m\u001b[0;34m:\u001b[0m\u001b[0;34m\u001b[0m\u001b[0;34m\u001b[0m\u001b[0m\n\u001b[0;32m--> 176\u001b[0;31m         \u001b[0;32mreturn\u001b[0m \u001b[0mimg\u001b[0m\u001b[0;34m.\u001b[0m\u001b[0mto\u001b[0m\u001b[0;34m(\u001b[0m\u001b[0mdtype\u001b[0m\u001b[0;34m=\u001b[0m\u001b[0mdefault_float_dtype\u001b[0m\u001b[0;34m)\u001b[0m\u001b[0;34m.\u001b[0m\u001b[0mdiv\u001b[0m\u001b[0;34m(\u001b[0m\u001b[0;36m255\u001b[0m\u001b[0;34m)\u001b[0m\u001b[0;34m\u001b[0m\u001b[0;34m\u001b[0m\u001b[0m\n\u001b[0m\u001b[1;32m    177\u001b[0m     \u001b[0;32melse\u001b[0m\u001b[0;34m:\u001b[0m\u001b[0;34m\u001b[0m\u001b[0;34m\u001b[0m\u001b[0m\n\u001b[1;32m    178\u001b[0m         \u001b[0;32mreturn\u001b[0m \u001b[0mimg\u001b[0m\u001b[0;34m\u001b[0m\u001b[0;34m\u001b[0m\u001b[0m\n",
            "\u001b[0;31mKeyboardInterrupt\u001b[0m: "
          ]
        }
      ]
    },
    {
      "cell_type": "code",
      "source": [
        "# 생성자와 판별자의 오차 확인\n",
        "plt.figure()\n",
        "losses_g = [f1.item() for f1 in losses_g]\n",
        "plt.plot(losses_g, label='Generator loss')\n",
        "losses_d = [f2.item() for f2 in losses_d]\n",
        "plt.plot(losses_d, label='Discriminator Loss')\n",
        "plt.legend()\n",
        "plt.show()"
      ],
      "metadata": {
        "colab": {
          "base_uri": "https://localhost:8080/",
          "height": 431
        },
        "id": "NTzCdfk6RH8j",
        "outputId": "ee94ff36-6ab5-4b3c-f24a-563b8fc174f2"
      },
      "execution_count": 13,
      "outputs": [
        {
          "output_type": "display_data",
          "data": {
            "text/plain": [
              "<Figure size 640x480 with 1 Axes>"
            ],
            "image/png": "[encoded data removed]"
          },
          "metadata": {}
        }
      ]
    },
    {
      "cell_type": "code",
      "source": [
        "import numpy as np # numpy 라이브러리 import\n",
        "\n",
        "# 생성된 이미지 출력\n",
        "fake_images = generator(torch.randn(b_size, nz).to(device))\n",
        "for i in range(10):\n",
        "    fake_images_img = np.reshape(fake_images.data.cpu().numpy()[i], (28, 28))\n",
        "    plt.imshow(fake_images_img, cmap='gray')\n",
        "    plt.show()"
      ],
      "metadata": {
        "colab": {
          "base_uri": "https://localhost:8080/",
          "height": 1000
        },
        "id": "m7xQXnEbRmms",
        "outputId": "85694a67-eeca-45f9-edf2-8a855902c943"
      },
      "execution_count": 15,
      "outputs": [
        {
          "output_type": "display_data",
          "data": {
            "text/plain": [
              "<Figure size 640x480 with 1 Axes>"
            ],
            "image/png": "[encoded data removed]"
          },
          "metadata": {}
        },
        {
          "output_type": "display_data",
          "data": {
            "text/plain": [
              "<Figure size 640x480 with 1 Axes>"
            ],
            "image/png": "[encoded data removed]"
          },
          "metadata": {}
        },
        {
          "output_type": "display_data",
          "data": {
            "text/plain": [
              "<Figure size 640x480 with 1 Axes>"
            ],
            "image/png": "[encoded data removed]"
          },
          "metadata": {}
        },
        {
          "output_type": "display_data",
          "data": {
            "text/plain": [
              "<Figure size 640x480 with 1 Axes>"
            ],
            "image/png": "[encoded data removed]"
          },
          "metadata": {}
        },
        {
          "output_type": "display_data",
          "data": {
            "text/plain": [
              "<Figure size 640x480 with 1 Axes>"
            ],
            "image/png": "[encoded data removed]"
          },
          "metadata": {}
        },
        {
          "output_type": "display_data",
          "data": {
            "text/plain": [
              "<Figure size 640x480 with 1 Axes>"
            ],
            "image/png": "[encoded data removed]"
          },
          "metadata": {}
        },
        {
          "output_type": "display_data",
          "data": {
            "text/plain": [
              "<Figure size 640x480 with 1 Axes>"
            ],
            "image/png": "[encoded data removed]"
          },
          "metadata": {}
        },
        {
          "output_type": "display_data",
          "data": {
            "text/plain": [
              "<Figure size 640x480 with 1 Axes>"
            ],
            "image/png": "[encoded data removed]"
          },
          "metadata": {}
        },
        {
          "output_type": "display_data",
          "data": {
            "text/plain": [
              "<Figure size 640x480 with 1 Axes>"
            ],
            "image/png": "[encoded data removed]"
          },
          "metadata": {}
        },
        {
          "output_type": "display_data",
          "data": {
            "text/plain": [
              "<Figure size 640x480 with 1 Axes>"
            ],
            "image/png": "[encoded data removed]"
          },
          "metadata": {}
        }
      ]
    }
  ]
}