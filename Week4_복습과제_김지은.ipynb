{
  "nbformat": 4,
  "nbformat_minor": 0,
  "metadata": {
    "colab": {
      "provenance": [],
      "gpuType": "T4"
    },
    "kernelspec": {
      "name": "python3",
      "display_name": "Python 3"
    },
    "language_info": {
      "name": "python"
    },
    "accelerator": "GPU"
  },
  "cells": [
    {
      "cell_type": "markdown",
      "source": [
        "## **Reinforcement Learning**"
      ],
      "metadata": {
        "id": "vXLl78Gl2XoY"
      }
    },
    {
      "cell_type": "markdown",
      "source": [
        "### 라이브러리 호출"
      ],
      "metadata": {
        "id": "Pvo7KJTy2dJx"
      }
    },
    {
      "cell_type": "code",
      "source": [
        "! pip install gym"
      ],
      "metadata": {
        "colab": {
          "base_uri": "https://localhost:8080/"
        },
        "id": "NKlJq96IKMzs",
        "outputId": "3e583067-b503-46b9-ba3d-f20d995675d8"
      },
      "execution_count": 1,
      "outputs": [
        {
          "output_type": "stream",
          "name": "stdout",
          "text": [
            "Requirement already satisfied: gym in /usr/local/lib/python3.11/dist-packages (0.25.2)\n",
            "Requirement already satisfied: numpy>=1.18.0 in /usr/local/lib/python3.11/dist-packages (from gym) (2.0.2)\n",
            "Requirement already satisfied: cloudpickle>=1.2.0 in /usr/local/lib/python3.11/dist-packages (from gym) (3.1.1)\n",
            "Requirement already satisfied: gym-notices>=0.0.4 in /usr/local/lib/python3.11/dist-packages (from gym) (0.0.8)\n"
          ]
        }
      ]
    },
    {
      "cell_type": "code",
      "execution_count": 33,
      "metadata": {
        "id": "xw8rOBZe2PwJ"
      },
      "outputs": [],
      "source": [
        "import gym\n",
        "import math\n",
        "import random\n",
        "import numpy as np\n",
        "import matplotlib\n",
        "import matplotlib.pyplot as plt\n",
        "from collections import namedtuple\n",
        "from itertools import count\n",
        "from PIL import Image\n",
        "\n",
        "import torch\n",
        "import torch.nn as nn\n",
        "import torch.optim as optim\n",
        "import torch.nn.functional as F\n",
        "import torchvision.transforms as T\n",
        "\n",
        "env = gym.make('CartPole-v1').unwrapped\n",
        "plt.ion()\n",
        "device = torch.device(\"cuda\" if torch.cuda.is_available() else \"cpu\")"
      ]
    },
    {
      "cell_type": "markdown",
      "source": [
        "### DQN 리플레이 메모리"
      ],
      "metadata": {
        "id": "0vHUtKYX4JFU"
      }
    },
    {
      "cell_type": "code",
      "source": [
        "Transition = namedtuple('Transition', ('state', 'action', 'next_state', 'reward'))\n",
        "\n",
        "class ReplayMemory(object):\n",
        "  def __init__(self, capacity):\n",
        "    self.capacity = capacity\n",
        "    self.memory = []\n",
        "    self.position = 0\n",
        "\n",
        "  def push(self, *args):\n",
        "    if len(self.memory) < self.capacity:\n",
        "      self.memory.append(None)\n",
        "    self.memory[self.position] = Transition(*args)\n",
        "    self.position = (self.position + 1) % self.capacity\n",
        "\n",
        "  def sample(self, batch_size):\n",
        "    return random.sample(self.memory, batch_size)\n",
        "\n",
        "  def __len__(self):\n",
        "    return len(self.memory)"
      ],
      "metadata": {
        "id": "yK9WCru74SBs"
      },
      "execution_count": 34,
      "outputs": []
    },
    {
      "cell_type": "markdown",
      "source": [
        "### DQN 모델 네트워크"
      ],
      "metadata": {
        "id": "a5EImNtl5CYf"
      }
    },
    {
      "cell_type": "code",
      "source": [
        "class DQN(nn.Module):\n",
        "  def __init__(self, h, w, outputs):\n",
        "    super(DQN, self).__init__()\n",
        "    self.conv1 = nn.Conv2d(3, 16, kernel_size=5, stride=2)\n",
        "    self.bn1 = nn.BatchNorm2d(16)\n",
        "    self.conv2 = nn.Conv2d(16, 32, kernel_size=5, stride=2)\n",
        "    self.bn2 = nn.BatchNorm2d(32)\n",
        "    self.conv3 = nn.Conv2d(32, 32, kernel_size=5, stride=2)\n",
        "    self.bn3 = nn.BatchNorm2d(32)\n",
        "\n",
        "    def con2d_size_out(size,kernel_size=5, stride=2):\n",
        "      return (size - (kernel_size - 1) - 1) // stride + 1\n",
        "\n",
        "    convw  = con2d_size_out(con2d_size_out(con2d_size_out(w)))\n",
        "    convh  = con2d_size_out(con2d_size_out(con2d_size_out(h)))\n",
        "    linear_input_size = convw * convh *32\n",
        "    self.head = nn.Linear(linear_input_size, outputs)\n",
        "\n",
        "  def forward(self, x):\n",
        "    x = F.relu(self.bn1(self.conv1(x)))\n",
        "    x = F.relu(self.bn2(self.conv2(x)))\n",
        "    x = F.relu(self.bn3(self.conv3(x)))\n",
        "    return self.head(x.view(x.size(0), -1))"
      ],
      "metadata": {
        "id": "vPn1OCu15EO-"
      },
      "execution_count": 35,
      "outputs": []
    },
    {
      "cell_type": "markdown",
      "source": [
        "### 이미지 추출 및 처리"
      ],
      "metadata": {
        "id": "geNQRxt6JVPp"
      }
    },
    {
      "cell_type": "code",
      "source": [
        "! pip install pyglet"
      ],
      "metadata": {
        "colab": {
          "base_uri": "https://localhost:8080/"
        },
        "id": "0laOusqzJltX",
        "outputId": "20755e82-68eb-43ca-9011-82f1029eb085"
      },
      "execution_count": 5,
      "outputs": [
        {
          "output_type": "stream",
          "name": "stdout",
          "text": [
            "Collecting pyglet\n",
            "  Downloading pyglet-2.1.3-py3-none-any.whl.metadata (7.7 kB)\n",
            "Downloading pyglet-2.1.3-py3-none-any.whl (962 kB)\n",
            "\u001b[?25l   \u001b[90m━━━━━━━━━━━━━━━━━━━━━━━━━━━━━━━━━━━━━━━━\u001b[0m \u001b[32m0.0/962.1 kB\u001b[0m \u001b[31m?\u001b[0m eta \u001b[36m-:--:--\u001b[0m\r\u001b[2K   \u001b[91m━━━\u001b[0m\u001b[91m╸\u001b[0m\u001b[90m━━━━━━━━━━━━━━━━━━━━━━━━━━━━━━━━━━━━\u001b[0m \u001b[32m92.2/962.1 kB\u001b[0m \u001b[31m2.6 MB/s\u001b[0m eta \u001b[36m0:00:01\u001b[0m\r\u001b[2K   \u001b[91m━━━━━━━━━━━━━━━━━━━━━━━━━━━━━━━\u001b[0m\u001b[91m╸\u001b[0m\u001b[90m━━━━━━━━\u001b[0m \u001b[32m757.8/962.1 kB\u001b[0m \u001b[31m11.0 MB/s\u001b[0m eta \u001b[36m0:00:01\u001b[0m\r\u001b[2K   \u001b[90m━━━━━━━━━━━━━━━━━━━━━━━━━━━━━━━━━━━━━━━━\u001b[0m \u001b[32m962.1/962.1 kB\u001b[0m \u001b[31m11.5 MB/s\u001b[0m eta \u001b[36m0:00:00\u001b[0m\n",
            "\u001b[?25hInstalling collected packages: pyglet\n",
            "Successfully installed pyglet-2.1.3\n"
          ]
        }
      ]
    },
    {
      "cell_type": "code",
      "source": [
        "import pyglet\n",
        "\n",
        "resize = T.Compose([T.ToPILImage(),\n",
        "                    T.Resize(40, interpolation=Image.Resampling.BICUBIC),\n",
        "                    T.ToTensor()])\n",
        "\n",
        "def get_cart_location(screen_width):\n",
        "  world_width = env.x_threshold*2\n",
        "  scale = screen_width / world_width\n",
        "  return int(env.state[0]*scale+screen_width/2.0)\n",
        "\n",
        "def get_screen():\n",
        "  screen = env.render(mode='rgb_array').transpose((2, 0, 1))\n",
        "  _, screen_height, screen_width = screen.shape\n",
        "  screen = screen[:, int(screen_height*0.4):int(screen_height*0.8)]\n",
        "  view_width = int(screen_width*0.6)\n",
        "  cart_location = get_cart_location(screen_width)\n",
        "\n",
        "  if cart_location < view_width // 2:\n",
        "    slice_range = slice(view_width)\n",
        "  elif cart_location > (screen_width - view_width // 2):\n",
        "    slice_range = slice(-view_width, None)\n",
        "  else:\n",
        "    slice_range = slice(cart_location - view_width //2,\n",
        "                        cart_location + view_width //2)\n",
        "\n",
        "  screen = screen[:,:,slice_range]\n",
        "  screen = np.ascontiguousarray(screen, dtype=np.float32) / 255\n",
        "  screen = torch.from_numpy(screen)\n",
        "  return resize(screen).unsqueeze(0).to(device)\n",
        "\n",
        "env.reset()\n",
        "plt.figure()\n",
        "plt.imshow(get_screen().cpu().squeeze(0).permute(1, 2, 0).numpy(),\n",
        "           interpolation='none')\n",
        "plt.title('example')\n",
        "plt.show()"
      ],
      "metadata": {
        "colab": {
          "base_uri": "https://localhost:8080/",
          "height": 303
        },
        "id": "FyHid7s7JXhc",
        "outputId": "ec7029aa-1fb1-485d-a89f-d5e4e0cf5632"
      },
      "execution_count": 36,
      "outputs": [
        {
          "output_type": "display_data",
          "data": {
            "text/plain": [
              "<Figure size 640x480 with 1 Axes>"
            ],
            "image/png": "[encoded data removed]"
          },
          "metadata": {}
        }
      ]
    },
    {
      "cell_type": "markdown",
      "source": [
        "### 모델 객체화 및 손실 함수 정의"
      ],
      "metadata": {
        "id": "qP-U7_VfU_aB"
      }
    },
    {
      "cell_type": "code",
      "source": [
        "BATCH_SIZE = 128\n",
        "GAMMA = 0.999\n",
        "EPS_START = 0.9\n",
        "EPS_END = 0.05\n",
        "EPS_DECAY = 200\n",
        "TARGET_UPDATE = 10\n",
        "\n",
        "init_screen = get_screen()\n",
        "_, _, screen_height, screen_width = init_screen.shape\n",
        "n_actions = env.action_space.n\n",
        "\n",
        "policy_net = DQN(screen_height, screen_width, n_actions).to(device)\n",
        "target_net = DQN(screen_height, screen_width, n_actions).to(device)\n",
        "target_net.load_state_dict(policy_net.state_dict())\n",
        "target_net.eval()\n",
        "\n",
        "optimizer = optim.RMSprop(policy_net.parameters())\n",
        "memory = ReplayMemory(10000)\n",
        "\n",
        "steps_done = 0\n",
        "\n",
        "def select_action(state):\n",
        "  global steps_done\n",
        "  sample = random.random()\n",
        "  eps_threshold = EPS_END + (EPS_START - EPS_END) * \\\n",
        "    math.exp(-1. * steps_done / EPS_DECAY)\n",
        "  steps_done += 1\n",
        "  if sample > eps_threshold:\n",
        "    with torch.no_grad():\n",
        "      return policy_net(state).max(1)[1].view(1, 1)\n",
        "  else:\n",
        "    return torch.tensor([[random.randrange(n_actions)]], device=device, dtype=torch.long)\n",
        "\n",
        "episode_durations = []"
      ],
      "metadata": {
        "id": "H2hI4SthVCCL"
      },
      "execution_count": 37,
      "outputs": []
    },
    {
      "cell_type": "markdown",
      "source": [
        "### 모델에서 사용할 옵티마이저 정의"
      ],
      "metadata": {
        "id": "SH_vdGgYWacm"
      }
    },
    {
      "cell_type": "code",
      "source": [
        "def optimize_model():\n",
        "  if len(memory) < BATCH_SIZE:\n",
        "    return\n",
        "\n",
        "  transitions = memory.sample(BATCH_SIZE)\n",
        "  batch = Transition(*zip(*transitions))\n",
        "  non_final_mask = torch.tensor(tuple(map(lambda s: s is not None, batch.next_state)), device=device, dtype=torch.bool)\n",
        "  non_final_next_states = torch.cat([s for s in batch.next_state if s is not None])\n",
        "\n",
        "  state_batch = torch.cat(batch.state)\n",
        "  action_batch = torch.cat(batch.action)\n",
        "  reward_batch = torch.cat(batch.reward)\n",
        "\n",
        "  state_action_values = policy_net(state_batch).gather(1, action_batch)\n",
        "  next_state_values = torch.zeros(BATCH_SIZE, device=device)\n",
        "  next_state_values[non_final_mask] = target_net(non_final_next_states).max(1)[0].detach()\n",
        "  expected_state_action_values = (next_state_values*GAMMA) + reward_batch\n",
        "  loss = F.smooth_l1_loss(state_action_values, expected_state_action_values.unsqueeze(1))\n",
        "  optimizer.zero_grad()\n",
        "  loss.backward()\n",
        "\n",
        "  for param in policy_net.parameters():\n",
        "    param.grad.data.clamp_(-1, 1)\n",
        "  optimizer.step()"
      ],
      "metadata": {
        "id": "nyrzvZGxWcmo"
      },
      "execution_count": 38,
      "outputs": []
    },
    {
      "cell_type": "markdown",
      "source": [
        "### 모델 학습"
      ],
      "metadata": {
        "id": "TujYvteMXnQe"
      }
    },
    {
      "cell_type": "code",
      "source": [
        "num_episodes = 50\n",
        "\n",
        "for i_episode in range(num_episodes):\n",
        "  env.reset()\n",
        "  last_screen = get_screen()\n",
        "  current_screen = get_screen()\n",
        "  state = current_screen - last_screen\n",
        "\n",
        "  for t in count():\n",
        "    action = select_action(state)\n",
        "    _, reward, terminated, truncated, _ = env.step(action.item())\n",
        "    done = terminated or truncated\n",
        "    reward = torch.tensor([reward], device=device)\n",
        "\n",
        "    last_screen = current_screen\n",
        "    current_screen = get_screen()\n",
        "\n",
        "    if not done:\n",
        "      next_state = current_screen - last_screen\n",
        "    else:\n",
        "      next_state = None\n",
        "\n",
        "    memory.push(state, action, next_state, reward)\n",
        "    state = next_state\n",
        "\n",
        "    optimize_model()\n",
        "    if done:\n",
        "      episode_durations.append(t + 1)\n",
        "      break\n",
        "\n",
        "  if i_episode % TARGET_UPDATE==0:\n",
        "    target_net.load_state_dict(policy_net.state_dict())\n",
        "\n",
        "print('terminate')\n",
        "#env.render()\n",
        "env.close()\n",
        "plt.show()"
      ],
      "metadata": {
        "colab": {
          "base_uri": "https://localhost:8080/"
        },
        "id": "CTQ3JMcgXpQ4",
        "outputId": "683f4dc9-9d1b-433e-cfe4-384c5c047241"
      },
      "execution_count": 39,
      "outputs": [
        {
          "output_type": "stream",
          "name": "stdout",
          "text": [
            "terminate\n"
          ]
        }
      ]
    }
  ]
}